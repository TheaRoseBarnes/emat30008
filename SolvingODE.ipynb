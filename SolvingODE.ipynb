{
 "cells": [
  {
   "cell_type": "code",
   "execution_count": 90,
   "id": "b1166da4",
   "metadata": {},
   "outputs": [],
   "source": [
    "import numpy as np\n",
    "import math\n",
    "import matplotlib.pyplot as plt\n",
    "# Define the function\n",
    "def f(x,t):\n",
    "    return x"
   ]
  },
  {
   "cell_type": "code",
   "execution_count": 91,
   "id": "20d7238b",
   "metadata": {},
   "outputs": [],
   "source": [
    "# function for single step of euler \n",
    "def euler_solve_step(f,h,t,x):\n",
    "    x = x + h*f(x,t)\n",
    "    return  x"
   ]
  },
  {
   "cell_type": "code",
   "execution_count": 92,
   "id": "377d0f68",
   "metadata": {},
   "outputs": [],
   "source": [
    "# function for single step of rk4\n",
    "def rk4_solve_step(f,h,t,x):\n",
    "    k1 = f(x,t)\n",
    "    k2 = f( x + h*(k1/2),t + h/2)\n",
    "    k3 = f( x + h*(k2/2),t + h/2)\n",
    "    k4 = f( x +h*k3,t + h)\n",
    "    return  x + (1/6)*h*(k1 + 2*k2 + 2*k3 + k4)"
   ]
  },
  {
   "cell_type": "code",
   "execution_count": 93,
   "id": "31e867cb",
   "metadata": {},
   "outputs": [],
   "source": [
    "# function to solve steps\n",
    "def solve_to(f,h,t,x,T,solver):\n",
    "    while t+h < T:\n",
    "        x=solver(f,h,t,x)\n",
    "        t = t + h\n",
    "    if T!=t:\n",
    "        x=solver(f,T-t,t,x)\n",
    "        t = T\n",
    "    return x"
   ]
  },
  {
   "cell_type": "code",
   "execution_count": 94,
   "id": "761b9fc6",
   "metadata": {},
   "outputs": [],
   "source": [
    "# function to solve the ode\n",
    "def solve_ode(f,h,t,x,L,solver):\n",
    "    m = []\n",
    "    for l in L:\n",
    "        x = solve_to(f,h,t,x,l,solver)\n",
    "        t=l\n",
    "        m.append(x)\n",
    "    error = abs(math.exp(l)-x)\n",
    "    return m, error\n"
   ]
  },
  {
   "cell_type": "code",
   "execution_count": 95,
   "id": "34febc1b",
   "metadata": {},
   "outputs": [
    {
     "data": {
      "text/plain": [
       "2.7182797441351663"
      ]
     },
     "execution_count": 95,
     "metadata": {},
     "output_type": "execute_result"
    }
   ],
   "source": [
    "solve_to(f,0.1,0,1,1,rk4_solve_step)"
   ]
  },
  {
   "cell_type": "code",
   "execution_count": 96,
   "id": "72b5d637",
   "metadata": {},
   "outputs": [
    {
     "data": {
      "text/plain": [
       "([1.1, 1.7715610000000002, 2.5937424601000005], 0.12453936835904456)"
      ]
     },
     "execution_count": 96,
     "metadata": {},
     "output_type": "execute_result"
    }
   ],
   "source": [
    "solve_ode(f,0.1,0,1,[0.1,0.6,1],euler_solve_step)"
   ]
  },
  {
   "cell_type": "code",
   "execution_count": 105,
   "id": "b1aeabb9",
   "metadata": {},
   "outputs": [
    {
     "data": {
      "text/plain": [
       "Text(0, 0.5, 'error')"
      ]
     },
     "execution_count": 105,
     "metadata": {},
     "output_type": "execute_result"
    },
    {
     "data": {
      "image/png": "[encoded data removed]",
      "text/plain": [
       "<Figure size 432x288 with 1 Axes>"
      ]
     },
     "metadata": {
      "needs_background": "light"
     },
     "output_type": "display_data"
    }
   ],
   "source": [
    "#Produce a plot with double logarithmic scale showing how the error depends on the size of the timestep \n",
    "error_euler = []\n",
    "error_runga = []\n",
    "for h in np.arange(0.0001,1,0.0001):\n",
    "    [a,b]= solve_ode(f,h,0,1,[0.1,0.9,1],euler_solve_step)\n",
    "    [i,j]= solve_ode(f,h,0,1,[0.1,0.9,1],rk4_solve_step)\n",
    "    error_euler.append(b)\n",
    "    error_runga.append(j)\n",
    "\n",
    "plt.loglog(np.arange(0.0001,1,0.0001), error_runga)\n",
    "plt.loglog(np.arange(0.0001,1,0.0001), error_euler)\n",
    "plt.legend(['runge kutta error','euler method error'])\n",
    "plt.title('Graph showing how the error depends on the size of the timestep for the euler and Runga kutta method')\n",
    "plt.xlabel('h')\n",
    "plt.ylabel('error')\n"
   ]
  },
  {
   "cell_type": "code",
   "execution_count": null,
   "id": "493f2c44",
   "metadata": {},
   "outputs": [],
   "source": []
  }
 ],
 "metadata": {
  "kernelspec": {
   "display_name": "Python 3",
   "language": "python",
   "name": "python3"
  },
  "language_info": {
   "codemirror_mode": {
    "name": "ipython",
    "version": 3
   },
   "file_extension": ".py",
   "mimetype": "text/x-python",
   "name": "python",
   "nbconvert_exporter": "python",
   "pygments_lexer": "ipython3",
   "version": "3.8.8"
  }
 },
 "nbformat": 4,
 "nbformat_minor": 5
}
