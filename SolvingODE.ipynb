{
 "cells": [
  {
   "cell_type": "code",
   "execution_count": 7,
   "id": "9ab99042",
   "metadata": {},
   "outputs": [],
   "source": [
    "import numpy as np\n",
    "import matplotlib.pyplot as plt\n",
    "# Define the function\n",
    "def f(x,t):\n",
    "    return x"
   ]
  },
  {
   "cell_type": "code",
   "execution_count": 8,
   "id": "6aabf7c2",
   "metadata": {},
   "outputs": [],
   "source": [
    "# function for single step of euler \n",
    "def euler_solve_step(f,h,t,x):\n",
    "    x = x + h*f(x,t)\n",
    "    return  x"
   ]
  },
  {
   "cell_type": "code",
   "execution_count": 9,
   "id": "75867a8e",
   "metadata": {},
   "outputs": [],
   "source": [
    "# function for single step of rk4\n",
    "def rk_solve_step(f,h,t,x):\n",
    "    k1 = f(x,t)\n",
    "    k2 = f( x + h*(k1/2),t + h/2)\n",
    "    k3 = f( x + h*(k2/2),t + h/2)\n",
    "    k4 = f( x +h*k3,t + h)\n",
    "    return  x + (1/6)*h*(k1 + 2*k2 + 2*k3 + k4)"
   ]
  },
  {
   "cell_type": "code",
   "execution_count": 13,
   "id": "4217027b",
   "metadata": {},
   "outputs": [],
   "source": [
    "# function to solve steps\n",
    "def solve_to(f,h,t,x,T,solver):\n",
    "    while t+h < T:\n",
    "        x=solver(f,h,t,x)\n",
    "        t = t + h\n",
    "    if T!=t:\n",
    "        x=solver(f,T-t,t,x)\n",
    "        t = T\n",
    "    return x"
   ]
  },
  {
   "cell_type": "code",
   "execution_count": 43,
   "id": "99bed216",
   "metadata": {},
   "outputs": [],
   "source": [
    "# function to solve the ode\n",
    "def solve_ode(f,h,t,x,L,solver):\n",
    "    m = []\n",
    "    for l in L:\n",
    "        x = solve_to(f,h,t,x,l,solver)\n",
    "        m.append(x)\n",
    "        t=l\n",
    "    return m\n"
   ]
  },
  {
   "cell_type": "code",
   "execution_count": 44,
   "id": "6d03ba2a",
   "metadata": {},
   "outputs": [
    {
     "data": {
      "text/plain": [
       "2.7182797441351663"
      ]
     },
     "execution_count": 44,
     "metadata": {},
     "output_type": "execute_result"
    }
   ],
   "source": [
    "solve_to(f,0.1,0,1,1,rk_solve_step)"
   ]
  },
  {
   "cell_type": "code",
   "execution_count": 45,
   "id": "cc3147b0",
   "metadata": {},
   "outputs": [
    {
     "data": {
      "text/plain": [
       "[1.1, 1.7715610000000002, 2.3579476910000006]"
      ]
     },
     "execution_count": 45,
     "metadata": {},
     "output_type": "execute_result"
    }
   ],
   "source": [
    "solve_ode(f,0.1,0,1,[0.1,0.6,0.9],euler_solve_step)"
   ]
  },
  {
   "cell_type": "code",
   "execution_count": null,
   "id": "691ee9ce",
   "metadata": {},
   "outputs": [],
   "source": []
  }
 ],
 "metadata": {
  "kernelspec": {
   "display_name": "Python 3",
   "language": "python",
   "name": "python3"
  },
  "language_info": {
   "codemirror_mode": {
    "name": "ipython",
    "version": 3
   },
   "file_extension": ".py",
   "mimetype": "text/x-python",
   "name": "python",
   "nbconvert_exporter": "python",
   "pygments_lexer": "ipython3",
   "version": "3.8.8"
  }
 },
 "nbformat": 4,
 "nbformat_minor": 5
}
