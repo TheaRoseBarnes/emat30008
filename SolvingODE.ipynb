{
 "cells": [
  {
   "cell_type": "code",
   "execution_count": 1,
   "id": "c6ab01a1",
   "metadata": {},
   "outputs": [],
   "source": [
    "# import relevant modules\n",
    "import numpy as np\n",
    "import math\n",
    "import matplotlib.pyplot as plt"
   ]
  },
  {
   "cell_type": "code",
   "execution_count": 2,
   "id": "ac45c40b",
   "metadata": {},
   "outputs": [],
   "source": [
    "# Define the ODE we wish to solve\n",
    "def f(x,t):\n",
    "    return x"
   ]
  },
  {
   "cell_type": "code",
   "execution_count": 3,
   "id": "415dc8f2",
   "metadata": {},
   "outputs": [],
   "source": [
    "# function that performs a single step of the euler method\n",
    "# where f is the ODE, h is the time-step, and (x,t) are parameters of ODE\n",
    "def euler_solve_step(f,h,t,x):\n",
    "    x = x + h*f(x,t)\n",
    "    return  x"
   ]
  },
  {
   "cell_type": "code",
   "execution_count": 4,
   "id": "6c97a7e3",
   "metadata": {},
   "outputs": [],
   "source": [
    "# function that performs a single step of the 4th-order Runge-Kutta method\n",
    "# where f is the ODE, h is the time-step, and (x,t) are parameters of ODE\n",
    "def rk4_solve_step(f,h,t,x):\n",
    "    k1 = f(x,t)\n",
    "    k2 = f( x + h*(k1/2),t + h/2)\n",
    "    k3 = f( x + h*(k2/2),t + h/2)\n",
    "    k4 = f( x +h*k3,t + h)\n",
    "    return  x + (1/6)*h*(k1 + 2*k2 + 2*k3 + k4)"
   ]
  },
  {
   "cell_type": "code",
   "execution_count": 5,
   "id": "66a73188",
   "metadata": {},
   "outputs": [],
   "source": [
    "# extention - implementing other 1-step integration methods"
   ]
  },
  {
   "cell_type": "code",
   "execution_count": 6,
   "id": "f22d2e8c",
   "metadata": {},
   "outputs": [],
   "source": [
    "# function that performs a single step of the Heun's method method\n",
    "# where f is the ODE, h is the time-step, and (x,t) are parameters of ODE\n",
    "\n",
    "def heuns_solve_step(f,h,t,x):\n",
    "    f1 = f(x,t)\n",
    "    f2 = f( x + h*(2/3),t + h*(2/3)*f1)\n",
    "    return  x + h*(f1 + 3*f2)/4"
   ]
  },
  {
   "cell_type": "code",
   "execution_count": 7,
   "id": "2a8bf409",
   "metadata": {},
   "outputs": [],
   "source": [
    "# function that performs a single step of the Midpoint method method\n",
    "# where f is the ODE, h is the time-step, and (x,t) are parameters of ODE\n",
    "\n",
    "def midpoint_solve_step(f,h,t,x):\n",
    "    x = x + (h*f(x+(h/2), t +(h/2)*f(x,t)))\n",
    "    return  x "
   ]
  },
  {
   "cell_type": "code",
   "execution_count": 8,
   "id": "3a3ac697",
   "metadata": {},
   "outputs": [],
   "source": [
    "# function that performs a single step of the Midpoint method method\n",
    "# where f is the ODE, h is the time-step, and (x,t) are parameters of ODE\n",
    "\n",
    "def rk3_solve_step(f,h,t,x):\n",
    "    k1 = f(x,t)\n",
    "    k2 = f(x + h/2,t + k1*(h/2))\n",
    "    k3 = f(x + h, t + 2*h*k2 - h*k1)\n",
    "    return  x + (1/6)*h*(k1 + 4*k2 + k3)\n",
    "    "
   ]
  },
  {
   "cell_type": "code",
   "execution_count": 9,
   "id": "21d35fbc",
   "metadata": {},
   "outputs": [],
   "source": [
    "deltat_max = 1\n",
    "# function to solve steps\n",
    "# where T is the maximum steps and solver can be specified (either euler_solve_step, rk4_solve_step, heuns_solve_step or midpoint_solve_step)\n",
    "def solve_to(f,h,t,x,T,solver):\n",
    "    if h > deltat_max:\n",
    "        print('The step-size specified is too large')\n",
    "    else:\n",
    "        while t+h < T:\n",
    "            x=solver(f,h,t,x)\n",
    "            t = t + h\n",
    "        if T!=t:\n",
    "            x=solver(f,T-t,t,x)\n",
    "            t = T\n",
    "        return x"
   ]
  },
  {
   "cell_type": "code",
   "execution_count": 18,
   "id": "8d8e94b3",
   "metadata": {},
   "outputs": [],
   "source": [
    "# function to solve the specified ODE and generate a series of numerical solution estimates\n",
    "# uses function solve_to and either the euler method or Runge-kutta method can be specified\n",
    "def solve_ode(f,h,t,x,L,solver):\n",
    "    m = []\n",
    "    for l in L:\n",
    "        x = solve_to(f,h,t,x,l,solver)\n",
    "        t=l\n",
    "        m.append(x)\n",
    "    error = abs(math.exp(l)-x)\n",
    "    return m, error\n"
   ]
  },
  {
   "cell_type": "code",
   "execution_count": 110,
   "id": "78fc6c23",
   "metadata": {},
   "outputs": [],
   "source": [
    "# finding a step size for each method when the error is the same (to 4sf)\n",
    "# error is  0.0006345 for all these timesteps\n",
    "#Euler\n",
    "x = solve_ode(f,0.00046717,0,1,[0.1,0.6,1],euler_solve_step)\n",
    "#Rk4\n",
    "y = solve_ode(f,0.99000,0,1,[0.1,0.6,1],rk4_solve_step)\n",
    "#Heuns\n",
    "n=solve_ode(f,0.0012719,0,1,[0.1,0.6,1],heuns_solve_step)\n",
    "#Midpoint\n",
    "p=solve_ode(f,0.0012719,0,1,[0.1,0.6,1],midpoint_solve_step)\n",
    "\n"
   ]
  },
  {
   "cell_type": "code",
   "execution_count": 117,
   "id": "6800442d",
   "metadata": {},
   "outputs": [
    {
     "name": "stdout",
     "output_type": "stream",
     "text": [
      "0.0005729198455810547\n"
     ]
    }
   ],
   "source": [
    "# finding the time elapsed \n",
    "import time\n",
    "start = time.time()\n",
    "n=solve_ode(f,0.0012719,0,1,[0.1,0.6,1],midpoint_solve_step)\n",
    "end = time.time()\n",
    "print(end - start)"
   ]
  },
  {
   "cell_type": "code",
   "execution_count": 15,
   "id": "e5b8c0e0",
   "metadata": {},
   "outputs": [
    {
     "data": {
      "text/plain": [
       "0.12453936835904456"
      ]
     },
     "execution_count": 15,
     "metadata": {},
     "output_type": "execute_result"
    }
   ],
   "source": [
    "solve_ode(f,0.1,0,1,[0.1,0.6,1],euler_solve_step)"
   ]
  },
  {
   "cell_type": "code",
   "execution_count": 85,
   "id": "cbfc4c11",
   "metadata": {},
   "outputs": [
    {
     "data": {
      "text/plain": [
       "Text(0, 0.5, 'error')"
      ]
     },
     "execution_count": 85,
     "metadata": {},
     "output_type": "execute_result"
    },
    {
     "data": {
      "image/png": "[encoded data removed]",
      "text/plain": [
       "<Figure size 576x432 with 1 Axes>"
      ]
     },
     "metadata": {
      "needs_background": "light"
     },
     "output_type": "display_data"
    }
   ],
   "source": [
    "#Produce a plot with double logarithmic scale showing how the error depends on the size of the timestep \n",
    "# for the euler method, 4th order Runge-Kutta method, Heun's method and Midpoint method\n",
    "error_euler = []\n",
    "error_runga = []\n",
    "error_heuns = []\n",
    "error_midpoint = []\n",
    "error_rk3 = []\n",
    "for h in np.arange(0.0001,1,0.0001):\n",
    "    [a,b]= solve_ode(f,h,0,1,[0.1,0.9,1],euler_solve_step)\n",
    "    [i,j]= solve_ode(f,h,0,1,[0.1,0.9,1],rk4_solve_step)\n",
    "    [n,k]= solve_ode(f,h,0,1,[0.1,0.9,1],heuns_solve_step)\n",
    "    [y,q]= solve_ode(f,h,0,1,[0.1,0.9,1],midpoint_solve_step)\n",
    "    [h,u]= solve_ode(f,h,0,1,[0.1,0.9,1],rk3_solve_step)\n",
    "    error_euler.append(b)\n",
    "    error_runga.append(j)\n",
    "    error_heuns.append(k)\n",
    "    error_midpoint.append(q)\n",
    "    error_rk3.append(u)\n",
    "\n",
    "fig=plt.figure(figsize=(8,6))    \n",
    "plt.loglog(np.arange(0.0001,1,0.0001), error_runga)\n",
    "plt.loglog(np.arange(0.0001,1,0.0001), error_euler)\n",
    "plt.loglog(np.arange(0.0001,1,0.0001), error_heuns)\n",
    "plt.loglog(np.arange(0.0001,1,0.0001), error_midpoint)\n",
    "#plt.loglog(np.arange(0.0001,1,0.0001), error_rk3)\n",
    "plt.axhline(y=0.0006342732424382547, color='g')\n",
    "\n",
    "\n",
    "plt.legend(['Runge-Kutta error','euler method error','heuns method error', 'midpoint method error'])\n",
    "plt.title('How does error depend on the size of the timestep for different integration methods')\n",
    "plt.xlabel('\\u0394t')\n",
    "plt.ylabel('error')\n"
   ]
  },
  {
   "cell_type": "code",
   "execution_count": null,
   "id": "e514d417",
   "metadata": {},
   "outputs": [],
   "source": [
    "# Define a system of ODEs\n",
    "\n",
    "def fun(X,t,):\n",
    "    x = X[0]\n",
    "    y = X[-1]\n",
    "    return np.array([y,-x])"
   ]
  },
  {
   "cell_type": "code",
   "execution_count": null,
   "id": "64665834",
   "metadata": {},
   "outputs": [],
   "source": [
    "# function to solve systems of ODEs\n",
    "# \n",
    "def solve_ode_system(fun,h,t,X,L,solver):\n",
    "    m = []\n",
    "    for l in L:\n",
    "        X = solve_to(fun,h,t,X,l,solver)\n",
    "        t=l\n",
    "        m.append(X)\n",
    "    return m\n",
    "\n"
   ]
  },
  {
   "cell_type": "code",
   "execution_count": null,
   "id": "c3c64c9c",
   "metadata": {},
   "outputs": [],
   "source": [
    "solve_ode_system(fun,0.1,0,[1,1],[0.3,0.9,1],rk4_solve_step)"
   ]
  },
  {
   "cell_type": "code",
   "execution_count": null,
   "id": "dc48e863",
   "metadata": {},
   "outputs": [],
   "source": [
    "#Plotting the results of system of ODEs\n",
    "results_euler = solve_ode_system(fun,0.1,0,[1,1],[0.1,0.2,0.3,0.4,0.5,0.6,0.7,0.8,0.9,1],euler_solve_step)\n",
    "plt.plot([state[0] for state in results_euler],[state[1] for state in results_euler])\n",
    "\n",
    "results_rk4 = solve_ode_system(fun,0.1,0,[1,1],[0.1,0.2,0.3,0.4,0.5,0.6,0.7,0.8,0.9,1],rk4_solve_step)\n",
    "plt.plot([state[0] for state in results_rk4],[state[1] for state in results_rk4])\n",
    "\n",
    "plt.legend(['euler method error','Runge-Kutta error'])\n",
    "plt.xlabel('x')\n",
    "plt.ylabel('x\\u0307')\n",
    "plt.title('Graph displaying the solution of the system of ODEs')\n",
    "\n",
    "\n"
   ]
  },
  {
   "cell_type": "code",
   "execution_count": null,
   "id": "2ca2ae5a",
   "metadata": {},
   "outputs": [],
   "source": []
  }
 ],
 "metadata": {
  "kernelspec": {
   "display_name": "Python 3",
   "language": "python",
   "name": "python3"
  },
  "language_info": {
   "codemirror_mode": {
    "name": "ipython",
    "version": 3
   },
   "file_extension": ".py",
   "mimetype": "text/x-python",
   "name": "python",
   "nbconvert_exporter": "python",
   "pygments_lexer": "ipython3",
   "version": "3.8.8"
  }
 },
 "nbformat": 4,
 "nbformat_minor": 5
}
