{
 "cells": [
  {
   "cell_type": "code",
   "execution_count": 90,
   "id": "c6ab01a1",
   "metadata": {},
   "outputs": [],
   "source": [
    "import numpy as np\n",
    "import math\n",
    "import matplotlib.pyplot as plt\n",
    "# Define the function\n",
    "def f(x,t):\n",
    "    return x"
   ]
  },
  {
   "cell_type": "code",
   "execution_count": 91,
   "id": "415dc8f2",
   "metadata": {},
   "outputs": [],
   "source": [
    "# function for single step of euler \n",
    "def euler_solve_step(f,h,t,x):\n",
    "    x = x + h*f(x,t)\n",
    "    return  x"
   ]
  },
  {
   "cell_type": "code",
   "execution_count": 92,
   "id": "6c97a7e3",
   "metadata": {},
   "outputs": [],
   "source": [
    "# function for single step of rk4\n",
    "def rk4_solve_step(f,h,t,x):\n",
    "    k1 = f(x,t)\n",
    "    k2 = f( x + h*(k1/2),t + h/2)\n",
    "    k3 = f( x + h*(k2/2),t + h/2)\n",
    "    k4 = f( x +h*k3,t + h)\n",
    "    return  x + (1/6)*h*(k1 + 2*k2 + 2*k3 + k4)"
   ]
  },
  {
   "cell_type": "code",
   "execution_count": 93,
   "id": "21d35fbc",
   "metadata": {},
   "outputs": [],
   "source": [
    "# function to solve steps\n",
    "def solve_to(f,h,t,x,T,solver):\n",
    "    while t+h < T:\n",
    "        x=solver(f,h,t,x)\n",
    "        t = t + h\n",
    "    if T!=t:\n",
    "        x=solver(f,T-t,t,x)\n",
    "        t = T\n",
    "    return x"
   ]
  },
  {
   "cell_type": "code",
   "execution_count": 94,
   "id": "8d8e94b3",
   "metadata": {},
   "outputs": [],
   "source": [
    "# function to solve the ode\n",
    "def solve_ode(f,h,t,x,L,solver):\n",
    "    m = []\n",
    "    for l in L:\n",
    "        x = solve_to(f,h,t,x,l,solver)\n",
    "        t=l\n",
    "        m.append(x)\n",
    "    error = abs(math.exp(l)-x)\n",
    "    return m, error\n"
   ]
  },
  {
   "cell_type": "code",
   "execution_count": 95,
   "id": "5a5c9312",
   "metadata": {},
   "outputs": [
    {
     "data": {
      "text/plain": [
       "2.7182797441351663"
      ]
     },
     "execution_count": 95,
     "metadata": {},
     "output_type": "execute_result"
    }
   ],
   "source": [
    "solve_to(f,0.1,0,1,1,rk4_solve_step)"
   ]
  },
  {
   "cell_type": "code",
   "execution_count": 96,
   "id": "e5b8c0e0",
   "metadata": {},
   "outputs": [
    {
     "data": {
      "text/plain": [
       "([1.1, 1.7715610000000002, 2.5937424601000005], 0.12453936835904456)"
      ]
     },
     "execution_count": 96,
     "metadata": {},
     "output_type": "execute_result"
    }
   ],
   "source": [
    "solve_ode(f,0.1,0,1,[0.1,0.6,1],euler_solve_step)"
   ]
  },
  {
   "cell_type": "code",
   "execution_count": 105,
   "id": "cbfc4c11",
   "metadata": {},
   "outputs": [
    {
     "data": {
      "text/plain": [
       "Text(0, 0.5, 'error')"
      ]
     },
     "execution_count": 105,
     "metadata": {},
     "output_type": "execute_result"
    },
    {
     "data": {
      "image/png": "[encoded data removed]",
      "text/plain": [
       "<Figure size 432x288 with 1 Axes>"
      ]
     },
     "metadata": {
      "needs_background": "light"
     },
     "output_type": "display_data"
    }
   ],
   "source": [
    "#Produce a plot with double logarithmic scale showing how the error depends on the size of the timestep \n",
    "error_euler = []\n",
    "error_runga = []\n",
    "for h in np.arange(0.0001,1,0.0001):\n",
    "    [a,b]= solve_ode(f,h,0,1,[0.1,0.9,1],euler_solve_step)\n",
    "    [i,j]= solve_ode(f,h,0,1,[0.1,0.9,1],rk4_solve_step)\n",
    "    error_euler.append(b)\n",
    "    error_runga.append(j)\n",
    "\n",
    "plt.loglog(np.arange(0.0001,1,0.0001), error_runga)\n",
    "plt.loglog(np.arange(0.0001,1,0.0001), error_euler)\n",
    "plt.legend(['runge kutta error','euler method error'])\n",
    "plt.title('Graph showing how the error depends on the size of the timestep for the euler and Runga kutta method')\n",
    "plt.xlabel('h')\n",
    "plt.ylabel('error')\n"
   ]
  },
  {
   "cell_type": "code",
   "execution_count": 106,
   "id": "e514d417",
   "metadata": {},
   "outputs": [],
   "source": [
    "# Define the system of equations\n",
    "\n",
    "def f(X,t,):\n",
    "    x = X[0]\n",
    "    y = X[-1]\n",
    "    return np.array([y,-x])"
   ]
  },
  {
   "cell_type": "code",
   "execution_count": 118,
   "id": "64665834",
   "metadata": {},
   "outputs": [],
   "source": [
    "# function to solve systems of ode's\n",
    "def solve_ode_system(f,h,t,X,L,solver):\n",
    "    m = []\n",
    "    for l in L:\n",
    "        X = solve_to(f,h,t,X,l,solver)\n",
    "        t=l\n",
    "        m.append(X)\n",
    "    return m\n",
    "\n"
   ]
  },
  {
   "cell_type": "code",
   "execution_count": 119,
   "id": "c3c64c9c",
   "metadata": {},
   "outputs": [
    {
     "data": {
      "text/plain": [
       "[array([1.269, 0.671]),\n",
       " array([ 1.46977249, -0.16474031]),\n",
       " array([ 1.45329846, -0.31171756])]"
      ]
     },
     "execution_count": 119,
     "metadata": {},
     "output_type": "execute_result"
    }
   ],
   "source": [
    "solve_ode_system(f,0.1,0,[1,1],[0.3,0.9,1],euler_solve_step)"
   ]
  },
  {
   "cell_type": "code",
   "execution_count": 127,
   "id": "dc48e863",
   "metadata": {},
   "outputs": [
    {
     "data": {
      "text/plain": [
       "Text(0.5, 1.0, 'Graph showing the solution of the system of ODEs')"
      ]
     },
     "execution_count": 127,
     "metadata": {},
     "output_type": "execute_result"
    },
    {
     "data": {
      "image/png": "[encoded data removed]",
      "text/plain": [
       "<Figure size 432x288 with 1 Axes>"
      ]
     },
     "metadata": {
      "needs_background": "light"
     },
     "output_type": "display_data"
    }
   ],
   "source": [
    "#Plotting results of systemn of ode\n",
    "results = solve_ode_system(f,0.1,0,[1,1],[0.1,0.2,0.3,0.4,0.5,0.6,0.7,0.8,0.9,1],euler_solve_step)\n",
    "plt.plot([state[0] for state in results],[state[1] for state in results])\n",
    "plt.xlabel('x')\n",
    "plt.ylabel('xdot')\n",
    "plt.title('Graph showing the solution of the system of ODEs')\n",
    "\n",
    "\n"
   ]
  },
  {
   "cell_type": "code",
   "execution_count": null,
   "id": "36babc64",
   "metadata": {},
   "outputs": [],
   "source": []
  }
 ],
 "metadata": {
  "kernelspec": {
   "display_name": "Python 3",
   "language": "python",
   "name": "python3"
  },
  "language_info": {
   "codemirror_mode": {
    "name": "ipython",
    "version": 3
   },
   "file_extension": ".py",
   "mimetype": "text/x-python",
   "name": "python",
   "nbconvert_exporter": "python",
   "pygments_lexer": "ipython3",
   "version": "3.8.8"
  }
 },
 "nbformat": 4,
 "nbformat_minor": 5
}
