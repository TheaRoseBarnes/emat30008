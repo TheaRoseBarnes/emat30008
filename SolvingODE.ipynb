{
 "cells": [
  {
   "cell_type": "code",
   "execution_count": 50,
   "id": "c6ab01a1",
   "metadata": {},
   "outputs": [],
   "source": [
    "# import relevant modules\n",
    "import numpy as np\n",
    "import math\n",
    "import matplotlib.pyplot as plt"
   ]
  },
  {
   "cell_type": "code",
   "execution_count": 51,
   "id": "8f83b606",
   "metadata": {},
   "outputs": [],
   "source": [
    "# Define the ODE we wish to solve\n",
    "def f(x,t):\n",
    "    return x"
   ]
  },
  {
   "cell_type": "code",
   "execution_count": 52,
   "id": "415dc8f2",
   "metadata": {},
   "outputs": [],
   "source": [
    "# function that performs a single step of the euler method\n",
    "# where f is the ODE, h is the time-step, and (x,t) are parameters of ODE\n",
    "def euler_solve_step(f,h,t,x):\n",
    "    x = x + h*f(x,t)\n",
    "    return  x"
   ]
  },
  {
   "cell_type": "code",
   "execution_count": 53,
   "id": "6c97a7e3",
   "metadata": {},
   "outputs": [],
   "source": [
    "# function that performs a single step of the 4th-order Runge-Kutta method\n",
    "# where f is the ODE, h is the time-step, and (x,t) are parameters of ODE\n",
    "def rk4_solve_step(f,h,t,x):\n",
    "    k1 = f(x,t)\n",
    "    k2 = f( x + h*(k1/2),t + h/2)\n",
    "    k3 = f( x + h*(k2/2),t + h/2)\n",
    "    k4 = f( x +h*k3,t + h)\n",
    "    return  x + (1/6)*h*(k1 + 2*k2 + 2*k3 + k4)"
   ]
  },
  {
   "cell_type": "code",
   "execution_count": 54,
   "id": "b836526b",
   "metadata": {},
   "outputs": [],
   "source": [
    "# extention - implementing other 1-step integration methods"
   ]
  },
  {
   "cell_type": "code",
   "execution_count": 67,
   "id": "addbb9e4",
   "metadata": {},
   "outputs": [],
   "source": [
    "# function that performs a single step of the Heun's method method\n",
    "# where f is the ODE, h is the time-step, and (x,t) are parameters of ODE\n",
    "\n",
    "def heuns_solve_step(f,h,t,x):\n",
    "    f1 = f(x,t)\n",
    "    f2 = f( x + h*(2/3),t + h*(2/3)*f1)\n",
    "    return  x + h*(f1 + 3*f2)/4"
   ]
  },
  {
   "cell_type": "code",
   "execution_count": 68,
   "id": "64b9791d",
   "metadata": {},
   "outputs": [],
   "source": [
    "# function that performs a single step of the Midpoint method method\n",
    "# where f is the ODE, h is the time-step, and (x,t) are parameters of ODE\n",
    "\n",
    "def midpoint_solve_step(f,h,t,x):\n",
    "    x = x + (h*f(x+(h/2), t +(h/2)*f(x,t)))\n",
    "    return  x "
   ]
  },
  {
   "cell_type": "code",
   "execution_count": 69,
   "id": "21d35fbc",
   "metadata": {},
   "outputs": [],
   "source": [
    "# function to solve steps\n",
    "# where T is the maximum steps and solver can be specified (either euler_solve_step or rk4_solve_step)\n",
    "def solve_to(f,h,t,x,T,solver):\n",
    "   \n",
    "    \n",
    "    while t+h < T:\n",
    "        x=solver(f,h,t,x)\n",
    "        t = t + h\n",
    "    if T!=t:\n",
    "        x=solver(f,T-t,t,x)\n",
    "        t = T\n",
    "    return x"
   ]
  },
  {
   "cell_type": "code",
   "execution_count": 70,
   "id": "8d8e94b3",
   "metadata": {},
   "outputs": [],
   "source": [
    "# function to solve the specified ODE and generate a series of numerical solution estimates\n",
    "# uses function solve_to and either the euler method or Runge-kutta method can be specified\n",
    "def solve_ode(f,h,t,x,L,solver):\n",
    "    m = []\n",
    "    \n",
    "    for l in L:\n",
    "        x = solve_to(f,h,t,x,l,solver)\n",
    "        t=l\n",
    "        m.append(x)\n",
    "    error = abs(math.exp(l)-x)\n",
    "    return m, error\n"
   ]
  },
  {
   "cell_type": "code",
   "execution_count": 71,
   "id": "5a5c9312",
   "metadata": {},
   "outputs": [
    {
     "data": {
      "text/plain": [
       "2.7182797441351663"
      ]
     },
     "execution_count": 71,
     "metadata": {},
     "output_type": "execute_result"
    }
   ],
   "source": [
    "solve_to(f,0.1,0,1,1,rk4_solve_step)"
   ]
  },
  {
   "cell_type": "code",
   "execution_count": 72,
   "id": "e5b8c0e0",
   "metadata": {},
   "outputs": [
    {
     "data": {
      "text/plain": [
       "([1.1, 1.7715610000000002, 2.5937424601000005], 0.12453936835904456)"
      ]
     },
     "execution_count": 72,
     "metadata": {},
     "output_type": "execute_result"
    }
   ],
   "source": [
    "solve_ode(f,0.1,0,1,[0.1,0.6,1],euler_solve_step)"
   ]
  },
  {
   "cell_type": "code",
   "execution_count": 73,
   "id": "cbfc4c11",
   "metadata": {},
   "outputs": [
    {
     "data": {
      "text/plain": [
       "Text(0, 0.5, 'error')"
      ]
     },
     "execution_count": 73,
     "metadata": {},
     "output_type": "execute_result"
    },
    {
     "data": {
      "image/png": "[encoded data removed]",
      "text/plain": [
       "<Figure size 432x288 with 1 Axes>"
      ]
     },
     "metadata": {
      "needs_background": "light"
     },
     "output_type": "display_data"
    }
   ],
   "source": [
    "#Produce a plot with double logarithmic scale showing how the error depends on the size of the timestep \n",
    "# for the euler method, 4th order Runge-Kutta method, Heun's method and Midpoint method\n",
    "error_euler = []\n",
    "error_runga = []\n",
    "error_heuns = []\n",
    "error_midpoint = []\n",
    "for h in np.arange(0.0001,1,0.0001):\n",
    "    [a,b]= solve_ode(f,h,0,1,[0.1,0.9,1],euler_solve_step)\n",
    "    [i,j]= solve_ode(f,h,0,1,[0.1,0.9,1],rk4_solve_step)\n",
    "    [n,k]= solve_ode(f,h,0,1,[0.1,0.9,1],heuns_solve_step)\n",
    "    [y,q]= solve_ode(f,h,0,1,[0.1,0.9,1],midpoint_solve_step)\n",
    "    error_euler.append(b)\n",
    "    error_runga.append(j)\n",
    "    error_heuns.append(k)\n",
    "    error_midpoint.append(q)\n",
    "\n",
    "plt.loglog(np.arange(0.0001,1,0.0001), error_runga)\n",
    "plt.loglog(np.arange(0.0001,1,0.0001), error_euler)\n",
    "plt.loglog(np.arange(0.0001,1,0.0001), error_heuns)\n",
    "plt.loglog(np.arange(0.0001,1,0.0001), error_midpoint)\n",
    "\n",
    "\n",
    "plt.legend(['Runge-Kutta error','euler method error','heuns method error', 'midpoint method error'])\n",
    "plt.title('How does error depend on the size of the timestep for the euler, Heuns and Runge-kutta method')\n",
    "plt.xlabel('\\u0394t')\n",
    "plt.ylabel('error')\n"
   ]
  },
  {
   "cell_type": "code",
   "execution_count": 62,
   "id": "e514d417",
   "metadata": {},
   "outputs": [],
   "source": [
    "# Define a system of ODEs\n",
    "\n",
    "def fun(X,t,):\n",
    "    x = X[0]\n",
    "    y = X[-1]\n",
    "    return np.array([y,-x])"
   ]
  },
  {
   "cell_type": "code",
   "execution_count": 63,
   "id": "64665834",
   "metadata": {},
   "outputs": [],
   "source": [
    "# function to solve systems of ODEs\n",
    "# \n",
    "def solve_ode_system(fun,h,t,X,L,solver):\n",
    "    m = []\n",
    "    for l in L:\n",
    "        X = solve_to(fun,h,t,X,l,solver)\n",
    "        t=l\n",
    "        m.append(X)\n",
    "    return m\n",
    "\n"
   ]
  },
  {
   "cell_type": "code",
   "execution_count": 64,
   "id": "c3c64c9c",
   "metadata": {},
   "outputs": [
    {
     "data": {
      "text/plain": [
       "[array([1.269, 0.671]),\n",
       " array([ 1.46977249, -0.16474031]),\n",
       " array([ 1.45329846, -0.31171756])]"
      ]
     },
     "execution_count": 64,
     "metadata": {},
     "output_type": "execute_result"
    }
   ],
   "source": [
    "solve_ode_system(fun,0.1,0,[1,1],[0.3,0.9,1],euler_solve_step)"
   ]
  },
  {
   "cell_type": "code",
   "execution_count": 66,
   "id": "dc48e863",
   "metadata": {},
   "outputs": [
    {
     "data": {
      "text/plain": [
       "Text(0.5, 1.0, 'Graph displaying the solution of the system of ODEs')"
      ]
     },
     "execution_count": 66,
     "metadata": {},
     "output_type": "execute_result"
    },
    {
     "data": {
      "image/png": "[encoded data removed]",
      "text/plain": [
       "<Figure size 432x288 with 1 Axes>"
      ]
     },
     "metadata": {
      "needs_background": "light"
     },
     "output_type": "display_data"
    }
   ],
   "source": [
    "#Plotting the results of system of ODEs\n",
    "results = solve_ode_system(fun,0.1,0,[1,1],[0.1,0.2,0.3,0.4,0.5,0.6,0.7,0.8,0.9,1],euler_solve_step)\n",
    "plt.plot([state[0] for state in results],[state[1] for state in results])\n",
    "plt.xlabel('x')\n",
    "plt.ylabel('x\\u0307')\n",
    "plt.title('Graph displaying the solution of the system of ODEs')\n",
    "\n",
    "\n"
   ]
  },
  {
   "cell_type": "code",
   "execution_count": null,
   "id": "277fa6f0",
   "metadata": {},
   "outputs": [],
   "source": []
  }
 ],
 "metadata": {
  "kernelspec": {
   "display_name": "Python 3",
   "language": "python",
   "name": "python3"
  },
  "language_info": {
   "codemirror_mode": {
    "name": "ipython",
    "version": 3
   },
   "file_extension": ".py",
   "mimetype": "text/x-python",
   "name": "python",
   "nbconvert_exporter": "python",
   "pygments_lexer": "ipython3",
   "version": "3.8.8"
  }
 },
 "nbformat": 4,
 "nbformat_minor": 5
}
