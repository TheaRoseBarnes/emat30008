{
 "cells": [
  {
   "cell_type": "code",
   "execution_count": 53,
   "id": "c6ab01a1",
   "metadata": {},
   "outputs": [],
   "source": [
    "# import relevant modules\n",
    "import numpy as np\n",
    "import math\n",
    "import matplotlib.pyplot as plt"
   ]
  },
  {
   "cell_type": "code",
   "execution_count": 54,
   "id": "ac45c40b",
   "metadata": {},
   "outputs": [],
   "source": [
    "# Define the ODE we wish to solve\n",
    "def f(x,t):\n",
    "    return x"
   ]
  },
  {
   "cell_type": "code",
   "execution_count": 55,
   "id": "415dc8f2",
   "metadata": {},
   "outputs": [],
   "source": [
    "def euler_solve_step(fun,h,t,x):\n",
    "    \"\"\"\n",
    "    A function that performs a single step of the euler method\n",
    "\n",
    "    Parameters\n",
    "    ----------\n",
    "    fun : function\n",
    "        The ODE we wish to solve. The ode function should take\n",
    "        a single parameter (the state vector) and return the\n",
    "        right-hand side of the ODE as a numpy.array.\n",
    "        \n",
    "    h : value(int or float)\n",
    "        step_size\n",
    "    \n",
    "    t:  value(int or float)\n",
    "        the initial time\n",
    "    \n",
    "    x: value(int or float)\n",
    "        The initial condition for the ODE.\n",
    "\n",
    "    Returns\n",
    "    -------\n",
    "    Returns the value of x after a single step of the euler method \n",
    "    \"\"\"    \n",
    "    \n",
    "    x = x + h*fun(x,t)\n",
    "    return  x"
   ]
  },
  {
   "cell_type": "code",
   "execution_count": 56,
   "id": "6c97a7e3",
   "metadata": {},
   "outputs": [],
   "source": [
    "def rk4_solve_step(fun,h,t,x):\n",
    "    \"\"\"\n",
    "    A function that performs a single step of the 4th-order Runge-Kutta method\n",
    "\n",
    "    Parameters\n",
    "    ----------\n",
    "    fun : function\n",
    "        The ODE we wish to solve. The ode function should take\n",
    "        a single parameter (the state vector) and return the\n",
    "        right-hand side of the ODE as a numpy.array.\n",
    "        \n",
    "    h : value(int or float)\n",
    "        step_size\n",
    "    \n",
    "    t:  value(int or float)\n",
    "        the initial time\n",
    "    \n",
    "    x: value(int or float)\n",
    "        The initial condition for the ODE.\n",
    "\n",
    "    Returns\n",
    "    -------\n",
    "    Returns the value of x after a single step of the 4th-order Runge-Kutta method \n",
    "    \"\"\"\n",
    "    k1 = fun(x,t)\n",
    "    k2 = fun( x + h*(k1/2),t + h/2)\n",
    "    k3 = fun( x + h*(k2/2),t + h/2)\n",
    "    k4 = fun( x +h*k3,t + h)\n",
    "    return  x + (1/6)*h*(k1 + 2*k2 + 2*k3 + k4)"
   ]
  },
  {
   "cell_type": "code",
   "execution_count": 57,
   "id": "f22d2e8c",
   "metadata": {},
   "outputs": [],
   "source": [
    "def heuns_solve_step(fun,h,t,x):\n",
    "    \"\"\"\n",
    "    A function that performs a single step of the Heun's method\n",
    "\n",
    "    Parameters\n",
    "    ----------\n",
    "    fun : function\n",
    "        The ODE we wish to solve. The ode function should take\n",
    "        a single parameter (the state vector) and return the\n",
    "        right-hand side of the ODE as a numpy.array.\n",
    "        \n",
    "    h : value(int or float)\n",
    "        step_size\n",
    "    \n",
    "    t:  value(int or float)\n",
    "        the initial time\n",
    "    \n",
    "    x: value(int or float)\n",
    "        The initial condition for the ODE.\n",
    "\n",
    "    Returns\n",
    "    -------\n",
    "    Returns the value of x after a single step of the Heun's method \n",
    "    \"\"\"\n",
    "    f1 = fun(x,t)\n",
    "    f2 = fun( x + h*(2/3),t + h*(2/3)*f1)\n",
    "    return  x + h*(f1 + 3*f2)/4"
   ]
  },
  {
   "cell_type": "code",
   "execution_count": 58,
   "id": "2a8bf409",
   "metadata": {},
   "outputs": [],
   "source": [
    "def midpoint_solve_step(fun,h,t,x):\n",
    "    \"\"\"\n",
    "    A function that performs a single step of the Midpoint method\n",
    "\n",
    "    Parameters\n",
    "    ----------\n",
    "    fun : function\n",
    "        The ODE we wish to solve. The ode function should take\n",
    "        a single parameter (the state vector) and return the\n",
    "        right-hand side of the ODE as a numpy.array.\n",
    "        \n",
    "    h : value(int or float)\n",
    "        step_size\n",
    "    \n",
    "    t:  value(int or float)\n",
    "        the initial time\n",
    "    \n",
    "    x: value(int or float)\n",
    "        The initial condition for the ODE.\n",
    "\n",
    "    Returns\n",
    "    -------\n",
    "    Returns the value of x after a single step of the Midpoint method \n",
    "    \"\"\"\n",
    "    x = x + (h*fun(x+(h/2), t +(h/2)*fun(x,t)))\n",
    "    return  x "
   ]
  },
  {
   "cell_type": "code",
   "execution_count": 81,
   "id": "21d35fbc",
   "metadata": {},
   "outputs": [],
   "source": [
    "deltat_max = 1\n",
    "\n",
    "def solve_to(f,h,t0,u0,T,solver):\n",
    "    \"\"\"\n",
    "    A function that uses a specified 1-step integration method to solve steps of an ODE.\n",
    "\n",
    "    Parameters\n",
    "    ----------\n",
    "    fun : function\n",
    "        The ODE we wish to solve. The ode function should take\n",
    "        a single parameter (the state vector) and return the\n",
    "        right-hand side of the ODE as a numpy.array.\n",
    "        \n",
    "    h : value(int or float)\n",
    "        step_size\n",
    "    \n",
    "    t0:  value(int or float)\n",
    "        the initial time\n",
    "    \n",
    "    u0: value(int or float)\n",
    "        The initial condition for the ODE.\n",
    "        \n",
    "    T: value(int or float)\n",
    "        The maximum steps\n",
    "    \n",
    "    Solver: function\n",
    "            The numerical integration method used to solve the ODE. Specify \n",
    "            'euler_solve_step' for the Euler method, 'rk4_solve_step' for the \n",
    "            4th-order Runge-Kutta method, 'heuns_solve_step' for the Heuns method\n",
    "            or 'midpoint_solve_step' for the midpoint method.\n",
    "            \n",
    "\n",
    "\n",
    "    Returns\n",
    "    -------\n",
    "    Returns the numerical solution estimates of ODE between \n",
    "    x1 at t1 and x2 at t2. \n",
    "    \"\"\"\n",
    "    \n",
    "    if h > deltat_max:\n",
    "        print('The step-size specified is too large')\n",
    "    else:\n",
    "        while t0+h < T:\n",
    "            u0=solver(f,h,t0,u0)\n",
    "            t0 = t0 + h\n",
    "        if T!=t0:\n",
    "            u0=solver(f,T-t0,t0,u0)\n",
    "            t0 = T\n",
    "        return u0"
   ]
  },
  {
   "cell_type": "code",
   "execution_count": 84,
   "id": "9dc950b1",
   "metadata": {},
   "outputs": [
    {
     "data": {
      "text/plain": [
       "2.5937424601000005"
      ]
     },
     "execution_count": 84,
     "metadata": {},
     "output_type": "execute_result"
    }
   ],
   "source": [
    " solve_to(f,0.1,0,1,1,euler_solve_step)"
   ]
  },
  {
   "cell_type": "code",
   "execution_count": 83,
   "id": "8d8e94b3",
   "metadata": {},
   "outputs": [],
   "source": [
    "def solve_ode(fun,h,t0,u0,L,solver):\n",
    "    \n",
    "    \"\"\"\n",
    "    A function that uses a specified 1-step integration method to solve a specified ODE.\n",
    "\n",
    "    Parameters\n",
    "    ----------\n",
    "    fun : function\n",
    "        The ODE we wish to solve. The ode function should take\n",
    "        a single parameter (the state vector) and return the\n",
    "        right-hand side of the ODE as a numpy.array.\n",
    "        \n",
    "    h : value(int or float)\n",
    "        step_size\n",
    "    \n",
    "    t0:  value(int or float)\n",
    "        the initial time\n",
    "    \n",
    "    u0: value(int or float)\n",
    "        The initial condition for the ODE.\n",
    "        \n",
    "    L: \n",
    "    \n",
    "    Solver: function\n",
    "            The numerical integration method used to solve the ODE. Specify \n",
    "            'euler_solve_step' for the Euler method, 'rk4_solve_step' for the \n",
    "            4th-order Runge-Kutta method, 'heuns_solve_step' for the Heuns method\n",
    "            or 'midpoint_solve_step' for the midpoint method.\n",
    "            \n",
    "\n",
    "\n",
    "    Returns\n",
    "    -------\n",
    "    Returns a numpy.array containing the numerical solution estimates of ODE\n",
    "    for the specified time interval as well as the error. \n",
    "    \"\"\"    \n",
    "    \n",
    "    m = []\n",
    "    for l in L:\n",
    "        u0 = solve_to(fun,h,t0,u0,l,solver)\n",
    "        t0=l\n",
    "        m.append(u0)\n",
    "    error = abs(math.exp(l)-u0)\n",
    "    return m, error\n"
   ]
  },
  {
   "cell_type": "code",
   "execution_count": 74,
   "id": "78fc6c23",
   "metadata": {},
   "outputs": [],
   "source": [
    "# finding a step size for each method when the error is the same (to 4sf)\n",
    "# error is  0.0006345 for all these timesteps\n",
    "#Euler\n",
    "x = solve_ode(f,0.00046717,0,1,[0.1,0.6,1],euler_solve_step)\n",
    "#Rk4\n",
    "y = solve_ode(f,0.99000,0,1,[0.1,0.6,1],rk4_solve_step)\n",
    "#Heuns\n",
    "n=solve_ode(f,0.0012719,0,1,[0.1,0.6,1],heuns_solve_step)\n",
    "#Midpoint\n",
    "p=solve_ode(f,0.0012719,0,1,[0.1,0.6,1],midpoint_solve_step)\n",
    "\n"
   ]
  },
  {
   "cell_type": "code",
   "execution_count": 70,
   "id": "6800442d",
   "metadata": {},
   "outputs": [
    {
     "name": "stdout",
     "output_type": "stream",
     "text": [
      "0.0005412101745605469\n"
     ]
    }
   ],
   "source": [
    "# finding the time elapsed \n",
    "import time\n",
    "start = time.time()\n",
    "n=solve_ode(f,0.0012719,0,1,[0.1,0.6,1],midpoint_solve_step)\n",
    "end = time.time()\n",
    "print(end - start)"
   ]
  },
  {
   "cell_type": "code",
   "execution_count": 75,
   "id": "e5b8c0e0",
   "metadata": {},
   "outputs": [
    {
     "data": {
      "text/plain": [
       "([1.1, 1.7715610000000002, 2.5937424601000005], 0.12453936835904456)"
      ]
     },
     "execution_count": 75,
     "metadata": {},
     "output_type": "execute_result"
    }
   ],
   "source": [
    "solve_ode(f,0.1,0,1,[0.1,0.6,1],euler_solve_step)"
   ]
  },
  {
   "cell_type": "code",
   "execution_count": 76,
   "id": "cbfc4c11",
   "metadata": {},
   "outputs": [
    {
     "data": {
      "text/plain": [
       "Text(0, 0.5, 'error')"
      ]
     },
     "execution_count": 76,
     "metadata": {},
     "output_type": "execute_result"
    },
    {
     "data": {
      "image/png": "[encoded data removed]",
      "text/plain": [
       "<Figure size 576x432 with 1 Axes>"
      ]
     },
     "metadata": {
      "needs_background": "light"
     },
     "output_type": "display_data"
    }
   ],
   "source": [
    "#Produce a plot with double logarithmic scale showing how the error depends on the size of the timestep \n",
    "# for the euler method, 4th order Runge-Kutta method, Heun's method and Midpoint method\n",
    "error_euler = []\n",
    "error_runga = []\n",
    "error_heuns = []\n",
    "error_midpoint = []\n",
    "error_rk3 = []\n",
    "for h in np.arange(0.0001,1,0.0001):\n",
    "    [a,b]= solve_ode(f,h,0,1,[0.1,0.9,1],euler_solve_step)\n",
    "    [i,j]= solve_ode(f,h,0,1,[0.1,0.9,1],rk4_solve_step)\n",
    "    [n,k]= solve_ode(f,h,0,1,[0.1,0.9,1],heuns_solve_step)\n",
    "    [y,q]= solve_ode(f,h,0,1,[0.1,0.9,1],midpoint_solve_step)\n",
    "    [h,u]= solve_ode(f,h,0,1,[0.1,0.9,1],rk3_solve_step)\n",
    "    error_euler.append(b)\n",
    "    error_runga.append(j)\n",
    "    error_heuns.append(k)\n",
    "    error_midpoint.append(q)\n",
    "    error_rk3.append(u)\n",
    "\n",
    "fig=plt.figure(figsize=(8,6))    \n",
    "plt.loglog(np.arange(0.0001,1,0.0001), error_runga)\n",
    "plt.loglog(np.arange(0.0001,1,0.0001), error_euler)\n",
    "plt.loglog(np.arange(0.0001,1,0.0001), error_heuns)\n",
    "plt.loglog(np.arange(0.0001,1,0.0001), error_midpoint)\n",
    "#plt.loglog(np.arange(0.0001,1,0.0001), error_rk3)\n",
    "#plt.axhline(y=0.0006342732424382547, color='g')\n",
    "\n",
    "\n",
    "plt.legend(['Runge-Kutta error','euler method error','heuns method error', 'midpoint method error'])\n",
    "plt.title('How does error depend on the size of the timestep for different integration methods')\n",
    "plt.xlabel('\\u0394t')\n",
    "plt.ylabel('error')\n"
   ]
  },
  {
   "cell_type": "code",
   "execution_count": 65,
   "id": "0930c806",
   "metadata": {},
   "outputs": [],
   "source": [
    "# Define a system of ODEs\n",
    "\n",
    "def fun(X,t):\n",
    "    x = X[0]\n",
    "    y = X[1]\n",
    "    return np.array([y,-x])"
   ]
  },
  {
   "cell_type": "code",
   "execution_count": 66,
   "id": "64665834",
   "metadata": {},
   "outputs": [],
   "source": [
    "# function to solve systems of ODEs\n",
    "def solve_ode_system(fun,h,t,u0,L,solver='rk4_solve_step'):\n",
    "    \"\"\"\n",
    "    A function that uses a specified 1-step integration method to solve a system\n",
    "    of specified ODE's.\n",
    "\n",
    "    Parameters\n",
    "    ----------\n",
    "    fun : function\n",
    "        The system of ODE's we wish to solve. The ode function should take\n",
    "        a single parameter (the state vector) and return the\n",
    "        right-hand side of the ODE as a numpy.array.\n",
    "        \n",
    "    h : value(int or float)\n",
    "        step_size\n",
    "    \n",
    "    t:  value(int or float)\n",
    "        the initial time\n",
    "    \n",
    "    u0:  numpy.array\n",
    "        The initial conditions for the ODE.\n",
    "        \n",
    "    L: \n",
    "    \n",
    "    Solver: function\n",
    "            The numerical integration method used to solve the ODE. Specify \n",
    "            'euler_solve_step' for the Euler method, 'rk4_solve_step' for the \n",
    "            4th-order Runge-Kutta method, 'heuns_solve_step' for the Heuns method\n",
    "            or 'midpoint_solve_step' for the midpoint method.\n",
    "            \n",
    "\n",
    "\n",
    "    Returns\n",
    "    -------\n",
    "    Returns a list of numpy.arrays containing the x and y numerical solution estimates to the\n",
    "    system of ODE's for the specified time interval. \n",
    "    \"\"\"    \n",
    "     # adding tests to check that the code handles errors gracefully\n",
    "    #if solver != 'euler_solve_step': #or 'rk4_solve_step' or 'heuns_solve_step' or 'midpoint_solve_step':\n",
    "        #print(\"INVALID SOLVER. Please specify: euler_solve_step, rk4_solve_step, heuns_solve_step or midpoint_solve_step\")\n",
    "    #else:\n",
    "    \n",
    "    \n",
    "    m = []\n",
    "    for l in L:\n",
    "        u0 = solve_to(fun,h,t,u0,l,solver)\n",
    "        t=l\n",
    "        m.append(u0)\n",
    "    return m\n",
    "    \n"
   ]
  },
  {
   "cell_type": "code",
   "execution_count": 67,
   "id": "c3c64c9c",
   "metadata": {},
   "outputs": [
    {
     "data": {
      "text/plain": [
       "[array([1.269, 0.671]),\n",
       " array([ 1.46977249, -0.16474031]),\n",
       " array([ 1.45329846, -0.31171756])]"
      ]
     },
     "execution_count": 67,
     "metadata": {},
     "output_type": "execute_result"
    }
   ],
   "source": [
    "solve_ode_system(fun,0.1,0,[1,1],[0.3,0.9,1],euler_solve_step)"
   ]
  },
  {
   "cell_type": "code",
   "execution_count": 18,
   "id": "2ae9069f",
   "metadata": {},
   "outputs": [],
   "source": [
    "# Define the exact solution of the ODE we wish to solve\n",
    "def x_exact(t):\n",
    "    return np.cos(t) + np.sin(t)"
   ]
  },
  {
   "cell_type": "code",
   "execution_count": 19,
   "id": "b1f74f8e",
   "metadata": {},
   "outputs": [],
   "source": [
    "def xdot_exact(t):\n",
    "    return -np.sin(t) + np.cos(t)"
   ]
  },
  {
   "cell_type": "code",
   "execution_count": 20,
   "id": "69bcb174",
   "metadata": {},
   "outputs": [
    {
     "data": {
      "text/plain": [
       "Text(0.5, 1.0, 'Graph displaying the solution of the system of ODEs')"
      ]
     },
     "execution_count": 20,
     "metadata": {},
     "output_type": "execute_result"
    },
    {
     "data": {
      "image/png": "[encoded data removed]",
      "text/plain": [
       "<Figure size 576x432 with 1 Axes>"
      ]
     },
     "metadata": {
      "needs_background": "light"
     },
     "output_type": "display_data"
    }
   ],
   "source": [
    "#Plotting the results of system of ODEs\n",
    "t = np.arange(0,10,0.1)\n",
    "results_euler = solve_ode_system(fun,0.1,0,[1,1],t,euler_solve_step)\n",
    "results_rk4 = solve_ode_system(fun,0.1,0,[1,1],t,rk4_solve_step)\n",
    "results_heuns = solve_ode_system(fun,0.1,0,[1,1],t,heuns_solve_step)\n",
    "fig=plt.figure(figsize=(8,6)) \n",
    "plt.plot(t,[state[0] for state in results_rk4])\n",
    "plt.plot(t,[state[0] for state in results_euler])\n",
    "plt.plot(t,[state[0] for state in results_heuns])\n",
    "plt.plot(t,x_exact(t),'k--')\n",
    "plt.legend(['rk4 method solution','euler method solution','heuns solution','True solution'])\n",
    "plt.xlabel('t')\n",
    "plt.ylabel('x')\n",
    "plt.title('Graph displaying the solution of the system of ODEs')\n",
    "\n"
   ]
  },
  {
   "cell_type": "code",
   "execution_count": null,
   "id": "dc48e863",
   "metadata": {},
   "outputs": [],
   "source": [
    "#Plotting the results of system of ODEs\n",
    "t = np.arange(0,10,0.1)\n",
    "results_euler = solve_ode_system(fun,0.1,0,[1,1],t,euler_solve_step)\n",
    "results_rk4 = solve_ode_system(fun,0.1,0,[1,1],t,rk4_solve_step)\n",
    "results_heuns = solve_ode_system(fun,0.1,0,[1,1],t,heuns_solve_step)\n",
    "\n",
    "fig=plt.figure(figsize=(8,6)) \n",
    "plt.plot([state[0] for state in results_euler],[state[1] for state in results_euler])\n",
    "plt.plot([state[0] for state in results_rk4],[state[1] for state in results_rk4],'r')\n",
    "plt.plot([state[0] for state in results_heuns],[state[1] for state in results_heuns])\n",
    "plt.plot(x_exact(t),xdot_exact(t),'k--')\n",
    "\n",
    "plt.legend(['euler method error','Runge-Kutta error','Heuns method','True value'])\n",
    "plt.xlabel('x')\n",
    "plt.ylabel('x\\u0307')\n",
    "plt.title('Graph displaying the solution of the system of ODEs')\n",
    "\n",
    "\n"
   ]
  },
  {
   "cell_type": "code",
   "execution_count": null,
   "id": "fabe080c",
   "metadata": {},
   "outputs": [],
   "source": [
    "# note that if big time-steps are used over a long period of time, the euler method and heuns method sprial outwards away from the true solution"
   ]
  }
 ],
 "metadata": {
  "kernelspec": {
   "display_name": "Python 3",
   "language": "python",
   "name": "python3"
  },
  "language_info": {
   "codemirror_mode": {
    "name": "ipython",
    "version": 3
   },
   "file_extension": ".py",
   "mimetype": "text/x-python",
   "name": "python",
   "nbconvert_exporter": "python",
   "pygments_lexer": "ipython3",
   "version": "3.8.8"
  }
 },
 "nbformat": 4,
 "nbformat_minor": 5
}
