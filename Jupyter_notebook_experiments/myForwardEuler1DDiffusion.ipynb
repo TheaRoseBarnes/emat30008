{
 "cells": [
  {
   "cell_type": "code",
   "execution_count": 2,
   "id": "4ab9d99b",
   "metadata": {},
   "outputs": [],
   "source": [
    "# simple forward Euler solver for the 1D heat equation\n",
    "#   u_t = kappa u_xx  0<x<L, 0<t<T\n",
    "# with zero-temperature boundary conditions\n",
    "#   u=0 at x=0,L, t>0\n",
    "# and prescribed initial temperature\n",
    "#   u=u_I(x) 0<=x<=L,t=0"
   ]
  },
  {
   "cell_type": "code",
   "execution_count": 3,
   "id": "b5241108",
   "metadata": {},
   "outputs": [],
   "source": [
    "import numpy as np\n",
    "import pylab as pl\n",
    "from math import pi\n",
    "from scipy.sparse import diags"
   ]
  },
  {
   "cell_type": "code",
   "execution_count": 4,
   "id": "7041d20e",
   "metadata": {},
   "outputs": [],
   "source": [
    "# Set problem parameters/functions\n",
    "kappa = 1.0  # diffusion constant\n",
    "L=1.0         # length of spatial domain\n",
    "T=0.5       # total time to solve for"
   ]
  },
  {
   "cell_type": "code",
   "execution_count": 5,
   "id": "3fc17e7a",
   "metadata": {},
   "outputs": [],
   "source": [
    "def u_I(x):\n",
    "    # initial temperature distribution\n",
    "    y = np.sin(pi*x/L)\n",
    "    return y"
   ]
  },
  {
   "cell_type": "code",
   "execution_count": 6,
   "id": "92c5ae8e",
   "metadata": {},
   "outputs": [],
   "source": [
    "# change the initial condition — for example, to u(x, 0) = sinp(πx) for some integer p\n",
    "p = 2\n",
    "def u_I2(x):\n",
    "    #initial temperature distribution\n",
    "    y = (np.sin(pi*x))**p\n",
    "    return y"
   ]
  },
  {
   "cell_type": "code",
   "execution_count": 7,
   "id": "b233977f",
   "metadata": {},
   "outputs": [],
   "source": [
    "def u_exact(x,t):\n",
    "    # the exact solution\n",
    "    y = np.exp(-kappa*(pi**2/L**2)*t)*np.sin(pi*x/L)\n",
    "    return y"
   ]
  },
  {
   "cell_type": "code",
   "execution_count": 8,
   "id": "79e51430",
   "metadata": {},
   "outputs": [],
   "source": [
    "# Set problem parameters/functions\n",
    "kappa = 3.0  # diffusion constant\n",
    "L=2.0         # length of spatial domain\n",
    "T=0.5 "
   ]
  },
  {
   "cell_type": "code",
   "execution_count": 9,
   "id": "25fe50d5",
   "metadata": {},
   "outputs": [],
   "source": [
    "def u_exact1(x,t):\n",
    "    # the exact solution\n",
    "    y = 100 - 50*x - (100/pi)*(np.exp(-3*t*pi**2)*np.sin(pi*x))\n",
    "    return y"
   ]
  },
  {
   "cell_type": "code",
   "execution_count": 10,
   "id": "2fc14c77",
   "metadata": {},
   "outputs": [],
   "source": [
    "def u_I1(x):\n",
    "    # initial temperature distribution\n",
    "    y = 50\n",
    "    return y"
   ]
  },
  {
   "cell_type": "code",
   "execution_count": 11,
   "id": "a4fcda66",
   "metadata": {},
   "outputs": [],
   "source": [
    "def u_exact2(x,t):\n",
    "    # the exact solution\n",
    "    y = 47.0449*np.exp(-0.0210*t)*np.sin(0.7249*x) + 45.1413*np.exp(-0.1113*t)*np.sin(1.6679*x)\n",
    "    return y"
   ]
  },
  {
   "cell_type": "code",
   "execution_count": 12,
   "id": "0734731d",
   "metadata": {},
   "outputs": [],
   "source": [
    "def u_I2(x):\n",
    "    # initial temperature distribution\n",
    "    y = 100*(1 - (x/3))\n",
    "    return y"
   ]
  },
  {
   "cell_type": "code",
   "execution_count": 13,
   "id": "e918af22",
   "metadata": {},
   "outputs": [],
   "source": [
    "# Set problem parameters/functions\n",
    "kappa = 1/25  # diffusion constant\n",
    "L=3.0         # length of spatial domain\n",
    "T=0.5 "
   ]
  },
  {
   "cell_type": "code",
   "execution_count": 14,
   "id": "c925547a",
   "metadata": {},
   "outputs": [],
   "source": [
    "# differentiated version of u\n",
    "def u_diff(x,t):\n",
    "    dudx = (pi*np.exp(-kappa*(pi**2/L**2)*t)*np.cos(pi*x/L))/L\n",
    "    return dudx\n",
    "   "
   ]
  },
  {
   "cell_type": "code",
   "execution_count": 15,
   "id": "7e099334",
   "metadata": {},
   "outputs": [],
   "source": [
    "# Set numerical parameters\n",
    "mx = 20  # number of gridpoints in space\n",
    "mt = 1000  # number of gridpoints in time"
   ]
  },
  {
   "cell_type": "code",
   "execution_count": 16,
   "id": "2d1a965f",
   "metadata": {},
   "outputs": [
    {
     "name": "stdout",
     "output_type": "stream",
     "text": [
      "deltax= 0.15\n",
      "deltat= 0.0005\n",
      "lambda= 0.000888888888888889\n"
     ]
    }
   ],
   "source": [
    "# Set up the numerical environment variables\n",
    "x = np.linspace(0, L, mx+1)     # mesh points in space\n",
    "t = np.linspace(0, T, mt+1)     # mesh points in time\n",
    "deltax = x[1] - x[0]            # gridspacing in x\n",
    "deltat = t[1] - t[0]            # gridspacing in t\n",
    "lmbda = kappa*deltat/(deltax**2)    # mesh fourier number\n",
    "print(\"deltax=\",deltax)\n",
    "print(\"deltat=\",deltat)\n",
    "print(\"lambda=\",lmbda)"
   ]
  },
  {
   "cell_type": "code",
   "execution_count": 17,
   "id": "df77f151",
   "metadata": {},
   "outputs": [],
   "source": [
    "# Set up the solution variables\n",
    "u_j = np.zeros(x.size)        # u at current time step\n",
    "u_jp1 = np.zeros(x.size)      # u at next time step"
   ]
  },
  {
   "cell_type": "code",
   "execution_count": 18,
   "id": "9199ec74",
   "metadata": {},
   "outputs": [],
   "source": [
    "# Set initial condition\n",
    "for i in range(0, mx+1):\n",
    "    u_j[i] = u_I(x[i])"
   ]
  },
  {
   "cell_type": "code",
   "execution_count": 19,
   "id": "fe6fe43d",
   "metadata": {},
   "outputs": [],
   "source": [
    "# Set initial condition\n",
    "for i in range(0, mx+1):\n",
    "    u_j[i] = u_I1(x[i])"
   ]
  },
  {
   "cell_type": "code",
   "execution_count": 20,
   "id": "6311527d",
   "metadata": {},
   "outputs": [],
   "source": [
    "# non-homogenous Dirichlet boundary condition\n",
    "def p(t):\n",
    "    return 100\n",
    "\n",
    "def q(t):\n",
    "    return 0\n",
    "    "
   ]
  },
  {
   "cell_type": "code",
   "execution_count": 21,
   "id": "5c55c17a",
   "metadata": {},
   "outputs": [],
   "source": [
    "# neumann boundary conditions\n",
    "def P(t):\n",
    "    return u_diff(0,t)\n",
    "\n",
    "def Q(t):\n",
    "    return u_diff(L,t)"
   ]
  },
  {
   "cell_type": "code",
   "execution_count": 22,
   "id": "e46c111a",
   "metadata": {},
   "outputs": [],
   "source": [
    "def u_I(x):\n",
    "    # initial temperature distribution\n",
    "    y = np.sin(pi*x/L)\n",
    "    return y"
   ]
  },
  {
   "cell_type": "code",
   "execution_count": 23,
   "id": "17ea8a64",
   "metadata": {},
   "outputs": [],
   "source": [
    "# function to solve PDE using euler method\n",
    "def PDE_solve_euler(mt,mx,boundary_condition, initial_condition):\n",
    "    u_j = np.zeros(x.size)        # u at current time step\n",
    "    u_jp1 = np.zeros(x.size)      # u at next time step\n",
    "    # u at next time step\n",
    "    # Set initial condition\n",
    "    for i in range(0, mx+1):\n",
    "        u_j[i] = initial_condition(x[i])\n",
    "    u_jp1 = np.zeros((mx+1,1))\n",
    "    k = [lmbda*np.ones(mx-2),(1-2*lmbda)*np.ones(mx-1),lmbda*np.ones(mx-2)]\n",
    "    offset = [-1,0,1]\n",
    "    A = diags(k,offset).toarray()\n",
    "\n",
    "\n",
    "    for j in range(0, mt):\n",
    "        u_jp1[1:-1] = np.matmul(A , u_j[1:-1]).reshape(9,1)\n",
    "        u_j = u_jp1\n",
    "    \n",
    "    return u_j"
   ]
  },
  {
   "cell_type": "code",
   "execution_count": 24,
   "id": "2346079e",
   "metadata": {},
   "outputs": [],
   "source": [
    "# function to solve PDE using euler method\n",
    "def PDE_solve_euler_1(mt,mx,boundary_condition, initial_condition):\n",
    "    # u at next time step\n",
    "    # Set initial condition\n",
    "    for i in range(0, mx+1):\n",
    "        u_j[i] = initial_condition(x[i])\n",
    "    \n",
    "    for j in range(0, mt):\n",
    "    # Forward Euler timestep at inner mesh points\n",
    "    # PDE discretised at position x[i], time t[j]\n",
    "        for i in range(1, mx):\n",
    "            u_jp1[i] = u_j[i] + lmbda*(u_j[i-1] - 2*u_j[i] + u_j[i+1])\n",
    "        # Boundary conditions\n",
    "        u_jp1[0] = boundary_condition[0]; u_jp1[mx] = boundary_condition[1]\n",
    "        u_j[:] = u_jp1[:]\n",
    "    return u_j"
   ]
  },
  {
   "cell_type": "code",
   "execution_count": 25,
   "id": "823a1ea8",
   "metadata": {},
   "outputs": [
    {
     "ename": "ValueError",
     "evalue": "matmul: Input operand 1 has a mismatch in its core dimension 0, with gufunc signature (n?,k),(k,m?)->(n?,m?) (size 19 is different from 9)",
     "output_type": "error",
     "traceback": [
      "\u001b[0;31m---------------------------------------------------------------------------\u001b[0m",
      "\u001b[0;31mValueError\u001b[0m                                Traceback (most recent call last)",
      "\u001b[0;32m<ipython-input-25-1af93243a323>\u001b[0m in \u001b[0;36m<module>\u001b[0;34m\u001b[0m\n\u001b[1;32m      1\u001b[0m \u001b[0;31m# Plot the final result and exact solution for forward euler\u001b[0m\u001b[0;34m\u001b[0m\u001b[0;34m\u001b[0m\u001b[0;34m\u001b[0m\u001b[0m\n\u001b[0;32m----> 2\u001b[0;31m \u001b[0mpl\u001b[0m\u001b[0;34m.\u001b[0m\u001b[0mplot\u001b[0m\u001b[0;34m(\u001b[0m\u001b[0mx\u001b[0m\u001b[0;34m,\u001b[0m\u001b[0mPDE_solve_euler\u001b[0m\u001b[0;34m(\u001b[0m\u001b[0;36m1000\u001b[0m\u001b[0;34m,\u001b[0m\u001b[0;36m10\u001b[0m\u001b[0;34m,\u001b[0m\u001b[0;34m[\u001b[0m\u001b[0;36m0\u001b[0m\u001b[0;34m,\u001b[0m\u001b[0;36m0\u001b[0m\u001b[0;34m]\u001b[0m\u001b[0;34m,\u001b[0m\u001b[0mu_I\u001b[0m\u001b[0;34m)\u001b[0m\u001b[0;34m,\u001b[0m\u001b[0;34m'ro'\u001b[0m\u001b[0;34m,\u001b[0m\u001b[0mlabel\u001b[0m\u001b[0;34m=\u001b[0m\u001b[0;34m'num'\u001b[0m\u001b[0;34m)\u001b[0m\u001b[0;34m\u001b[0m\u001b[0;34m\u001b[0m\u001b[0m\n\u001b[0m\u001b[1;32m      3\u001b[0m \u001b[0;31m#xx = np.linspace(0,L,250)\u001b[0m\u001b[0;34m\u001b[0m\u001b[0;34m\u001b[0m\u001b[0;34m\u001b[0m\u001b[0m\n\u001b[1;32m      4\u001b[0m \u001b[0;31m#pl.plot(xx,u_exact(xx,T),'b-',label='exact')\u001b[0m\u001b[0;34m\u001b[0m\u001b[0;34m\u001b[0m\u001b[0;34m\u001b[0m\u001b[0m\n\u001b[1;32m      5\u001b[0m \u001b[0mpl\u001b[0m\u001b[0;34m.\u001b[0m\u001b[0mxlabel\u001b[0m\u001b[0;34m(\u001b[0m\u001b[0;34m'x'\u001b[0m\u001b[0;34m)\u001b[0m\u001b[0;34m\u001b[0m\u001b[0;34m\u001b[0m\u001b[0m\n",
      "\u001b[0;32m<ipython-input-23-da1d2a2b80c6>\u001b[0m in \u001b[0;36mPDE_solve_euler\u001b[0;34m(mt, mx, boundary_condition, initial_condition)\u001b[0m\n\u001b[1;32m     14\u001b[0m \u001b[0;34m\u001b[0m\u001b[0m\n\u001b[1;32m     15\u001b[0m     \u001b[0;32mfor\u001b[0m \u001b[0mj\u001b[0m \u001b[0;32min\u001b[0m \u001b[0mrange\u001b[0m\u001b[0;34m(\u001b[0m\u001b[0;36m0\u001b[0m\u001b[0;34m,\u001b[0m \u001b[0mmt\u001b[0m\u001b[0;34m)\u001b[0m\u001b[0;34m:\u001b[0m\u001b[0;34m\u001b[0m\u001b[0;34m\u001b[0m\u001b[0m\n\u001b[0;32m---> 16\u001b[0;31m         \u001b[0mu_jp1\u001b[0m\u001b[0;34m[\u001b[0m\u001b[0;36m1\u001b[0m\u001b[0;34m:\u001b[0m\u001b[0;34m-\u001b[0m\u001b[0;36m1\u001b[0m\u001b[0;34m]\u001b[0m \u001b[0;34m=\u001b[0m \u001b[0mnp\u001b[0m\u001b[0;34m.\u001b[0m\u001b[0mmatmul\u001b[0m\u001b[0;34m(\u001b[0m\u001b[0mA\u001b[0m \u001b[0;34m,\u001b[0m \u001b[0mu_j\u001b[0m\u001b[0;34m[\u001b[0m\u001b[0;36m1\u001b[0m\u001b[0;34m:\u001b[0m\u001b[0;34m-\u001b[0m\u001b[0;36m1\u001b[0m\u001b[0;34m]\u001b[0m\u001b[0;34m)\u001b[0m\u001b[0;34m.\u001b[0m\u001b[0mreshape\u001b[0m\u001b[0;34m(\u001b[0m\u001b[0;36m9\u001b[0m\u001b[0;34m,\u001b[0m\u001b[0;36m1\u001b[0m\u001b[0;34m)\u001b[0m\u001b[0;34m\u001b[0m\u001b[0;34m\u001b[0m\u001b[0m\n\u001b[0m\u001b[1;32m     17\u001b[0m         \u001b[0mu_j\u001b[0m \u001b[0;34m=\u001b[0m \u001b[0mu_jp1\u001b[0m\u001b[0;34m\u001b[0m\u001b[0;34m\u001b[0m\u001b[0m\n\u001b[1;32m     18\u001b[0m \u001b[0;34m\u001b[0m\u001b[0m\n",
      "\u001b[0;31mValueError\u001b[0m: matmul: Input operand 1 has a mismatch in its core dimension 0, with gufunc signature (n?,k),(k,m?)->(n?,m?) (size 19 is different from 9)"
     ]
    }
   ],
   "source": [
    "# Plot the final result and exact solution for forward euler\n",
    "pl.plot(x,PDE_solve_euler(1000,10,[0,0],u_I),'ro',label='num')\n",
    "#xx = np.linspace(0,L,250)\n",
    "#pl.plot(xx,u_exact(xx,T),'b-',label='exact')\n",
    "pl.xlabel('x')\n",
    "pl.ylabel('u(x,0.5)')\n",
    "pl.legend(loc='upper right')\n",
    "pl.show"
   ]
  },
  {
   "cell_type": "code",
   "execution_count": 26,
   "id": "6a94d41d",
   "metadata": {},
   "outputs": [],
   "source": [
    "# Solve the PDE: loop over all time points using forward euler\n",
    "for j in range(0, mt):\n",
    "    # Forward Euler timestep at inner mesh points\n",
    "    # PDE discretised at position x[i], time t[j]\n",
    "    for i in range(1, mx):\n",
    "        u_jp1[i] = u_j[i] + lmbda*(u_j[i-1] - 2*u_j[i] + u_j[i+1])\n",
    "        \n",
    "        # added equations for Dirichlet boundary condition\n",
    "        #u_jp1[1] = u_j[1] + lmbda*(-2*u_j[1] + u_j[2]) + lmbda*p(t[j])\n",
    "        #u_jp1[mx-1] = u_j[mx-1] + lmbda*(u_j[mx-2] - 2*u_j[mx-1]) + lmbda*q(t[j])\n",
    "        \n",
    "        # added equations for Neumann boundary condition\n",
    "        #u_jp1[0] = u_j[0] + lmbda*(-2*u_j[0] + 2*u_j[1]) -2*lmbda*deltax*P(t[j])\n",
    "        #u_jp1[mx] = u_j[mx] + lmbda*(2*u_j[mx-1] - 2*u_j[mx]) + 2*lmbda*deltax*Q(t[j])\n",
    "        \n",
    "        \n",
    "    # Boundary conditions\n",
    "    u_jp1[0] = 0; u_jp1[mx] = 0\n",
    "    \n",
    "    # Boundary conditions for Neumann\n",
    "    \n",
    "    \n",
    "    # Boundary conditions for dirichlet\n",
    "    #u_jp1[0] = p(t[j+1]); u_jp1[mx] = q(t[j+1])\n",
    "    \n",
    "    # Save u_j at time t[j+1]\n",
    "    u_j[:] = u_jp1[:]"
   ]
  },
  {
   "cell_type": "code",
   "execution_count": 27,
   "id": "f04d0757",
   "metadata": {},
   "outputs": [
    {
     "data": {
      "text/plain": [
       "<function matplotlib.pyplot.show(close=None, block=None)>"
      ]
     },
     "execution_count": 27,
     "metadata": {},
     "output_type": "execute_result"
    },
    {
     "data": {
      "image/png": "[encoded data removed]",
      "text/plain": [
       "<Figure size 432x288 with 1 Axes>"
      ]
     },
     "metadata": {
      "needs_background": "light"
     },
     "output_type": "display_data"
    }
   ],
   "source": [
    "# Plot the final result and exact solution for forward euler\n",
    "pl.plot(x,u_j,'ro',label='num')\n",
    "xx = np.linspace(0,L,250)\n",
    "pl.plot(xx,u_exact(xx,T),'b-',label='exact')\n",
    "pl.xlabel('x')\n",
    "pl.ylabel('u(x,0.5)')\n",
    "pl.legend(loc='upper right')\n",
    "pl.show"
   ]
  },
  {
   "cell_type": "code",
   "execution_count": 28,
   "id": "ce0aa16e",
   "metadata": {},
   "outputs": [],
   "source": [
    "# The forward euler is unstable when lambda > 1/2 "
   ]
  },
  {
   "cell_type": "code",
   "execution_count": 29,
   "id": "1d572c02",
   "metadata": {},
   "outputs": [],
   "source": [
    "# steady state of the PDE problem is zero"
   ]
  },
  {
   "cell_type": "code",
   "execution_count": 30,
   "id": "b5b420c3",
   "metadata": {
    "scrolled": true
   },
   "outputs": [],
   "source": [
    "# plot in 3d (not sure if this is working currently)\n",
    "# Data for three-dimensional scattered points\n",
    "#import matplotlib.pyplot as plt\n",
    "#ax = plt.axes(projection='3d')\n",
    "#ax.scatter3D(xx,u_exact(xx,t), t, cmap='greens',label='exact');\n",
    "#ax.scatter3D(x,u_j,mt, cmap='greens', label='num');\n",
    "#ax.xlabel('x')\n",
    "#ax.ylabel('u(x,0.5)')\n",
    "#ax.zlabel('t')\n",
    "\n",
    "#ax.set_xlabel('x')\n",
    "#ax.set_ylabel('u(x,0.5)')\n",
    "#ax.set_zlabel('t')\n",
    "#ax.legend(loc='upper right')\n",
    "#plt.show\n"
   ]
  },
  {
   "cell_type": "code",
   "execution_count": 31,
   "id": "4fbf72bb",
   "metadata": {},
   "outputs": [
    {
     "name": "stdout",
     "output_type": "stream",
     "text": [
      "[[9.98222222e-01 1.77777778e-03 0.00000000e+00 0.00000000e+00\n",
      "  0.00000000e+00 0.00000000e+00 0.00000000e+00 0.00000000e+00\n",
      "  0.00000000e+00 0.00000000e+00 0.00000000e+00 0.00000000e+00\n",
      "  0.00000000e+00 0.00000000e+00 0.00000000e+00 0.00000000e+00\n",
      "  0.00000000e+00 0.00000000e+00 0.00000000e+00 0.00000000e+00\n",
      "  0.00000000e+00]\n",
      " [8.88888889e-04 9.98222222e-01 8.88888889e-04 0.00000000e+00\n",
      "  0.00000000e+00 0.00000000e+00 0.00000000e+00 0.00000000e+00\n",
      "  0.00000000e+00 0.00000000e+00 0.00000000e+00 0.00000000e+00\n",
      "  0.00000000e+00 0.00000000e+00 0.00000000e+00 0.00000000e+00\n",
      "  0.00000000e+00 0.00000000e+00 0.00000000e+00 0.00000000e+00\n",
      "  0.00000000e+00]\n",
      " [0.00000000e+00 8.88888889e-04 9.98222222e-01 8.88888889e-04\n",
      "  0.00000000e+00 0.00000000e+00 0.00000000e+00 0.00000000e+00\n",
      "  0.00000000e+00 0.00000000e+00 0.00000000e+00 0.00000000e+00\n",
      "  0.00000000e+00 0.00000000e+00 0.00000000e+00 0.00000000e+00\n",
      "  0.00000000e+00 0.00000000e+00 0.00000000e+00 0.00000000e+00\n",
      "  0.00000000e+00]\n",
      " [0.00000000e+00 0.00000000e+00 8.88888889e-04 9.98222222e-01\n",
      "  8.88888889e-04 0.00000000e+00 0.00000000e+00 0.00000000e+00\n",
      "  0.00000000e+00 0.00000000e+00 0.00000000e+00 0.00000000e+00\n",
      "  0.00000000e+00 0.00000000e+00 0.00000000e+00 0.00000000e+00\n",
      "  0.00000000e+00 0.00000000e+00 0.00000000e+00 0.00000000e+00\n",
      "  0.00000000e+00]\n",
      " [0.00000000e+00 0.00000000e+00 0.00000000e+00 8.88888889e-04\n",
      "  9.98222222e-01 8.88888889e-04 0.00000000e+00 0.00000000e+00\n",
      "  0.00000000e+00 0.00000000e+00 0.00000000e+00 0.00000000e+00\n",
      "  0.00000000e+00 0.00000000e+00 0.00000000e+00 0.00000000e+00\n",
      "  0.00000000e+00 0.00000000e+00 0.00000000e+00 0.00000000e+00\n",
      "  0.00000000e+00]\n",
      " [0.00000000e+00 0.00000000e+00 0.00000000e+00 0.00000000e+00\n",
      "  8.88888889e-04 9.98222222e-01 8.88888889e-04 0.00000000e+00\n",
      "  0.00000000e+00 0.00000000e+00 0.00000000e+00 0.00000000e+00\n",
      "  0.00000000e+00 0.00000000e+00 0.00000000e+00 0.00000000e+00\n",
      "  0.00000000e+00 0.00000000e+00 0.00000000e+00 0.00000000e+00\n",
      "  0.00000000e+00]\n",
      " [0.00000000e+00 0.00000000e+00 0.00000000e+00 0.00000000e+00\n",
      "  0.00000000e+00 8.88888889e-04 9.98222222e-01 8.88888889e-04\n",
      "  0.00000000e+00 0.00000000e+00 0.00000000e+00 0.00000000e+00\n",
      "  0.00000000e+00 0.00000000e+00 0.00000000e+00 0.00000000e+00\n",
      "  0.00000000e+00 0.00000000e+00 0.00000000e+00 0.00000000e+00\n",
      "  0.00000000e+00]\n",
      " [0.00000000e+00 0.00000000e+00 0.00000000e+00 0.00000000e+00\n",
      "  0.00000000e+00 0.00000000e+00 8.88888889e-04 9.98222222e-01\n",
      "  8.88888889e-04 0.00000000e+00 0.00000000e+00 0.00000000e+00\n",
      "  0.00000000e+00 0.00000000e+00 0.00000000e+00 0.00000000e+00\n",
      "  0.00000000e+00 0.00000000e+00 0.00000000e+00 0.00000000e+00\n",
      "  0.00000000e+00]\n",
      " [0.00000000e+00 0.00000000e+00 0.00000000e+00 0.00000000e+00\n",
      "  0.00000000e+00 0.00000000e+00 0.00000000e+00 8.88888889e-04\n",
      "  9.98222222e-01 8.88888889e-04 0.00000000e+00 0.00000000e+00\n",
      "  0.00000000e+00 0.00000000e+00 0.00000000e+00 0.00000000e+00\n",
      "  0.00000000e+00 0.00000000e+00 0.00000000e+00 0.00000000e+00\n",
      "  0.00000000e+00]\n",
      " [0.00000000e+00 0.00000000e+00 0.00000000e+00 0.00000000e+00\n",
      "  0.00000000e+00 0.00000000e+00 0.00000000e+00 0.00000000e+00\n",
      "  8.88888889e-04 9.98222222e-01 8.88888889e-04 0.00000000e+00\n",
      "  0.00000000e+00 0.00000000e+00 0.00000000e+00 0.00000000e+00\n",
      "  0.00000000e+00 0.00000000e+00 0.00000000e+00 0.00000000e+00\n",
      "  0.00000000e+00]\n",
      " [0.00000000e+00 0.00000000e+00 0.00000000e+00 0.00000000e+00\n",
      "  0.00000000e+00 0.00000000e+00 0.00000000e+00 0.00000000e+00\n",
      "  0.00000000e+00 8.88888889e-04 9.98222222e-01 8.88888889e-04\n",
      "  0.00000000e+00 0.00000000e+00 0.00000000e+00 0.00000000e+00\n",
      "  0.00000000e+00 0.00000000e+00 0.00000000e+00 0.00000000e+00\n",
      "  0.00000000e+00]\n",
      " [0.00000000e+00 0.00000000e+00 0.00000000e+00 0.00000000e+00\n",
      "  0.00000000e+00 0.00000000e+00 0.00000000e+00 0.00000000e+00\n",
      "  0.00000000e+00 0.00000000e+00 8.88888889e-04 9.98222222e-01\n",
      "  8.88888889e-04 0.00000000e+00 0.00000000e+00 0.00000000e+00\n",
      "  0.00000000e+00 0.00000000e+00 0.00000000e+00 0.00000000e+00\n",
      "  0.00000000e+00]\n",
      " [0.00000000e+00 0.00000000e+00 0.00000000e+00 0.00000000e+00\n",
      "  0.00000000e+00 0.00000000e+00 0.00000000e+00 0.00000000e+00\n",
      "  0.00000000e+00 0.00000000e+00 0.00000000e+00 8.88888889e-04\n",
      "  9.98222222e-01 8.88888889e-04 0.00000000e+00 0.00000000e+00\n",
      "  0.00000000e+00 0.00000000e+00 0.00000000e+00 0.00000000e+00\n",
      "  0.00000000e+00]\n",
      " [0.00000000e+00 0.00000000e+00 0.00000000e+00 0.00000000e+00\n",
      "  0.00000000e+00 0.00000000e+00 0.00000000e+00 0.00000000e+00\n",
      "  0.00000000e+00 0.00000000e+00 0.00000000e+00 0.00000000e+00\n",
      "  8.88888889e-04 9.98222222e-01 8.88888889e-04 0.00000000e+00\n",
      "  0.00000000e+00 0.00000000e+00 0.00000000e+00 0.00000000e+00\n",
      "  0.00000000e+00]\n",
      " [0.00000000e+00 0.00000000e+00 0.00000000e+00 0.00000000e+00\n",
      "  0.00000000e+00 0.00000000e+00 0.00000000e+00 0.00000000e+00\n",
      "  0.00000000e+00 0.00000000e+00 0.00000000e+00 0.00000000e+00\n",
      "  0.00000000e+00 8.88888889e-04 9.98222222e-01 8.88888889e-04\n",
      "  0.00000000e+00 0.00000000e+00 0.00000000e+00 0.00000000e+00\n",
      "  0.00000000e+00]\n",
      " [0.00000000e+00 0.00000000e+00 0.00000000e+00 0.00000000e+00\n",
      "  0.00000000e+00 0.00000000e+00 0.00000000e+00 0.00000000e+00\n",
      "  0.00000000e+00 0.00000000e+00 0.00000000e+00 0.00000000e+00\n",
      "  0.00000000e+00 0.00000000e+00 8.88888889e-04 9.98222222e-01\n",
      "  8.88888889e-04 0.00000000e+00 0.00000000e+00 0.00000000e+00\n",
      "  0.00000000e+00]\n",
      " [0.00000000e+00 0.00000000e+00 0.00000000e+00 0.00000000e+00\n",
      "  0.00000000e+00 0.00000000e+00 0.00000000e+00 0.00000000e+00\n",
      "  0.00000000e+00 0.00000000e+00 0.00000000e+00 0.00000000e+00\n",
      "  0.00000000e+00 0.00000000e+00 0.00000000e+00 8.88888889e-04\n",
      "  9.98222222e-01 8.88888889e-04 0.00000000e+00 0.00000000e+00\n",
      "  0.00000000e+00]\n",
      " [0.00000000e+00 0.00000000e+00 0.00000000e+00 0.00000000e+00\n",
      "  0.00000000e+00 0.00000000e+00 0.00000000e+00 0.00000000e+00\n",
      "  0.00000000e+00 0.00000000e+00 0.00000000e+00 0.00000000e+00\n",
      "  0.00000000e+00 0.00000000e+00 0.00000000e+00 0.00000000e+00\n",
      "  8.88888889e-04 9.98222222e-01 8.88888889e-04 0.00000000e+00\n",
      "  0.00000000e+00]\n",
      " [0.00000000e+00 0.00000000e+00 0.00000000e+00 0.00000000e+00\n",
      "  0.00000000e+00 0.00000000e+00 0.00000000e+00 0.00000000e+00\n",
      "  0.00000000e+00 0.00000000e+00 0.00000000e+00 0.00000000e+00\n",
      "  0.00000000e+00 0.00000000e+00 0.00000000e+00 0.00000000e+00\n",
      "  0.00000000e+00 8.88888889e-04 9.98222222e-01 8.88888889e-04\n",
      "  0.00000000e+00]\n",
      " [0.00000000e+00 0.00000000e+00 0.00000000e+00 0.00000000e+00\n",
      "  0.00000000e+00 0.00000000e+00 0.00000000e+00 0.00000000e+00\n",
      "  0.00000000e+00 0.00000000e+00 0.00000000e+00 0.00000000e+00\n",
      "  0.00000000e+00 0.00000000e+00 0.00000000e+00 0.00000000e+00\n",
      "  0.00000000e+00 0.00000000e+00 8.88888889e-04 9.98222222e-01\n",
      "  8.88888889e-04]\n",
      " [0.00000000e+00 0.00000000e+00 0.00000000e+00 0.00000000e+00\n",
      "  0.00000000e+00 0.00000000e+00 0.00000000e+00 0.00000000e+00\n",
      "  0.00000000e+00 0.00000000e+00 0.00000000e+00 0.00000000e+00\n",
      "  0.00000000e+00 0.00000000e+00 0.00000000e+00 0.00000000e+00\n",
      "  0.00000000e+00 0.00000000e+00 0.00000000e+00 1.77777778e-03\n",
      "  9.98222222e-01]]\n"
     ]
    },
    {
     "ename": "ValueError",
     "evalue": "cannot reshape array of size 21 into shape (11,1)",
     "output_type": "error",
     "traceback": [
      "\u001b[0;31m---------------------------------------------------------------------------\u001b[0m",
      "\u001b[0;31mValueError\u001b[0m                                Traceback (most recent call last)",
      "\u001b[0;32m<ipython-input-31-17c3b8fb62b4>\u001b[0m in \u001b[0;36m<module>\u001b[0;34m\u001b[0m\n\u001b[1;32m     13\u001b[0m     \u001b[0ms\u001b[0m\u001b[0;34m[\u001b[0m\u001b[0;34m-\u001b[0m\u001b[0;36m1\u001b[0m\u001b[0;34m]\u001b[0m \u001b[0;34m=\u001b[0m \u001b[0mQ\u001b[0m\u001b[0;34m(\u001b[0m\u001b[0mt\u001b[0m\u001b[0;34m[\u001b[0m\u001b[0mj\u001b[0m\u001b[0;34m]\u001b[0m\u001b[0;34m)\u001b[0m\u001b[0;34m\u001b[0m\u001b[0;34m\u001b[0m\u001b[0m\n\u001b[1;32m     14\u001b[0m \u001b[0;34m\u001b[0m\u001b[0m\n\u001b[0;32m---> 15\u001b[0;31m     \u001b[0mu_jp1\u001b[0m \u001b[0;34m=\u001b[0m \u001b[0mnp\u001b[0m\u001b[0;34m.\u001b[0m\u001b[0mmatmul\u001b[0m\u001b[0;34m(\u001b[0m\u001b[0mA\u001b[0m \u001b[0;34m,\u001b[0m \u001b[0mu_j\u001b[0m\u001b[0;34m)\u001b[0m\u001b[0;34m.\u001b[0m\u001b[0mreshape\u001b[0m\u001b[0;34m(\u001b[0m\u001b[0;36m11\u001b[0m\u001b[0;34m,\u001b[0m\u001b[0;36m1\u001b[0m\u001b[0;34m)\u001b[0m \u001b[0;34m+\u001b[0m \u001b[0;36m2\u001b[0m\u001b[0;34m*\u001b[0m\u001b[0mlmbda\u001b[0m\u001b[0;34m*\u001b[0m\u001b[0mdeltax\u001b[0m\u001b[0;34m*\u001b[0m\u001b[0ms\u001b[0m\u001b[0;34m\u001b[0m\u001b[0;34m\u001b[0m\u001b[0m\n\u001b[0m\u001b[1;32m     16\u001b[0m     \u001b[0mu_j\u001b[0m \u001b[0;34m=\u001b[0m \u001b[0mu_jp1\u001b[0m\u001b[0;34m\u001b[0m\u001b[0;34m\u001b[0m\u001b[0m\n\u001b[1;32m     17\u001b[0m \u001b[0;34m\u001b[0m\u001b[0m\n",
      "\u001b[0;31mValueError\u001b[0m: cannot reshape array of size 21 into shape (11,1)"
     ]
    }
   ],
   "source": [
    "# neumann boundary condition matrix form using forward euler\n",
    "u_jp1 = np.zeros((mx+1,1))\n",
    "k = [lmbda*np.ones(mx),(1-2*lmbda)*np.ones(mx+1),lmbda*np.ones(mx)]\n",
    "offset = [-1,0,1]\n",
    "A = diags(k,offset).toarray()\n",
    "A[0,1] = 2*lmbda\n",
    "A[-1,-2] = 2*lmbda\n",
    "s = np.zeros((mx+1,1))\n",
    "print(A)\n",
    "\n",
    "for j in range(0, mt): \n",
    "    s[0] = -P(t[j])\n",
    "    s[-1] = Q(t[j])\n",
    "\n",
    "    u_jp1 = np.matmul(A , u_j).reshape(11,1) + 2*lmbda*deltax*s\n",
    "    u_j = u_jp1\n",
    "    \n",
    "    \n",
    "# Plot the final result and exact solution for forward euler\n",
    "pl.plot(x,u_j,'ro',label='num')\n",
    "xx = np.linspace(0,L,250)\n",
    "pl.plot(xx,u_exact(xx,T),'b-',label='exact')\n",
    "pl.xlabel('x')\n",
    "pl.ylabel('u(x,0.5)')\n",
    "pl.legend(loc='upper right')\n",
    "pl.show"
   ]
  },
  {
   "cell_type": "code",
   "execution_count": 32,
   "id": "02cb0084",
   "metadata": {},
   "outputs": [
    {
     "ename": "ValueError",
     "evalue": "cannot reshape array of size 19 into shape (9,1)",
     "output_type": "error",
     "traceback": [
      "\u001b[0;31m---------------------------------------------------------------------------\u001b[0m",
      "\u001b[0;31mValueError\u001b[0m                                Traceback (most recent call last)",
      "\u001b[0;32m<ipython-input-32-a50ae2cad1c9>\u001b[0m in \u001b[0;36m<module>\u001b[0;34m\u001b[0m\n\u001b[1;32m     12\u001b[0m \u001b[0;34m\u001b[0m\u001b[0m\n\u001b[1;32m     13\u001b[0m \u001b[0;34m\u001b[0m\u001b[0m\n\u001b[0;32m---> 14\u001b[0;31m     \u001b[0mu_jp1\u001b[0m\u001b[0;34m[\u001b[0m\u001b[0;36m1\u001b[0m\u001b[0;34m:\u001b[0m\u001b[0;34m-\u001b[0m\u001b[0;36m1\u001b[0m\u001b[0;34m]\u001b[0m \u001b[0;34m=\u001b[0m \u001b[0mnp\u001b[0m\u001b[0;34m.\u001b[0m\u001b[0mmatmul\u001b[0m\u001b[0;34m(\u001b[0m\u001b[0mA\u001b[0m \u001b[0;34m,\u001b[0m \u001b[0mu_j\u001b[0m\u001b[0;34m[\u001b[0m\u001b[0;36m1\u001b[0m\u001b[0;34m:\u001b[0m\u001b[0;34m-\u001b[0m\u001b[0;36m1\u001b[0m\u001b[0;34m]\u001b[0m\u001b[0;34m)\u001b[0m\u001b[0;34m.\u001b[0m\u001b[0mreshape\u001b[0m\u001b[0;34m(\u001b[0m\u001b[0;36m9\u001b[0m\u001b[0;34m,\u001b[0m\u001b[0;36m1\u001b[0m\u001b[0;34m)\u001b[0m \u001b[0;34m+\u001b[0m \u001b[0mlmbda\u001b[0m\u001b[0;34m*\u001b[0m\u001b[0ms\u001b[0m\u001b[0;34m\u001b[0m\u001b[0;34m\u001b[0m\u001b[0m\n\u001b[0m\u001b[1;32m     15\u001b[0m \u001b[0;34m\u001b[0m\u001b[0m\n\u001b[1;32m     16\u001b[0m     \u001b[0mu_jp1\u001b[0m\u001b[0;34m[\u001b[0m\u001b[0;36m0\u001b[0m\u001b[0;34m]\u001b[0m \u001b[0;34m=\u001b[0m \u001b[0mp\u001b[0m\u001b[0;34m(\u001b[0m\u001b[0mt\u001b[0m\u001b[0;34m[\u001b[0m\u001b[0mj\u001b[0m\u001b[0;34m+\u001b[0m\u001b[0;36m1\u001b[0m\u001b[0;34m]\u001b[0m\u001b[0;34m)\u001b[0m\u001b[0;34m;\u001b[0m \u001b[0mu_jp1\u001b[0m\u001b[0;34m[\u001b[0m\u001b[0mmx\u001b[0m\u001b[0;34m]\u001b[0m \u001b[0;34m=\u001b[0m \u001b[0mq\u001b[0m\u001b[0;34m(\u001b[0m\u001b[0mt\u001b[0m\u001b[0;34m[\u001b[0m\u001b[0mj\u001b[0m\u001b[0;34m+\u001b[0m\u001b[0;36m1\u001b[0m\u001b[0;34m]\u001b[0m\u001b[0;34m)\u001b[0m\u001b[0;34m\u001b[0m\u001b[0;34m\u001b[0m\u001b[0m\n",
      "\u001b[0;31mValueError\u001b[0m: cannot reshape array of size 19 into shape (9,1)"
     ]
    }
   ],
   "source": [
    "# dirichlet boundary condition matrix form using forward euler\n",
    "u_jp1 = np.zeros((mx+1,1))\n",
    "k = [lmbda*np.ones(mx-2),(1-2*lmbda)*np.ones(mx-1),lmbda*np.ones(mx-2)]\n",
    "offset = [-1,0,1]\n",
    "A = diags(k,offset, shape=(mx-1, mx-1)).toarray()\n",
    "s = np.zeros((mx-1,1))\n",
    "\n",
    "\n",
    "for j in range(0, mt):\n",
    "    s[0] = p(t[j])\n",
    "    s[-1] = q(t[j])\n",
    "    \n",
    "    \n",
    "    u_jp1[1:-1] = np.matmul(A , u_j[1:-1]).reshape(9,1) + lmbda*s\n",
    "    \n",
    "    u_jp1[0] = p(t[j+1]); u_jp1[mx] = q(t[j+1])\n",
    "    \n",
    "    u_j = u_jp1\n",
    "    \n",
    "    \n",
    "# Plot the final result and exact solution for forward euler\n",
    "pl.plot(x,u_j,'ro',label='num')\n",
    "xx = np.linspace(0,L,250)\n",
    "pl.plot(xx,u_exact1(xx,T),'b-',label='exact')\n",
    "pl.xlabel('x')\n",
    "pl.ylabel('u(x,0.5)')\n",
    "pl.legend(loc='upper right')\n",
    "pl.show\n",
    " "
   ]
  },
  {
   "cell_type": "code",
   "execution_count": 33,
   "id": "6ff0e7f1",
   "metadata": {},
   "outputs": [
    {
     "name": "stdout",
     "output_type": "stream",
     "text": [
      "[[9.98222222e-01 8.88888889e-04 0.00000000e+00 0.00000000e+00\n",
      "  0.00000000e+00 0.00000000e+00 0.00000000e+00 0.00000000e+00\n",
      "  0.00000000e+00 0.00000000e+00 0.00000000e+00 0.00000000e+00\n",
      "  0.00000000e+00 0.00000000e+00 0.00000000e+00 0.00000000e+00\n",
      "  0.00000000e+00 0.00000000e+00 8.88888889e-04]\n",
      " [8.88888889e-04 9.98222222e-01 8.88888889e-04 0.00000000e+00\n",
      "  0.00000000e+00 0.00000000e+00 0.00000000e+00 0.00000000e+00\n",
      "  0.00000000e+00 0.00000000e+00 0.00000000e+00 0.00000000e+00\n",
      "  0.00000000e+00 0.00000000e+00 0.00000000e+00 0.00000000e+00\n",
      "  0.00000000e+00 0.00000000e+00 0.00000000e+00]\n",
      " [0.00000000e+00 8.88888889e-04 9.98222222e-01 8.88888889e-04\n",
      "  0.00000000e+00 0.00000000e+00 0.00000000e+00 0.00000000e+00\n",
      "  0.00000000e+00 0.00000000e+00 0.00000000e+00 0.00000000e+00\n",
      "  0.00000000e+00 0.00000000e+00 0.00000000e+00 0.00000000e+00\n",
      "  0.00000000e+00 0.00000000e+00 0.00000000e+00]\n",
      " [0.00000000e+00 0.00000000e+00 8.88888889e-04 9.98222222e-01\n",
      "  8.88888889e-04 0.00000000e+00 0.00000000e+00 0.00000000e+00\n",
      "  0.00000000e+00 0.00000000e+00 0.00000000e+00 0.00000000e+00\n",
      "  0.00000000e+00 0.00000000e+00 0.00000000e+00 0.00000000e+00\n",
      "  0.00000000e+00 0.00000000e+00 0.00000000e+00]\n",
      " [0.00000000e+00 0.00000000e+00 0.00000000e+00 8.88888889e-04\n",
      "  9.98222222e-01 8.88888889e-04 0.00000000e+00 0.00000000e+00\n",
      "  0.00000000e+00 0.00000000e+00 0.00000000e+00 0.00000000e+00\n",
      "  0.00000000e+00 0.00000000e+00 0.00000000e+00 0.00000000e+00\n",
      "  0.00000000e+00 0.00000000e+00 0.00000000e+00]\n",
      " [0.00000000e+00 0.00000000e+00 0.00000000e+00 0.00000000e+00\n",
      "  8.88888889e-04 9.98222222e-01 8.88888889e-04 0.00000000e+00\n",
      "  0.00000000e+00 0.00000000e+00 0.00000000e+00 0.00000000e+00\n",
      "  0.00000000e+00 0.00000000e+00 0.00000000e+00 0.00000000e+00\n",
      "  0.00000000e+00 0.00000000e+00 0.00000000e+00]\n",
      " [0.00000000e+00 0.00000000e+00 0.00000000e+00 0.00000000e+00\n",
      "  0.00000000e+00 8.88888889e-04 9.98222222e-01 8.88888889e-04\n",
      "  0.00000000e+00 0.00000000e+00 0.00000000e+00 0.00000000e+00\n",
      "  0.00000000e+00 0.00000000e+00 0.00000000e+00 0.00000000e+00\n",
      "  0.00000000e+00 0.00000000e+00 0.00000000e+00]\n",
      " [0.00000000e+00 0.00000000e+00 0.00000000e+00 0.00000000e+00\n",
      "  0.00000000e+00 0.00000000e+00 8.88888889e-04 9.98222222e-01\n",
      "  8.88888889e-04 0.00000000e+00 0.00000000e+00 0.00000000e+00\n",
      "  0.00000000e+00 0.00000000e+00 0.00000000e+00 0.00000000e+00\n",
      "  0.00000000e+00 0.00000000e+00 0.00000000e+00]\n",
      " [0.00000000e+00 0.00000000e+00 0.00000000e+00 0.00000000e+00\n",
      "  0.00000000e+00 0.00000000e+00 0.00000000e+00 8.88888889e-04\n",
      "  9.98222222e-01 8.88888889e-04 0.00000000e+00 0.00000000e+00\n",
      "  0.00000000e+00 0.00000000e+00 0.00000000e+00 0.00000000e+00\n",
      "  0.00000000e+00 0.00000000e+00 0.00000000e+00]\n",
      " [0.00000000e+00 0.00000000e+00 0.00000000e+00 0.00000000e+00\n",
      "  0.00000000e+00 0.00000000e+00 0.00000000e+00 0.00000000e+00\n",
      "  8.88888889e-04 9.98222222e-01 8.88888889e-04 0.00000000e+00\n",
      "  0.00000000e+00 0.00000000e+00 0.00000000e+00 0.00000000e+00\n",
      "  0.00000000e+00 0.00000000e+00 0.00000000e+00]\n",
      " [0.00000000e+00 0.00000000e+00 0.00000000e+00 0.00000000e+00\n",
      "  0.00000000e+00 0.00000000e+00 0.00000000e+00 0.00000000e+00\n",
      "  0.00000000e+00 8.88888889e-04 9.98222222e-01 8.88888889e-04\n",
      "  0.00000000e+00 0.00000000e+00 0.00000000e+00 0.00000000e+00\n",
      "  0.00000000e+00 0.00000000e+00 0.00000000e+00]\n",
      " [0.00000000e+00 0.00000000e+00 0.00000000e+00 0.00000000e+00\n",
      "  0.00000000e+00 0.00000000e+00 0.00000000e+00 0.00000000e+00\n",
      "  0.00000000e+00 0.00000000e+00 8.88888889e-04 9.98222222e-01\n",
      "  8.88888889e-04 0.00000000e+00 0.00000000e+00 0.00000000e+00\n",
      "  0.00000000e+00 0.00000000e+00 0.00000000e+00]\n",
      " [0.00000000e+00 0.00000000e+00 0.00000000e+00 0.00000000e+00\n",
      "  0.00000000e+00 0.00000000e+00 0.00000000e+00 0.00000000e+00\n",
      "  0.00000000e+00 0.00000000e+00 0.00000000e+00 8.88888889e-04\n",
      "  9.98222222e-01 8.88888889e-04 0.00000000e+00 0.00000000e+00\n",
      "  0.00000000e+00 0.00000000e+00 0.00000000e+00]\n",
      " [0.00000000e+00 0.00000000e+00 0.00000000e+00 0.00000000e+00\n",
      "  0.00000000e+00 0.00000000e+00 0.00000000e+00 0.00000000e+00\n",
      "  0.00000000e+00 0.00000000e+00 0.00000000e+00 0.00000000e+00\n",
      "  8.88888889e-04 9.98222222e-01 8.88888889e-04 0.00000000e+00\n",
      "  0.00000000e+00 0.00000000e+00 0.00000000e+00]\n",
      " [0.00000000e+00 0.00000000e+00 0.00000000e+00 0.00000000e+00\n",
      "  0.00000000e+00 0.00000000e+00 0.00000000e+00 0.00000000e+00\n",
      "  0.00000000e+00 0.00000000e+00 0.00000000e+00 0.00000000e+00\n",
      "  0.00000000e+00 8.88888889e-04 9.98222222e-01 8.88888889e-04\n",
      "  0.00000000e+00 0.00000000e+00 0.00000000e+00]\n",
      " [0.00000000e+00 0.00000000e+00 0.00000000e+00 0.00000000e+00\n",
      "  0.00000000e+00 0.00000000e+00 0.00000000e+00 0.00000000e+00\n",
      "  0.00000000e+00 0.00000000e+00 0.00000000e+00 0.00000000e+00\n",
      "  0.00000000e+00 0.00000000e+00 8.88888889e-04 9.98222222e-01\n",
      "  8.88888889e-04 0.00000000e+00 0.00000000e+00]\n",
      " [0.00000000e+00 0.00000000e+00 0.00000000e+00 0.00000000e+00\n",
      "  0.00000000e+00 0.00000000e+00 0.00000000e+00 0.00000000e+00\n",
      "  0.00000000e+00 0.00000000e+00 0.00000000e+00 0.00000000e+00\n",
      "  0.00000000e+00 0.00000000e+00 0.00000000e+00 8.88888889e-04\n",
      "  9.98222222e-01 8.88888889e-04 0.00000000e+00]\n",
      " [0.00000000e+00 0.00000000e+00 0.00000000e+00 0.00000000e+00\n",
      "  0.00000000e+00 0.00000000e+00 0.00000000e+00 0.00000000e+00\n",
      "  0.00000000e+00 0.00000000e+00 0.00000000e+00 0.00000000e+00\n",
      "  0.00000000e+00 0.00000000e+00 0.00000000e+00 0.00000000e+00\n",
      "  8.88888889e-04 9.98222222e-01 8.88888889e-04]\n",
      " [8.88888889e-04 0.00000000e+00 0.00000000e+00 0.00000000e+00\n",
      "  0.00000000e+00 0.00000000e+00 0.00000000e+00 0.00000000e+00\n",
      "  0.00000000e+00 0.00000000e+00 0.00000000e+00 0.00000000e+00\n",
      "  0.00000000e+00 0.00000000e+00 0.00000000e+00 0.00000000e+00\n",
      "  0.00000000e+00 8.88888889e-04 9.98222222e-01]]\n",
      "20\n"
     ]
    }
   ],
   "source": [
    "# dirichlet boundary condition matrix form using forward euler\n",
    "u_jp1 = np.zeros((mx+1,1))\n",
    "k = [lmbda*np.ones(mx-2),(1-2*lmbda)*np.ones(mx-1),lmbda*np.ones(mx-2)]\n",
    "offset = [-1,0,1]\n",
    "A = diags(k,offset).toarray()\n",
    "\n",
    "s = np.zeros((mx-1,1))\n",
    "\n",
    "A[-1,0] = lmbda\n",
    "A[0,-1] = lmbda\n",
    "print(A)\n",
    "print(mx)"
   ]
  },
  {
   "cell_type": "code",
   "execution_count": 34,
   "id": "6ee8cb51",
   "metadata": {},
   "outputs": [
    {
     "data": {
      "text/plain": [
       "<function matplotlib.pyplot.show(close=None, block=None)>"
      ]
     },
     "execution_count": 34,
     "metadata": {},
     "output_type": "execute_result"
    },
    {
     "data": {
      "image/png": "[encoded data removed]",
      "text/plain": [
       "<Figure size 432x288 with 1 Axes>"
      ]
     },
     "metadata": {
      "needs_background": "light"
     },
     "output_type": "display_data"
    }
   ],
   "source": [
    "# adding rhs function\n",
    "# Set up the solution variables\n",
    "u_j = np.zeros(x.size)        # u at current time step\n",
    "u_jp1 = np.zeros(x.size)      # u at next time step\n",
    "F_j = lambda x,t: 8*t + x\n",
    "\n",
    "k = [lmbda*np.ones(mx),(1-2*lmbda)*np.ones(mx+1),lmbda*np.ones(mx)]\n",
    "offset = [-1,0,1]\n",
    "A = diags(k,offset).toarray()\n",
    "# u at next time step\n",
    "# Set initial condition\n",
    "for i in range(0, mx+1):\n",
    "    u_j[i] = u_I(x[i])\n",
    "\n",
    "for j in range(0, mt):\n",
    "    u_jp1 = np.matmul(A , u_j) + deltat*F_j(x,t[j])\n",
    "    #u_jp2 = np.matmul(A,u_j)\n",
    "    #u_jp3 = deltat*F_j(x,t[j])\n",
    "    u_j = u_jp1\n",
    "    \n",
    "pl.plot(x ,u_j,'ro',label='num')\n",
    "xx = np.linspace(0,L,250)\n",
    "pl.plot(xx,u_exact(xx,T),'b-',label='exact')\n",
    "pl.xlabel('x')\n",
    "pl.ylabel('u(x,0.5)')\n",
    "pl.legend(loc='upper right')\n",
    "pl.show"
   ]
  },
  {
   "cell_type": "code",
   "execution_count": 35,
   "id": "86c90119",
   "metadata": {},
   "outputs": [
    {
     "name": "stdout",
     "output_type": "stream",
     "text": [
      "[0.15082905 0.20078356 0.31399477 0.44645401 0.57543377 0.69185\n",
      " 0.79150818 0.87171705 0.93046636 0.96630505 0.97835016 0.96630505\n",
      " 0.93046636 0.87171705 0.79150818 0.69185    0.57543377 0.44645401\n",
      " 0.31399477 0.20078356]\n"
     ]
    },
    {
     "data": {
      "text/plain": [
       "<function matplotlib.pyplot.show(close=None, block=None)>"
      ]
     },
     "execution_count": 35,
     "metadata": {},
     "output_type": "execute_result"
    },
    {
     "data": {
      "image/png": "[encoded data removed]",
      "text/plain": [
       "<Figure size 432x288 with 1 Axes>"
      ]
     },
     "metadata": {
      "needs_background": "light"
     },
     "output_type": "display_data"
    }
   ],
   "source": [
    "# experiment - periodic boundary (unsure if it works)\n",
    "\n",
    "#u_j = np.zeros(mx) \n",
    "u_j = np.zeros(mx)    \n",
    "# Set initial condition\n",
    "for i in range(0, mx):\n",
    "    u_j[i] = u_I(x[i])\n",
    "u_jp1 = np.zeros((mx+1,1))\n",
    "k = [lmbda*np.ones(mx-1),(1-2*lmbda)*np.ones(mx),lmbda*np.ones(mx-1)]\n",
    "offset = [-1,0,1]\n",
    "A = diags(k,offset).toarray()\n",
    "A[-1,0] = lmbda\n",
    "A[0,-1] = lmbda\n",
    "\n",
    "\n",
    "\n",
    "for j in range(0, mt):\n",
    "    u_jp1 = np.matmul(A , u_j)\n",
    "    u_j = u_jp1\n",
    "print(u_j)\n",
    "\n",
    "x = np.linspace(0, L, mx)\n",
    "pl.plot(x ,u_j,'ro',label='num')\n",
    "xx = np.linspace(0,L,250)\n",
    "pl.plot(xx,u_exact(xx,T),'b-',label='exact')\n",
    "pl.xlabel('x')\n",
    "pl.ylabel('u(x,0.5)')\n",
    "pl.legend(loc='upper right')\n",
    "pl.show\n",
    " "
   ]
  },
  {
   "cell_type": "code",
   "execution_count": null,
   "id": "3dc0394e",
   "metadata": {},
   "outputs": [],
   "source": []
  },
  {
   "cell_type": "code",
   "execution_count": 195,
   "id": "ec056a05",
   "metadata": {},
   "outputs": [],
   "source": [
    "# function to solve PDE using euler method\n",
    "def PDE_solve_euler(kappa,L,T,initial_condition, args=(), boundary_condition=None,mx=20,mt=1000):\n",
    "    \n",
    "    \"\"\"\n",
    "    A function that the euler method to solve the 1D heat equation.\n",
    "\n",
    "    Parameters\n",
    "    ----------\n",
    "     \n",
    "    initial_condition:\n",
    "     \n",
    "    args: \n",
    "     \n",
    "    boundary_condition:\n",
    "       \n",
    "\n",
    "    Returns\n",
    "    -------\n",
    "   \n",
    "    \"\"\"\n",
    "     \n",
    "    if callable(initial_condition) is not True:\n",
    "        error_message_initial_cond = \"The initial condition must be a callable function\"\n",
    "        print(error_message_initial_cond)\n",
    "        return None\n",
    "    \n",
    "    if isinstance(kappa,(int,float)) is not True:\n",
    "        error_message_int = \"The values of kappa, L and T should be integers or floats\"\n",
    "        print(error_message_int)\n",
    "        return None\n",
    "    \n",
    "        \n",
    "    if isinstance(L,(int,float)) is not True:\n",
    "        error_message_int = \"The values of kappa, L and T should be integers or floats\"\n",
    "        print(error_message_int)\n",
    "        return None\n",
    "    \n",
    "    if isinstance(T,(int,float)) is not True:\n",
    "        error_message_int = \"The values of kappa, L and T should be integers or floats\"\n",
    "        print(error_message_int)\n",
    "        return None\n",
    "\n",
    "    \n",
    "    if isinstance(mx,int) is not True:\n",
    "        error_message_ints = \"mx and mt must be passed as integers\"\n",
    "        print(error_message_ints)\n",
    "        return None\n",
    "        \n",
    "    if isinstance(mt,int) is not True:\n",
    "        error_message_ints = \"mx and mt must be passed as integers\"\n",
    "        print(error_message_ints)\n",
    "        return None\n",
    "    \n",
    "    if isinstance(args, (tuple, ) is not True:\n",
    "        error_message_args = \"The args must be passed as a callable function\"\n",
    "        print(error_message_args)\n",
    "        return None\n",
    "    \n",
    "    \n",
    "    #mt = 1000\n",
    "    #mx = 20\n",
    "    # Set up the numerical environment variables\n",
    "    x = np.linspace(0, L, mx+1)     # mesh points in space\n",
    "    t = np.linspace(0, T, mt+1)     # mesh points in time\n",
    "    deltax = x[1] - x[0]            # gridspacing in x\n",
    "    deltat = t[1] - t[0]            # gridspacing in t\n",
    "    lmbda = kappa*deltat/(deltax**2)    # mesh fourier number\n",
    "    \n",
    "    \n",
    "    \n",
    "    u_j = np.zeros(x.size)        # u at current time step\n",
    "    #u_jp1 = np.zeros((mx+1,1))\n",
    "    u_jp1 = np.zeros(mx+1)\n",
    "    k = [lmbda*np.ones(mx-2),(1-2*lmbda)*np.ones(mx-1),lmbda*np.ones(mx-2)]\n",
    "    offset = [-1,0,1]\n",
    "    A = diags(k,offset,shape=(mx-1, mx-1)).toarray()\n",
    "\n",
    "    if boundary_condition == 'periodic':\n",
    "        u_j = np.zeros(mx)\n",
    "        k = [lmbda*np.ones(mx-1),(1-2*lmbda)*np.ones(mx),lmbda*np.ones(mx-1)]\n",
    "        \n",
    "        offset = [-1,0,1]\n",
    "        A = diags(k,offset).toarray()\n",
    "        A[-1,0] = lmbda\n",
    "        A[0,-1] = lmbda\n",
    "        for i in range(0, mx):\n",
    "            u_j[i] = initial_condition(x[i])\n",
    "        for j in range(0, mt):\n",
    "            u_jp1 = np.matmul(A , u_j)\n",
    "            u_j = u_jp1\n",
    "        \n",
    "    \n",
    "    elif boundary_condition == 'rhs':\n",
    " \n",
    "       # u_jp1 = np.zeros(x.size)  \n",
    "        #u_jp1 = np.zeros((mx+1,1))\n",
    "        u_jp1 = np.zeros(mx+1)\n",
    "        k = [lmbda*np.ones(mx-2),(1-2*lmbda)*np.ones(mx-1),lmbda*np.ones(mx-2)]\n",
    "        F_j = args\n",
    "\n",
    "       # k = [lmbda*np.ones(mx),(1-2*lmbda)*np.ones(mx+1),lmbda*np.ones(mx)]\n",
    "        offset = [-1,0,1]\n",
    "        A = diags(k,offset).toarray()\n",
    "        \n",
    "        for i in range(0, mx+1):\n",
    "            u_j[i] = initial_condition(x[i])\n",
    "\n",
    "        for j in range(0, mt):\n",
    "            #u_j = rhs_function(A, u_j,F_j,u_jp1,j)\n",
    "            u_jp1[1:-1] = np.matmul(A , u_j[1:-1]) + deltat*F_j(x[1:-1],t[j])\n",
    "            u_j = u_jp1\n",
    "\n",
    "    \n",
    "    else:\n",
    "        if callable(initial_condition) is False:\n",
    "            u_j = initial_condition\n",
    "            \n",
    "    \n",
    "        else:\n",
    "            for i in range(0, mx+1):\n",
    "                u_j[i] = initial_condition(x[i])\n",
    "            \n",
    "    \n",
    "  \n",
    "        for j in range(0, mt):\n",
    "            if boundary_condition == 'dirichlet':\n",
    "                # s = np.zeros((mx-1,1))\n",
    "                p = args[0]\n",
    "                q = args[1]\n",
    "                #s = np.zeros((mx-1,1))\n",
    "                s = np.zeros(mx-1)\n",
    "                s[0] = p(t[j])\n",
    "                s[-1] = q(t[j])\n",
    "                 #u_j = dirichlet(A,s,u_j,u_jp1)\n",
    "                #u_j = dirichlet_boundary(A, u_j,j,s,u_jp1,lmbda,t,mx,args=args)\n",
    "                p= args[0] \n",
    "                q = args[1]                   \n",
    "                u_jp1[1:-1] = np.matmul(A , u_j[1:-1]) + lmbda*s\n",
    "                u_jp1[0] = p(t[j+1]); u_jp1[mx] = q(t[j+1])\n",
    "                u_j = u_jp1\n",
    "            \n",
    "            \n",
    "            elif boundary_condition== 'neumann':\n",
    "                k = [lmbda*np.ones(mx),(1-2*lmbda)*np.ones(mx+1),lmbda*np.ones(mx)]\n",
    "                offset = [-1,0,1]\n",
    "                A = diags(k,offset).toarray()\n",
    "                A[0,1] = 2*lmbda\n",
    "                A[-1,-2] = 2*lmbda\n",
    "                #s = np.zeros((mx+1,1))\n",
    "                s = np.zeros(mx+1)\n",
    "                \n",
    "                P = args[0]\n",
    "                Q = args[1]\n",
    "                s[0] = -P(t[j])\n",
    "                s[-1] = Q(t[j])\n",
    "   \n",
    "                u_jp1 = np.matmul(A , u_j) + 2*lmbda*deltax*s\n",
    "                u_j = u_jp1\n",
    "            \n",
    "            elif boundary_condition == None:\n",
    "                u_jp1[1:-1] = np.matmul(A , u_j[1:-1]).reshape(19,1)\n",
    "                u_j = u_jp1\n",
    "    \n",
    "        return u_j\n",
    "    return u_j"
   ]
  },
  {
   "cell_type": "code",
   "execution_count": 196,
   "id": "7cf7f9f7",
   "metadata": {},
   "outputs": [
    {
     "ename": "IndexError",
     "evalue": "tuple index out of range",
     "output_type": "error",
     "traceback": [
      "\u001b[0;31m---------------------------------------------------------------------------\u001b[0m",
      "\u001b[0;31mIndexError\u001b[0m                                Traceback (most recent call last)",
      "\u001b[0;32m<ipython-input-196-0ff7e0004455>\u001b[0m in \u001b[0;36m<module>\u001b[0;34m\u001b[0m\n\u001b[1;32m      2\u001b[0m \u001b[0;31m#pl.plot(x,PDE_solve_euler(1000,10,[0,0],u_I,args=(lambda t:u_diff(0,t),lambda t:u_diff(L,t)),dirichlet=None,neumann=None,periodic=None, rhs=rhs_function),'ro',label='num')\u001b[0m\u001b[0;34m\u001b[0m\u001b[0;34m\u001b[0m\u001b[0;34m\u001b[0m\u001b[0m\n\u001b[1;32m      3\u001b[0m \u001b[0mx\u001b[0m \u001b[0;34m=\u001b[0m \u001b[0mnp\u001b[0m\u001b[0;34m.\u001b[0m\u001b[0mlinspace\u001b[0m\u001b[0;34m(\u001b[0m\u001b[0;36m0\u001b[0m\u001b[0;34m,\u001b[0m \u001b[0mL\u001b[0m\u001b[0;34m,\u001b[0m \u001b[0mmx\u001b[0m\u001b[0;34m+\u001b[0m\u001b[0;36m1\u001b[0m\u001b[0;34m)\u001b[0m\u001b[0;34m\u001b[0m\u001b[0;34m\u001b[0m\u001b[0m\n\u001b[0;32m----> 4\u001b[0;31m \u001b[0mpl\u001b[0m\u001b[0;34m.\u001b[0m\u001b[0mplot\u001b[0m\u001b[0;34m(\u001b[0m\u001b[0mx\u001b[0m\u001b[0;34m,\u001b[0m\u001b[0mPDE_solve_euler\u001b[0m\u001b[0;34m(\u001b[0m\u001b[0;36m1\u001b[0m\u001b[0;34m,\u001b[0m\u001b[0;36m1\u001b[0m\u001b[0;34m,\u001b[0m\u001b[0;36m0.5\u001b[0m\u001b[0;34m,\u001b[0m\u001b[0mu_I1\u001b[0m\u001b[0;34m,\u001b[0m \u001b[0margs\u001b[0m\u001b[0;34m=\u001b[0m\u001b[0;34m(\u001b[0m\u001b[0;34m)\u001b[0m\u001b[0;34m,\u001b[0m \u001b[0mboundary_condition\u001b[0m \u001b[0;34m=\u001b[0m \u001b[0;34m'dirichlet'\u001b[0m\u001b[0;34m)\u001b[0m\u001b[0;34m,\u001b[0m\u001b[0;34m'ro'\u001b[0m\u001b[0;34m,\u001b[0m\u001b[0mlabel\u001b[0m\u001b[0;34m=\u001b[0m\u001b[0;34m'num'\u001b[0m\u001b[0;34m)\u001b[0m\u001b[0;34m\u001b[0m\u001b[0;34m\u001b[0m\u001b[0m\n\u001b[0m\u001b[1;32m      5\u001b[0m \u001b[0mxx\u001b[0m \u001b[0;34m=\u001b[0m \u001b[0mnp\u001b[0m\u001b[0;34m.\u001b[0m\u001b[0mlinspace\u001b[0m\u001b[0;34m(\u001b[0m\u001b[0;36m0\u001b[0m\u001b[0;34m,\u001b[0m\u001b[0mL\u001b[0m\u001b[0;34m,\u001b[0m\u001b[0;36m250\u001b[0m\u001b[0;34m)\u001b[0m\u001b[0;34m\u001b[0m\u001b[0;34m\u001b[0m\u001b[0m\n\u001b[1;32m      6\u001b[0m \u001b[0mpl\u001b[0m\u001b[0;34m.\u001b[0m\u001b[0mplot\u001b[0m\u001b[0;34m(\u001b[0m\u001b[0mxx\u001b[0m\u001b[0;34m,\u001b[0m\u001b[0mu_exact1\u001b[0m\u001b[0;34m(\u001b[0m\u001b[0mxx\u001b[0m\u001b[0;34m,\u001b[0m\u001b[0mT\u001b[0m\u001b[0;34m)\u001b[0m\u001b[0;34m,\u001b[0m\u001b[0;34m'b-'\u001b[0m\u001b[0;34m,\u001b[0m\u001b[0mlabel\u001b[0m\u001b[0;34m=\u001b[0m\u001b[0;34m'exact'\u001b[0m\u001b[0;34m)\u001b[0m\u001b[0;34m\u001b[0m\u001b[0;34m\u001b[0m\u001b[0m\n",
      "\u001b[0;32m<ipython-input-195-445f32fb73ca>\u001b[0m in \u001b[0;36mPDE_solve_euler\u001b[0;34m(kappa, L, T, initial_condition, args, boundary_condition, mx, mt)\u001b[0m\n\u001b[1;32m    126\u001b[0m             \u001b[0;32mif\u001b[0m \u001b[0mboundary_condition\u001b[0m \u001b[0;34m==\u001b[0m \u001b[0;34m'dirichlet'\u001b[0m\u001b[0;34m:\u001b[0m\u001b[0;34m\u001b[0m\u001b[0;34m\u001b[0m\u001b[0m\n\u001b[1;32m    127\u001b[0m                 \u001b[0;31m# s = np.zeros((mx-1,1))\u001b[0m\u001b[0;34m\u001b[0m\u001b[0;34m\u001b[0m\u001b[0;34m\u001b[0m\u001b[0m\n\u001b[0;32m--> 128\u001b[0;31m                 \u001b[0mp\u001b[0m \u001b[0;34m=\u001b[0m \u001b[0margs\u001b[0m\u001b[0;34m[\u001b[0m\u001b[0;36m0\u001b[0m\u001b[0;34m]\u001b[0m\u001b[0;34m\u001b[0m\u001b[0;34m\u001b[0m\u001b[0m\n\u001b[0m\u001b[1;32m    129\u001b[0m                 \u001b[0mq\u001b[0m \u001b[0;34m=\u001b[0m \u001b[0margs\u001b[0m\u001b[0;34m[\u001b[0m\u001b[0;36m1\u001b[0m\u001b[0;34m]\u001b[0m\u001b[0;34m\u001b[0m\u001b[0;34m\u001b[0m\u001b[0m\n\u001b[1;32m    130\u001b[0m                 \u001b[0;31m#s = np.zeros((mx-1,1))\u001b[0m\u001b[0;34m\u001b[0m\u001b[0;34m\u001b[0m\u001b[0;34m\u001b[0m\u001b[0m\n",
      "\u001b[0;31mIndexError\u001b[0m: tuple index out of range"
     ]
    }
   ],
   "source": [
    "# Plot the final result and exact solution for forward euler\n",
    "#pl.plot(x,PDE_solve_euler(1000,10,[0,0],u_I,args=(lambda t:u_diff(0,t),lambda t:u_diff(L,t)),dirichlet=None,neumann=None,periodic=None, rhs=rhs_function),'ro',label='num')\n",
    "x = np.linspace(0, L, mx+1)\n",
    "pl.plot(x,PDE_solve_euler(1,1,0.5,u_I1, args=(), boundary_condition = 'dirichlet'),'ro',label='num')\n",
    "xx = np.linspace(0,L,250)\n",
    "pl.plot(xx,u_exact1(xx,T),'b-',label='exact')\n",
    "pl.xlabel('x')\n",
    "pl.ylabel('u(x,0.5)')\n",
    "pl.legend(loc='upper right')\n",
    "pl.show\n",
    " "
   ]
  },
  {
   "cell_type": "code",
   "execution_count": 154,
   "id": "cdcc3a08",
   "metadata": {},
   "outputs": [],
   "source": [
    "# Set problem parameters/functions\n",
    "kappa = 1.0  # diffusion constant\n",
    "L=2.0         # length of spatial domain\n",
    "T=0.5       # total time to solve for"
   ]
  },
  {
   "cell_type": "code",
   "execution_count": 155,
   "id": "01e1c193",
   "metadata": {},
   "outputs": [],
   "source": [
    "# Set up the numerical environment variables\n",
    "x = np.linspace(0, L, mx+1)     # mesh points in space\n",
    "t = np.linspace(0, T, mt+1)     # mesh points in time\n",
    "deltax = x[1] - x[0]            # gridspacing in x\n",
    "deltat = t[1] - t[0]            # gridspacing in t\n",
    "lmbda = kappa*deltat/(deltax**2)    # mesh fourier number"
   ]
  },
  {
   "cell_type": "code",
   "execution_count": 156,
   "id": "c5a73b97",
   "metadata": {},
   "outputs": [],
   "source": [
    "def u_I3(x):\n",
    "    # initial temperature distribution\n",
    "    y = 5*np.sin(x)\n",
    "    return y"
   ]
  },
  {
   "cell_type": "code",
   "execution_count": 157,
   "id": "58bd33a7",
   "metadata": {},
   "outputs": [],
   "source": [
    "def u_exact3(x,t):\n",
    "    # the exact solution\n",
    "    y = 0.5*(5*(1-np.cos(2))) - ((20*np.cos(2) + 20)/(-4 + pi**2))*np.exp(-(pi**2)*t/2**2)*np.cos(pi*x/2)\n",
    "    return y"
   ]
  },
  {
   "cell_type": "code",
   "execution_count": 158,
   "id": "0051ba0f",
   "metadata": {},
   "outputs": [
    {
     "data": {
      "text/plain": [
       "<function matplotlib.pyplot.show(close=None, block=None)>"
      ]
     },
     "execution_count": 158,
     "metadata": {},
     "output_type": "execute_result"
    },
    {
     "data": {
      "image/png": "[encoded data removed]",
      "text/plain": [
       "<Figure size 432x288 with 1 Axes>"
      ]
     },
     "metadata": {
      "needs_background": "light"
     },
     "output_type": "display_data"
    }
   ],
   "source": [
    "# Plot the final result and exact solution for forward euler\n",
    "#pl.plot(x,PDE_solve_euler(1000,10,[0,0],u_I,args=(lambda t:u_diff(0,t),lambda t:u_diff(L,t)),dirichlet=None,neumann=None,periodic=None, rhs=rhs_function),'ro',label='num')\n",
    "x = np.linspace(0, L, mx+1)\n",
    "pl.plot(x,PDE_solve_euler(1,2,0.5,u_I3, args=(lambda t:0, lambda t:0), boundary_condition = 'neumann'),'ro',label='num')\n",
    "xx = np.linspace(0,L,250)\n",
    "pl.plot(xx,u_exact3(xx,T),'b-',label='exact')\n",
    "pl.xlabel('x')\n",
    "pl.ylabel('u(x,0.5)')\n",
    "pl.legend(loc='upper right')\n",
    "pl.show\n",
    " "
   ]
  },
  {
   "cell_type": "code",
   "execution_count": 43,
   "id": "4e6f35ad",
   "metadata": {},
   "outputs": [],
   "source": [
    "# Set problem parameters/functions\n",
    "kappa = 9.0  # diffusion constant\n",
    "L=2.0         # length of spatial domain\n",
    "T=0.5       # total time to solve for"
   ]
  },
  {
   "cell_type": "code",
   "execution_count": 44,
   "id": "b5fe2178",
   "metadata": {},
   "outputs": [],
   "source": [
    "# Set up the numerical environment variables\n",
    "x = np.linspace(0, L, mx+1)     # mesh points in space\n",
    "t = np.linspace(0, T, mt+1)     # mesh points in time\n",
    "deltax = x[1] - x[0]            # gridspacing in x\n",
    "deltat = t[1] - t[0]            # gridspacing in t\n",
    "lmbda = kappa*deltat/(deltax**2)    # mesh fourier number"
   ]
  },
  {
   "cell_type": "code",
   "execution_count": 45,
   "id": "31647962",
   "metadata": {},
   "outputs": [],
   "source": [
    "def u_I4(x):\n",
    "    # initial temperature distribution\n",
    "    y = 2*x**2\n",
    "    return y"
   ]
  },
  {
   "cell_type": "code",
   "execution_count": 46,
   "id": "31cafb96",
   "metadata": {},
   "outputs": [],
   "source": [
    "def u_exact4(x,t):\n",
    "    # the exact solution\n",
    "    y = 4*x - ((64/pi**3)*np.exp(t*(-9/4)*pi**2)*np.sin(pi*x/2))\n",
    "    return y"
   ]
  },
  {
   "cell_type": "code",
   "execution_count": 47,
   "id": "0d2c26aa",
   "metadata": {},
   "outputs": [
    {
     "ename": "NameError",
     "evalue": "name 'dirichlet_boundary' is not defined",
     "output_type": "error",
     "traceback": [
      "\u001b[0;31m---------------------------------------------------------------------------\u001b[0m",
      "\u001b[0;31mNameError\u001b[0m                                 Traceback (most recent call last)",
      "\u001b[0;32m<ipython-input-47-23724335c4be>\u001b[0m in \u001b[0;36m<module>\u001b[0;34m\u001b[0m\n\u001b[1;32m      2\u001b[0m \u001b[0;31m#pl.plot(x,PDE_solve_euler(1000,10,[0,0],u_I,args=(lambda t:u_diff(0,t),lambda t:u_diff(L,t)),dirichlet=None,neumann=None,periodic=None, rhs=rhs_function),'ro',label='num')\u001b[0m\u001b[0;34m\u001b[0m\u001b[0;34m\u001b[0m\u001b[0;34m\u001b[0m\u001b[0m\n\u001b[1;32m      3\u001b[0m \u001b[0mx\u001b[0m \u001b[0;34m=\u001b[0m \u001b[0mnp\u001b[0m\u001b[0;34m.\u001b[0m\u001b[0mlinspace\u001b[0m\u001b[0;34m(\u001b[0m\u001b[0;36m0\u001b[0m\u001b[0;34m,\u001b[0m \u001b[0mL\u001b[0m\u001b[0;34m,\u001b[0m \u001b[0mmx\u001b[0m\u001b[0;34m+\u001b[0m\u001b[0;36m1\u001b[0m\u001b[0;34m)\u001b[0m\u001b[0;34m\u001b[0m\u001b[0;34m\u001b[0m\u001b[0m\n\u001b[0;32m----> 4\u001b[0;31m \u001b[0mpl\u001b[0m\u001b[0;34m.\u001b[0m\u001b[0mplot\u001b[0m\u001b[0;34m(\u001b[0m\u001b[0mx\u001b[0m\u001b[0;34m,\u001b[0m\u001b[0mPDE_solve_euler\u001b[0m\u001b[0;34m(\u001b[0m\u001b[0;36m9\u001b[0m\u001b[0;34m,\u001b[0m\u001b[0;36m2\u001b[0m\u001b[0;34m,\u001b[0m\u001b[0;36m0.5\u001b[0m\u001b[0;34m,\u001b[0m\u001b[0mu_I4\u001b[0m\u001b[0;34m,\u001b[0m \u001b[0margs\u001b[0m\u001b[0;34m=\u001b[0m\u001b[0;34m(\u001b[0m\u001b[0;32mlambda\u001b[0m \u001b[0mt\u001b[0m\u001b[0;34m:\u001b[0m\u001b[0;36m0\u001b[0m\u001b[0;34m,\u001b[0m \u001b[0;32mlambda\u001b[0m \u001b[0mt\u001b[0m\u001b[0;34m:\u001b[0m\u001b[0;36m8\u001b[0m\u001b[0;34m)\u001b[0m\u001b[0;34m,\u001b[0m \u001b[0mboundary_condition\u001b[0m \u001b[0;34m=\u001b[0m \u001b[0;34m'dirichlet'\u001b[0m\u001b[0;34m)\u001b[0m\u001b[0;34m,\u001b[0m\u001b[0;34m'ro'\u001b[0m\u001b[0;34m,\u001b[0m\u001b[0mlabel\u001b[0m\u001b[0;34m=\u001b[0m\u001b[0;34m'num'\u001b[0m\u001b[0;34m)\u001b[0m\u001b[0;34m\u001b[0m\u001b[0;34m\u001b[0m\u001b[0m\n\u001b[0m\u001b[1;32m      5\u001b[0m \u001b[0mxx\u001b[0m \u001b[0;34m=\u001b[0m \u001b[0mnp\u001b[0m\u001b[0;34m.\u001b[0m\u001b[0mlinspace\u001b[0m\u001b[0;34m(\u001b[0m\u001b[0;36m0\u001b[0m\u001b[0;34m,\u001b[0m\u001b[0mL\u001b[0m\u001b[0;34m,\u001b[0m\u001b[0;36m250\u001b[0m\u001b[0;34m)\u001b[0m\u001b[0;34m\u001b[0m\u001b[0;34m\u001b[0m\u001b[0m\n\u001b[1;32m      6\u001b[0m \u001b[0mpl\u001b[0m\u001b[0;34m.\u001b[0m\u001b[0mplot\u001b[0m\u001b[0;34m(\u001b[0m\u001b[0mxx\u001b[0m\u001b[0;34m,\u001b[0m\u001b[0mu_exact4\u001b[0m\u001b[0;34m(\u001b[0m\u001b[0mxx\u001b[0m\u001b[0;34m,\u001b[0m\u001b[0mT\u001b[0m\u001b[0;34m)\u001b[0m\u001b[0;34m,\u001b[0m\u001b[0;34m'b-'\u001b[0m\u001b[0;34m,\u001b[0m\u001b[0mlabel\u001b[0m\u001b[0;34m=\u001b[0m\u001b[0;34m'exact'\u001b[0m\u001b[0;34m)\u001b[0m\u001b[0;34m\u001b[0m\u001b[0;34m\u001b[0m\u001b[0m\n",
      "\u001b[0;32m<ipython-input-36-141ae6c59423>\u001b[0m in \u001b[0;36mPDE_solve_euler\u001b[0;34m(kappa, L, T, initial_condition, args, boundary_condition, mx, mt)\u001b[0m\n\u001b[1;32m     88\u001b[0m                 \u001b[0ms\u001b[0m\u001b[0;34m[\u001b[0m\u001b[0;34m-\u001b[0m\u001b[0;36m1\u001b[0m\u001b[0;34m]\u001b[0m \u001b[0;34m=\u001b[0m \u001b[0mq\u001b[0m\u001b[0;34m(\u001b[0m\u001b[0mt\u001b[0m\u001b[0;34m[\u001b[0m\u001b[0mj\u001b[0m\u001b[0;34m]\u001b[0m\u001b[0;34m)\u001b[0m\u001b[0;34m\u001b[0m\u001b[0;34m\u001b[0m\u001b[0m\n\u001b[1;32m     89\u001b[0m                  \u001b[0;31m#u_j = dirichlet(A,s,u_j,u_jp1)\u001b[0m\u001b[0;34m\u001b[0m\u001b[0;34m\u001b[0m\u001b[0;34m\u001b[0m\u001b[0m\n\u001b[0;32m---> 90\u001b[0;31m                 \u001b[0mu_j\u001b[0m \u001b[0;34m=\u001b[0m \u001b[0mdirichlet_boundary\u001b[0m\u001b[0;34m(\u001b[0m\u001b[0mA\u001b[0m\u001b[0;34m,\u001b[0m \u001b[0mu_j\u001b[0m\u001b[0;34m,\u001b[0m\u001b[0mj\u001b[0m\u001b[0;34m,\u001b[0m\u001b[0ms\u001b[0m\u001b[0;34m,\u001b[0m\u001b[0mu_jp1\u001b[0m\u001b[0;34m,\u001b[0m\u001b[0mlmbda\u001b[0m\u001b[0;34m,\u001b[0m\u001b[0mt\u001b[0m\u001b[0;34m,\u001b[0m\u001b[0mmx\u001b[0m\u001b[0;34m,\u001b[0m\u001b[0margs\u001b[0m\u001b[0;34m=\u001b[0m\u001b[0margs\u001b[0m\u001b[0;34m)\u001b[0m\u001b[0;34m\u001b[0m\u001b[0;34m\u001b[0m\u001b[0m\n\u001b[0m\u001b[1;32m     91\u001b[0m \u001b[0;34m\u001b[0m\u001b[0m\n\u001b[1;32m     92\u001b[0m \u001b[0;34m\u001b[0m\u001b[0m\n",
      "\u001b[0;31mNameError\u001b[0m: name 'dirichlet_boundary' is not defined"
     ]
    }
   ],
   "source": [
    "# Plot the final result and exact solution for forward euler\n",
    "#pl.plot(x,PDE_solve_euler(1000,10,[0,0],u_I,args=(lambda t:u_diff(0,t),lambda t:u_diff(L,t)),dirichlet=None,neumann=None,periodic=None, rhs=rhs_function),'ro',label='num')\n",
    "x = np.linspace(0, L, mx+1)\n",
    "pl.plot(x,PDE_solve_euler(9,2,0.5,u_I4, args=(lambda t:0, lambda t:8), boundary_condition = 'dirichlet'),'ro',label='num')\n",
    "xx = np.linspace(0,L,250)\n",
    "pl.plot(xx,u_exact4(xx,T),'b-',label='exact')\n",
    "pl.xlabel('x')\n",
    "pl.ylabel('u(x,0.5)')\n",
    "pl.legend(loc='upper right')\n",
    "pl.show"
   ]
  },
  {
   "cell_type": "code",
   "execution_count": 159,
   "id": "4f825900",
   "metadata": {},
   "outputs": [],
   "source": [
    "# Set problem parameters/functions\n",
    "kappa = 2.0  # diffusion constant\n",
    "L=2.0         # length of spatial domain\n",
    "T=0.5       # total time to solve for"
   ]
  },
  {
   "cell_type": "code",
   "execution_count": 160,
   "id": "15b04996",
   "metadata": {},
   "outputs": [],
   "source": [
    "# Set up the numerical environment variables\n",
    "x = np.linspace(0, L, mx+1)     # mesh points in space\n",
    "t = np.linspace(0, T, mt+1)     # mesh points in time\n",
    "deltax = x[1] - x[0]            # gridspacing in x\n",
    "deltat = t[1] - t[0]            # gridspacing in t\n",
    "lmbda = kappa*deltat/(deltax**2)    # mesh fourier number"
   ]
  },
  {
   "cell_type": "code",
   "execution_count": 161,
   "id": "5fe3faec",
   "metadata": {},
   "outputs": [],
   "source": [
    "def u_I5(x):\n",
    "    # initial temperature distribution\n",
    "    y = np.sin(pi*x/L)\n",
    "    return y"
   ]
  },
  {
   "cell_type": "code",
   "execution_count": 162,
   "id": "0d72aa13",
   "metadata": {},
   "outputs": [],
   "source": [
    "def u_exact5(x,t):\n",
    "    # the exact solution\n",
    "    y = np.exp(-2*((pi**2)/4))*np.sin(pi*x/2) + np.sin(pi*x/2)*(2/(pi**2) + 9*np.exp((-t*pi**2)/2)/pi**2)\n",
    "    return y"
   ]
  },
  {
   "cell_type": "code",
   "execution_count": 164,
   "id": "732df449",
   "metadata": {},
   "outputs": [
    {
     "data": {
      "text/plain": [
       "<function matplotlib.pyplot.show(close=None, block=None)>"
      ]
     },
     "execution_count": 164,
     "metadata": {},
     "output_type": "execute_result"
    },
    {
     "data": {
      "image/png": "[encoded data removed]",
      "text/plain": [
       "<Figure size 432x288 with 1 Axes>"
      ]
     },
     "metadata": {
      "needs_background": "light"
     },
     "output_type": "display_data"
    }
   ],
   "source": [
    "# Plot the final result and exact solution for forward euler\n",
    "#pl.plot(x,PDE_solve_euler(1000,10,[0,0],u_I,args=(lambda t:u_diff(0,t),lambda t:u_diff(L,t)),dirichlet=None,neumann=None,periodic=None, rhs=rhs_function),'ro',label='num')\n",
    "x = np.linspace(0, L, 30+1)\n",
    "pl.plot(x,PDE_solve_euler(2,2,0.5,u_I5, args=(lambda x,t: np.cos(x) + t*x**2), boundary_condition = 'rhs',mx=30,mt=1000),'ro',label='num')\n",
    "xx = np.linspace(0,L,250)\n",
    "pl.plot(xx,u_exact5(xx,T),'b-',label='exact')\n",
    "pl.xlabel('x')\n",
    "pl.ylabel('u(x,0.5)')\n",
    "pl.legend(loc='upper right')\n",
    "pl.show"
   ]
  },
  {
   "cell_type": "code",
   "execution_count": 132,
   "id": "68f0b0c9",
   "metadata": {},
   "outputs": [],
   "source": [
    "# Set problem parameters/functions\n",
    "k = 2.0  # diffusion constant\n",
    "L=1         # length of spatial domain\n",
    "T=0.5       # total time to solve for"
   ]
  },
  {
   "cell_type": "code",
   "execution_count": 133,
   "id": "22707b4d",
   "metadata": {},
   "outputs": [],
   "source": [
    "# Set up the numerical environment variables\n",
    "x = np.linspace(0, L, mx+1)     # mesh points in space\n",
    "t = np.linspace(0, T, mt+1)     # mesh points in time\n",
    "deltax = x[1] - x[0]            # gridspacing in x\n",
    "deltat = t[1] - t[0]            # gridspacing in t\n",
    "lmbda = kappa*deltat/(deltax**2)    # mesh fourier number"
   ]
  },
  {
   "cell_type": "code",
   "execution_count": 134,
   "id": "97dc6055",
   "metadata": {},
   "outputs": [],
   "source": [
    "def u_I6(x):\n",
    "    # initial temperature distribution\n",
    "    y = 4*np.sin(3*pi*x) + 9*np.sin(7*pi*x)\n",
    "    return y"
   ]
  },
  {
   "cell_type": "code",
   "execution_count": 135,
   "id": "8f751b7b",
   "metadata": {},
   "outputs": [],
   "source": [
    "def u_exact6(x,t):\n",
    "    # the exact solution\n",
    "    y = 4*np.exp(-t*k*(3*pi)**2)*np.sin(3*pi*x) + (1/(25*k*pi**2))*np.exp(-t*k*(5*pi)**2)*np.sin(5*pi*x) + 9*np.exp(-t*(7*pi)**2)*np.sin(7*pi*x) + (1/(k*25*pi**2))*np.sin(5*pi*x)\n",
    "    return y"
   ]
  },
  {
   "cell_type": "code",
   "execution_count": 137,
   "id": "e8168f6f",
   "metadata": {},
   "outputs": [
    {
     "data": {
      "text/plain": [
       "<function matplotlib.pyplot.show(close=None, block=None)>"
      ]
     },
     "execution_count": 137,
     "metadata": {},
     "output_type": "execute_result"
    },
    {
     "data": {
      "image/png": "[encoded data removed]",
      "text/plain": [
       "<Figure size 432x288 with 1 Axes>"
      ]
     },
     "metadata": {
      "needs_background": "light"
     },
     "output_type": "display_data"
    }
   ],
   "source": [
    "# Plot the final result and exact solution for forward euler\n",
    "#pl.plot(x,PDE_solve_euler(1000,10,[0,0],u_I,args=(lambda t:u_diff(0,t),lambda t:u_diff(L,t)),dirichlet=None,neumann=None,periodic=None, rhs=rhs_function),'ro',label='num')\n",
    "x = np.linspace(0, L, mx+1)\n",
    "pl.plot(x,PDE_solve_euler(2,1,0.5,u_I6, args=(lambda x,t: np.sin(5*pi*x)), boundary_condition = 'rhs'),'ro',label='num')\n",
    "xx = np.linspace(0,L,250)\n",
    "pl.plot(xx,u_exact6(xx,T),'b-',label='exact')\n",
    "pl.xlabel('x')\n",
    "pl.ylabel('u(x,0.5)')\n",
    "pl.legend(loc='upper right')\n",
    "pl.show"
   ]
  },
  {
   "cell_type": "code",
   "execution_count": 139,
   "id": "0c107817",
   "metadata": {},
   "outputs": [],
   "source": [
    "# Set problem parameters/functions\n",
    "k = 1.0  # diffusion constant\n",
    "L=1         # length of spatial domain\n",
    "T=0.5       # total time to solve for"
   ]
  },
  {
   "cell_type": "code",
   "execution_count": 140,
   "id": "a685858a",
   "metadata": {},
   "outputs": [],
   "source": [
    "# Set up the numerical environment variables\n",
    "x = np.linspace(0, L, mx+1)     # mesh points in space\n",
    "t = np.linspace(0, T, mt+1)     # mesh points in time\n",
    "deltax = x[1] - x[0]            # gridspacing in x\n",
    "deltat = t[1] - t[0]            # gridspacing in t\n",
    "lmbda = kappa*deltat/(deltax**2)    # mesh fourier number"
   ]
  },
  {
   "cell_type": "code",
   "execution_count": 141,
   "id": "198fbcec",
   "metadata": {},
   "outputs": [],
   "source": [
    "def u_I7(x):\n",
    "    # initial temperature distribution\n",
    "    y = np.cos(2*pi*x)\n",
    "    return y"
   ]
  },
  {
   "cell_type": "code",
   "execution_count": 142,
   "id": "e4274c0a",
   "metadata": {},
   "outputs": [],
   "source": [
    "def u_exact7(x,t):\n",
    "    # the exact solution\n",
    "    y = np.exp(-4*t*pi**2)*np.cos(2*pi*x) + 0.05\n",
    "    return y\n"
   ]
  },
  {
   "cell_type": "code",
   "execution_count": 143,
   "id": "7cfe9942",
   "metadata": {},
   "outputs": [
    {
     "data": {
      "text/plain": [
       "<function matplotlib.pyplot.show(close=None, block=None)>"
      ]
     },
     "execution_count": 143,
     "metadata": {},
     "output_type": "execute_result"
    },
    {
     "data": {
      "image/png": "[encoded data removed]",
      "text/plain": [
       "<Figure size 432x288 with 1 Axes>"
      ]
     },
     "metadata": {
      "needs_background": "light"
     },
     "output_type": "display_data"
    }
   ],
   "source": [
    "# plotting for periodic\n",
    "x = np.linspace(0, L, mx)\n",
    "pl.plot(x,PDE_solve_euler(1,1,0.5,u_I6, args=(lambda x: x*2, ), boundary_condition = 'periodic'),'ro',label='num')\n",
    "xx = np.linspace(0,L,250)\n",
    "pl.plot(xx,u_exact6(xx,T),'b-',label='exact')\n",
    "pl.xlabel('x')\n",
    "pl.ylabel('u(x,0.5)')\n",
    "pl.legend(loc='upper right')\n",
    "pl.show"
   ]
  },
  {
   "cell_type": "code",
   "execution_count": 63,
   "id": "47847c6a",
   "metadata": {},
   "outputs": [],
   "source": [
    "def rhs_function(A, u_j,F_j,u_jp1,j):\n",
    "    u_jp1 = np.matmul(A , u_j) + deltat*F_j(x,t[j])\n",
    "    u_j = u_jp1\n",
    "    return u_j\n",
    "    "
   ]
  },
  {
   "cell_type": "code",
   "execution_count": 64,
   "id": "45b46922",
   "metadata": {},
   "outputs": [],
   "source": [
    "def rhs_function(A, u_j,F_j,u_jp1,j):\n",
    "    u_jp1[1:-1] = np.matmul(A , u_j[1:-1]).reshape(19,1) + deltat*F_j(x[1:-1],t[j]).reshape(19,1)\n",
    "    u_j = u_jp1\n",
    "    return u_j"
   ]
  },
  {
   "cell_type": "code",
   "execution_count": 65,
   "id": "089f51da",
   "metadata": {},
   "outputs": [],
   "source": [
    "def periodic_boundary(A, u_j):\n",
    "    u_jp1 = np.matmul(A , u_j)\n",
    "    u_j = u_jp1\n",
    "    return u_j"
   ]
  },
  {
   "cell_type": "code",
   "execution_count": 66,
   "id": "b08196c9",
   "metadata": {},
   "outputs": [],
   "source": [
    "#def dirichlet_boundary(A,s,u_j,u_jp1):\n",
    "def dirichlet_boundary(A, u_j,j,s,u_jp1,lmbda,t,mx,args):\n",
    "    p= args[0] \n",
    "    q = args[1]                   \n",
    "    u_jp1[1:-1] = np.matmul(A , u_j[1:-1]).reshape(19,1) + lmbda*s\n",
    "    u_jp1[0] = p(t[j+1]); u_jp1[mx] = q(t[j+1])\n",
    "    u_j = u_jp1\n",
    "    return  u_j\n",
    "    "
   ]
  },
  {
   "cell_type": "code",
   "execution_count": 67,
   "id": "0d5665ea",
   "metadata": {},
   "outputs": [],
   "source": [
    "def Neumann_boundary(A,s,u_j,args):\n",
    "    P = args[0]\n",
    "    Q = args[1]\n",
    "    u_jp1 = np.matmul(A , u_j).reshape(21,1) + 2*lmbda*deltax*s\n",
    "    u_j = u_jp1\n",
    "    return u_j\n",
    "    "
   ]
  },
  {
   "cell_type": "code",
   "execution_count": 68,
   "id": "1f4a8b98",
   "metadata": {},
   "outputs": [],
   "source": [
    "# function to solve PDE using backward euler method\n",
    "def PDE_solve_back_euler(mt,mx,boundary_condition, initial_condition):\n",
    "    u_j = np.zeros(x.size)        # u at current time step\n",
    "    u_jp1 = np.zeros(x.size)      # u at next time step\n",
    "    # u at next time step\n",
    "    # Set initial condition\n",
    "    for i in range(0, mx+1):\n",
    "        u_j[i] = initial_condition(x[i])\n",
    "    u_jp1 = np.zeros((mx+1,1))\n",
    "    k = [-lmbda*np.ones(mx-2),(1+2*lmbda)*np.ones(mx-1),-lmbda*np.ones(mx-2)]\n",
    "    offset = [-1,0,1]\n",
    "    A_BE = diags(k,offset).toarray()\n",
    "    \n",
    "    for j in range(0, mt):\n",
    "        u_jp1[1:-1] = np.linalg.solve(A_BE , u_j[1:-1]).reshape(9,1)\n",
    "        u_j = u_jp1\n",
    "    return u_j"
   ]
  },
  {
   "cell_type": "code",
   "execution_count": 69,
   "id": "a9898dc6",
   "metadata": {},
   "outputs": [],
   "source": [
    "# function to solve PDE using euler method\n",
    "def PDE_solve_crank(mt,mx,boundary_condition, initial_condition):\n",
    "    u_j = np.zeros(x.size)        # u at current time step\n",
    "    u_jp1 = np.zeros(x.size)      # u at next time step\n",
    "    # u at next time step\n",
    "    # Set initial condition\n",
    "    for i in range(0, mx+1):\n",
    "        u_j[i] = initial_condition(x[i])\n",
    "    u_jp1 = np.zeros((mx+1,1))\n",
    "    k = [(-lmbda/2)*np.ones(mx-2),(1+lmbda)*np.ones(mx-1),(-lmbda/2)*np.ones(mx-2)]\n",
    "    f = [(lmbda/2)*np.ones(mx-2),(1-lmbda)*np.ones(mx-1),(lmbda/2)*np.ones(mx-2)]\n",
    "    offset = [-1,0,1]\n",
    "    A_CN = diags(k,offset).toarray()\n",
    "    B_CN = diags(f,offset).toarray()\n",
    "    for j in range(0, mt):\n",
    "        b = np.matmul(B_CN , u_j[1:-1]).reshape(9,1)\n",
    "        u_jp1[1:-1] = np.linalg.solve(A_CN,b)\n",
    "        u_j = u_jp1\n",
    "    return u_j"
   ]
  },
  {
   "cell_type": "code",
   "execution_count": 70,
   "id": "deaed8a6",
   "metadata": {},
   "outputs": [
    {
     "ename": "ValueError",
     "evalue": "matmul: Input operand 1 has a mismatch in its core dimension 0, with gufunc signature (n?,k),(k,m?)->(n?,m?) (size 18 is different from 9)",
     "output_type": "error",
     "traceback": [
      "\u001b[0;31m---------------------------------------------------------------------------\u001b[0m",
      "\u001b[0;31mValueError\u001b[0m                                Traceback (most recent call last)",
      "\u001b[0;32m<ipython-input-70-a7b2866ef007>\u001b[0m in \u001b[0;36m<module>\u001b[0;34m\u001b[0m\n\u001b[1;32m      1\u001b[0m \u001b[0;31m# Plot the final result and exact solution for  back forward euler\u001b[0m\u001b[0;34m\u001b[0m\u001b[0;34m\u001b[0m\u001b[0;34m\u001b[0m\u001b[0m\n\u001b[0;32m----> 2\u001b[0;31m \u001b[0mpl\u001b[0m\u001b[0;34m.\u001b[0m\u001b[0mplot\u001b[0m\u001b[0;34m(\u001b[0m\u001b[0mx\u001b[0m\u001b[0;34m,\u001b[0m\u001b[0mPDE_solve_crank\u001b[0m\u001b[0;34m(\u001b[0m\u001b[0;36m1000\u001b[0m\u001b[0;34m,\u001b[0m\u001b[0;36m10\u001b[0m\u001b[0;34m,\u001b[0m\u001b[0;34m[\u001b[0m\u001b[0;36m0\u001b[0m\u001b[0;34m,\u001b[0m\u001b[0;36m0\u001b[0m\u001b[0;34m]\u001b[0m\u001b[0;34m,\u001b[0m\u001b[0mu_I\u001b[0m\u001b[0;34m)\u001b[0m\u001b[0;34m,\u001b[0m\u001b[0;34m'ro'\u001b[0m\u001b[0;34m,\u001b[0m\u001b[0mlabel\u001b[0m\u001b[0;34m=\u001b[0m\u001b[0;34m'num'\u001b[0m\u001b[0;34m)\u001b[0m\u001b[0;34m\u001b[0m\u001b[0;34m\u001b[0m\u001b[0m\n\u001b[0m\u001b[1;32m      3\u001b[0m \u001b[0mxx\u001b[0m \u001b[0;34m=\u001b[0m \u001b[0mnp\u001b[0m\u001b[0;34m.\u001b[0m\u001b[0mlinspace\u001b[0m\u001b[0;34m(\u001b[0m\u001b[0;36m0\u001b[0m\u001b[0;34m,\u001b[0m\u001b[0mL\u001b[0m\u001b[0;34m,\u001b[0m\u001b[0;36m250\u001b[0m\u001b[0;34m)\u001b[0m\u001b[0;34m\u001b[0m\u001b[0;34m\u001b[0m\u001b[0m\n\u001b[1;32m      4\u001b[0m \u001b[0mpl\u001b[0m\u001b[0;34m.\u001b[0m\u001b[0mplot\u001b[0m\u001b[0;34m(\u001b[0m\u001b[0mxx\u001b[0m\u001b[0;34m,\u001b[0m\u001b[0mu_exact\u001b[0m\u001b[0;34m(\u001b[0m\u001b[0mxx\u001b[0m\u001b[0;34m,\u001b[0m\u001b[0mT\u001b[0m\u001b[0;34m)\u001b[0m\u001b[0;34m,\u001b[0m\u001b[0;34m'b-'\u001b[0m\u001b[0;34m,\u001b[0m\u001b[0mlabel\u001b[0m\u001b[0;34m=\u001b[0m\u001b[0;34m'exact'\u001b[0m\u001b[0;34m)\u001b[0m\u001b[0;34m\u001b[0m\u001b[0;34m\u001b[0m\u001b[0m\n\u001b[1;32m      5\u001b[0m \u001b[0mpl\u001b[0m\u001b[0;34m.\u001b[0m\u001b[0mxlabel\u001b[0m\u001b[0;34m(\u001b[0m\u001b[0;34m'x'\u001b[0m\u001b[0;34m)\u001b[0m\u001b[0;34m\u001b[0m\u001b[0;34m\u001b[0m\u001b[0m\n",
      "\u001b[0;32m<ipython-input-69-c8546dbd558a>\u001b[0m in \u001b[0;36mPDE_solve_crank\u001b[0;34m(mt, mx, boundary_condition, initial_condition)\u001b[0m\n\u001b[1;32m     14\u001b[0m     \u001b[0mB_CN\u001b[0m \u001b[0;34m=\u001b[0m \u001b[0mdiags\u001b[0m\u001b[0;34m(\u001b[0m\u001b[0mf\u001b[0m\u001b[0;34m,\u001b[0m\u001b[0moffset\u001b[0m\u001b[0;34m)\u001b[0m\u001b[0;34m.\u001b[0m\u001b[0mtoarray\u001b[0m\u001b[0;34m(\u001b[0m\u001b[0;34m)\u001b[0m\u001b[0;34m\u001b[0m\u001b[0;34m\u001b[0m\u001b[0m\n\u001b[1;32m     15\u001b[0m     \u001b[0;32mfor\u001b[0m \u001b[0mj\u001b[0m \u001b[0;32min\u001b[0m \u001b[0mrange\u001b[0m\u001b[0;34m(\u001b[0m\u001b[0;36m0\u001b[0m\u001b[0;34m,\u001b[0m \u001b[0mmt\u001b[0m\u001b[0;34m)\u001b[0m\u001b[0;34m:\u001b[0m\u001b[0;34m\u001b[0m\u001b[0;34m\u001b[0m\u001b[0m\n\u001b[0;32m---> 16\u001b[0;31m         \u001b[0mb\u001b[0m \u001b[0;34m=\u001b[0m \u001b[0mnp\u001b[0m\u001b[0;34m.\u001b[0m\u001b[0mmatmul\u001b[0m\u001b[0;34m(\u001b[0m\u001b[0mB_CN\u001b[0m \u001b[0;34m,\u001b[0m \u001b[0mu_j\u001b[0m\u001b[0;34m[\u001b[0m\u001b[0;36m1\u001b[0m\u001b[0;34m:\u001b[0m\u001b[0;34m-\u001b[0m\u001b[0;36m1\u001b[0m\u001b[0;34m]\u001b[0m\u001b[0;34m)\u001b[0m\u001b[0;34m.\u001b[0m\u001b[0mreshape\u001b[0m\u001b[0;34m(\u001b[0m\u001b[0;36m9\u001b[0m\u001b[0;34m,\u001b[0m\u001b[0;36m1\u001b[0m\u001b[0;34m)\u001b[0m\u001b[0;34m\u001b[0m\u001b[0;34m\u001b[0m\u001b[0m\n\u001b[0m\u001b[1;32m     17\u001b[0m         \u001b[0mu_jp1\u001b[0m\u001b[0;34m[\u001b[0m\u001b[0;36m1\u001b[0m\u001b[0;34m:\u001b[0m\u001b[0;34m-\u001b[0m\u001b[0;36m1\u001b[0m\u001b[0;34m]\u001b[0m \u001b[0;34m=\u001b[0m \u001b[0mnp\u001b[0m\u001b[0;34m.\u001b[0m\u001b[0mlinalg\u001b[0m\u001b[0;34m.\u001b[0m\u001b[0msolve\u001b[0m\u001b[0;34m(\u001b[0m\u001b[0mA_CN\u001b[0m\u001b[0;34m,\u001b[0m\u001b[0mb\u001b[0m\u001b[0;34m)\u001b[0m\u001b[0;34m\u001b[0m\u001b[0;34m\u001b[0m\u001b[0m\n\u001b[1;32m     18\u001b[0m         \u001b[0mu_j\u001b[0m \u001b[0;34m=\u001b[0m \u001b[0mu_jp1\u001b[0m\u001b[0;34m\u001b[0m\u001b[0;34m\u001b[0m\u001b[0m\n",
      "\u001b[0;31mValueError\u001b[0m: matmul: Input operand 1 has a mismatch in its core dimension 0, with gufunc signature (n?,k),(k,m?)->(n?,m?) (size 18 is different from 9)"
     ]
    }
   ],
   "source": [
    "# Plot the final result and exact solution for  back forward euler\n",
    "pl.plot(x,PDE_solve_crank(1000,10,[0,0],u_I),'ro',label='num')\n",
    "xx = np.linspace(0,L,250)\n",
    "pl.plot(xx,u_exact(xx,T),'b-',label='exact')\n",
    "pl.xlabel('x')\n",
    "pl.ylabel('u(x,0.5)')\n",
    "pl.legend(loc='upper right')\n",
    "pl.show"
   ]
  },
  {
   "cell_type": "code",
   "execution_count": 176,
   "id": "086b67e2",
   "metadata": {},
   "outputs": [],
   "source": [
    "def finite_diff(kappa, L, T, initial_condition ,method = 'Forward-Euler', mx=20, mt=1000):\n",
    "    \n",
    "\n",
    "    # Set up the numerical environment variables\n",
    "    x = np.linspace(0, L, mx+1)     # mesh points in space\n",
    "    t = np.linspace(0, T, mt+1)     # mesh points in time\n",
    "    deltax = x[1] - x[0]            # gridspacing in x\n",
    "    deltat = t[1] - t[0]            # gridspacing in t\n",
    "    lmbda = kappa*deltat/(deltax**2)    # mesh fourier number\n",
    "\n",
    "    \n",
    "    # Set up the solution variables\n",
    "    u_j = np.zeros(x.size)        # u at current time step\n",
    "    u_jp1 = np.zeros(x.size)      # u at next time step\n",
    "    \n",
    "    # Set initial condition\n",
    "    for i in range(0, mx+1):\n",
    "        u_j[i] = initial_condition(x[i])\n",
    "    \n",
    "    if method == 'Forward-Euler':\n",
    "        u_jp1 = np.zeros(mx+1)\n",
    "        k = [lmbda*np.ones(mx-2),(1-2*lmbda)*np.ones(mx-1),lmbda*np.ones(mx-2)]\n",
    "        offset = [-1,0,1]\n",
    "        A = diags(k,offset).toarray()\n",
    "\n",
    "\n",
    "        for j in range(0, mt):\n",
    "            u_jp1[1:-1] = np.matmul(A , u_j[1:-1])\n",
    "            u_j = u_jp1\n",
    "            \n",
    "    elif method == 'Backward-Euler':\n",
    "        u_jp1 = np.zeros(mx+1)\n",
    "        k = [-lmbda*np.ones(mx-2),(1+2*lmbda)*np.ones(mx-1),-lmbda*np.ones(mx-2)]\n",
    "        offset = [-1,0,1]\n",
    "        A_BE = diags(k,offset).toarray()\n",
    "\n",
    "\n",
    "        for j in range(0, mt):\n",
    "            u_jp1[1:-1] = np.linalg.solve(A_BE , u_j[1:-1])\n",
    "            u_j = u_jp1\n",
    "    \n",
    "    elif method == 'Crank-Nicholson':\n",
    "        u_jp1 = np.zeros(mx+1)\n",
    "        k = [(-lmbda/2)*np.ones(mx-2),(1+lmbda)*np.ones(mx-1),(-lmbda/2)*np.ones(mx-2)]\n",
    "        f = [(lmbda/2)*np.ones(mx-2),(1-lmbda)*np.ones(mx-1),(lmbda/2)*np.ones(mx-2)]\n",
    "        offset = [-1,0,1]\n",
    "        A_CN = diags(k,offset).toarray()\n",
    "        B_CN = diags(f,offset).toarray()\n",
    "\n",
    "\n",
    "        for j in range(0, mt):\n",
    "            b = np.matmul(B_CN , u_j[1:-1])\n",
    "            u_jp1[1:-1] = np.linalg.solve(A_CN,b)\n",
    "            u_j = u_jp1\n",
    "            \n",
    "    else:\n",
    "        raise ValueError(\"Invalid method, please input 'Forward-Euler', 'Backward-Euler' or 'Crank-Nicholson'.\")\n",
    "        \n",
    "    return u_j"
   ]
  },
  {
   "cell_type": "code",
   "execution_count": 177,
   "id": "96495144",
   "metadata": {},
   "outputs": [
    {
     "data": {
      "text/plain": [
       "array([0.        , 0.00338107, 0.0066789 , 0.00981226, 0.01270402,\n",
       "       0.01528296, 0.01748558, 0.01925765, 0.02055553, 0.02134727,\n",
       "       0.02161337, 0.02134727, 0.02055554, 0.01925766, 0.01748559,\n",
       "       0.01528296, 0.01270402, 0.00981227, 0.0066789 , 0.00338108,\n",
       "       0.        ])"
      ]
     },
     "execution_count": 177,
     "metadata": {},
     "output_type": "execute_result"
    }
   ],
   "source": [
    "finite_diff(1,1,0.5,u_I3,method = 'Crank-Nicholson')"
   ]
  },
  {
   "cell_type": "code",
   "execution_count": 178,
   "id": "a51a40bc",
   "metadata": {},
   "outputs": [],
   "source": [
    "mx = 20\n",
    "mt =1000\n",
    "L = 1\n",
    "kappa = 1\n",
    "T =0.5\n",
    "# Set up the numerical environment variables\n",
    "x = np.linspace(0, L, mx+1)     # mesh points in space\n",
    "t = np.linspace(0, T, mt+1)     # mesh points in time\n",
    "deltax = x[1] - x[0]            # gridspacing in x\n",
    "deltat = t[1] - t[0]            # gridspacing in t\n",
    "lmbda = kappa*deltat/(deltax**2)    # mesh fourier number\n",
    "\n"
   ]
  },
  {
   "cell_type": "code",
   "execution_count": 180,
   "id": "82434aea",
   "metadata": {},
   "outputs": [
    {
     "data": {
      "text/plain": [
       "<function matplotlib.pyplot.show(close=None, block=None)>"
      ]
     },
     "execution_count": 180,
     "metadata": {},
     "output_type": "execute_result"
    },
    {
     "data": {
      "image/png": "[encoded data removed]",
      "text/plain": [
       "<Figure size 432x288 with 1 Axes>"
      ]
     },
     "metadata": {
      "needs_background": "light"
     },
     "output_type": "display_data"
    }
   ],
   "source": [
    "# Plot the final result and exact solution for  back forward euler\n",
    "pl.plot(x,finite_diff(1,1,0.5,u_I,method = 'Crank-Nicholson'),'ro',label='num')\n",
    "xx = np.linspace(0,L,250)\n",
    "pl.plot(xx,u_exact(xx,T),'b-',label='exact')\n",
    "pl.xlabel('x')\n",
    "pl.ylabel('u(x,0.5)')\n",
    "pl.legend(loc='upper right')\n",
    "pl.show"
   ]
  },
  {
   "cell_type": "code",
   "execution_count": null,
   "id": "5863f19d",
   "metadata": {},
   "outputs": [],
   "source": []
  },
  {
   "cell_type": "code",
   "execution_count": 73,
   "id": "69e77024",
   "metadata": {},
   "outputs": [],
   "source": [
    "# Adapt your numerical continuation code (from the ODEs part of the course) so that it can also\n",
    "#track, under variations of a parameter in the system, steady-states of second-order diffusive PDEs."
   ]
  },
  {
   "cell_type": "code",
   "execution_count": 74,
   "id": "d8177103",
   "metadata": {},
   "outputs": [],
   "source": [
    "# change value of dirichlet on the right hand side\n",
    "# reinput the u_j as the initial temperature distribution\n",
    "# restricted scope"
   ]
  },
  {
   "cell_type": "code",
   "execution_count": 75,
   "id": "b859dd33",
   "metadata": {},
   "outputs": [],
   "source": [
    "def Numerical_Continuation_kappa(L, T, initial_condition, start, end, h, args, boundary_condition=None, mx=20, mt=1000):\n",
    "    \n",
    "   \n",
    "    \n",
    "    n = []\n",
    "    #root = PDE_solve_euler(,L,T,initial_condition, args=args, boundary_condition=boundary_condition,mx=20,mt=1000)\n",
    "    #initial_condition = root\n",
    "    \n",
    "    \n",
    "    \n",
    "    for parameter in np.arange(start,end,h):\n",
    "         \n",
    "        #root = PDE_solve_euler(initial_condition, args=args, boundary_condition=boundary_condition)\n",
    "        root = PDE_solve_euler(parameter,L,T,initial_condition, args=args, boundary_condition=boundary_condition,mx=20,mt=1000)\n",
    "        initial_condition = root\n",
    "        n.append(root)\n",
    "    \n",
    "    i=0\n",
    "    for i in range(len(n)):\n",
    "    #print(n[0])\n",
    "        pl.plot(np.linspace(0, L, mx+1),n[i],'ro',label='num')\n",
    "    \n",
    "    #n[-1]\n",
    "    #pl.plot(np.linspace(0, L, mx+1),root,'ro',label='num')\n",
    "    \n",
    "    return "
   ]
  },
  {
   "cell_type": "code",
   "execution_count": 76,
   "id": "f7bac365",
   "metadata": {},
   "outputs": [
    {
     "ename": "NameError",
     "evalue": "name 'Numerical_Continuation' is not defined",
     "output_type": "error",
     "traceback": [
      "\u001b[0;31m---------------------------------------------------------------------------\u001b[0m",
      "\u001b[0;31mNameError\u001b[0m                                 Traceback (most recent call last)",
      "\u001b[0;32m<ipython-input-76-18a724ef05da>\u001b[0m in \u001b[0;36m<module>\u001b[0;34m\u001b[0m\n\u001b[0;32m----> 1\u001b[0;31m \u001b[0mNumerical_Continuation\u001b[0m\u001b[0;34m(\u001b[0m\u001b[0;36m1\u001b[0m\u001b[0;34m,\u001b[0m \u001b[0;36m0.5\u001b[0m\u001b[0;34m,\u001b[0m \u001b[0mu_I\u001b[0m\u001b[0;34m,\u001b[0m \u001b[0;36m0\u001b[0m\u001b[0;34m,\u001b[0m \u001b[0;36m2\u001b[0m\u001b[0;34m,\u001b[0m \u001b[0;36m0.1\u001b[0m\u001b[0;34m,\u001b[0m \u001b[0margs\u001b[0m\u001b[0;34m=\u001b[0m\u001b[0;34m(\u001b[0m\u001b[0;32mlambda\u001b[0m \u001b[0mt\u001b[0m\u001b[0;34m:\u001b[0m\u001b[0;36m0\u001b[0m\u001b[0;34m,\u001b[0m \u001b[0;32mlambda\u001b[0m \u001b[0mt\u001b[0m\u001b[0;34m:\u001b[0m\u001b[0;36m0\u001b[0m\u001b[0;34m)\u001b[0m\u001b[0;34m,\u001b[0m \u001b[0mboundary_condition\u001b[0m\u001b[0;34m=\u001b[0m\u001b[0;34m'dirichlet'\u001b[0m\u001b[0;34m,\u001b[0m \u001b[0mmx\u001b[0m\u001b[0;34m=\u001b[0m\u001b[0;36m20\u001b[0m\u001b[0;34m,\u001b[0m \u001b[0mmt\u001b[0m\u001b[0;34m=\u001b[0m\u001b[0;36m1000\u001b[0m\u001b[0;34m)\u001b[0m\u001b[0;34m\u001b[0m\u001b[0;34m\u001b[0m\u001b[0m\n\u001b[0m",
      "\u001b[0;31mNameError\u001b[0m: name 'Numerical_Continuation' is not defined"
     ]
    }
   ],
   "source": [
    "Numerical_Continuation(1, 0.5, u_I, 0, 2, 0.1, args=(lambda t:0, lambda t:0), boundary_condition='dirichlet', mx=20, mt=1000)"
   ]
  },
  {
   "cell_type": "code",
   "execution_count": 77,
   "id": "577d6817",
   "metadata": {},
   "outputs": [
    {
     "ename": "NameError",
     "evalue": "name 'Numerical_Continuation' is not defined",
     "output_type": "error",
     "traceback": [
      "\u001b[0;31m---------------------------------------------------------------------------\u001b[0m",
      "\u001b[0;31mNameError\u001b[0m                                 Traceback (most recent call last)",
      "\u001b[0;32m<ipython-input-77-2c8a879f0d5b>\u001b[0m in \u001b[0;36m<module>\u001b[0;34m\u001b[0m\n\u001b[0;32m----> 1\u001b[0;31m \u001b[0mNumerical_Continuation\u001b[0m\u001b[0;34m(\u001b[0m\u001b[0;36m1\u001b[0m\u001b[0;34m,\u001b[0m \u001b[0;36m0.5\u001b[0m\u001b[0;34m,\u001b[0m \u001b[0mu_I\u001b[0m\u001b[0;34m,\u001b[0m \u001b[0;36m0\u001b[0m\u001b[0;34m,\u001b[0m \u001b[0;36m2\u001b[0m\u001b[0;34m,\u001b[0m \u001b[0;36m0.1\u001b[0m\u001b[0;34m,\u001b[0m \u001b[0margs\u001b[0m\u001b[0;34m=\u001b[0m\u001b[0;34m(\u001b[0m\u001b[0;32mlambda\u001b[0m \u001b[0mt\u001b[0m\u001b[0;34m:\u001b[0m\u001b[0;36m0\u001b[0m\u001b[0;34m,\u001b[0m \u001b[0;32mlambda\u001b[0m \u001b[0mt\u001b[0m\u001b[0;34m:\u001b[0m\u001b[0;36m0\u001b[0m\u001b[0;34m)\u001b[0m\u001b[0;34m,\u001b[0m \u001b[0mboundary_condition\u001b[0m\u001b[0;34m=\u001b[0m\u001b[0;34m'dirichlet'\u001b[0m\u001b[0;34m,\u001b[0m \u001b[0mmx\u001b[0m\u001b[0;34m=\u001b[0m\u001b[0;36m20\u001b[0m\u001b[0;34m,\u001b[0m \u001b[0mmt\u001b[0m\u001b[0;34m=\u001b[0m\u001b[0;36m1000\u001b[0m\u001b[0;34m)\u001b[0m\u001b[0;34m\u001b[0m\u001b[0;34m\u001b[0m\u001b[0m\n\u001b[0m\u001b[1;32m      2\u001b[0m \u001b[0mxx\u001b[0m \u001b[0;34m=\u001b[0m \u001b[0mnp\u001b[0m\u001b[0;34m.\u001b[0m\u001b[0mlinspace\u001b[0m\u001b[0;34m(\u001b[0m\u001b[0;36m0\u001b[0m\u001b[0;34m,\u001b[0m\u001b[0;36m1\u001b[0m\u001b[0;34m,\u001b[0m\u001b[0;36m250\u001b[0m\u001b[0;34m)\u001b[0m\u001b[0;34m\u001b[0m\u001b[0;34m\u001b[0m\u001b[0m\n\u001b[1;32m      3\u001b[0m \u001b[0mT\u001b[0m \u001b[0;34m=\u001b[0m \u001b[0;36m0.5\u001b[0m\u001b[0;34m\u001b[0m\u001b[0;34m\u001b[0m\u001b[0m\n\u001b[1;32m      4\u001b[0m \u001b[0mL\u001b[0m \u001b[0;34m=\u001b[0m \u001b[0;36m1\u001b[0m\u001b[0;34m\u001b[0m\u001b[0;34m\u001b[0m\u001b[0m\n\u001b[1;32m      5\u001b[0m \u001b[0;32mfor\u001b[0m \u001b[0mkappa\u001b[0m \u001b[0;32min\u001b[0m \u001b[0mnp\u001b[0m\u001b[0;34m.\u001b[0m\u001b[0marange\u001b[0m\u001b[0;34m(\u001b[0m\u001b[0;36m0\u001b[0m\u001b[0;34m,\u001b[0m\u001b[0;36m2\u001b[0m\u001b[0;34m,\u001b[0m\u001b[0;36m0.1\u001b[0m\u001b[0;34m)\u001b[0m\u001b[0;34m:\u001b[0m\u001b[0;34m\u001b[0m\u001b[0;34m\u001b[0m\u001b[0m\n",
      "\u001b[0;31mNameError\u001b[0m: name 'Numerical_Continuation' is not defined"
     ]
    }
   ],
   "source": [
    "Numerical_Continuation(1, 0.5, u_I, 0, 2, 0.1, args=(lambda t:0, lambda t:0), boundary_condition='dirichlet', mx=20, mt=1000)\n",
    "xx = np.linspace(0,1,250)\n",
    "T = 0.5\n",
    "L = 1\n",
    "for kappa in np.arange(0,2,0.1):\n",
    "    y = np.exp(-kappa*(pi**2/L**2)*T)*np.sin(pi*xx/L)\n",
    "\n",
    "    pl.plot(xx,y,'b-',label='exact')"
   ]
  },
  {
   "cell_type": "code",
   "execution_count": 78,
   "id": "c9d17a5f",
   "metadata": {},
   "outputs": [
    {
     "data": {
      "text/plain": [
       "array([[1.        ],\n",
       "       [0.95000287],\n",
       "       [0.90000566],\n",
       "       [0.85000832],\n",
       "       [0.80001078],\n",
       "       [0.75001296],\n",
       "       [0.70001483],\n",
       "       [0.65001633],\n",
       "       [0.60001743],\n",
       "       [0.55001811],\n",
       "       [0.50001833],\n",
       "       [0.45001811],\n",
       "       [0.40001743],\n",
       "       [0.35001633],\n",
       "       [0.30001483],\n",
       "       [0.25001296],\n",
       "       [0.20001078],\n",
       "       [0.15000832],\n",
       "       [0.10000566],\n",
       "       [0.05000287],\n",
       "       [0.        ]])"
      ]
     },
     "execution_count": 78,
     "metadata": {},
     "output_type": "execute_result"
    }
   ],
   "source": [
    "PDE_solve_euler(2,1,0.5,u_I,args=(lambda t:1, lambda t:0), boundary_condition='dirichlet',mx=20,mt=1000)\n"
   ]
  },
  {
   "cell_type": "code",
   "execution_count": 79,
   "id": "9d7843c1",
   "metadata": {},
   "outputs": [
    {
     "data": {
      "text/plain": [
       "[<matplotlib.lines.Line2D at 0x7f7fa2b865b0>]"
      ]
     },
     "execution_count": 79,
     "metadata": {},
     "output_type": "execute_result"
    },
    {
     "data": {
      "image/png": "[encoded data removed]",
      "text/plain": [
       "<Figure size 432x288 with 1 Axes>"
      ]
     },
     "metadata": {
      "needs_background": "light"
     },
     "output_type": "display_data"
    }
   ],
   "source": [
    "pl.plot(np.linspace(0, 2, 20+1),PDE_solve_euler(9,2,0.5,u_I4,args=(lambda t:0, lambda t:8), boundary_condition='dirichlet',mx=20,mt=1000),'ro',label='num')\n",
    "xx = np.linspace(0,2,250)\n",
    "pl.plot(xx,u_exact4(xx,T),'b-',label='exact')"
   ]
  },
  {
   "cell_type": "code",
   "execution_count": 80,
   "id": "8305802a",
   "metadata": {},
   "outputs": [
    {
     "name": "stdout",
     "output_type": "stream",
     "text": [
      "deltax= 0.05\n",
      "deltat= 0.0005\n",
      "lambda= 0.3999999999999999\n"
     ]
    }
   ],
   "source": [
    "# Set up the numerical environment variables\n",
    "x = np.linspace(0, L, mx+1)     # mesh points in space\n",
    "t = np.linspace(0, T, mt+1)     # mesh points in time\n",
    "deltax = x[1] - x[0]            # gridspacing in x\n",
    "deltat = t[1] - t[0]            # gridspacing in t\n",
    "lmbda = kappa*deltat/(deltax**2)    # mesh fourier number\n",
    "print(\"deltax=\",deltax)\n",
    "print(\"deltat=\",deltat)\n",
    "print(\"lambda=\",lmbda)"
   ]
  },
  {
   "cell_type": "code",
   "execution_count": 81,
   "id": "edcc8643",
   "metadata": {},
   "outputs": [
    {
     "ename": "SyntaxError",
     "evalue": "unexpected EOF while parsing (<ipython-input-81-61498f6fcaa8>, line 1)",
     "output_type": "error",
     "traceback": [
      "\u001b[0;36m  File \u001b[0;32m\"<ipython-input-81-61498f6fcaa8>\"\u001b[0;36m, line \u001b[0;32m1\u001b[0m\n\u001b[0;31m    def PDE_solve_euler(kappa,L,T,initial_condition, args=(), boundary_condition=None,mx=20,mt=1000):\u001b[0m\n\u001b[0m                                                                                                     ^\u001b[0m\n\u001b[0;31mSyntaxError\u001b[0m\u001b[0;31m:\u001b[0m unexpected EOF while parsing\n"
     ]
    }
   ],
   "source": [
    "def PDE_solve_euler(kappa,L,T,initial_condition, args=(), boundary_condition=None,mx=20,mt=1000):"
   ]
  },
  {
   "cell_type": "code",
   "execution_count": 82,
   "id": "8521a65b",
   "metadata": {},
   "outputs": [],
   "source": [
    "def PDE_solve_euler(kappa,L,T,initial_condition, args=(), boundary_condition=None,mx=20,mt=1000):\n",
    "\n",
    "    \"\"\"\n",
    "    A function that the euler method to solve the 1D heat equation.\n",
    "\n",
    "    Parameters\n",
    "    ----------\n",
    "\n",
    "    initial_condition:\n",
    "\n",
    "    args:\n",
    "\n",
    "    boundary_condition:\n",
    "\n",
    "\n",
    "    Returns\n",
    "    -------\n",
    "\n",
    "    \"\"\"\n",
    "    \n",
    "    \n",
    "    \n",
    "    \n",
    "    #mt = 1000\n",
    "    #mx = 20\n",
    "    # Set up the numerical environment variables\n",
    "    x = np.linspace(0, L, mx+1)     # mesh points in space\n",
    "    t = np.linspace(0, T, mt+1)     # mesh points in time\n",
    "    deltax = x[1] - x[0]            # gridspacing in x\n",
    "    deltat = t[1] - t[0]            # gridspacing in t\n",
    "    lmbda = kappa*deltat/(deltax**2)    # mesh fourier number\n",
    "\n",
    "\n",
    "\n",
    "    u_j = np.zeros(x.size)        # u at current time step\n",
    "    u_jp1 = np.zeros((mx+1,1))\n",
    "    k = [lmbda*np.ones(mx-2),(1-2*lmbda)*np.ones(mx-1),lmbda*np.ones(mx-2)]\n",
    "    offset = [-1,0,1]\n",
    "    A = diags(k,offset,shape=(mx-1, mx-1)).toarray()\n",
    "\n",
    "    if boundary_condition == 'periodic':\n",
    "        u_j = np.zeros(mx)\n",
    "        k = [lmbda*np.ones(mx-1),(1-2*lmbda)*np.ones(mx),lmbda*np.ones(mx-1)]\n",
    "\n",
    "        offset = [-1,0,1]\n",
    "        A = diags(k,offset).toarray()\n",
    "        A[-1,0] = lmbda\n",
    "        A[0,-1] = lmbda\n",
    "        for i in range(0, mx):\n",
    "            u_j[i] = initial_condition(x[i])\n",
    "        for j in range(0, mt):\n",
    "            u_j = periodic_boundary(A, u_j)\n",
    "\n",
    "\n",
    "    elif boundary_condition == 'rhs':\n",
    "\n",
    "       # u_jp1 = np.zeros(x.size)\n",
    "        u_jp1 = np.zeros((mx+1,1))\n",
    "        k = [lmbda*np.ones(mx-2),(1-2*lmbda)*np.ones(mx-1),lmbda*np.ones(mx-2)]\n",
    "        F_j = args\n",
    "\n",
    "       # k = [lmbda*np.ones(mx),(1-2*lmbda)*np.ones(mx+1),lmbda*np.ones(mx)]\n",
    "        offset = [-1,0,1]\n",
    "        A = diags(k,offset).toarray()\n",
    "\n",
    "        if callable(initial_condition) is False:\n",
    "            u_j = initial_condition\n",
    "\n",
    "\n",
    "        else:\n",
    "            for i in range(0, mx+1):\n",
    "                u_j[i] = initial_condition(x[i])\n",
    "\n",
    "        #for i in range(0, mx+1):\n",
    "           # u_j[i] = initial_condition(x[i])\n",
    "\n",
    "        for j in range(0, mt):\n",
    "            u_j = rhs_function(A, u_j,F_j,u_jp1,j,deltat,x,t,mx)\n",
    "\n",
    "\n",
    "    else:\n",
    "        if callable(initial_condition) is False:\n",
    "            u_j = initial_condition\n",
    "\n",
    "\n",
    "        else:\n",
    "            for i in range(0, mx+1):\n",
    "                u_j[i] = initial_condition(x[i])\n",
    "\n",
    "\n",
    "\n",
    "        for j in range(0, mt):\n",
    "            if boundary_condition == 'dirichlet':\n",
    "                # s = np.zeros((mx-1,1))\n",
    "                p = args[0]\n",
    "                q = args[1]\n",
    "                s = np.zeros((mx-1,1))\n",
    "                s[0] = p(t[j])\n",
    "                s[-1] = q(t[j])\n",
    "                 #u_j = dirichlet(A,s,u_j,u_jp1)\n",
    "                u_j = dirichlet_boundary(A, u_j,j,s,u_jp1,lmbda,t,mx,args=args)\n",
    "\n",
    "\n",
    "            elif boundary_condition== 'neumann':\n",
    "                k = [lmbda*np.ones(mx),(1-2*lmbda)*np.ones(mx+1),lmbda*np.ones(mx)]\n",
    "                offset = [-1,0,1]\n",
    "                A = diags(k,offset).toarray()\n",
    "                A[0,1] = 2*lmbda\n",
    "                A[-1,-2] = 2*lmbda\n",
    "                s = np.zeros((mx+1,1))\n",
    "\n",
    "                P = args[0]\n",
    "                Q = args[1]\n",
    "                s[0] = -P(t[j])\n",
    "                s[-1] = Q(t[j])\n",
    "                u_j = Neumann_boundary(A,s,u_j,lmbda,deltax,args=args)\n",
    "\n",
    "            elif boundary_condition == None:\n",
    "                u_jp1[1:-1] = np.matmul(A , u_j[1:-1]).reshape(19,1)\n",
    "                u_j = u_jp1\n",
    "\n",
    "        return u_j\n",
    "    return u_j\n",
    "\n"
   ]
  },
  {
   "cell_type": "code",
   "execution_count": 83,
   "id": "4cc84250",
   "metadata": {},
   "outputs": [],
   "source": [
    "def rhs_function(A, u_j,F_j,u_jp1,j,deltat,x,t,mx):\n",
    "    u_jp1[1:-1] = np.matmul(A , u_j[1:-1]).reshape(19,1) + deltat*F_j(x[1:-1],t[j]).reshape(19,1)\n",
    "    u_j = u_jp1\n",
    "    return u_j\n"
   ]
  },
  {
   "cell_type": "code",
   "execution_count": 84,
   "id": "5e95a30e",
   "metadata": {},
   "outputs": [
    {
     "ename": "ValueError",
     "evalue": "x and y must have same first dimension, but have shapes (20,) and (21,)",
     "output_type": "error",
     "traceback": [
      "\u001b[0;31m---------------------------------------------------------------------------\u001b[0m",
      "\u001b[0;31mValueError\u001b[0m                                Traceback (most recent call last)",
      "\u001b[0;32m<ipython-input-84-16101ce1c24b>\u001b[0m in \u001b[0;36m<module>\u001b[0;34m\u001b[0m\n\u001b[1;32m      5\u001b[0m \u001b[0;32mfor\u001b[0m \u001b[0mkappa\u001b[0m \u001b[0;32min\u001b[0m \u001b[0mnp\u001b[0m\u001b[0;34m.\u001b[0m\u001b[0marange\u001b[0m\u001b[0;34m(\u001b[0m\u001b[0;36m0.1\u001b[0m\u001b[0;34m,\u001b[0m\u001b[0;36m2\u001b[0m\u001b[0;34m,\u001b[0m\u001b[0;36m0.1\u001b[0m\u001b[0;34m)\u001b[0m\u001b[0;34m:\u001b[0m\u001b[0;34m\u001b[0m\u001b[0;34m\u001b[0m\u001b[0m\n\u001b[1;32m      6\u001b[0m     \u001b[0my\u001b[0m \u001b[0;34m=\u001b[0m \u001b[0;36m4\u001b[0m\u001b[0;34m*\u001b[0m\u001b[0mnp\u001b[0m\u001b[0;34m.\u001b[0m\u001b[0mexp\u001b[0m\u001b[0;34m(\u001b[0m\u001b[0;34m-\u001b[0m\u001b[0mT\u001b[0m\u001b[0;34m*\u001b[0m\u001b[0mkappa\u001b[0m\u001b[0;34m*\u001b[0m\u001b[0;34m(\u001b[0m\u001b[0;36m3\u001b[0m\u001b[0;34m*\u001b[0m\u001b[0mpi\u001b[0m\u001b[0;34m)\u001b[0m\u001b[0;34m**\u001b[0m\u001b[0;36m2\u001b[0m\u001b[0;34m)\u001b[0m\u001b[0;34m*\u001b[0m\u001b[0mnp\u001b[0m\u001b[0;34m.\u001b[0m\u001b[0msin\u001b[0m\u001b[0;34m(\u001b[0m\u001b[0;36m3\u001b[0m\u001b[0;34m*\u001b[0m\u001b[0mpi\u001b[0m\u001b[0;34m*\u001b[0m\u001b[0mx\u001b[0m\u001b[0;34m)\u001b[0m \u001b[0;34m+\u001b[0m \u001b[0;34m(\u001b[0m\u001b[0;36m1\u001b[0m\u001b[0;34m/\u001b[0m\u001b[0;34m(\u001b[0m\u001b[0;36m25\u001b[0m\u001b[0;34m*\u001b[0m\u001b[0mkappa\u001b[0m\u001b[0;34m*\u001b[0m\u001b[0mpi\u001b[0m\u001b[0;34m**\u001b[0m\u001b[0;36m2\u001b[0m\u001b[0;34m)\u001b[0m\u001b[0;34m)\u001b[0m\u001b[0;34m*\u001b[0m\u001b[0mnp\u001b[0m\u001b[0;34m.\u001b[0m\u001b[0mexp\u001b[0m\u001b[0;34m(\u001b[0m\u001b[0;34m-\u001b[0m\u001b[0mT\u001b[0m\u001b[0;34m*\u001b[0m\u001b[0mkappa\u001b[0m\u001b[0;34m*\u001b[0m\u001b[0;34m(\u001b[0m\u001b[0;36m5\u001b[0m\u001b[0;34m*\u001b[0m\u001b[0mpi\u001b[0m\u001b[0;34m)\u001b[0m\u001b[0;34m**\u001b[0m\u001b[0;36m2\u001b[0m\u001b[0;34m)\u001b[0m\u001b[0;34m*\u001b[0m\u001b[0mnp\u001b[0m\u001b[0;34m.\u001b[0m\u001b[0msin\u001b[0m\u001b[0;34m(\u001b[0m\u001b[0;36m5\u001b[0m\u001b[0;34m*\u001b[0m\u001b[0mpi\u001b[0m\u001b[0;34m*\u001b[0m\u001b[0mx\u001b[0m\u001b[0;34m)\u001b[0m \u001b[0;34m+\u001b[0m \u001b[0;36m9\u001b[0m\u001b[0;34m*\u001b[0m\u001b[0mnp\u001b[0m\u001b[0;34m.\u001b[0m\u001b[0mexp\u001b[0m\u001b[0;34m(\u001b[0m\u001b[0;34m-\u001b[0m\u001b[0mT\u001b[0m\u001b[0;34m*\u001b[0m\u001b[0;34m(\u001b[0m\u001b[0;36m7\u001b[0m\u001b[0;34m*\u001b[0m\u001b[0mpi\u001b[0m\u001b[0;34m)\u001b[0m\u001b[0;34m**\u001b[0m\u001b[0;36m2\u001b[0m\u001b[0;34m)\u001b[0m\u001b[0;34m*\u001b[0m\u001b[0mnp\u001b[0m\u001b[0;34m.\u001b[0m\u001b[0msin\u001b[0m\u001b[0;34m(\u001b[0m\u001b[0;36m7\u001b[0m\u001b[0;34m*\u001b[0m\u001b[0mpi\u001b[0m\u001b[0;34m*\u001b[0m\u001b[0mx\u001b[0m\u001b[0;34m)\u001b[0m \u001b[0;34m+\u001b[0m \u001b[0;34m(\u001b[0m\u001b[0;36m1\u001b[0m\u001b[0;34m/\u001b[0m\u001b[0;34m(\u001b[0m\u001b[0mkappa\u001b[0m\u001b[0;34m*\u001b[0m\u001b[0;36m25\u001b[0m\u001b[0;34m*\u001b[0m\u001b[0mpi\u001b[0m\u001b[0;34m**\u001b[0m\u001b[0;36m2\u001b[0m\u001b[0;34m)\u001b[0m\u001b[0;34m)\u001b[0m\u001b[0;34m*\u001b[0m\u001b[0mnp\u001b[0m\u001b[0;34m.\u001b[0m\u001b[0msin\u001b[0m\u001b[0;34m(\u001b[0m\u001b[0;36m5\u001b[0m\u001b[0;34m*\u001b[0m\u001b[0mpi\u001b[0m\u001b[0;34m*\u001b[0m\u001b[0mx\u001b[0m\u001b[0;34m)\u001b[0m\u001b[0;34m\u001b[0m\u001b[0;34m\u001b[0m\u001b[0m\n\u001b[0;32m----> 7\u001b[0;31m     \u001b[0mpl\u001b[0m\u001b[0;34m.\u001b[0m\u001b[0mplot\u001b[0m\u001b[0;34m(\u001b[0m\u001b[0mxx\u001b[0m\u001b[0;34m,\u001b[0m\u001b[0my\u001b[0m\u001b[0;34m,\u001b[0m\u001b[0;34m'b-'\u001b[0m\u001b[0;34m,\u001b[0m\u001b[0mlabel\u001b[0m\u001b[0;34m=\u001b[0m\u001b[0;34m'exact'\u001b[0m\u001b[0;34m)\u001b[0m\u001b[0;34m\u001b[0m\u001b[0;34m\u001b[0m\u001b[0m\n\u001b[0m\u001b[1;32m      8\u001b[0m \u001b[0mpl\u001b[0m\u001b[0;34m.\u001b[0m\u001b[0mtitle\u001b[0m\u001b[0;34m(\u001b[0m\u001b[0;34m'Varying the diffusion constant of the unhomogenous heat equation '\u001b[0m\u001b[0;34m)\u001b[0m\u001b[0;34m\u001b[0m\u001b[0;34m\u001b[0m\u001b[0m\n\u001b[1;32m      9\u001b[0m \u001b[0mpl\u001b[0m\u001b[0;34m.\u001b[0m\u001b[0mxlabel\u001b[0m\u001b[0;34m(\u001b[0m\u001b[0;34m'x'\u001b[0m\u001b[0;34m)\u001b[0m\u001b[0;34m\u001b[0m\u001b[0;34m\u001b[0m\u001b[0m\n",
      "\u001b[0;32m~/opt/anaconda3/lib/python3.8/site-packages/matplotlib/pyplot.py\u001b[0m in \u001b[0;36mplot\u001b[0;34m(scalex, scaley, data, *args, **kwargs)\u001b[0m\n\u001b[1;32m   2838\u001b[0m \u001b[0;34m@\u001b[0m\u001b[0m_copy_docstring_and_deprecators\u001b[0m\u001b[0;34m(\u001b[0m\u001b[0mAxes\u001b[0m\u001b[0;34m.\u001b[0m\u001b[0mplot\u001b[0m\u001b[0;34m)\u001b[0m\u001b[0;34m\u001b[0m\u001b[0;34m\u001b[0m\u001b[0m\n\u001b[1;32m   2839\u001b[0m \u001b[0;32mdef\u001b[0m \u001b[0mplot\u001b[0m\u001b[0;34m(\u001b[0m\u001b[0;34m*\u001b[0m\u001b[0margs\u001b[0m\u001b[0;34m,\u001b[0m \u001b[0mscalex\u001b[0m\u001b[0;34m=\u001b[0m\u001b[0;32mTrue\u001b[0m\u001b[0;34m,\u001b[0m \u001b[0mscaley\u001b[0m\u001b[0;34m=\u001b[0m\u001b[0;32mTrue\u001b[0m\u001b[0;34m,\u001b[0m \u001b[0mdata\u001b[0m\u001b[0;34m=\u001b[0m\u001b[0;32mNone\u001b[0m\u001b[0;34m,\u001b[0m \u001b[0;34m**\u001b[0m\u001b[0mkwargs\u001b[0m\u001b[0;34m)\u001b[0m\u001b[0;34m:\u001b[0m\u001b[0;34m\u001b[0m\u001b[0;34m\u001b[0m\u001b[0m\n\u001b[0;32m-> 2840\u001b[0;31m     return gca().plot(\n\u001b[0m\u001b[1;32m   2841\u001b[0m         \u001b[0;34m*\u001b[0m\u001b[0margs\u001b[0m\u001b[0;34m,\u001b[0m \u001b[0mscalex\u001b[0m\u001b[0;34m=\u001b[0m\u001b[0mscalex\u001b[0m\u001b[0;34m,\u001b[0m \u001b[0mscaley\u001b[0m\u001b[0;34m=\u001b[0m\u001b[0mscaley\u001b[0m\u001b[0;34m,\u001b[0m\u001b[0;34m\u001b[0m\u001b[0;34m\u001b[0m\u001b[0m\n\u001b[1;32m   2842\u001b[0m         **({\"data\": data} if data is not None else {}), **kwargs)\n",
      "\u001b[0;32m~/opt/anaconda3/lib/python3.8/site-packages/matplotlib/axes/_axes.py\u001b[0m in \u001b[0;36mplot\u001b[0;34m(self, scalex, scaley, data, *args, **kwargs)\u001b[0m\n\u001b[1;32m   1741\u001b[0m         \"\"\"\n\u001b[1;32m   1742\u001b[0m         \u001b[0mkwargs\u001b[0m \u001b[0;34m=\u001b[0m \u001b[0mcbook\u001b[0m\u001b[0;34m.\u001b[0m\u001b[0mnormalize_kwargs\u001b[0m\u001b[0;34m(\u001b[0m\u001b[0mkwargs\u001b[0m\u001b[0;34m,\u001b[0m \u001b[0mmlines\u001b[0m\u001b[0;34m.\u001b[0m\u001b[0mLine2D\u001b[0m\u001b[0;34m)\u001b[0m\u001b[0;34m\u001b[0m\u001b[0;34m\u001b[0m\u001b[0m\n\u001b[0;32m-> 1743\u001b[0;31m         \u001b[0mlines\u001b[0m \u001b[0;34m=\u001b[0m \u001b[0;34m[\u001b[0m\u001b[0;34m*\u001b[0m\u001b[0mself\u001b[0m\u001b[0;34m.\u001b[0m\u001b[0m_get_lines\u001b[0m\u001b[0;34m(\u001b[0m\u001b[0;34m*\u001b[0m\u001b[0margs\u001b[0m\u001b[0;34m,\u001b[0m \u001b[0mdata\u001b[0m\u001b[0;34m=\u001b[0m\u001b[0mdata\u001b[0m\u001b[0;34m,\u001b[0m \u001b[0;34m**\u001b[0m\u001b[0mkwargs\u001b[0m\u001b[0;34m)\u001b[0m\u001b[0;34m]\u001b[0m\u001b[0;34m\u001b[0m\u001b[0;34m\u001b[0m\u001b[0m\n\u001b[0m\u001b[1;32m   1744\u001b[0m         \u001b[0;32mfor\u001b[0m \u001b[0mline\u001b[0m \u001b[0;32min\u001b[0m \u001b[0mlines\u001b[0m\u001b[0;34m:\u001b[0m\u001b[0;34m\u001b[0m\u001b[0;34m\u001b[0m\u001b[0m\n\u001b[1;32m   1745\u001b[0m             \u001b[0mself\u001b[0m\u001b[0;34m.\u001b[0m\u001b[0madd_line\u001b[0m\u001b[0;34m(\u001b[0m\u001b[0mline\u001b[0m\u001b[0;34m)\u001b[0m\u001b[0;34m\u001b[0m\u001b[0;34m\u001b[0m\u001b[0m\n",
      "\u001b[0;32m~/opt/anaconda3/lib/python3.8/site-packages/matplotlib/axes/_base.py\u001b[0m in \u001b[0;36m__call__\u001b[0;34m(self, data, *args, **kwargs)\u001b[0m\n\u001b[1;32m    271\u001b[0m                 \u001b[0mthis\u001b[0m \u001b[0;34m+=\u001b[0m \u001b[0margs\u001b[0m\u001b[0;34m[\u001b[0m\u001b[0;36m0\u001b[0m\u001b[0;34m]\u001b[0m\u001b[0;34m,\u001b[0m\u001b[0;34m\u001b[0m\u001b[0;34m\u001b[0m\u001b[0m\n\u001b[1;32m    272\u001b[0m                 \u001b[0margs\u001b[0m \u001b[0;34m=\u001b[0m \u001b[0margs\u001b[0m\u001b[0;34m[\u001b[0m\u001b[0;36m1\u001b[0m\u001b[0;34m:\u001b[0m\u001b[0;34m]\u001b[0m\u001b[0;34m\u001b[0m\u001b[0;34m\u001b[0m\u001b[0m\n\u001b[0;32m--> 273\u001b[0;31m             \u001b[0;32myield\u001b[0m \u001b[0;32mfrom\u001b[0m \u001b[0mself\u001b[0m\u001b[0;34m.\u001b[0m\u001b[0m_plot_args\u001b[0m\u001b[0;34m(\u001b[0m\u001b[0mthis\u001b[0m\u001b[0;34m,\u001b[0m \u001b[0mkwargs\u001b[0m\u001b[0;34m)\u001b[0m\u001b[0;34m\u001b[0m\u001b[0;34m\u001b[0m\u001b[0m\n\u001b[0m\u001b[1;32m    274\u001b[0m \u001b[0;34m\u001b[0m\u001b[0m\n\u001b[1;32m    275\u001b[0m     \u001b[0;32mdef\u001b[0m \u001b[0mget_next_color\u001b[0m\u001b[0;34m(\u001b[0m\u001b[0mself\u001b[0m\u001b[0;34m)\u001b[0m\u001b[0;34m:\u001b[0m\u001b[0;34m\u001b[0m\u001b[0;34m\u001b[0m\u001b[0m\n",
      "\u001b[0;32m~/opt/anaconda3/lib/python3.8/site-packages/matplotlib/axes/_base.py\u001b[0m in \u001b[0;36m_plot_args\u001b[0;34m(self, tup, kwargs)\u001b[0m\n\u001b[1;32m    397\u001b[0m \u001b[0;34m\u001b[0m\u001b[0m\n\u001b[1;32m    398\u001b[0m         \u001b[0;32mif\u001b[0m \u001b[0mx\u001b[0m\u001b[0;34m.\u001b[0m\u001b[0mshape\u001b[0m\u001b[0;34m[\u001b[0m\u001b[0;36m0\u001b[0m\u001b[0;34m]\u001b[0m \u001b[0;34m!=\u001b[0m \u001b[0my\u001b[0m\u001b[0;34m.\u001b[0m\u001b[0mshape\u001b[0m\u001b[0;34m[\u001b[0m\u001b[0;36m0\u001b[0m\u001b[0;34m]\u001b[0m\u001b[0;34m:\u001b[0m\u001b[0;34m\u001b[0m\u001b[0;34m\u001b[0m\u001b[0m\n\u001b[0;32m--> 399\u001b[0;31m             raise ValueError(f\"x and y must have same first dimension, but \"\n\u001b[0m\u001b[1;32m    400\u001b[0m                              f\"have shapes {x.shape} and {y.shape}\")\n\u001b[1;32m    401\u001b[0m         \u001b[0;32mif\u001b[0m \u001b[0mx\u001b[0m\u001b[0;34m.\u001b[0m\u001b[0mndim\u001b[0m \u001b[0;34m>\u001b[0m \u001b[0;36m2\u001b[0m \u001b[0;32mor\u001b[0m \u001b[0my\u001b[0m\u001b[0;34m.\u001b[0m\u001b[0mndim\u001b[0m \u001b[0;34m>\u001b[0m \u001b[0;36m2\u001b[0m\u001b[0;34m:\u001b[0m\u001b[0;34m\u001b[0m\u001b[0;34m\u001b[0m\u001b[0m\n",
      "\u001b[0;31mValueError\u001b[0m: x and y must have same first dimension, but have shapes (20,) and (21,)"
     ]
    },
    {
     "data": {
      "image/png": "[encoded data removed]",
      "text/plain": [
       "<Figure size 432x288 with 1 Axes>"
      ]
     },
     "metadata": {
      "needs_background": "light"
     },
     "output_type": "display_data"
    }
   ],
   "source": [
    "L=1\n",
    "T = 0.5\n",
    "xx = np.linspace(0,1,20)\n",
    "Numerical_Continuation_kappa(1,0.5,u_I6, 0.1,2,0.1,args=(lambda x,t: np.sin(5*pi*x)), boundary_condition = 'rhs',mx=20,mt=1000)\n",
    "for kappa in np.arange(0.1,2,0.1):\n",
    "    y = 4*np.exp(-T*kappa*(3*pi)**2)*np.sin(3*pi*x) + (1/(25*kappa*pi**2))*np.exp(-T*kappa*(5*pi)**2)*np.sin(5*pi*x) + 9*np.exp(-T*(7*pi)**2)*np.sin(7*pi*x) + (1/(kappa*25*pi**2))*np.sin(5*pi*x)\n",
    "    pl.plot(xx,y,'b-',label='exact')\n",
    "pl.title('Varying the diffusion constant of the unhomogenous heat equation ')\n",
    "pl.xlabel('x')\n",
    "pl.ylabel('u(x,0.5)')\n",
    "\n"
   ]
  },
  {
   "cell_type": "code",
   "execution_count": 85,
   "id": "79316c0b",
   "metadata": {},
   "outputs": [
    {
     "data": {
      "text/plain": [
       "Text(0.5, 1.0, 'Varying the diffusion constant of the heat equation with homogenous dirichlet boundary ')"
      ]
     },
     "execution_count": 85,
     "metadata": {},
     "output_type": "execute_result"
    },
    {
     "data": {
      "image/png": "[encoded data removed]",
      "text/plain": [
       "<Figure size 432x288 with 1 Axes>"
      ]
     },
     "metadata": {
      "needs_background": "light"
     },
     "output_type": "display_data"
    }
   ],
   "source": [
    "L=1\n",
    "Numerical_Continuation_kappa(1, 0.5, u_I, 0, 2, 0.1, args=(lambda t:0, lambda t:0), boundary_condition='dirichlet', mx=20, mt=1000)\n",
    "xx = np.linspace(0,1,20)\n",
    "T = 0.5\n",
    "for kappa in np.arange(0,2,0.1):\n",
    "    y = np.exp(-kappa*(pi**2/L**2)*T)*np.sin(pi*xx/L)\n",
    "    pl.plot(xx,y,'b-',label='exact')\n",
    "pl.xlabel('x')\n",
    "pl.ylabel('u(x,0.5)')\n",
    "pl.title('Varying the diffusion constant of the heat equation with homogenous dirichlet boundary ')\n"
   ]
  },
  {
   "cell_type": "code",
   "execution_count": 86,
   "id": "1dce1fc6",
   "metadata": {},
   "outputs": [],
   "source": [
    "from operator import sub\n"
   ]
  },
  {
   "cell_type": "code",
   "execution_count": 87,
   "id": "402590ef",
   "metadata": {},
   "outputs": [],
   "source": [
    "def testing_dirichlet(solver,k,L,T,initial_condition,args, boundary_condition= 'Dirichlet',mx=20,mt=1000):\n",
    "    #(Hopf,phase_condition_func,(b,s)) = args\n",
    "    \n",
    "    # adding tests to check that the code handles errors gracefully\n",
    "   # if np.size(initial_guess) != 3:\n",
    "        #print(\"must specify 3 input arguments for a system of 2 ODE's\")\n",
    "    #else:\n",
    "    \n",
    "    root = solver(k,L,T,initial_condition,args=args, boundary_condition= boundary_condition,mx=mx,mt=mt)\n",
    "\n",
    "        \n",
    "    # defining the true solution\n",
    "    #true_sol = [np.sqrt(b)*np.cos(initial_guess[-1]+root[-1]), np.sqrt(b)*np.sin(initial_guess[-1]+root[-1])]\n",
    "    \n",
    "    n = []\n",
    "    for i in np.linspace(0,L,mx+1):\n",
    "        true_sol = 4*i - ((64/pi**3)*np.exp(T*(-9/4)*pi**2)*np.sin(pi*i/2))\n",
    "        n.append(true_sol)\n",
    "    \n",
    "    #n= np.array(n)\n",
    "    #root=np.array(root)\n",
    "        # calculating the error\n",
    "    #error = n-root\n",
    "    error = [a - b for a, b in zip(n, root)]\n",
    "    h = np.zeros(mx+1)\n",
    "   \n",
    "    if np.allclose(error,h,rtol=1e-04, atol=1e-04) == True:\n",
    "        result = print('Test passed')\n",
    "    else:\n",
    "        result = print('Test failed')\n",
    "    return "
   ]
  },
  {
   "cell_type": "code",
   "execution_count": 88,
   "id": "a3b4795a",
   "metadata": {},
   "outputs": [
    {
     "ename": "NameError",
     "evalue": "name 'testing' is not defined",
     "output_type": "error",
     "traceback": [
      "\u001b[0;31m---------------------------------------------------------------------------\u001b[0m",
      "\u001b[0;31mNameError\u001b[0m                                 Traceback (most recent call last)",
      "\u001b[0;32m<ipython-input-88-215e57800c8c>\u001b[0m in \u001b[0;36m<module>\u001b[0;34m\u001b[0m\n\u001b[1;32m      1\u001b[0m \u001b[0;31m# if the test has failed then the roots found are not within a tolerance of the true solution\u001b[0m\u001b[0;34m\u001b[0m\u001b[0;34m\u001b[0m\u001b[0;34m\u001b[0m\u001b[0m\n\u001b[0;32m----> 2\u001b[0;31m \u001b[0mtesting\u001b[0m\u001b[0;34m(\u001b[0m\u001b[0mPDE_solve_euler\u001b[0m\u001b[0;34m,\u001b[0m\u001b[0;36m9\u001b[0m\u001b[0;34m,\u001b[0m\u001b[0;36m2\u001b[0m\u001b[0;34m,\u001b[0m\u001b[0;36m0.5\u001b[0m\u001b[0;34m,\u001b[0m\u001b[0mu_I4\u001b[0m\u001b[0;34m,\u001b[0m\u001b[0margs\u001b[0m\u001b[0;34m=\u001b[0m\u001b[0;34m(\u001b[0m\u001b[0;32mlambda\u001b[0m \u001b[0mt\u001b[0m\u001b[0;34m:\u001b[0m\u001b[0;36m0\u001b[0m\u001b[0;34m,\u001b[0m \u001b[0;32mlambda\u001b[0m \u001b[0mt\u001b[0m\u001b[0;34m:\u001b[0m\u001b[0;36m8\u001b[0m\u001b[0;34m)\u001b[0m\u001b[0;34m,\u001b[0m \u001b[0mboundary_condition\u001b[0m\u001b[0;34m=\u001b[0m\u001b[0;34m'dirichlet'\u001b[0m\u001b[0;34m,\u001b[0m\u001b[0mmx\u001b[0m\u001b[0;34m=\u001b[0m\u001b[0;36m20\u001b[0m\u001b[0;34m,\u001b[0m\u001b[0mmt\u001b[0m\u001b[0;34m=\u001b[0m\u001b[0;36m1000\u001b[0m\u001b[0;34m)\u001b[0m\u001b[0;34m\u001b[0m\u001b[0;34m\u001b[0m\u001b[0m\n\u001b[0m",
      "\u001b[0;31mNameError\u001b[0m: name 'testing' is not defined"
     ]
    }
   ],
   "source": [
    "# if the test has failed then the roots found are not within a tolerance of the true solution\n",
    "testing(PDE_solve_euler,9,2,0.5,u_I4,args=(lambda t:0, lambda t:8), boundary_condition='dirichlet',mx=20,mt=1000)"
   ]
  },
  {
   "cell_type": "code",
   "execution_count": 89,
   "id": "b31fd11e",
   "metadata": {},
   "outputs": [],
   "source": [
    "def testing_periodic(solver,k,L,T,initial_condition,args, boundary_condition= 'Dirichlet',mx=20,mt=1000):\n",
    "    #(Hopf,phase_condition_func,(b,s)) = args\n",
    "    \n",
    "    # adding tests to check that the code handles errors gracefully\n",
    "   # if np.size(initial_guess) != 3:\n",
    "        #print(\"must specify 3 input arguments for a system of 2 ODE's\")\n",
    "    #else:\n",
    "    \n",
    "    root = solver(k,L,T,initial_condition,args=args, boundary_condition= boundary_condition,mx=mx,mt=mt)\n",
    "\n",
    "        \n",
    "    # defining the true solution\n",
    "    #true_sol = [np.sqrt(b)*np.cos(initial_guess[-1]+root[-1]), np.sqrt(b)*np.sin(initial_guess[-1]+root[-1])]\n",
    "    \n",
    "    n = []\n",
    "    for i in np.linspace(0,L,mx):\n",
    "        true_sol = np.exp(-4*T*pi**2)*np.cos(2*pi*i)\n",
    "        n.append(true_sol)\n",
    "    \n",
    "    #n= np.array(n)\n",
    "    #root=np.array(root)\n",
    "        # calculating the error\n",
    "    #error = n-root\n",
    "    error = [a - b for a, b in zip(n, root)]\n",
    "    h = np.zeros(mx)\n",
    "   \n",
    "    if np.allclose(error,h,rtol=1e-04, atol=1e-04) == True:\n",
    "        result = print('Test passed')\n",
    "    else:\n",
    "        result = print('Test failed')\n",
    "    return "
   ]
  },
  {
   "cell_type": "code",
   "execution_count": 90,
   "id": "bdd4e3bb",
   "metadata": {},
   "outputs": [
    {
     "name": "stdout",
     "output_type": "stream",
     "text": [
      "Test passed\n"
     ]
    }
   ],
   "source": [
    "testing_periodic(PDE_solve_euler,1,1,0.5,u_I7, args=(), boundary_condition = 'periodic')"
   ]
  },
  {
   "cell_type": "code",
   "execution_count": 203,
   "id": "34e91d4f",
   "metadata": {},
   "outputs": [],
   "source": [
    "def testing_neumann(solver,initial_condition,args, boundary_condition= 'Dirichlet',mx=20,mt=1000):\n",
    "    #(Hopf,phase_condition_func,(b,s)) = args\n",
    "    \n",
    "    # adding tests to check that the code handles errors gracefully\n",
    "   # if np.size(initial_guess) != 3:\n",
    "        #print(\"must specify 3 input arguments for a system of 2 ODE's\")\n",
    "    #else:\n",
    "    L = 2\n",
    "    T = 0.5\n",
    "    k=1\n",
    "    root = solver(k,L,T,initial_condition,args=args, boundary_condition= boundary_condition,mx=mx,mt=mt)\n",
    "   \n",
    "        \n",
    "    # defining the true solution\n",
    "    #true_sol = [np.sqrt(b)*np.cos(initial_guess[-1]+root[-1]), np.sqrt(b)*np.sin(initial_guess[-1]+root[-1])]\n",
    "    \n",
    "    n = []\n",
    "    for i in np.linspace(0,L,mx):\n",
    "        true_sol = 0.5*(5*(1-np.cos(2))) - ((20*np.cos(2) + 20)/(-4 + pi**2))*np.exp(-(pi**2)*T/2**2)*np.cos(pi*i/2)\n",
    "        n.append(true_sol)\n",
    "    \n",
    "    #n= np.array(n)\n",
    "    #root=np.array(root)\n",
    "        # calculating the error\n",
    "    #error = n-root\n",
    "    error = [a - b for a, b in zip(n, root)]\n",
    "    h = np.zeros(mx)\n",
    "   \n",
    "    if np.allclose(error,h,rtol=1e-01, atol=1e-01) == True:\n",
    "        result = print('Test passed')\n",
    "    else:\n",
    "        result = print('Test failed')\n",
    "    return root, n"
   ]
  },
  {
   "cell_type": "code",
   "execution_count": 204,
   "id": "1283bb47",
   "metadata": {},
   "outputs": [
    {
     "name": "stdout",
     "output_type": "stream",
     "text": [
      "Test passed\n"
     ]
    },
    {
     "data": {
      "text/plain": [
       "(array([2.9503798 , 2.95782542, 2.97995755, 3.01616917, 3.06547196,\n",
       "        3.12653016, 3.19770542, 3.2771103 , 3.36266805, 3.45217559,\n",
       "        3.54336718, 3.63397625, 3.72179326, 3.80471797, 3.88080502,\n",
       "        3.94830242, 4.00568278, 4.05166774, 4.0852463 , 4.10568792,\n",
       "        4.11255102]),\n",
       " [2.9610244962729078,\n",
       "  2.9689259741532874,\n",
       "  2.9924148760754643,\n",
       "  3.030850486026,\n",
       "  3.0831843807596,\n",
       "  3.147989028052214,\n",
       "  3.2234967260588068,\n",
       "  3.307647821611637,\n",
       "  3.3981468921895575,\n",
       "  3.4925253590606724,\n",
       "  3.588208823675039,\n",
       "  3.6825872905461536,\n",
       "  3.773086361124074,\n",
       "  3.8572374566769043,\n",
       "  3.9327451546834973,\n",
       "  3.9975498019761115,\n",
       "  4.049883696709712,\n",
       "  4.088319306660247,\n",
       "  4.111808208582424,\n",
       "  4.119709686462803])"
      ]
     },
     "execution_count": 204,
     "metadata": {},
     "output_type": "execute_result"
    }
   ],
   "source": [
    "testing_neumann(PDE_solve_euler,u_I3, args=(lambda t:0, lambda t:0), boundary_condition = 'neumann')"
   ]
  },
  {
   "cell_type": "code",
   "execution_count": 93,
   "id": "56515d3b",
   "metadata": {},
   "outputs": [],
   "source": [
    "def testing_s(solver,T,initial_condition,args, boundary_condition= 'Dirichlet',mx=20,mt=1000):\n",
    "    #(Hopf,phase_condition_func,(b,s)) = args\n",
    "    \n",
    "    # adding tests to check that the code handles errors gracefully\n",
    "   # if np.size(initial_guess) != 3:\n",
    "        #print(\"must specify 3 input arguments for a system of 2 ODE's\")\n",
    "    #else:\n",
    "    L = 1\n",
    "    k=2\n",
    "    root = solver(k,L,T,initial_condition,args=args, boundary_condition= boundary_condition,mx=mx,mt=mt)\n",
    "   \n",
    "        \n",
    "    # defining the true solution\n",
    "    #true_sol = [np.sqrt(b)*np.cos(initial_guess[-1]+root[-1]), np.sqrt(b)*np.sin(initial_guess[-1]+root[-1])]\n",
    "    \n",
    "    n = []\n",
    "    for i in np.linspace(0,L,mx):\n",
    "        true_sol = 4*np.sin(3*pi*i) + 9*np.sin(7*pi*i)\n",
    "        n.append(true_sol)\n",
    "    \n",
    "    #n= np.array(n)\n",
    "    #root=np.array(root)\n",
    "        # calculating the error\n",
    "    #error = n-root\n",
    "    error = [a - b for a, b in zip(n, root)]\n",
    "    h = np.zeros(mx)\n",
    "   \n",
    "    if np.allclose(error,h,rtol=1e-04, atol=1e-04) == True:\n",
    "        result = print('Test passed')\n",
    "    else:\n",
    "        result = print('Test failed')\n",
    "    return "
   ]
  },
  {
   "cell_type": "code",
   "execution_count": 94,
   "id": "5af012d6",
   "metadata": {},
   "outputs": [
    {
     "name": "stdout",
     "output_type": "stream",
     "text": [
      "Test failed\n"
     ]
    }
   ],
   "source": [
    "testing_s(PDE_solve_euler,0.5,u_I6, args=(lambda x,t: np.sin(5*pi*x)), boundary_condition = 'rhs',mx=20,mt=1000)\n",
    "# plotting the analytical solution"
   ]
  },
  {
   "cell_type": "code",
   "execution_count": 112,
   "id": "512acacc",
   "metadata": {},
   "outputs": [],
   "source": [
    "def testing_4(solver,T,initial_condition,args, boundary_condition= 'Dirichlet',mx=20,mt=1000):\n",
    "    #(Hopf,phase_condition_func,(b,s)) = args\n",
    "    \n",
    "    # adding tests to check that the code handles errors gracefully\n",
    "   # if np.size(initial_guess) != 3:\n",
    "        #print(\"must specify 3 input arguments for a system of 2 ODE's\")\n",
    "    #else:\n",
    "    L = 1\n",
    "    k=2\n",
    "    root = solver(k,L,T,initial_condition,args=args, boundary_condition= boundary_condition,mx=mx,mt=mt)\n",
    "   \n",
    "        \n",
    "    # defining the true solution\n",
    "    #true_sol = [np.sqrt(b)*np.cos(initial_guess[-1]+root[-1]), np.sqrt(b)*np.sin(initial_guess[-1]+root[-1])]\n",
    "    \n",
    "    n = []\n",
    "    for i in np.linspace(0,L,mx):\n",
    "        true_sol = y = 4*np.exp(-T*2*(3*pi)**2)*np.sin(3*pi*i) + (1/(25*2*pi**2))*np.exp(-T*2*(5*pi)**2)*np.sin(5*pi*i) + 9*np.exp(-T*(7*pi)**2)*np.sin(7*pi*i) + (1/(2*25*pi**2))*np.sin(5*pi*i)\n",
    "        n.append(true_sol)\n",
    "    \n",
    "    #n= np.array(n)\n",
    "    #root=np.array(root)\n",
    "        # calculating the error\n",
    "    #error = n-root\n",
    "    error = [a - b for a, b in zip(n, root)]\n",
    "    h = np.zeros(mx)\n",
    "   \n",
    "    if np.allclose(error,h,rtol=1e-02, atol=1e-02) == True:\n",
    "        result = print('Test passed')\n",
    "    else:\n",
    "        result = print('Test failed')\n",
    "    return "
   ]
  },
  {
   "cell_type": "code",
   "execution_count": 113,
   "id": "da8fa512",
   "metadata": {},
   "outputs": [
    {
     "name": "stdout",
     "output_type": "stream",
     "text": [
      "Test passed\n"
     ]
    }
   ],
   "source": [
    "testing_4(PDE_solve_euler,0.5,u_I6, args=(lambda x,t: np.sin(5*pi*x)), boundary_condition = 'rhs',mx=20,mt=1000)"
   ]
  },
  {
   "cell_type": "code",
   "execution_count": null,
   "id": "548a2578",
   "metadata": {},
   "outputs": [],
   "source": []
  },
  {
   "cell_type": "code",
   "execution_count": null,
   "id": "e8ed0ad5",
   "metadata": {},
   "outputs": [],
   "source": []
  }
 ],
 "metadata": {
  "kernelspec": {
   "display_name": "Python 3",
   "language": "python",
   "name": "python3"
  },
  "language_info": {
   "codemirror_mode": {
    "name": "ipython",
    "version": 3
   },
   "file_extension": ".py",
   "mimetype": "text/x-python",
   "name": "python",
   "nbconvert_exporter": "python",
   "pygments_lexer": "ipython3",
   "version": "3.8.8"
  }
 },
 "nbformat": 4,
 "nbformat_minor": 5
}
