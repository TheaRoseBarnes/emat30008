{
 "cells": [
  {
   "cell_type": "code",
   "execution_count": 13,
   "id": "d0e4618f",
   "metadata": {},
   "outputs": [],
   "source": [
    "# The algebraic cubic equation\n",
    "def cubic(x,c):\n",
    "    return x**3 - x + c "
   ]
  },
  {
   "cell_type": "code",
   "execution_count": 14,
   "id": "015526c9",
   "metadata": {},
   "outputs": [],
   "source": [
    "# importing relevant modules\n",
    "from scipy.integrate import odeint\n",
    "import numpy as np\n",
    "import matplotlib.pyplot as plt\n",
    "from scipy.optimize import fsolve\n",
    "from scipy.integrate import solve_ivp\n",
    "from scipy.optimize import fsolve\n",
    "import import_ipynb"
   ]
  },
  {
   "cell_type": "code",
   "execution_count": 15,
   "id": "407ee1ad",
   "metadata": {},
   "outputs": [],
   "source": [
    "# The Hopf bifurcation equations \n",
    "def Hopf(t,z,b,s):\n",
    "    u1, u2 = z[0], z[1]\n",
    "    return [b*u1 - u2 + s*u1*(u1**2 + u2**2), u1 + b*u2 + s*u2*(u1**2 +u2**2)]"
   ]
  },
  {
   "cell_type": "code",
   "execution_count": 16,
   "id": "cbeda1d0",
   "metadata": {},
   "outputs": [],
   "source": [
    "# The modified Hopf bifurcation equations \n",
    "def mod_Hopf(t,z,b,s):\n",
    "    u1, u2 = z[0], z[1]\n",
    "    return [b*u1 - u2 + s*u1*(u1**2 + u2**2) - u1*(u1**2 + u2**2)**2, u1 + b*u2 + s*u2*(u1**2 +u2**2) - u2*(u1**2 + u2**2)**2]"
   ]
  },
  {
   "cell_type": "code",
   "execution_count": 17,
   "id": "961df11b",
   "metadata": {},
   "outputs": [],
   "source": [
    "def phase_condition_func(func, u, T, args):\n",
    "    return func(T,u,*args)[0]"
   ]
  },
  {
   "cell_type": "code",
   "execution_count": 53,
   "id": "1eb8ea88",
   "metadata": {},
   "outputs": [],
   "source": [
    "#Construct the shooting root-finding problem\n",
    "def shooting(u0, function, phase_condition,args):\n",
    "    \"\"\"\n",
    "    A function that uses numerical shooting to find limit cycles of\n",
    "    a specified ODE.\n",
    "\n",
    "    Parameters\n",
    "    ----------\n",
    "     u0 : numpy.array\n",
    "        An initial guess at the initial values for the limit cycle.\n",
    "    \n",
    "    fun : function\n",
    "        The ODE to apply shooting to. The ode function should take\n",
    "        a single parameter (the state vector) and return the\n",
    "        right-hand side of the ODE as a numpy.array.\n",
    "    \n",
    "    phase_condition: function\n",
    "                    The phase condition for the limit cycle.\n",
    "        \n",
    "    args: tuple\n",
    "        arguments passed for the numerical shooting\n",
    "\n",
    "    Returns\n",
    "    -------\n",
    "    Returns a numpy.array containing the corrected initial values\n",
    "    for the limit cycle. If the numerical root finder failed, the\n",
    "    returned array is empty.\n",
    "    \"\"\"\n",
    "    \n",
    "    if callable(function) is not True:\n",
    "        error_message_fun = \"The input 'function' must be a callable function\"\n",
    "        print(error_message_fun)\n",
    "        return None\n",
    "    \n",
    "    #if isinstance(u0,list) is not True:\n",
    "       # error_message_guess = \"The initial guess u0 must be list. The period should be the last entry in the list\"\n",
    "       # print(error_message_guess)\n",
    "        #return None\n",
    "    \n",
    "    if callable(phase_condition) is not True:\n",
    "        error_message_phase = \"The input 'phase_condition' must be a callable function\"\n",
    "        print(error_message_phase)\n",
    "        return None\n",
    "    \n",
    "    if isinstance(args, (tuple, None)) is not True:\n",
    "        error_message_args = \"The arguments must be passed as a tuple\"\n",
    "        print(error_message_args)\n",
    "        return None\n",
    "\n",
    "    \n",
    "    u, T = u0[:-1], u0[-1]\n",
    "    sol = solve_ivp(function, (0,T), u, args = args, rtol = 1e-6)\n",
    "    final_states = sol.y[:,-1]\n",
    "    phase = np.array([phase_condition(function,u,T,args)])\n",
    "    return np.concatenate((u-final_states, phase))"
   ]
  },
  {
   "cell_type": "code",
   "execution_count": 54,
   "id": "2b916e21",
   "metadata": {},
   "outputs": [
    {
     "data": {
      "text/plain": [
       "array([ 1.41421405e+00, -1.96663379e-06,  6.28319044e+00])"
      ]
     },
     "execution_count": 54,
     "metadata": {},
     "output_type": "execute_result"
    }
   ],
   "source": [
    "#find the roots of the system of 2 ODE's with an initial guess\n",
    "from scipy.optimize import fsolve\n",
    "s=-1\n",
    "root = fsolve(shooting,[1,0,6.2],args = (Hopf,phase_condition_func, (2,s)))\n",
    "root"
   ]
  },
  {
   "cell_type": "code",
   "execution_count": 55,
   "id": "1a5860e5",
   "metadata": {},
   "outputs": [],
   "source": [
    "c=1\n",
    "b=1\n",
    "\n",
    "s=-1"
   ]
  },
  {
   "cell_type": "code",
   "execution_count": 56,
   "id": "82421dc2",
   "metadata": {},
   "outputs": [],
   "source": [
    "# for the cubic equation\n",
    "def Numerical_Continuation_x(initial_guess, fun, start, end, h, parameter):\n",
    "    \"\"\"\n",
    "    A function that performs natural parameter continution for specified\n",
    "    equations or ODE. For example, it increments a parameter by a set amount and\n",
    "    attempts to find the solution for the new parameter value using the \n",
    "    last found solution as an initial guess.\n",
    "\n",
    "    Parameters\n",
    "    ----------\n",
    "    initial_guess : np.array\n",
    "        The initial guess is an array of the initial guess values for the\n",
    "        equations followed by a period.\n",
    "        \n",
    "    fun : function\n",
    "        The ODE we wish to solve. The ode function should take\n",
    "        a single parameter (the state vector) and return the\n",
    "        right-hand side of the ODE as a numpy.array.\n",
    "    \n",
    "    start:  value(int or float)\n",
    "        The initial value for the parameter\n",
    "    \n",
    "    end: value(int or float)\n",
    "        The end value for the parameter\n",
    "    \n",
    "    h: value(int or float)\n",
    "        The step-size we wish to increment the parameter by\n",
    "        \n",
    "    parameter: variable name\n",
    "              The parameter for the ODE (fun) we wish to vary\n",
    "\n",
    "    Returns\n",
    "    -------\n",
    "    Returns a graph showing how the solution of the ODE/equations\n",
    "    changes as the parameter is incremented from start to end value.\n",
    "    \"\"\" \n",
    "    \n",
    "    x = []\n",
    "    y = []\n",
    "    period = []\n",
    "    for parameter in np.arange(start,end,h):\n",
    "        #root = fsolve(shooting,initial_guess,args = (equations, (b,s)))\n",
    "        root = fsolve(fun,initial_guess,args=(parameter))\n",
    "        initial_guess = root\n",
    "        x.append(root[0])\n",
    "        #y.append(root[1])\n",
    "        #period.append(root[2])\n",
    "    plt.xlabel('x')\n",
    "    plt.ylabel('solution')\n",
    "    plt.title('Natural parameter continuation of the cubic equation')\n",
    "    plot = plt.plot(np.arange(start,end,h), x)\n",
    "    #plot = plt.plot(np.arange(start,end,stepsize), y)\n",
    "    #plot = plt.plot(np.arange(start,end,stepsize), period)\n",
    "    plt.legend(['x','y','period'], loc = \"upper right\")\n",
    "    return \n",
    "    "
   ]
  },
  {
   "cell_type": "code",
   "execution_count": 57,
   "id": "556811c7",
   "metadata": {},
   "outputs": [
    {
     "name": "stderr",
     "output_type": "stream",
     "text": [
      "/Users/theabarnes/opt/anaconda3/lib/python3.8/site-packages/scipy/optimize/minpack.py:175: RuntimeWarning: The iteration is not making good progress, as measured by the \n",
      "  improvement from the last ten iterations.\n",
      "  warnings.warn(msg, RuntimeWarning)\n"
     ]
    },
    {
     "data": {
      "image/png": "[encoded data removed]",
      "text/plain": [
       "<Figure size 432x288 with 1 Axes>"
      ]
     },
     "metadata": {
      "needs_background": "light"
     },
     "output_type": "display_data"
    }
   ],
   "source": [
    "Numerical_Continuation_x(1, lambda x,c: x**3 - x + c , -2, 2, 0.1, c)"
   ]
  },
  {
   "cell_type": "code",
   "execution_count": 58,
   "id": "251f725b",
   "metadata": {},
   "outputs": [],
   "source": [
    "def Numerical_Continuation(initial_guess ,start, end, h, s, fun):\n",
    "    \"\"\"\n",
    "    A function that performs natural parameter continution for a system of\n",
    "    2 ODE's. It increments the parameter beta (b) by a set amount and\n",
    "    attempts to find the solution for the new parameter value using the \n",
    "    last found solution as an initial guess.\n",
    "\n",
    "    Parameters\n",
    "    ----------\n",
    "    initial_guess : np.array\n",
    "        The initial guess is an array of the initial guess values for the\n",
    "        equations followed by a period.\n",
    "        \n",
    "    fun : function\n",
    "        The ODE we wish to solve. The ode function should take\n",
    "        a single parameter (the state vector) and return the\n",
    "        right-hand side of the ODE as a numpy.array. Input 'Hopf'\n",
    "        or 'mod_Hopf'.\n",
    "    \n",
    "    start:  value(int or float)\n",
    "        The initial value for the parameter\n",
    "    \n",
    "    end: value(int or float)\n",
    "        The end value for the parameter\n",
    "    \n",
    "    h: value(int or float)\n",
    "        The step-size we wish to increment the parameter by. Note this\n",
    "        value should be negative if the start value is positive and the \n",
    "        end value is negative\n",
    "\n",
    "    Returns\n",
    "    -------\n",
    "    Returns a graph showing how the solution of the ODE/equations\n",
    "    changes as the value of beta (b) is incremented from start to end value.\n",
    "    \"\"\" \n",
    "    \n",
    "    if callable(fun) is not True:\n",
    "        error_message_fun = \"The input 'fun' must be a callable function\"\n",
    "        print(error_message_fun)\n",
    "        return None\n",
    "    \n",
    "    if isinstance(initial_guess,list) is not True:\n",
    "        error_message_guess = \"The initial guess must be list. The period should be the last entry in the list\"\n",
    "        print(error_message_guess)\n",
    "        return None\n",
    "    \n",
    "    if isinstance(start, (int,float)) is not True:\n",
    "        error_message_int = \"The values for start, end and stepsize must be integers\"\n",
    "        print(error_message_int)\n",
    "        return None\n",
    "    \n",
    "    if isinstance(end, (int,float)) is not True:\n",
    "        error_message_int = \"The values for start, end and stepsize must be integers\"\n",
    "        print(error_message_int)\n",
    "        return None\n",
    "    \n",
    "    if isinstance(h, (int,float)) is not True:\n",
    "        error_message_int = \"The values for start, end and stepsize must be integers\"\n",
    "        print(error_message_int)\n",
    "        return None\n",
    "    \n",
    "    if isinstance(s, (int,float)) is not True:\n",
    "        error_message_int = \"The values for start, end and stepsize must be integers\"\n",
    "        print(error_message_int)\n",
    "        return None\n",
    "    \n",
    "     \n",
    "    if fun == Hopf:\n",
    "        title = 'the Hopf bifurcation normal form'\n",
    "    elif fun == mod_Hopf:\n",
    "        title = 'the modified Hopf bifurcation normal form'\n",
    "    else:\n",
    "        raise ValueError(\"Invalid function. Please specify 'Hopf' or 'mod_Hopf'\")\n",
    "        \n",
    "        \n",
    "     \n",
    "    x = []\n",
    "    y = []\n",
    "    period = []\n",
    "\n",
    "    for b in np.arange(start,end,h):\n",
    "        root = fsolve(shooting,initial_guess,args = (fun, phase_condition_func, (b,s)))\n",
    "        initial_guess = root\n",
    "        x.append(root[0])\n",
    "        y.append(root[1])\n",
    "        period.append(root[2])\n",
    "     \n",
    "    plt.xlabel('\\u03B2')\n",
    "    plt.ylabel('solution')\n",
    "    plt.title(f'Natural parameter continuation of \\u03B2 for the {title} equations')\n",
    "    plot = plt.plot(np.arange(start,end,h), x)\n",
    "    plot = plt.plot(np.arange(start,end,h), y)\n",
    "    plt.legend(['x','y'], loc = \"upper right\")\n",
    "    return "
   ]
  },
  {
   "cell_type": "code",
   "execution_count": 59,
   "id": "079d3559",
   "metadata": {},
   "outputs": [
    {
     "data": {
      "image/png": "[encoded data removed]",
      "text/plain": [
       "<Figure size 432x288 with 1 Axes>"
      ]
     },
     "metadata": {
      "needs_background": "light"
     },
     "output_type": "display_data"
    }
   ],
   "source": [
    "Numerical_Continuation([1,0,6.2],0.1,2,0.1,-1,Hopf)"
   ]
  },
  {
   "cell_type": "code",
   "execution_count": 14,
   "id": "9b863621",
   "metadata": {
    "scrolled": true
   },
   "outputs": [
    {
     "name": "stderr",
     "output_type": "stream",
     "text": [
      "/Users/theabarnes/opt/anaconda3/lib/python3.8/site-packages/scipy/optimize/minpack.py:175: RuntimeWarning: The iteration is not making good progress, as measured by the \n",
      "  improvement from the last five Jacobian evaluations.\n",
      "  warnings.warn(msg, RuntimeWarning)\n"
     ]
    },
    {
     "data": {
      "image/png": "[encoded data removed]",
      "text/plain": [
       "<Figure size 576x432 with 1 Axes>"
      ]
     },
     "metadata": {
      "needs_background": "light"
     },
     "output_type": "display_data"
    }
   ],
   "source": [
    "Numerical_Continuation([1,0,6.2],2,-1,-0.1,b, -1,mod_Hopf)"
   ]
  },
  {
   "cell_type": "code",
   "execution_count": null,
   "id": "bfcdc869",
   "metadata": {},
   "outputs": [],
   "source": [
    "#Numerical continuation for Hopf bifurcation equations \n",
    "#increments the a parameter by a set amount and attempts to find the solution\n",
    "#for the new parameter value using the last found solution as an initial guess\n",
    "#phase_condition = 6.2\n",
    "#initial_guess=[1,0,phase_condition]\n",
    "#roots = []\n",
    "#for b in np.arange(0.1,2,0.1):\n",
    "    #root = fsolve(shooting,initial_guess,args = (Hopf, (b,s)))\n",
    "    #initial_guess = root\n",
    "    #roots.append(root)     "
   ]
  },
  {
   "cell_type": "code",
   "execution_count": null,
   "id": "76f95b1a",
   "metadata": {
    "scrolled": true
   },
   "outputs": [],
   "source": [
    "# Numerical continuation for modified Hopf bifurcation equations \n",
    "#increments the a parameter by a set amount and attempts to find the solution\n",
    "#for the new parameter value using the last found solution as an initial guess\n",
    "#phase_condition_1 = 6.2\n",
    "#initial_guess_1=[1,0,phase_condition_1]\n",
    "#roots_1 = []\n",
    "#for b in np.arange(2,-1,-0.1):\n",
    "    #root_1 = fsolve(shooting,initial_guess_1,args = (mod_Hopf, (b,s)))\n",
    "    #initial_guess_1 = root_1\n",
    "    #roots_1.append(root_1)  "
   ]
  },
  {
   "cell_type": "code",
   "execution_count": null,
   "id": "dc739d24",
   "metadata": {},
   "outputs": [],
   "source": [
    "#plt.plot(np.arange(0.1,2,0.1), roots)"
   ]
  },
  {
   "cell_type": "code",
   "execution_count": null,
   "id": "7ec5e3f7",
   "metadata": {},
   "outputs": [],
   "source": [
    "# The Hopf bifurcation equations with added pseudo-arclength equation\n",
    "#def Hopf(t,z,b,s):\n",
    "    #u1, u2 = z[0], z[1]\n",
    "    #u = z\n",
    "    #pseudo = deltau*(u-)\n",
    "    #return [b*u1 - u2 + s*u1*(u1**2 + u2**2), u1 + b*u2 + s*u2*(u1**2 +u2**2)], pseud"
   ]
  },
  {
   "cell_type": "code",
   "execution_count": null,
   "id": "de040a34",
   "metadata": {},
   "outputs": [],
   "source": [
    "# perform pseudo-arclength continuation\n",
    "# solve for when the pseudo-arclength equation is:\n",
    "#deltau*(u-u_)+ deltap*(p-p_) = 0\n",
    "\n",
    "# The pseduo-arclength equation is:\n",
    "#deltav*(v-v_) = 0\n",
    "#u = v[0]\n",
    "#p = v[1]"
   ]
  }
 ],
 "metadata": {
  "kernelspec": {
   "display_name": "Python 3",
   "language": "python",
   "name": "python3"
  },
  "language_info": {
   "codemirror_mode": {
    "name": "ipython",
    "version": 3
   },
   "file_extension": ".py",
   "mimetype": "text/x-python",
   "name": "python",
   "nbconvert_exporter": "python",
   "pygments_lexer": "ipython3",
   "version": "3.8.8"
  }
 },
 "nbformat": 4,
 "nbformat_minor": 5
}
