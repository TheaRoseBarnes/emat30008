{
 "cells": [
  {
   "cell_type": "code",
   "execution_count": 1,
   "id": "4ab9d99b",
   "metadata": {},
   "outputs": [],
   "source": [
    "# simple forward Euler solver for the 1D heat equation\n",
    "#   u_t = kappa u_xx  0<x<L, 0<t<T\n",
    "# with zero-temperature boundary conditions\n",
    "#   u=0 at x=0,L, t>0\n",
    "# and prescribed initial temperature\n",
    "#   u=u_I(x) 0<=x<=L,t=0"
   ]
  },
  {
   "cell_type": "code",
   "execution_count": 2,
   "id": "b5241108",
   "metadata": {},
   "outputs": [],
   "source": [
    "import numpy as np\n",
    "import pylab as pl\n",
    "from math import pi\n",
    "from scipy.sparse import diags"
   ]
  },
  {
   "cell_type": "code",
   "execution_count": 3,
   "id": "7041d20e",
   "metadata": {},
   "outputs": [],
   "source": [
    "# Set problem parameters/functions\n",
    "kappa = 1.0  # diffusion constant\n",
    "L=1.0         # length of spatial domain\n",
    "T=0.5       # total time to solve for"
   ]
  },
  {
   "cell_type": "code",
   "execution_count": 4,
   "id": "3fc17e7a",
   "metadata": {},
   "outputs": [],
   "source": [
    "def u_I(x):\n",
    "    # initial temperature distribution\n",
    "    y = np.sin(pi*x/L)\n",
    "    return y"
   ]
  },
  {
   "cell_type": "code",
   "execution_count": 5,
   "id": "92c5ae8e",
   "metadata": {},
   "outputs": [],
   "source": [
    "# change the initial condition — for example, to u(x, 0) = sinp(πx) for some integer p\n",
    "p = 2\n",
    "def u_I2(x):\n",
    "    #initial temperature distribution\n",
    "    y = (np.sin(pi*x))**p\n",
    "    return y"
   ]
  },
  {
   "cell_type": "code",
   "execution_count": 6,
   "id": "b233977f",
   "metadata": {},
   "outputs": [],
   "source": [
    "def u_exact(x,t):\n",
    "    # the exact solution\n",
    "    y = np.exp(-kappa*(pi**2/L**2)*t)*np.sin(pi*x/L) \n",
    "    return y"
   ]
  },
  {
   "cell_type": "code",
   "execution_count": 7,
   "id": "c925547a",
   "metadata": {},
   "outputs": [],
   "source": [
    "# differentiated version of u\n",
    "def u_diff(x,t):\n",
    "    dudx = (pi*np.exp(-kappa*(pi**2/L**2)*t)*np.cos(pi*x/L))/L\n",
    "    return dudx\n",
    "   "
   ]
  },
  {
   "cell_type": "code",
   "execution_count": 8,
   "id": "7e099334",
   "metadata": {},
   "outputs": [],
   "source": [
    "# Set numerical parameters\n",
    "mx = 10  # number of gridpoints in space\n",
    "mt = 1000  # number of gridpoints in time"
   ]
  },
  {
   "cell_type": "code",
   "execution_count": 9,
   "id": "2d1a965f",
   "metadata": {},
   "outputs": [
    {
     "name": "stdout",
     "output_type": "stream",
     "text": [
      "deltax= 0.1\n",
      "deltat= 0.0005\n",
      "lambda= 0.04999999999999999\n"
     ]
    }
   ],
   "source": [
    "# Set up the numerical environment variables\n",
    "x = np.linspace(0, L, mx+1)     # mesh points in space\n",
    "t = np.linspace(0, T, mt+1)     # mesh points in time\n",
    "deltax = x[1] - x[0]            # gridspacing in x\n",
    "deltat = t[1] - t[0]            # gridspacing in t\n",
    "lmbda = kappa*deltat/(deltax**2)    # mesh fourier number\n",
    "print(\"deltax=\",deltax)\n",
    "print(\"deltat=\",deltat)\n",
    "print(\"lambda=\",lmbda)"
   ]
  },
  {
   "cell_type": "code",
   "execution_count": 10,
   "id": "df77f151",
   "metadata": {},
   "outputs": [],
   "source": [
    "# Set up the solution variables\n",
    "u_j = np.zeros(x.size)        # u at current time step\n",
    "u_jp1 = np.zeros(x.size)      # u at next time step"
   ]
  },
  {
   "cell_type": "code",
   "execution_count": 11,
   "id": "9199ec74",
   "metadata": {},
   "outputs": [],
   "source": [
    "# Set initial condition\n",
    "for i in range(0, mx+1):\n",
    "    u_j[i] = u_I(x[i])"
   ]
  },
  {
   "cell_type": "code",
   "execution_count": null,
   "id": "6311527d",
   "metadata": {},
   "outputs": [],
   "source": [
    "# non-homogenous Dirichlet boundary condition\n",
    "def p(t):\n",
    "    return 0.7*t\n",
    "\n",
    "def q(t):\n",
    "    return 0.7*t\n",
    "    "
   ]
  },
  {
   "cell_type": "code",
   "execution_count": null,
   "id": "5c55c17a",
   "metadata": {},
   "outputs": [],
   "source": [
    "# neumann boundary conditions\n",
    "def P(t):\n",
    "    return u_diff(0,t)\n",
    "\n",
    "def Q(t):\n",
    "    return u_diff(L,t)"
   ]
  },
  {
   "cell_type": "code",
   "execution_count": null,
   "id": "e46c111a",
   "metadata": {},
   "outputs": [],
   "source": [
    "def u_I(x):\n",
    "    # initial temperature distribution\n",
    "    y = np.sin(pi*x/L)\n",
    "    return y"
   ]
  },
  {
   "cell_type": "code",
   "execution_count": null,
   "id": "17ea8a64",
   "metadata": {},
   "outputs": [],
   "source": [
    "# function to solve PDE using euler method\n",
    "def PDE_solve_euler(mt,mx,boundary_condition, initial_condition):\n",
    "    u_j = np.zeros(x.size)        # u at current time step\n",
    "    u_jp1 = np.zeros(x.size)      # u at next time step\n",
    "    # u at next time step\n",
    "    # Set initial condition\n",
    "    for i in range(0, mx+1):\n",
    "        u_j[i] = initial_condition(x[i])\n",
    "    u_jp1 = np.zeros((mx+1,1))\n",
    "    k = [lmbda*np.ones(mx-2),(1-2*lmbda)*np.ones(mx-1),lmbda*np.ones(mx-2)]\n",
    "    offset = [-1,0,1]\n",
    "    A = diags(k,offset).toarray()\n",
    "\n",
    "\n",
    "    for j in range(0, mt):\n",
    "        u_jp1[1:-1] = np.matmul(A , u_j[1:-1]).reshape(9,1)\n",
    "        u_j = u_jp1\n",
    "    \n",
    "    return u_j"
   ]
  },
  {
   "cell_type": "code",
   "execution_count": null,
   "id": "2346079e",
   "metadata": {},
   "outputs": [],
   "source": [
    "# function to solve PDE using euler method\n",
    "def PDE_solve_euler_1(mt,mx,boundary_condition, initial_condition):\n",
    "    # u at next time step\n",
    "    # Set initial condition\n",
    "    for i in range(0, mx+1):\n",
    "        u_j[i] = initial_condition(x[i])\n",
    "    \n",
    "    for j in range(0, mt):\n",
    "    # Forward Euler timestep at inner mesh points\n",
    "    # PDE discretised at position x[i], time t[j]\n",
    "        for i in range(1, mx):\n",
    "            u_jp1[i] = u_j[i] + lmbda*(u_j[i-1] - 2*u_j[i] + u_j[i+1])\n",
    "        # Boundary conditions\n",
    "        u_jp1[0] = boundary_condition[0]; u_jp1[mx] = boundary_condition[1]\n",
    "        u_j[:] = u_jp1[:]\n",
    "    return u_j"
   ]
  },
  {
   "cell_type": "code",
   "execution_count": null,
   "id": "823a1ea8",
   "metadata": {},
   "outputs": [],
   "source": [
    "# Plot the final result and exact solution for forward euler\n",
    "pl.plot(x,PDE_solve_euler(1000,10,[0,0],u_I),'ro',label='num')\n",
    "#xx = np.linspace(0,L,250)\n",
    "#pl.plot(xx,u_exact(xx,T),'b-',label='exact')\n",
    "pl.xlabel('x')\n",
    "pl.ylabel('u(x,0.5)')\n",
    "pl.legend(loc='upper right')\n",
    "pl.show"
   ]
  },
  {
   "cell_type": "code",
   "execution_count": null,
   "id": "6a94d41d",
   "metadata": {},
   "outputs": [],
   "source": [
    "# Solve the PDE: loop over all time points using forward euler\n",
    "for j in range(0, mt):\n",
    "    # Forward Euler timestep at inner mesh points\n",
    "    # PDE discretised at position x[i], time t[j]\n",
    "    for i in range(1, mx):\n",
    "        u_jp1[i] = u_j[i] + lmbda*(u_j[i-1] - 2*u_j[i] + u_j[i+1])\n",
    "        \n",
    "        # added equations for Dirichlet boundary condition\n",
    "        #u_jp1[1] = u_j[1] + lmbda*(-2*u_j[1] + u_j[2]) + lmbda*p(t[j])\n",
    "        #u_jp1[mx-1] = u_j[mx-1] + lmbda*(u_j[mx-2] - 2*u_j[mx-1]) + lmbda*q(t[j])\n",
    "        \n",
    "        # added equations for Neumann boundary condition\n",
    "        #u_jp1[0] = u_j[0] + lmbda*(-2*u_j[0] + 2*u_j[1]) -2*lmbda*deltax*P(t[j])\n",
    "        #u_jp1[mx] = u_j[mx] + lmbda*(2*u_j[mx-1] - 2*u_j[mx]) + 2*lmbda*deltax*Q(t[j])\n",
    "        \n",
    "        \n",
    "    # Boundary conditions\n",
    "    u_jp1[0] = 0; u_jp1[mx] = 0\n",
    "    \n",
    "    # Boundary conditions for Neumann\n",
    "    \n",
    "    \n",
    "    # Boundary conditions for dirichlet\n",
    "    #u_jp1[0] = p(t[j+1]); u_jp1[mx] = q(t[j+1])\n",
    "    \n",
    "    # Save u_j at time t[j+1]\n",
    "    u_j[:] = u_jp1[:]"
   ]
  },
  {
   "cell_type": "code",
   "execution_count": null,
   "id": "f04d0757",
   "metadata": {},
   "outputs": [],
   "source": [
    "# Plot the final result and exact solution for forward euler\n",
    "pl.plot(x,u_j,'ro',label='num')\n",
    "xx = np.linspace(0,L,250)\n",
    "pl.plot(xx,u_exact(xx,T),'b-',label='exact')\n",
    "pl.xlabel('x')\n",
    "pl.ylabel('u(x,0.5)')\n",
    "pl.legend(loc='upper right')\n",
    "pl.show"
   ]
  },
  {
   "cell_type": "code",
   "execution_count": null,
   "id": "ce0aa16e",
   "metadata": {},
   "outputs": [],
   "source": [
    "# The forward euler is unstable when lambda > 1/2 "
   ]
  },
  {
   "cell_type": "code",
   "execution_count": null,
   "id": "1d572c02",
   "metadata": {},
   "outputs": [],
   "source": [
    "# steady state of the PDE problem is zero"
   ]
  },
  {
   "cell_type": "code",
   "execution_count": null,
   "id": "b5b420c3",
   "metadata": {
    "scrolled": true
   },
   "outputs": [],
   "source": [
    "# plot in 3d (not sure if this is working currently)\n",
    "# Data for three-dimensional scattered points\n",
    "#import matplotlib.pyplot as plt\n",
    "#ax = plt.axes(projection='3d')\n",
    "#ax.scatter3D(xx,u_exact(xx,t), t, cmap='greens',label='exact');\n",
    "#ax.scatter3D(x,u_j,mt, cmap='greens', label='num');\n",
    "#ax.xlabel('x')\n",
    "#ax.ylabel('u(x,0.5)')\n",
    "#ax.zlabel('t')\n",
    "\n",
    "#ax.set_xlabel('x')\n",
    "#ax.set_ylabel('u(x,0.5)')\n",
    "#ax.set_zlabel('t')\n",
    "#ax.legend(loc='upper right')\n",
    "#plt.show\n"
   ]
  },
  {
   "cell_type": "code",
   "execution_count": 12,
   "id": "cbdf66f0",
   "metadata": {},
   "outputs": [
    {
     "name": "stdout",
     "output_type": "stream",
     "text": [
      "[[0.9  0.05 0.   0.   0.   0.   0.   0.   0.  ]\n",
      " [0.05 0.9  0.05 0.   0.   0.   0.   0.   0.  ]\n",
      " [0.   0.05 0.9  0.05 0.   0.   0.   0.   0.  ]\n",
      " [0.   0.   0.05 0.9  0.05 0.   0.   0.   0.  ]\n",
      " [0.   0.   0.   0.05 0.9  0.05 0.   0.   0.  ]\n",
      " [0.   0.   0.   0.   0.05 0.9  0.05 0.   0.  ]\n",
      " [0.   0.   0.   0.   0.   0.05 0.9  0.05 0.  ]\n",
      " [0.   0.   0.   0.   0.   0.   0.05 0.9  0.05]\n",
      " [0.   0.   0.   0.   0.   0.   0.   0.05 0.9 ]]\n",
      "[0.00000000e+00 3.09016994e-01 5.87785252e-01 8.09016994e-01\n",
      " 9.51056516e-01 1.00000000e+00 9.51056516e-01 8.09016994e-01\n",
      " 5.87785252e-01 3.09016994e-01 1.22464680e-16]\n",
      "[[0.]\n",
      " [0.]\n",
      " [0.]\n",
      " [0.]\n",
      " [0.]\n",
      " [0.]\n",
      " [0.]\n",
      " [0.]\n",
      " [0.]\n",
      " [0.]\n",
      " [0.]]\n",
      "[0.  0.1 0.2 0.3 0.4 0.5 0.6 0.7 0.8 0.9 1. ]\n",
      "[[0.        ]\n",
      " [0.00228652]\n",
      " [0.00434922]\n",
      " [0.00598619]\n",
      " [0.00703719]\n",
      " [0.00739934]\n",
      " [0.00703719]\n",
      " [0.00598619]\n",
      " [0.00434922]\n",
      " [0.00228652]\n",
      " [0.        ]]\n"
     ]
    },
    {
     "data": {
      "text/plain": [
       "<function matplotlib.pyplot.show(close=None, block=None)>"
      ]
     },
     "execution_count": 12,
     "metadata": {},
     "output_type": "execute_result"
    },
    {
     "data": {
      "image/png": "[encoded data removed]",
      "text/plain": [
       "<Figure size 432x288 with 1 Axes>"
      ]
     },
     "metadata": {
      "needs_background": "light"
     },
     "output_type": "display_data"
    }
   ],
   "source": [
    "# experiment\n",
    "\n",
    "\n",
    "\n",
    "u_jp1 = np.zeros((mx+1,1))\n",
    "k = [lmbda*np.ones(mx-2),(1-2*lmbda)*np.ones(mx-1),lmbda*np.ones(mx-2)]\n",
    "offset = [-1,0,1]\n",
    "A = diags(k,offset).toarray()\n",
    "\n",
    "print(A)\n",
    "print(u_j)\n",
    "print(u_jp1)\n",
    "\n",
    "for j in range(0, mt):\n",
    "    u_jp1[1:-1] = np.matmul(A , u_j[1:-1]).reshape(9,1)\n",
    "    u_j = u_jp1\n",
    "\n",
    "\n",
    "print(x)\n",
    "print(u_j)\n",
    "    \n",
    "pl.plot(x,u_j,'ro',label='num')\n",
    "xx = np.linspace(0,L,250)\n",
    "pl.plot(xx,u_exact(xx,T),'b-',label='exact')\n",
    "pl.xlabel('x')\n",
    "pl.ylabel('u(x,0.5)')\n",
    "pl.legend(loc='upper right')\n",
    "pl.show\n",
    " "
   ]
  },
  {
   "cell_type": "code",
   "execution_count": null,
   "id": "4fbf72bb",
   "metadata": {},
   "outputs": [],
   "source": [
    "# neumann boundary condition matrix form using forward euler\n",
    "u_jp1 = np.zeros((mx+1,1))\n",
    "k = [lmbda*np.ones(mx),(1-2*lmbda)*np.ones(mx+1),lmbda*np.ones(mx)]\n",
    "offset = [-1,0,1]\n",
    "A = diags(k,offset).toarray()\n",
    "A[0,1] = 2*lmbda\n",
    "A[-1,-2] = 2*lmbda\n",
    "s = np.zeros((mx+1,1))\n",
    "print(A)\n",
    "\n",
    "for j in range(0, mt): \n",
    "    s[0] = -P(t[j])\n",
    "    s[-1] = Q(t[j])\n",
    "\n",
    "    u_jp1 = np.matmul(A , u_j).reshape(11,1) + 2*lmbda*deltax*s\n",
    "    u_j = u_jp1\n",
    "    \n",
    "    \n",
    "# Plot the final result and exact solution for forward euler\n",
    "pl.plot(x,u_j,'ro',label='num')\n",
    "xx = np.linspace(0,L,250)\n",
    "pl.plot(xx,u_exact(xx,T),'b-',label='exact')\n",
    "pl.xlabel('x')\n",
    "pl.ylabel('u(x,0.5)')\n",
    "pl.legend(loc='upper right')\n",
    "pl.show"
   ]
  },
  {
   "cell_type": "code",
   "execution_count": null,
   "id": "02cb0084",
   "metadata": {},
   "outputs": [],
   "source": [
    "# dirichlet boundary condition matrix form using forward euler\n",
    "u_jp1 = np.zeros((mx+1,1))\n",
    "k = [lmbda*np.ones(mx-2),(1-2*lmbda)*np.ones(mx-1),lmbda*np.ones(mx-2)]\n",
    "offset = [-1,0,1]\n",
    "A = diags(k,offset).toarray()\n",
    "s = np.zeros((mx-1,1))\n",
    "\n",
    "\n",
    "for j in range(0, mt):\n",
    "    s[0] = p(t[j])\n",
    "    s[-1] = q(t[j])\n",
    "    \n",
    "    \n",
    "    u_jp1[1:-1] = np.matmul(A , u_j[1:-1]).reshape(9,1) + lmbda*s\n",
    "    \n",
    "    u_jp1[0] = p(t[j+1]); u_jp1[mx] = q(t[j+1])\n",
    "    \n",
    "    u_j = u_jp1\n",
    "    \n",
    "    \n",
    "# Plot the final result and exact solution for forward euler\n",
    "pl.plot(x,u_j,'ro',label='num')\n",
    "xx = np.linspace(0,L,250)\n",
    "pl.plot(xx,u_exact(xx,T),'b-',label='exact')\n",
    "pl.xlabel('x')\n",
    "pl.ylabel('u(x,0.5)')\n",
    "pl.legend(loc='upper right')\n",
    "pl.show\n",
    " "
   ]
  },
  {
   "cell_type": "code",
   "execution_count": null,
   "id": "6ff0e7f1",
   "metadata": {},
   "outputs": [],
   "source": [
    "# dirichlet boundary condition matrix form using forward euler\n",
    "u_jp1 = np.zeros((mx+1,1))\n",
    "k = [lmbda*np.ones(mx-2),(1-2*lmbda)*np.ones(mx-1),lmbda*np.ones(mx-2)]\n",
    "offset = [-1,0,1]\n",
    "A = diags(k,offset).toarray()\n",
    "\n",
    "s = np.zeros((mx-1,1))\n",
    "\n",
    "A[-1,0] = lmbda\n",
    "A[0,-1] = lmbda\n",
    "print(A)\n",
    "print(mx)"
   ]
  },
  {
   "cell_type": "code",
   "execution_count": 20,
   "id": "86c90119",
   "metadata": {},
   "outputs": [
    {
     "data": {
      "text/plain": [
       "<function matplotlib.pyplot.show(close=None, block=None)>"
      ]
     },
     "execution_count": 20,
     "metadata": {},
     "output_type": "execute_result"
    },
    {
     "data": {
      "image/png": "[encoded data removed]",
      "text/plain": [
       "<Figure size 432x288 with 1 Axes>"
      ]
     },
     "metadata": {
      "needs_background": "light"
     },
     "output_type": "display_data"
    }
   ],
   "source": [
    "# experiment - periodic boundary (unsure if it works)\n",
    "\n",
    "#u_j = np.zeros(mx) \n",
    "u_j = np.zeros(mx)    \n",
    "# Set initial condition\n",
    "for i in range(0, mx):\n",
    "    u_j[i] = u_I(x[i])\n",
    "u_jp1 = np.zeros((mx+1,1))\n",
    "k = [lmbda*np.ones(mx-1),(1-2*lmbda)*np.ones(mx),lmbda*np.ones(mx-1)]\n",
    "offset = [-1,0,1]\n",
    "A = diags(k,offset).toarray()\n",
    "A[-1,0] = lmbda\n",
    "A[0,-1] = lmbda\n",
    "\n",
    "\n",
    "\n",
    "for j in range(0, mt):\n",
    "    u_jp1 = np.matmul(A , u_j)\n",
    "    u_j = u_jp1\n",
    "\n",
    "x = np.linspace(0, L, mx)\n",
    "pl.plot(x ,u_j,'ro',label='num')\n",
    "xx = np.linspace(0,L,250)\n",
    "pl.plot(xx,u_exact(xx,T),'b-',label='exact')\n",
    "pl.xlabel('x')\n",
    "pl.ylabel('u(x,0.5)')\n",
    "pl.legend(loc='upper right')\n",
    "pl.show\n",
    " "
   ]
  },
  {
   "cell_type": "code",
   "execution_count": null,
   "id": "ec056a05",
   "metadata": {},
   "outputs": [],
   "source": [
    "# function to solve PDE using euler method\n",
    "def PDE_solve_euler(mt,mx,boundary_condition, initial_condition,args=(),dirichlet=None,neumann=None):\n",
    "    \n",
    "    \"\"\"\n",
    "    A function that the euler method to solve the 1D heat equation.\n",
    "\n",
    "    Parameters\n",
    "    ----------\n",
    "     mt : \n",
    "     \n",
    "     mx :\n",
    "     \n",
    "     boundary_condition:\n",
    "     \n",
    "     initial_condition:\n",
    "     \n",
    "     args: \n",
    "     \n",
    "     dirichlet:\n",
    "     \n",
    "     neumann\n",
    "       \n",
    "\n",
    "    Returns\n",
    "    -------\n",
    "   \n",
    "    \"\"\"\n",
    "    \n",
    "    u_j = np.zeros(x.size)        # u at current time step\n",
    "    u_jp1 = np.zeros((mx+1,1))\n",
    "    k = [lmbda*np.ones(mx-2),(1-2*lmbda)*np.ones(mx-1),lmbda*np.ones(mx-2)]\n",
    "    offset = [-1,0,1]\n",
    "    A = diags(k,offset).toarray()\n",
    "\n",
    "\n",
    "    # u at next time step\n",
    "    # Set initial condition\n",
    "    for i in range(0, mx+1):\n",
    "        u_j[i] = initial_condition(x[i])\n",
    "    \n",
    "  \n",
    "    for j in range(0, mt):\n",
    "        if dirichlet!=None:\n",
    "            s = np.zeros((mx-1,1))\n",
    "            s[0] = p(t[j])\n",
    "            s[-1] = q(t[j])\n",
    "            #u_j = dirichlet(A,s,u_j,u_jp1)\n",
    "            u_j = dirichlet(A, u_j,s,u_jp1,args=args)\n",
    "            \n",
    "        elif periodic!=None:\n",
    "            A[-1,0] = lmbda\n",
    "            A[0,-1] = lmbda\n",
    "            \n",
    "        elif neumann!=None:\n",
    "            k = [lmbda*np.ones(mx),(1-2*lmbda)*np.ones(mx+1),lmbda*np.ones(mx)]\n",
    "            offset = [-1,0,1]\n",
    "            A = diags(k,offset).toarray()\n",
    "            A[0,1] = 2*lmbda\n",
    "            A[-1,-2] = 2*lmbda\n",
    "            s = np.zeros((mx+1,1))\n",
    "\n",
    "            s[0] = -P(t[j])\n",
    "            s[-1] = Q(t[j])\n",
    "            u_j = neumann(A,s,u_j,args=args)\n",
    "            \n",
    "        else:\n",
    "            u_jp1[1:-1] = np.matmul(A , u_j[1:-1]).reshape(9,1)\n",
    "            u_j = u_jp1\n",
    "    \n",
    "    return u_j"
   ]
  },
  {
   "cell_type": "code",
   "execution_count": null,
   "id": "7cf7f9f7",
   "metadata": {},
   "outputs": [],
   "source": [
    "# Plot the final result and exact solution for forward euler\n",
    "pl.plot(x,PDE_solve_euler(1000,10,[0,0],u_I,args=(lambda t:u_diff(0,t),lambda t:u_diff(L,t)),dirichlet=None,neumann=None),'ro',label='num')\n",
    "xx = np.linspace(0,L,250)\n",
    "pl.plot(xx,u_exact(xx,T),'b-',label='exact')\n",
    "pl.xlabel('x')\n",
    "pl.ylabel('u(x,0.5)')\n",
    "pl.legend(loc='upper right')\n",
    "pl.show\n",
    " "
   ]
  },
  {
   "cell_type": "code",
   "execution_count": null,
   "id": "b08196c9",
   "metadata": {},
   "outputs": [],
   "source": [
    "#def dirichlet_boundary(A,s,u_j,u_jp1):\n",
    "def dirichlet_boundary(A, u_j,s,u_jp1,args):\n",
    "    p= args[0] \n",
    "    q = args[1]                   \n",
    "    u_jp1[1:-1] = np.matmul(A , u_j[1:-1]).reshape(9,1) + lmbda*s\n",
    "    u_jp1[0] = p(t[j+1]); u_jp1[mx] = q(t[j+1])\n",
    "    u_j = u_jp1\n",
    "    return  u_j\n",
    "    "
   ]
  },
  {
   "cell_type": "code",
   "execution_count": null,
   "id": "0d5665ea",
   "metadata": {},
   "outputs": [],
   "source": [
    "def Neumann_boundary(A,s,u_j,args):\n",
    "    P = args[0]\n",
    "    Q = args[1]\n",
    "    u_jp1 = np.matmul(A , u_j).reshape(11,1) + 2*lmbda*deltax*s\n",
    "    u_j = u_jp1\n",
    "    return u_j\n",
    "    "
   ]
  },
  {
   "cell_type": "code",
   "execution_count": null,
   "id": "1f4a8b98",
   "metadata": {},
   "outputs": [],
   "source": [
    "# function to solve PDE using backward euler method\n",
    "def PDE_solve_back_euler(mt,mx,boundary_condition, initial_condition):\n",
    "    u_j = np.zeros(x.size)        # u at current time step\n",
    "    u_jp1 = np.zeros(x.size)      # u at next time step\n",
    "    # u at next time step\n",
    "    # Set initial condition\n",
    "    for i in range(0, mx+1):\n",
    "        u_j[i] = initial_condition(x[i])\n",
    "    u_jp1 = np.zeros((mx+1,1))\n",
    "    k = [-lmbda*np.ones(mx-2),(1+2*lmbda)*np.ones(mx-1),-lmbda*np.ones(mx-2)]\n",
    "    offset = [-1,0,1]\n",
    "    A_BE = diags(k,offset).toarray()\n",
    "    \n",
    "    for j in range(0, mt):\n",
    "        u_jp1[1:-1] = np.linalg.solve(A_BE , u_j[1:-1]).reshape(9,1)\n",
    "        u_j = u_jp1\n",
    "    return u_j"
   ]
  },
  {
   "cell_type": "code",
   "execution_count": null,
   "id": "a9898dc6",
   "metadata": {},
   "outputs": [],
   "source": [
    "# function to solve PDE using euler method\n",
    "def PDE_solve_crank(mt,mx,boundary_condition, initial_condition):\n",
    "    u_j = np.zeros(x.size)        # u at current time step\n",
    "    u_jp1 = np.zeros(x.size)      # u at next time step\n",
    "    # u at next time step\n",
    "    # Set initial condition\n",
    "    for i in range(0, mx+1):\n",
    "        u_j[i] = initial_condition(x[i])\n",
    "    u_jp1 = np.zeros((mx+1,1))\n",
    "    k = [(-lmbda/2)*np.ones(mx-2),(1+lmbda)*np.ones(mx-1),(-lmbda/2)*np.ones(mx-2)]\n",
    "    f = [(lmbda/2)*np.ones(mx-2),(1-lmbda)*np.ones(mx-1),(lmbda/2)*np.ones(mx-2)]\n",
    "    offset = [-1,0,1]\n",
    "    A_CN = diags(k,offset).toarray()\n",
    "    B_CN = diags(f,offset).toarray()\n",
    "    for j in range(0, mt):\n",
    "        b = np.matmul(B_CN , u_j[1:-1]).reshape(9,1)\n",
    "        u_jp1[1:-1] = np.linalg.solve(A_CN,b)\n",
    "        u_j = u_jp1\n",
    "    return u_j"
   ]
  },
  {
   "cell_type": "code",
   "execution_count": null,
   "id": "deaed8a6",
   "metadata": {},
   "outputs": [],
   "source": [
    "# Plot the final result and exact solution for  back forward euler\n",
    "pl.plot(x,PDE_solve_crank(1000,10,[0,0],u_I),'ro',label='num')\n",
    "xx = np.linspace(0,L,250)\n",
    "pl.plot(xx,u_exact(xx,T),'b-',label='exact')\n",
    "pl.xlabel('x')\n",
    "pl.ylabel('u(x,0.5)')\n",
    "pl.legend(loc='upper right')\n",
    "pl.show"
   ]
  },
  {
   "cell_type": "code",
   "execution_count": null,
   "id": "086b67e2",
   "metadata": {},
   "outputs": [],
   "source": [
    "def finite_diff(kappa, L, T, method = 'Forward-Euler'):\n",
    "    \n",
    "    \n",
    "    # Set numerical parameters\n",
    "    mx = 10  # number of gridpoints in space\n",
    "    mt = 1000  # number of gridpoints in time\n",
    "    \n",
    "    # Set up the numerical environment variables\n",
    "    x = np.linspace(0, L, mx+1)     # mesh points in space\n",
    "    t = np.linspace(0, T, mt+1)     # mesh points in time\n",
    "    deltax = x[1] - x[0]            # gridspacing in x\n",
    "    deltat = t[1] - t[0]            # gridspacing in t\n",
    "    lmbda = kappa*deltat/(deltax**2)    # mesh fourier number\n",
    "\n",
    "    \n",
    "    # Set up the solution variables\n",
    "    u_j = np.zeros(x.size)        # u at current time step\n",
    "    u_jp1 = np.zeros(x.size)      # u at next time step\n",
    "    \n",
    "    # Set initial condition\n",
    "    for i in range(0, mx+1):\n",
    "        u_j[i] = u_I(x[i])\n",
    "    \n",
    "    if method == 'Forward-Euler':\n",
    "        u_jp1 = np.zeros((mx+1,1))\n",
    "        k = [lmbda*np.ones(mx-2),(1-2*lmbda)*np.ones(mx-1),lmbda*np.ones(mx-2)]\n",
    "        offset = [-1,0,1]\n",
    "        A = diags(k,offset).toarray()\n",
    "\n",
    "\n",
    "        for j in range(0, mt):\n",
    "            u_jp1[1:-1] = np.matmul(A , u_j[1:-1]).reshape(9,1)\n",
    "            u_j = u_jp1\n",
    "            \n",
    "    elif method == 'Backward-Euler':\n",
    "        u_jp1 = np.zeros((mx+1,1))\n",
    "        k = [-lmbda*np.ones(mx-2),(1+2*lmbda)*np.ones(mx-1),-lmbda*np.ones(mx-2)]\n",
    "        offset = [-1,0,1]\n",
    "        A_BE = diags(k,offset).toarray()\n",
    "\n",
    "\n",
    "        for j in range(0, mt):\n",
    "            u_jp1[1:-1] = np.linalg.solve(A_BE , u_j[1:-1]).reshape(9,1)\n",
    "            u_j = u_jp1\n",
    "    \n",
    "    elif method == 'Crank-Nicholson':\n",
    "        u_jp1 = np.zeros((mx+1,1))\n",
    "        k = [(-lmbda/2)*np.ones(mx-2),(1+lmbda)*np.ones(mx-1),(-lmbda/2)*np.ones(mx-2)]\n",
    "        f = [(lmbda/2)*np.ones(mx-2),(1-lmbda)*np.ones(mx-1),(lmbda/2)*np.ones(mx-2)]\n",
    "        offset = [-1,0,1]\n",
    "        A_CN = diags(k,offset).toarray()\n",
    "        B_CN = diags(f,offset).toarray()\n",
    "\n",
    "\n",
    "        for j in range(0, mt):\n",
    "            b = np.matmul(B_CN , u_j[1:-1]).reshape(9,1)\n",
    "            u_jp1[1:-1] = np.linalg.solve(A_CN,b)\n",
    "            u_j = u_jp1\n",
    "            \n",
    "    else:\n",
    "        raise ValueError(\"Invalid method, please input 'Forward-Euler', 'Backward-Euler' or 'Crank-Nicholson'.\")\n",
    "        \n",
    "        \n",
    "    pl.plot(x,u_j,'ro',label='num')\n",
    "    xx = np.linspace(0,L,250)\n",
    "    pl.plot(xx,u_exact(xx,T),'b-',label='exact')\n",
    "    pl.xlabel('x')\n",
    "    pl.ylabel('u(x,0.5)')\n",
    "    pl.legend(loc='upper right')\n",
    "    pl.show\n",
    "        \n",
    "    return x, u_j"
   ]
  },
  {
   "cell_type": "code",
   "execution_count": null,
   "id": "96495144",
   "metadata": {},
   "outputs": [],
   "source": [
    "finite_diff(1,1,0.5,method = 'Crank-Nicholson')"
   ]
  },
  {
   "cell_type": "code",
   "execution_count": null,
   "id": "69e77024",
   "metadata": {},
   "outputs": [],
   "source": [
    "# Adapt your numerical continuation code (from the ODEs part of the course) so that it can also\n",
    "#track, under variations of a parameter in the system, steady-states of second-order diffusive PDEs."
   ]
  },
  {
   "cell_type": "code",
   "execution_count": null,
   "id": "b859dd33",
   "metadata": {},
   "outputs": [],
   "source": [
    "def Numerical_Continuation(initial_guess,start, end, h, fun='Hopf'):\n",
    "    \"\"\"\n",
    "    A function that performs natural parameter continution for a system of\n",
    "    2 ODE's. It increments the parameter beta (b) by a set amount and\n",
    "    attempts to find the solution for the new parameter value using the \n",
    "    last found solution as an initial guess.\n",
    "\n",
    "    Parameters\n",
    "    ----------\n",
    "    initial_guess : np.array\n",
    "        The initial guess is an array of the initial guess values for the\n",
    "        equations followed by a period.\n",
    "        \n",
    "    fun : function\n",
    "        The ODE we wish to solve. The ode function should take\n",
    "        a single parameter (the state vector) and return the\n",
    "        right-hand side of the ODE as a numpy.array. Input 'Hopf'\n",
    "        or 'mod_Hopf'.\n",
    "    \n",
    "    start:  value(int or float)\n",
    "        The initial value for the parameter\n",
    "    \n",
    "    end: value(int or float)\n",
    "        The end value for the parameter\n",
    "    \n",
    "    h: value(int or float)\n",
    "        The step-size we wish to increment the parameter by. Note this\n",
    "        value should be negative if the start value is positive and the \n",
    "        end value is negative\n",
    "\n",
    "    Returns\n",
    "    -------\n",
    "    Returns a graph showing how the solution of the ODE/equations\n",
    "    changes as the value of beta (b) is incremented from start to end value.\n",
    "    \"\"\" \n",
    "    if fun == Hopf:\n",
    "        title = 'the Hopf bifurcation normal form'\n",
    "    elif fun == mod_Hopf:\n",
    "        title = 'the modified Hopf bifurcation normal form'\n",
    "    else:\n",
    "        raise ValueError(\"Invalid function. Please specify 'Hopf' or 'mod_Hopf'\")\n",
    "        \n",
    "        \n",
    "        \n",
    "    x = []\n",
    "    y = []\n",
    "    period = []\n",
    "    for b in np.arange(start,end,h):\n",
    "        root = fsolve(shooting,initial_guess,args = (fun, phase_condition_func, (b,s)))\n",
    "        initial_guess = root\n",
    "        x.append(root[0])\n",
    "        y.append(root[1])\n",
    "        period.append(root[2])\n",
    "    \n",
    "    fig=plt.figure(figsize=(8,6))   \n",
    "    plt.xlabel('\\u03B2')\n",
    "    plt.ylabel('solution')\n",
    "    plt.title(f'Natural parameter continuation of \\u03B2 for the {title} equations')\n",
    "    plot = plt.plot(np.arange(start,end,h), x)\n",
    "    plot = plt.plot(np.arange(start,end,h), y)\n",
    "    plot = plt.plot(np.arange(start,end,h), period)\n",
    "    plt.legend(['x','y','period'], loc = \"upper right\")\n",
    "    return "
   ]
  }
 ],
 "metadata": {
  "kernelspec": {
   "display_name": "Python 3",
   "language": "python",
   "name": "python3"
  },
  "language_info": {
   "codemirror_mode": {
    "name": "ipython",
    "version": 3
   },
   "file_extension": ".py",
   "mimetype": "text/x-python",
   "name": "python",
   "nbconvert_exporter": "python",
   "pygments_lexer": "ipython3",
   "version": "3.8.8"
  }
 },
 "nbformat": 4,
 "nbformat_minor": 5
}
