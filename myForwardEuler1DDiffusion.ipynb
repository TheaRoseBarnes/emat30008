{
 "cells": [
  {
   "cell_type": "code",
   "execution_count": 1,
   "id": "4ab9d99b",
   "metadata": {},
   "outputs": [],
   "source": [
    "# simple forward Euler solver for the 1D heat equation\n",
    "#   u_t = kappa u_xx  0<x<L, 0<t<T\n",
    "# with zero-temperature boundary conditions\n",
    "#   u=0 at x=0,L, t>0\n",
    "# and prescribed initial temperature\n",
    "#   u=u_I(x) 0<=x<=L,t=0"
   ]
  },
  {
   "cell_type": "code",
   "execution_count": 2,
   "id": "b5241108",
   "metadata": {},
   "outputs": [],
   "source": [
    "import numpy as np\n",
    "import pylab as pl\n",
    "from math import pi\n",
    "from scipy.sparse import diags"
   ]
  },
  {
   "cell_type": "code",
   "execution_count": 3,
   "id": "7041d20e",
   "metadata": {},
   "outputs": [],
   "source": [
    "# Set problem parameters/functions\n",
    "kappa = 1.0  # diffusion constant\n",
    "L=1.0         # length of spatial domain\n",
    "T=0.5       # total time to solve for"
   ]
  },
  {
   "cell_type": "code",
   "execution_count": 4,
   "id": "3fc17e7a",
   "metadata": {},
   "outputs": [],
   "source": [
    "def u_I(x):\n",
    "    # initial temperature distribution\n",
    "    y = np.sin(pi*x/L)\n",
    "    return y"
   ]
  },
  {
   "cell_type": "code",
   "execution_count": 5,
   "id": "92c5ae8e",
   "metadata": {},
   "outputs": [],
   "source": [
    "# change the initial condition — for example, to u(x, 0) = sinp(πx) for some integer p\n",
    "#p = 2\n",
    "#def u_I(x):\n",
    "    # initial temperature distribution\n",
    "    #y = (np.sin(pi*x))**p\n",
    "    #return y"
   ]
  },
  {
   "cell_type": "code",
   "execution_count": 6,
   "id": "b233977f",
   "metadata": {},
   "outputs": [],
   "source": [
    "def u_exact(x,t):\n",
    "    # the exact solution\n",
    "    y = np.exp(-kappa*(pi**2/L**2)*t)*np.sin(pi*x/L) \n",
    "    return y"
   ]
  },
  {
   "cell_type": "code",
   "execution_count": 7,
   "id": "408ef2db",
   "metadata": {},
   "outputs": [],
   "source": [
    "# differentiated version of u\n",
    "def u_diff(x,t):\n",
    "    dudx = (pi*np.exp(-kappa*(pi**2/L**2)*t)*np.cos(pi*x/L))/L\n",
    "    return dudx\n",
    "   "
   ]
  },
  {
   "cell_type": "code",
   "execution_count": 8,
   "id": "7e099334",
   "metadata": {},
   "outputs": [],
   "source": [
    "# Set numerical parameters\n",
    "mx = 10  # number of gridpoints in space\n",
    "mt = 1000  # number of gridpoints in time"
   ]
  },
  {
   "cell_type": "code",
   "execution_count": null,
   "id": "2d1a965f",
   "metadata": {},
   "outputs": [],
   "source": [
    "# Set up the numerical environment variables\n",
    "x = np.linspace(0, L, mx+1)     # mesh points in space\n",
    "t = np.linspace(0, T, mt+1)     # mesh points in time\n",
    "deltax = x[1] - x[0]            # gridspacing in x\n",
    "deltat = t[1] - t[0]            # gridspacing in t\n",
    "lmbda = kappa*deltat/(deltax**2)    # mesh fourier number\n",
    "print(\"deltax=\",deltax)\n",
    "print(\"deltat=\",deltat)\n",
    "print(\"lambda=\",lmbda)"
   ]
  },
  {
   "cell_type": "code",
   "execution_count": null,
   "id": "df77f151",
   "metadata": {},
   "outputs": [],
   "source": [
    "# Set up the solution variables\n",
    "u_j = np.zeros(x.size)        # u at current time step\n",
    "u_jp1 = np.zeros(x.size)      # u at next time step"
   ]
  },
  {
   "cell_type": "code",
   "execution_count": null,
   "id": "9199ec74",
   "metadata": {},
   "outputs": [],
   "source": [
    "# Set initial condition\n",
    "for i in range(0, mx+1):\n",
    "    u_j[i] = u_I(x[i])"
   ]
  },
  {
   "cell_type": "code",
   "execution_count": null,
   "id": "6311527d",
   "metadata": {},
   "outputs": [],
   "source": [
    "# non-homogenous Dirichlet boundary condition\n",
    "def p(t):\n",
    "    return 0.5 \n",
    "\n",
    "def q(t):\n",
    "    return 0.5\n",
    "    "
   ]
  },
  {
   "cell_type": "code",
   "execution_count": null,
   "id": "6761d937",
   "metadata": {},
   "outputs": [],
   "source": [
    "def P(t):\n",
    "    return u_diff(0,t)\n",
    "\n",
    "def Q(t):\n",
    "    return u_diff(L,t)"
   ]
  },
  {
   "cell_type": "code",
   "execution_count": null,
   "id": "6a94d41d",
   "metadata": {},
   "outputs": [],
   "source": [
    "# Solve the PDE: loop over all time points using forward euler\n",
    "for j in range(0, mt):\n",
    "    # Forward Euler timestep at inner mesh points\n",
    "    # PDE discretised at position x[i], time t[j]\n",
    "    for i in range(1, mx):\n",
    "        u_jp1[i] = u_j[i] + lmbda*(u_j[i-1] - 2*u_j[i] + u_j[i+1])\n",
    "        \n",
    "        # added equations for Dirichlet boundary condition\n",
    "        #u_jp1[1] = u_j[1] + lmbda*(-2*u_j[1] + u_j[2]) + lmbda*p(t[j])\n",
    "        #u_jp1[mx-1] = u_j[mx-1] + lmbda*(u_j[mx-2] - 2*u_j[mx-1]) + lmbda*q(t[j])\n",
    "        \n",
    "        # added equations for Neumann boundary condition\n",
    "        u_jp1[0] = u_j[0] + lmbda*(-2*u_j[0] + 2*u_j[1]) -2*lmbda*deltax*P(t[j])\n",
    "        u_jp1[mx] = u_j[mx] + lmbda*(2*u_j[mx-1] - 2*u_j[mx]) + 2*lmbda*deltax*Q(t[j])\n",
    "        \n",
    "        \n",
    "    # Boundary conditions\n",
    "    #u_jp1[0] = 0; u_jp1[mx] = 0\n",
    "    \n",
    "    # Boundary conditions for Neumann\n",
    "    \n",
    "    \n",
    "    # Boundary conditions for dirichlet\n",
    "    #u_jp1[0] = p(t[j+1]); u_jp1[mx] = q(t[j+1])\n",
    "    \n",
    "    # Save u_j at time t[j+1]\n",
    "    u_j[:] = u_jp1[:]"
   ]
  },
  {
   "cell_type": "code",
   "execution_count": null,
   "id": "f04d0757",
   "metadata": {},
   "outputs": [],
   "source": [
    "# Plot the final result and exact solution for forward euler\n",
    "pl.plot(x,u_j,'ro',label='num')\n",
    "xx = np.linspace(0,L,250)\n",
    "pl.plot(xx,u_exact(xx,T),'b-',label='exact')\n",
    "pl.xlabel('x')\n",
    "pl.ylabel('u(x,0.5)')\n",
    "pl.legend(loc='upper right')\n",
    "pl.show"
   ]
  },
  {
   "cell_type": "code",
   "execution_count": null,
   "id": "ce0aa16e",
   "metadata": {},
   "outputs": [],
   "source": [
    "# The forward euler is unstable when lambda > 1/2 "
   ]
  },
  {
   "cell_type": "code",
   "execution_count": null,
   "id": "1d572c02",
   "metadata": {},
   "outputs": [],
   "source": [
    "# steady state of the PDE problem is zero"
   ]
  },
  {
   "cell_type": "code",
   "execution_count": null,
   "id": "b5b420c3",
   "metadata": {
    "scrolled": true
   },
   "outputs": [],
   "source": [
    "# plot in 3d (not sure if this is working currently)\n",
    "# Data for three-dimensional scattered points\n",
    "import matplotlib.pyplot as plt\n",
    "ax = plt.axes(projection='3d')\n",
    "ax.scatter3D(xx,u_exact(xx,t), t, cmap='greens',label='exact');\n",
    "#ax.scatter3D(x,u_j,mt, cmap='greens', label='num');\n",
    "#ax.xlabel('x')\n",
    "#ax.ylabel('u(x,0.5)')\n",
    "#ax.zlabel('t')\n",
    "\n",
    "ax.set_xlabel('x')\n",
    "ax.set_ylabel('u(x,0.5)')\n",
    "ax.set_zlabel('t')\n",
    "ax.legend(loc='upper right')\n",
    "plt.show\n"
   ]
  },
  {
   "cell_type": "code",
   "execution_count": null,
   "id": "4fbf72bb",
   "metadata": {},
   "outputs": [],
   "source": [
    "# neumann boundary condition matrix form using forward euler\n",
    "u_jp1 = np.zeros((mx+1,1))\n",
    "k = [lmbda*np.ones(mx),(1-2*lmbda)*np.ones(mx+1),lmbda*np.ones(mx)]\n",
    "offset = [-1,0,1]\n",
    "A = diags(k,offset).toarray()\n",
    "A[0,1] = 2*lmbda\n",
    "A[-1,-2] = 2*lmbda\n",
    "s = np.zeros((mx+1,1))\n",
    "\n",
    "for j in range(0, mt): \n",
    "    s[0] = -P(t[j])\n",
    "    s[-1] = Q(t[j])\n",
    "\n",
    "    u_jp1 = np.matmul(A , u_j).reshape(11,1) + 2*lmbda*deltax*s\n",
    "    u_j = u_jp1"
   ]
  },
  {
   "cell_type": "code",
   "execution_count": null,
   "id": "46b75f55",
   "metadata": {},
   "outputs": [],
   "source": [
    "# dirichlet boundary condition matrix form \n"
   ]
  },
  {
   "cell_type": "code",
   "execution_count": null,
   "id": "deaed8a6",
   "metadata": {},
   "outputs": [],
   "source": [
    "# Plot the final result and exact solution for forward euler\n",
    "pl.plot(x,u_j,'ro',label='num')\n",
    "xx = np.linspace(0,L,250)\n",
    "pl.plot(xx,u_exact(xx,T),'b-',label='exact')\n",
    "pl.xlabel('x')\n",
    "pl.ylabel('u(x,0.5)')\n",
    "pl.legend(loc='upper right')\n",
    "pl.show"
   ]
  },
  {
   "cell_type": "code",
   "execution_count": 20,
   "id": "086b67e2",
   "metadata": {},
   "outputs": [],
   "source": [
    "def finite_diff(kappa, L, T, method = 'Forward-Euler'):\n",
    "    \n",
    "    \n",
    "    # Set numerical parameters\n",
    "    mx = 10  # number of gridpoints in space\n",
    "    mt = 1000  # number of gridpoints in time\n",
    "    \n",
    "    # Set up the numerical environment variables\n",
    "    x = np.linspace(0, L, mx+1)     # mesh points in space\n",
    "    t = np.linspace(0, T, mt+1)     # mesh points in time\n",
    "    deltax = x[1] - x[0]            # gridspacing in x\n",
    "    deltat = t[1] - t[0]            # gridspacing in t\n",
    "    lmbda = kappa*deltat/(deltax**2)    # mesh fourier number\n",
    "\n",
    "    \n",
    "    # Set up the solution variables\n",
    "    u_j = np.zeros(x.size)        # u at current time step\n",
    "    u_jp1 = np.zeros(x.size)      # u at next time step\n",
    "    \n",
    "    # Set initial condition\n",
    "    for i in range(0, mx+1):\n",
    "        u_j[i] = u_I(x[i])\n",
    "    \n",
    "    if method == 'Forward-Euler':\n",
    "        u_jp1 = np.zeros((mx+1,1))\n",
    "        k = [lmbda*np.ones(mx-2),(1-2*lmbda)*np.ones(mx-1),lmbda*np.ones(mx-2)]\n",
    "        offset = [-1,0,1]\n",
    "        A = diags(k,offset).toarray()\n",
    "\n",
    "\n",
    "        for j in range(0, mt):\n",
    "            u_jp1[1:-1] = np.matmul(A , u_j[1:-1]).reshape(9,1)\n",
    "            u_j = u_jp1\n",
    "            \n",
    "    elif method == 'Backward-Euler':\n",
    "        u_jp1 = np.zeros((mx+1,1))\n",
    "        k = [-lmbda*np.ones(mx-2),(1+2*lmbda)*np.ones(mx-1),-lmbda*np.ones(mx-2)]\n",
    "        offset = [-1,0,1]\n",
    "        A_BE = diags(k,offset).toarray()\n",
    "\n",
    "\n",
    "        for j in range(0, mt):\n",
    "            u_jp1[1:-1] = np.linalg.solve(A_BE , u_j[1:-1]).reshape(9,1)\n",
    "            u_j = u_jp1\n",
    "    \n",
    "    elif method == 'Crank-Nicholson':\n",
    "        u_jp1 = np.zeros((mx+1,1))\n",
    "        k = [(-lmbda/2)*np.ones(mx-2),(1+lmbda)*np.ones(mx-1),(-lmbda/2)*np.ones(mx-2)]\n",
    "        f = [(lmbda/2)*np.ones(mx-2),(1-lmbda)*np.ones(mx-1),(lmbda/2)*np.ones(mx-2)]\n",
    "        offset = [-1,0,1]\n",
    "        A_CN = diags(k,offset).toarray()\n",
    "        B_CN = diags(f,offset).toarray()\n",
    "\n",
    "\n",
    "        for j in range(0, mt):\n",
    "            b = np.matmul(B_CN , u_j[1:-1]).reshape(9,1)\n",
    "            u_jp1[1:-1] = np.linalg.solve(A_CN,b)\n",
    "            u_j = u_jp1\n",
    "            \n",
    "    else:\n",
    "        raise ValueError(\"Invalid method, please input 'Forward-Euler', 'Backward-Euler' or 'Crank-Nicholson'.\")\n",
    "        \n",
    "        \n",
    "    pl.plot(x,u_j,'ro',label='num')\n",
    "    xx = np.linspace(0,L,250)\n",
    "    pl.plot(xx,u_exact(xx,T),'b-',label='exact')\n",
    "    pl.xlabel('x')\n",
    "    pl.ylabel('u(x,0.5)')\n",
    "    pl.legend(loc='upper right')\n",
    "    pl.show\n",
    "        \n",
    "    return "
   ]
  },
  {
   "cell_type": "code",
   "execution_count": 21,
   "id": "37543349",
   "metadata": {},
   "outputs": [
    {
     "data": {
      "image/png": "[encoded data removed]",
      "text/plain": [
       "<Figure size 432x288 with 1 Axes>"
      ]
     },
     "metadata": {
      "needs_background": "light"
     },
     "output_type": "display_data"
    }
   ],
   "source": [
    "finite_diff(1,1,0.5,method = 'Crank-Nicholson')"
   ]
  },
  {
   "cell_type": "code",
   "execution_count": null,
   "id": "4091fbe0",
   "metadata": {},
   "outputs": [],
   "source": []
  }
 ],
 "metadata": {
  "kernelspec": {
   "display_name": "Python 3",
   "language": "python",
   "name": "python3"
  },
  "language_info": {
   "codemirror_mode": {
    "name": "ipython",
    "version": 3
   },
   "file_extension": ".py",
   "mimetype": "text/x-python",
   "name": "python",
   "nbconvert_exporter": "python",
   "pygments_lexer": "ipython3",
   "version": "3.8.8"
  }
 },
 "nbformat": 4,
 "nbformat_minor": 5
}
