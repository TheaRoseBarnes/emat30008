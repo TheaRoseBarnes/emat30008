{
 "cells": [
  {
   "cell_type": "code",
   "execution_count": null,
   "id": "d379c61c",
   "metadata": {},
   "outputs": [],
   "source": [
    "# simple forward Euler solver for the 1D heat equation\n",
    "#   u_t = kappa u_xx  0<x<L, 0<t<T\n",
    "# with zero-temperature boundary conditions\n",
    "#   u=0 at x=0,L, t>0\n",
    "# and prescribed initial temperature\n",
    "#   u=u_I(x) 0<=x<=L,t=0"
   ]
  },
  {
   "cell_type": "code",
   "execution_count": null,
   "id": "a34629c2",
   "metadata": {},
   "outputs": [],
   "source": [
    "import numpy as np\n",
    "import pylab as pl\n",
    "from math import pi\n"
   ]
  },
  {
   "cell_type": "code",
   "execution_count": null,
   "id": "4c80c4cf",
   "metadata": {},
   "outputs": [],
   "source": [
    "# Set problem parameters/functions\n",
    "kappa = 1.0   # diffusion constant\n",
    "L=1.0         # length of spatial domain\n",
    "T=0.5         # total time to solve for"
   ]
  },
  {
   "cell_type": "code",
   "execution_count": null,
   "id": "35f2b94d",
   "metadata": {},
   "outputs": [],
   "source": [
    "def u_I(x):\n",
    "    # initial temperature distribution\n",
    "    y = np.sin(pi*x/L)\n",
    "    return y"
   ]
  },
  {
   "cell_type": "code",
   "execution_count": null,
   "id": "fa82c789",
   "metadata": {},
   "outputs": [],
   "source": [
    "def u_exact(x,t):\n",
    "    # the exact solution\n",
    "    y = np.exp(-kappa*(pi**2/L**2)*t)*np.sin(pi*x/L)\n",
    "    return y"
   ]
  },
  {
   "cell_type": "code",
   "execution_count": null,
   "id": "f1b0a225",
   "metadata": {},
   "outputs": [],
   "source": [
    "# Set numerical parameters\n",
    "mx = 10     # number of gridpoints in space\n",
    "mt = 1000   # number of gridpoints in time"
   ]
  },
  {
   "cell_type": "code",
   "execution_count": null,
   "id": "f25a2428",
   "metadata": {},
   "outputs": [],
   "source": [
    "# Set up the numerical environment variables\n",
    "x = np.linspace(0, L, mx+1)     # mesh points in space\n",
    "t = np.linspace(0, T, mt+1)     # mesh points in time\n",
    "deltax = x[1] - x[0]            # gridspacing in x\n",
    "deltat = t[1] - t[0]            # gridspacing in t\n",
    "lmbda = kappa*deltat/(deltax**2)    # mesh fourier number\n",
    "print(\"deltax=\",deltax)\n",
    "print(\"deltat=\",deltat)\n",
    "print(\"lambda=\",lmbda)"
   ]
  },
  {
   "cell_type": "code",
   "execution_count": null,
   "id": "a19386d5",
   "metadata": {},
   "outputs": [],
   "source": [
    "# Set up the solution variables\n",
    "u_j = np.zeros(x.size)        # u at current time step\n",
    "u_jp1 = np.zeros(x.size)      # u at next time step\n",
    "\n"
   ]
  },
  {
   "cell_type": "code",
   "execution_count": null,
   "id": "10db7f7e",
   "metadata": {},
   "outputs": [],
   "source": [
    "# Set initial condition\n",
    "for i in range(0, mx+1):\n",
    "    u_j[i] = u_I(x[i])\n"
   ]
  },
  {
   "cell_type": "code",
   "execution_count": null,
   "id": "1bc6d43e",
   "metadata": {},
   "outputs": [],
   "source": [
    "# Solve the PDE: loop over all time points\n",
    "for j in range(0, mt):\n",
    "    # Forward Euler timestep at inner mesh points\n",
    "    # PDE discretised at position x[i], time t[j]\n",
    "    for i in range(1, mx):\n",
    "        u_jp1[i] = u_j[i] + lmbda*(u_j[i-1] - 2*u_j[i] + u_j[i+1\n",
    "                                                             # Boundary conditions\n",
    "    u_jp1[0] = 0; u_jp1[mx] = 0\n",
    "        \n",
    "    # Save u_j at time t[j+1]\n",
    "    u_j[:] = u_jp1[:]"
   ]
  },
  {
   "cell_type": "code",
   "execution_count": null,
   "id": "fcf7c2c9",
   "metadata": {},
   "outputs": [],
   "source": []
  }
 ],
 "metadata": {
  "kernelspec": {
   "display_name": "Python 3",
   "language": "python",
   "name": "python3"
  },
  "language_info": {
   "codemirror_mode": {
    "name": "ipython",
    "version": 3
   },
   "file_extension": ".py",
   "mimetype": "text/x-python",
   "name": "python",
   "nbconvert_exporter": "python",
   "pygments_lexer": "ipython3",
   "version": "3.8.8"
  }
 },
 "nbformat": 4,
 "nbformat_minor": 5
}
