{
 "cells": [
  {
   "cell_type": "code",
   "execution_count": 1,
   "id": "4ab9d99b",
   "metadata": {},
   "outputs": [],
   "source": [
    "# simple forward Euler solver for the 1D heat equation\n",
    "#   u_t = kappa u_xx  0<x<L, 0<t<T\n",
    "# with zero-temperature boundary conditions\n",
    "#   u=0 at x=0,L, t>0\n",
    "# and prescribed initial temperature\n",
    "#   u=u_I(x) 0<=x<=L,t=0"
   ]
  },
  {
   "cell_type": "code",
   "execution_count": 2,
   "id": "b5241108",
   "metadata": {},
   "outputs": [],
   "source": [
    "import numpy as np\n",
    "import pylab as pl\n",
    "from math import pi\n",
    "from scipy.sparse import diags"
   ]
  },
  {
   "cell_type": "code",
   "execution_count": null,
   "id": "7041d20e",
   "metadata": {},
   "outputs": [],
   "source": [
    "# Set problem parameters/functions\n",
    "#kappa = 1.0  # diffusion constant\n",
    "L=1.0         # length of spatial domain\n",
    "T=0.5       # total time to solve for"
   ]
  },
  {
   "cell_type": "code",
   "execution_count": 3,
   "id": "3fc17e7a",
   "metadata": {},
   "outputs": [],
   "source": [
    "def u_I(x):\n",
    "    # initial temperature distribution\n",
    "    y = np.sin(pi*x/L)\n",
    "    return y"
   ]
  },
  {
   "cell_type": "code",
   "execution_count": null,
   "id": "92c5ae8e",
   "metadata": {},
   "outputs": [],
   "source": [
    "# change the initial condition — for example, to u(x, 0) = sinp(πx) for some integer p\n",
    "p = 2\n",
    "def u_I2(x):\n",
    "    #initial temperature distribution\n",
    "    y = (np.sin(pi*x))**p\n",
    "    return y"
   ]
  },
  {
   "cell_type": "code",
   "execution_count": 4,
   "id": "b233977f",
   "metadata": {},
   "outputs": [],
   "source": [
    "def u_exact(x,t):\n",
    "    # the exact solution\n",
    "    y = np.exp(-kappa*(pi**2/L**2)*t)*np.sin(pi*x/L)+ 0.7*t\n",
    "    return y"
   ]
  },
  {
   "cell_type": "code",
   "execution_count": null,
   "id": "79e51430",
   "metadata": {},
   "outputs": [],
   "source": [
    "# Set problem parameters/functions\n",
    "kappa = 3.0  # diffusion constant\n",
    "L=2.0         # length of spatial domain\n",
    "T=0.5 "
   ]
  },
  {
   "cell_type": "code",
   "execution_count": null,
   "id": "25fe50d5",
   "metadata": {},
   "outputs": [],
   "source": [
    "def u_exact1(x,t):\n",
    "    # the exact solution\n",
    "    y = 100 - 50*x - (100/pi)*(np.exp(-3*t*pi**2)*np.sin(pi*x))\n",
    "    return y"
   ]
  },
  {
   "cell_type": "code",
   "execution_count": null,
   "id": "2fc14c77",
   "metadata": {},
   "outputs": [],
   "source": [
    "def u_I1(x):\n",
    "    # initial temperature distribution\n",
    "    y = 50\n",
    "    return y"
   ]
  },
  {
   "cell_type": "code",
   "execution_count": null,
   "id": "a4fcda66",
   "metadata": {},
   "outputs": [],
   "source": [
    "def u_exact2(x,t):\n",
    "    # the exact solution\n",
    "    y = 47.0449*np.exp(-0.0210*t)*np.sin(0.7249*x) + 45.1413*np.exp(-0.1113*t)*np.sin(1.6679*x)\n",
    "    return y"
   ]
  },
  {
   "cell_type": "code",
   "execution_count": null,
   "id": "0734731d",
   "metadata": {},
   "outputs": [],
   "source": [
    "def u_I2(x):\n",
    "    # initial temperature distribution\n",
    "    y = 100*(1 - (x/3))\n",
    "    return y"
   ]
  },
  {
   "cell_type": "code",
   "execution_count": null,
   "id": "e918af22",
   "metadata": {},
   "outputs": [],
   "source": [
    "# Set problem parameters/functions\n",
    "kappa = 1/25  # diffusion constant\n",
    "L=3.0         # length of spatial domain\n",
    "T=0.5 "
   ]
  },
  {
   "cell_type": "code",
   "execution_count": null,
   "id": "c925547a",
   "metadata": {},
   "outputs": [],
   "source": [
    "# differentiated version of u\n",
    "def u_diff(x,t):\n",
    "    dudx = (pi*np.exp(-kappa*(pi**2/L**2)*t)*np.cos(pi*x/L))/L\n",
    "    return dudx\n",
    "   "
   ]
  },
  {
   "cell_type": "code",
   "execution_count": null,
   "id": "7e099334",
   "metadata": {},
   "outputs": [],
   "source": [
    "# Set numerical parameters\n",
    "mx = 20  # number of gridpoints in space\n",
    "mt = 1000  # number of gridpoints in time"
   ]
  },
  {
   "cell_type": "code",
   "execution_count": 11,
   "id": "2d1a965f",
   "metadata": {},
   "outputs": [
    {
     "ename": "NameError",
     "evalue": "name 'L' is not defined",
     "output_type": "error",
     "traceback": [
      "\u001b[0;31m---------------------------------------------------------------------------\u001b[0m",
      "\u001b[0;31mNameError\u001b[0m                                 Traceback (most recent call last)",
      "\u001b[0;32m<ipython-input-11-caaa69e54067>\u001b[0m in \u001b[0;36m<module>\u001b[0;34m\u001b[0m\n\u001b[1;32m      1\u001b[0m \u001b[0;31m# Set up the numerical environment variables\u001b[0m\u001b[0;34m\u001b[0m\u001b[0;34m\u001b[0m\u001b[0;34m\u001b[0m\u001b[0m\n\u001b[0;32m----> 2\u001b[0;31m \u001b[0mx\u001b[0m \u001b[0;34m=\u001b[0m \u001b[0mnp\u001b[0m\u001b[0;34m.\u001b[0m\u001b[0mlinspace\u001b[0m\u001b[0;34m(\u001b[0m\u001b[0;36m0\u001b[0m\u001b[0;34m,\u001b[0m \u001b[0mL\u001b[0m\u001b[0;34m,\u001b[0m \u001b[0mmx\u001b[0m\u001b[0;34m+\u001b[0m\u001b[0;36m1\u001b[0m\u001b[0;34m)\u001b[0m     \u001b[0;31m# mesh points in space\u001b[0m\u001b[0;34m\u001b[0m\u001b[0;34m\u001b[0m\u001b[0m\n\u001b[0m\u001b[1;32m      3\u001b[0m \u001b[0mt\u001b[0m \u001b[0;34m=\u001b[0m \u001b[0mnp\u001b[0m\u001b[0;34m.\u001b[0m\u001b[0mlinspace\u001b[0m\u001b[0;34m(\u001b[0m\u001b[0;36m0\u001b[0m\u001b[0;34m,\u001b[0m \u001b[0mT\u001b[0m\u001b[0;34m,\u001b[0m \u001b[0mmt\u001b[0m\u001b[0;34m+\u001b[0m\u001b[0;36m1\u001b[0m\u001b[0;34m)\u001b[0m     \u001b[0;31m# mesh points in time\u001b[0m\u001b[0;34m\u001b[0m\u001b[0;34m\u001b[0m\u001b[0m\n\u001b[1;32m      4\u001b[0m \u001b[0mdeltax\u001b[0m \u001b[0;34m=\u001b[0m \u001b[0mx\u001b[0m\u001b[0;34m[\u001b[0m\u001b[0;36m1\u001b[0m\u001b[0;34m]\u001b[0m \u001b[0;34m-\u001b[0m \u001b[0mx\u001b[0m\u001b[0;34m[\u001b[0m\u001b[0;36m0\u001b[0m\u001b[0;34m]\u001b[0m            \u001b[0;31m# gridspacing in x\u001b[0m\u001b[0;34m\u001b[0m\u001b[0;34m\u001b[0m\u001b[0m\n\u001b[1;32m      5\u001b[0m \u001b[0mdeltat\u001b[0m \u001b[0;34m=\u001b[0m \u001b[0mt\u001b[0m\u001b[0;34m[\u001b[0m\u001b[0;36m1\u001b[0m\u001b[0;34m]\u001b[0m \u001b[0;34m-\u001b[0m \u001b[0mt\u001b[0m\u001b[0;34m[\u001b[0m\u001b[0;36m0\u001b[0m\u001b[0;34m]\u001b[0m            \u001b[0;31m# gridspacing in t\u001b[0m\u001b[0;34m\u001b[0m\u001b[0;34m\u001b[0m\u001b[0m\n",
      "\u001b[0;31mNameError\u001b[0m: name 'L' is not defined"
     ]
    }
   ],
   "source": [
    "# Set up the numerical environment variables\n",
    "x = np.linspace(0, L, mx+1)     # mesh points in space\n",
    "t = np.linspace(0, T, mt+1)     # mesh points in time\n",
    "deltax = x[1] - x[0]            # gridspacing in x\n",
    "deltat = t[1] - t[0]            # gridspacing in t\n",
    "lmbda = kappa*deltat/(deltax**2)    # mesh fourier number\n",
    "print(\"deltax=\",deltax)\n",
    "print(\"deltat=\",deltat)\n",
    "print(\"lambda=\",lmbda)"
   ]
  },
  {
   "cell_type": "code",
   "execution_count": null,
   "id": "df77f151",
   "metadata": {},
   "outputs": [],
   "source": [
    "# Set up the solution variables\n",
    "u_j = np.zeros(x.size)        # u at current time step\n",
    "u_jp1 = np.zeros(x.size)      # u at next time step"
   ]
  },
  {
   "cell_type": "code",
   "execution_count": null,
   "id": "9199ec74",
   "metadata": {},
   "outputs": [],
   "source": [
    "# Set initial condition\n",
    "for i in range(0, mx+1):\n",
    "    u_j[i] = u_I(x[i])"
   ]
  },
  {
   "cell_type": "code",
   "execution_count": null,
   "id": "fe6fe43d",
   "metadata": {},
   "outputs": [],
   "source": [
    "# Set initial condition\n",
    "for i in range(0, mx+1):\n",
    "    u_j[i] = u_I1(x[i])"
   ]
  },
  {
   "cell_type": "code",
   "execution_count": null,
   "id": "6311527d",
   "metadata": {},
   "outputs": [],
   "source": [
    "# non-homogenous Dirichlet boundary condition\n",
    "def p(t):\n",
    "    return 100\n",
    "\n",
    "def q(t):\n",
    "    return 0\n",
    "    "
   ]
  },
  {
   "cell_type": "code",
   "execution_count": null,
   "id": "5c55c17a",
   "metadata": {},
   "outputs": [],
   "source": [
    "# neumann boundary conditions\n",
    "def P(t):\n",
    "    return u_diff(0,t)\n",
    "\n",
    "def Q(t):\n",
    "    return u_diff(L,t)"
   ]
  },
  {
   "cell_type": "code",
   "execution_count": null,
   "id": "e46c111a",
   "metadata": {},
   "outputs": [],
   "source": [
    "def u_I(x):\n",
    "    # initial temperature distribution\n",
    "    y = np.sin(pi*x/L)\n",
    "    return y"
   ]
  },
  {
   "cell_type": "code",
   "execution_count": null,
   "id": "17ea8a64",
   "metadata": {},
   "outputs": [],
   "source": [
    "# function to solve PDE using euler method\n",
    "def PDE_solve_euler(mt,mx,boundary_condition, initial_condition):\n",
    "    u_j = np.zeros(x.size)        # u at current time step\n",
    "    u_jp1 = np.zeros(x.size)      # u at next time step\n",
    "    # u at next time step\n",
    "    # Set initial condition\n",
    "    for i in range(0, mx+1):\n",
    "        u_j[i] = initial_condition(x[i])\n",
    "    u_jp1 = np.zeros((mx+1,1))\n",
    "    k = [lmbda*np.ones(mx-2),(1-2*lmbda)*np.ones(mx-1),lmbda*np.ones(mx-2)]\n",
    "    offset = [-1,0,1]\n",
    "    A = diags(k,offset).toarray()\n",
    "\n",
    "\n",
    "    for j in range(0, mt):\n",
    "        u_jp1[1:-1] = np.matmul(A , u_j[1:-1]).reshape(9,1)\n",
    "        u_j = u_jp1\n",
    "    \n",
    "    return u_j"
   ]
  },
  {
   "cell_type": "code",
   "execution_count": null,
   "id": "2346079e",
   "metadata": {},
   "outputs": [],
   "source": [
    "# function to solve PDE using euler method\n",
    "def PDE_solve_euler_1(mt,mx,boundary_condition, initial_condition):\n",
    "    # u at next time step\n",
    "    # Set initial condition\n",
    "    for i in range(0, mx+1):\n",
    "        u_j[i] = initial_condition(x[i])\n",
    "    \n",
    "    for j in range(0, mt):\n",
    "    # Forward Euler timestep at inner mesh points\n",
    "    # PDE discretised at position x[i], time t[j]\n",
    "        for i in range(1, mx):\n",
    "            u_jp1[i] = u_j[i] + lmbda*(u_j[i-1] - 2*u_j[i] + u_j[i+1])\n",
    "        # Boundary conditions\n",
    "        u_jp1[0] = boundary_condition[0]; u_jp1[mx] = boundary_condition[1]\n",
    "        u_j[:] = u_jp1[:]\n",
    "    return u_j"
   ]
  },
  {
   "cell_type": "code",
   "execution_count": null,
   "id": "823a1ea8",
   "metadata": {},
   "outputs": [],
   "source": [
    "# Plot the final result and exact solution for forward euler\n",
    "pl.plot(x,PDE_solve_euler(1000,10,[0,0],u_I),'ro',label='num')\n",
    "#xx = np.linspace(0,L,250)\n",
    "#pl.plot(xx,u_exact(xx,T),'b-',label='exact')\n",
    "pl.xlabel('x')\n",
    "pl.ylabel('u(x,0.5)')\n",
    "pl.legend(loc='upper right')\n",
    "pl.show"
   ]
  },
  {
   "cell_type": "code",
   "execution_count": null,
   "id": "6a94d41d",
   "metadata": {},
   "outputs": [],
   "source": [
    "# Solve the PDE: loop over all time points using forward euler\n",
    "for j in range(0, mt):\n",
    "    # Forward Euler timestep at inner mesh points\n",
    "    # PDE discretised at position x[i], time t[j]\n",
    "    for i in range(1, mx):\n",
    "        u_jp1[i] = u_j[i] + lmbda*(u_j[i-1] - 2*u_j[i] + u_j[i+1])\n",
    "        \n",
    "        # added equations for Dirichlet boundary condition\n",
    "        #u_jp1[1] = u_j[1] + lmbda*(-2*u_j[1] + u_j[2]) + lmbda*p(t[j])\n",
    "        #u_jp1[mx-1] = u_j[mx-1] + lmbda*(u_j[mx-2] - 2*u_j[mx-1]) + lmbda*q(t[j])\n",
    "        \n",
    "        # added equations for Neumann boundary condition\n",
    "        #u_jp1[0] = u_j[0] + lmbda*(-2*u_j[0] + 2*u_j[1]) -2*lmbda*deltax*P(t[j])\n",
    "        #u_jp1[mx] = u_j[mx] + lmbda*(2*u_j[mx-1] - 2*u_j[mx]) + 2*lmbda*deltax*Q(t[j])\n",
    "        \n",
    "        \n",
    "    # Boundary conditions\n",
    "    u_jp1[0] = 0; u_jp1[mx] = 0\n",
    "    \n",
    "    # Boundary conditions for Neumann\n",
    "    \n",
    "    \n",
    "    # Boundary conditions for dirichlet\n",
    "    #u_jp1[0] = p(t[j+1]); u_jp1[mx] = q(t[j+1])\n",
    "    \n",
    "    # Save u_j at time t[j+1]\n",
    "    u_j[:] = u_jp1[:]"
   ]
  },
  {
   "cell_type": "code",
   "execution_count": null,
   "id": "f04d0757",
   "metadata": {},
   "outputs": [],
   "source": [
    "# Plot the final result and exact solution for forward euler\n",
    "pl.plot(x,u_j,'ro',label='num')\n",
    "xx = np.linspace(0,L,250)\n",
    "pl.plot(xx,u_exact(xx,T),'b-',label='exact')\n",
    "pl.xlabel('x')\n",
    "pl.ylabel('u(x,0.5)')\n",
    "pl.legend(loc='upper right')\n",
    "pl.show"
   ]
  },
  {
   "cell_type": "code",
   "execution_count": null,
   "id": "ce0aa16e",
   "metadata": {},
   "outputs": [],
   "source": [
    "# The forward euler is unstable when lambda > 1/2 "
   ]
  },
  {
   "cell_type": "code",
   "execution_count": null,
   "id": "1d572c02",
   "metadata": {},
   "outputs": [],
   "source": [
    "# steady state of the PDE problem is zero"
   ]
  },
  {
   "cell_type": "code",
   "execution_count": null,
   "id": "b5b420c3",
   "metadata": {
    "scrolled": true
   },
   "outputs": [],
   "source": [
    "# plot in 3d (not sure if this is working currently)\n",
    "# Data for three-dimensional scattered points\n",
    "#import matplotlib.pyplot as plt\n",
    "#ax = plt.axes(projection='3d')\n",
    "#ax.scatter3D(xx,u_exact(xx,t), t, cmap='greens',label='exact');\n",
    "#ax.scatter3D(x,u_j,mt, cmap='greens', label='num');\n",
    "#ax.xlabel('x')\n",
    "#ax.ylabel('u(x,0.5)')\n",
    "#ax.zlabel('t')\n",
    "\n",
    "#ax.set_xlabel('x')\n",
    "#ax.set_ylabel('u(x,0.5)')\n",
    "#ax.set_zlabel('t')\n",
    "#ax.legend(loc='upper right')\n",
    "#plt.show\n"
   ]
  },
  {
   "cell_type": "code",
   "execution_count": null,
   "id": "4fbf72bb",
   "metadata": {},
   "outputs": [],
   "source": [
    "# neumann boundary condition matrix form using forward euler\n",
    "u_jp1 = np.zeros((mx+1,1))\n",
    "k = [lmbda*np.ones(mx),(1-2*lmbda)*np.ones(mx+1),lmbda*np.ones(mx)]\n",
    "offset = [-1,0,1]\n",
    "A = diags(k,offset).toarray()\n",
    "A[0,1] = 2*lmbda\n",
    "A[-1,-2] = 2*lmbda\n",
    "s = np.zeros((mx+1,1))\n",
    "print(A)\n",
    "\n",
    "for j in range(0, mt): \n",
    "    s[0] = -P(t[j])\n",
    "    s[-1] = Q(t[j])\n",
    "\n",
    "    u_jp1 = np.matmul(A , u_j).reshape(11,1) + 2*lmbda*deltax*s\n",
    "    u_j = u_jp1\n",
    "    \n",
    "    \n",
    "# Plot the final result and exact solution for forward euler\n",
    "pl.plot(x,u_j,'ro',label='num')\n",
    "xx = np.linspace(0,L,250)\n",
    "pl.plot(xx,u_exact(xx,T),'b-',label='exact')\n",
    "pl.xlabel('x')\n",
    "pl.ylabel('u(x,0.5)')\n",
    "pl.legend(loc='upper right')\n",
    "pl.show"
   ]
  },
  {
   "cell_type": "code",
   "execution_count": null,
   "id": "02cb0084",
   "metadata": {},
   "outputs": [],
   "source": [
    "# dirichlet boundary condition matrix form using forward euler\n",
    "u_jp1 = np.zeros((mx+1,1))\n",
    "k = [lmbda*np.ones(mx-2),(1-2*lmbda)*np.ones(mx-1),lmbda*np.ones(mx-2)]\n",
    "offset = [-1,0,1]\n",
    "A = diags(k,offset, shape=(mx-1, mx-1)).toarray()\n",
    "s = np.zeros((mx-1,1))\n",
    "\n",
    "\n",
    "for j in range(0, mt):\n",
    "    s[0] = p(t[j])\n",
    "    s[-1] = q(t[j])\n",
    "    \n",
    "    \n",
    "    u_jp1[1:-1] = np.matmul(A , u_j[1:-1]).reshape(9,1) + lmbda*s\n",
    "    \n",
    "    u_jp1[0] = p(t[j+1]); u_jp1[mx] = q(t[j+1])\n",
    "    \n",
    "    u_j = u_jp1\n",
    "    \n",
    "    \n",
    "# Plot the final result and exact solution for forward euler\n",
    "pl.plot(x,u_j,'ro',label='num')\n",
    "xx = np.linspace(0,L,250)\n",
    "pl.plot(xx,u_exact1(xx,T),'b-',label='exact')\n",
    "pl.xlabel('x')\n",
    "pl.ylabel('u(x,0.5)')\n",
    "pl.legend(loc='upper right')\n",
    "pl.show\n",
    " "
   ]
  },
  {
   "cell_type": "code",
   "execution_count": null,
   "id": "6ff0e7f1",
   "metadata": {},
   "outputs": [],
   "source": [
    "# dirichlet boundary condition matrix form using forward euler\n",
    "u_jp1 = np.zeros((mx+1,1))\n",
    "k = [lmbda*np.ones(mx-2),(1-2*lmbda)*np.ones(mx-1),lmbda*np.ones(mx-2)]\n",
    "offset = [-1,0,1]\n",
    "A = diags(k,offset).toarray()\n",
    "\n",
    "s = np.zeros((mx-1,1))\n",
    "\n",
    "A[-1,0] = lmbda\n",
    "A[0,-1] = lmbda\n",
    "print(A)\n",
    "print(mx)"
   ]
  },
  {
   "cell_type": "code",
   "execution_count": null,
   "id": "6ee8cb51",
   "metadata": {},
   "outputs": [],
   "source": [
    "# adding rhs function\n",
    "# Set up the solution variables\n",
    "u_j = np.zeros(x.size)        # u at current time step\n",
    "u_jp1 = np.zeros(x.size)      # u at next time step\n",
    "F_j = lambda x,t: 8*t + x\n",
    "\n",
    "k = [lmbda*np.ones(mx),(1-2*lmbda)*np.ones(mx+1),lmbda*np.ones(mx)]\n",
    "offset = [-1,0,1]\n",
    "A = diags(k,offset).toarray()\n",
    "# u at next time step\n",
    "# Set initial condition\n",
    "for i in range(0, mx+1):\n",
    "    u_j[i] = u_I(x[i])\n",
    "\n",
    "for j in range(0, mt):\n",
    "    u_jp1 = np.matmul(A , u_j) + deltat*F_j(x,t[j])\n",
    "    #u_jp2 = np.matmul(A,u_j)\n",
    "    #u_jp3 = deltat*F_j(x,t[j])\n",
    "    u_j = u_jp1\n",
    "    \n",
    "pl.plot(x ,u_j,'ro',label='num')\n",
    "xx = np.linspace(0,L,250)\n",
    "pl.plot(xx,u_exact(xx,T),'b-',label='exact')\n",
    "pl.xlabel('x')\n",
    "pl.ylabel('u(x,0.5)')\n",
    "pl.legend(loc='upper right')\n",
    "pl.show"
   ]
  },
  {
   "cell_type": "code",
   "execution_count": null,
   "id": "86c90119",
   "metadata": {},
   "outputs": [],
   "source": [
    "# experiment - periodic boundary (unsure if it works)\n",
    "\n",
    "#u_j = np.zeros(mx) \n",
    "u_j = np.zeros(mx)    \n",
    "# Set initial condition\n",
    "for i in range(0, mx):\n",
    "    u_j[i] = u_I(x[i])\n",
    "u_jp1 = np.zeros((mx+1,1))\n",
    "k = [lmbda*np.ones(mx-1),(1-2*lmbda)*np.ones(mx),lmbda*np.ones(mx-1)]\n",
    "offset = [-1,0,1]\n",
    "A = diags(k,offset).toarray()\n",
    "A[-1,0] = lmbda\n",
    "A[0,-1] = lmbda\n",
    "\n",
    "\n",
    "\n",
    "for j in range(0, mt):\n",
    "    u_jp1 = np.matmul(A , u_j)\n",
    "    u_j = u_jp1\n",
    "print(u_j)\n",
    "\n",
    "x = np.linspace(0, L, mx)\n",
    "pl.plot(x ,u_j,'ro',label='num')\n",
    "xx = np.linspace(0,L,250)\n",
    "pl.plot(xx,u_exact(xx,T),'b-',label='exact')\n",
    "pl.xlabel('x')\n",
    "pl.ylabel('u(x,0.5)')\n",
    "pl.legend(loc='upper right')\n",
    "pl.show\n",
    " "
   ]
  },
  {
   "cell_type": "code",
   "execution_count": null,
   "id": "3dc0394e",
   "metadata": {},
   "outputs": [],
   "source": []
  },
  {
   "cell_type": "code",
   "execution_count": 8,
   "id": "ec056a05",
   "metadata": {},
   "outputs": [],
   "source": [
    "# function to solve PDE using euler method\n",
    "def PDE_solve_euler(kappa,L,T,initial_condition, args=(), boundary_condition=None,mx=20,mt=1000):\n",
    "    \n",
    "    \"\"\"\n",
    "    A function that the euler method to solve the 1D heat equation.\n",
    "\n",
    "    Parameters\n",
    "    ----------\n",
    "     \n",
    "    initial_condition:\n",
    "     \n",
    "    args: \n",
    "     \n",
    "    boundary_condition:\n",
    "       \n",
    "\n",
    "    Returns\n",
    "    -------\n",
    "   \n",
    "    \"\"\"\n",
    "    #mt = 1000\n",
    "    #mx = 20\n",
    "    # Set up the numerical environment variables\n",
    "    x = np.linspace(0, L, mx+1)     # mesh points in space\n",
    "    t = np.linspace(0, T, mt+1)     # mesh points in time\n",
    "    deltax = x[1] - x[0]            # gridspacing in x\n",
    "    deltat = t[1] - t[0]            # gridspacing in t\n",
    "    lmbda = kappa*deltat/(deltax**2)    # mesh fourier number\n",
    "    \n",
    "    \n",
    "    \n",
    "    u_j = np.zeros(x.size)        # u at current time step\n",
    "    u_jp1 = np.zeros((mx+1,1))\n",
    "    k = [lmbda*np.ones(mx-2),(1-2*lmbda)*np.ones(mx-1),lmbda*np.ones(mx-2)]\n",
    "    offset = [-1,0,1]\n",
    "    A = diags(k,offset,shape=(mx-1, mx-1)).toarray()\n",
    "\n",
    "    if boundary_condition == 'periodic':\n",
    "        u_j = np.zeros(mx)\n",
    "        k = [lmbda*np.ones(mx-1),(1-2*lmbda)*np.ones(mx),lmbda*np.ones(mx-1)]\n",
    "        \n",
    "        offset = [-1,0,1]\n",
    "        A = diags(k,offset).toarray()\n",
    "        A[-1,0] = lmbda\n",
    "        A[0,-1] = lmbda\n",
    "        for i in range(0, mx):\n",
    "            u_j[i] = initial_condition(x[i])\n",
    "        for j in range(0, mt):\n",
    "            u_j = periodic_boundary(A, u_j)\n",
    "        \n",
    "    \n",
    "    elif boundary_condition == 'rhs':\n",
    " \n",
    "       # u_jp1 = np.zeros(x.size)  \n",
    "        u_jp1 = np.zeros((mx+1,1))\n",
    "        k = [lmbda*np.ones(mx-2),(1-2*lmbda)*np.ones(mx-1),lmbda*np.ones(mx-2)]\n",
    "        F_j = args\n",
    "\n",
    "       # k = [lmbda*np.ones(mx),(1-2*lmbda)*np.ones(mx+1),lmbda*np.ones(mx)]\n",
    "        offset = [-1,0,1]\n",
    "        A = diags(k,offset).toarray()\n",
    "        \n",
    "        for i in range(0, mx+1):\n",
    "            u_j[i] = initial_condition(x[i])\n",
    "\n",
    "        for j in range(0, mt):\n",
    "            u_j = rhs_function(A, u_j,F_j,u_jp1,j)\n",
    "\n",
    "    \n",
    "    else:\n",
    "        if callable(initial_condition) is False:\n",
    "            u_j = initial_condition\n",
    "            for i in range(0, mx+1):\n",
    "                u_j[i] = initial_condition(x[i])\n",
    "    \n",
    "        else:\n",
    "            for i in range(0, mx+1):\n",
    "                u_j[i] = initial_condition(x[i])\n",
    "            \n",
    "    \n",
    "  \n",
    "            for j in range(0, mt):\n",
    "                if boundary_condition == 'dirichlet':\n",
    "                # s = np.zeros((mx-1,1))\n",
    "                    p = args[0]\n",
    "                    q = args[1]\n",
    "                    s = np.zeros((mx-1,1))\n",
    "                    s[0] = p(t[j])\n",
    "                    s[-1] = q(t[j])\n",
    "                    #u_j = dirichlet(A,s,u_j,u_jp1)\n",
    "                    u_j = dirichlet_boundary(A, u_j,j,s,u_jp1,lmbda,t,mx,args=args)\n",
    "            \n",
    "            \n",
    "                elif boundary_condition== 'neumann':\n",
    "                    k = [lmbda*np.ones(mx),(1-2*lmbda)*np.ones(mx+1),lmbda*np.ones(mx)]\n",
    "                    offset = [-1,0,1]\n",
    "                    A = diags(k,offset).toarray()\n",
    "                    A[0,1] = 2*lmbda\n",
    "                    A[-1,-2] = 2*lmbda\n",
    "                    s = np.zeros((mx+1,1))\n",
    "                \n",
    "                    P = args[0]\n",
    "                    Q = args[1]\n",
    "                    s[0] = -P(t[j])\n",
    "                    s[-1] = Q(t[j])\n",
    "                    u_j = Neumann_boundary(A,s,u_j,args=args)\n",
    "            \n",
    "                elif boundary_condition == None:\n",
    "                    u_jp1[1:-1] = np.matmul(A , u_j[1:-1]).reshape(19,1)\n",
    "                    u_j = u_jp1\n",
    "    \n",
    "            return u_j\n",
    "    return u_j"
   ]
  },
  {
   "cell_type": "code",
   "execution_count": null,
   "id": "7cf7f9f7",
   "metadata": {},
   "outputs": [],
   "source": [
    "# Plot the final result and exact solution for forward euler\n",
    "#pl.plot(x,PDE_solve_euler(1000,10,[0,0],u_I,args=(lambda t:u_diff(0,t),lambda t:u_diff(L,t)),dirichlet=None,neumann=None,periodic=None, rhs=rhs_function),'ro',label='num')\n",
    "x = np.linspace(0, L, mx+1)\n",
    "pl.plot(x,PDE_solve_euler(u_I1, args=(lambda t:100,lambda t:0), boundary_condition = 'dirichlet'),'ro',label='num')\n",
    "xx = np.linspace(0,L,250)\n",
    "pl.plot(xx,u_exact1(xx,T),'b-',label='exact')\n",
    "pl.xlabel('x')\n",
    "pl.ylabel('u(x,0.5)')\n",
    "pl.legend(loc='upper right')\n",
    "pl.show\n",
    " "
   ]
  },
  {
   "cell_type": "code",
   "execution_count": null,
   "id": "cdcc3a08",
   "metadata": {},
   "outputs": [],
   "source": [
    "# Set problem parameters/functions\n",
    "kappa = 1.0  # diffusion constant\n",
    "L=2.0         # length of spatial domain\n",
    "T=0.5       # total time to solve for"
   ]
  },
  {
   "cell_type": "code",
   "execution_count": null,
   "id": "01e1c193",
   "metadata": {},
   "outputs": [],
   "source": [
    "# Set up the numerical environment variables\n",
    "x = np.linspace(0, L, mx+1)     # mesh points in space\n",
    "t = np.linspace(0, T, mt+1)     # mesh points in time\n",
    "deltax = x[1] - x[0]            # gridspacing in x\n",
    "deltat = t[1] - t[0]            # gridspacing in t\n",
    "lmbda = kappa*deltat/(deltax**2)    # mesh fourier number"
   ]
  },
  {
   "cell_type": "code",
   "execution_count": null,
   "id": "c5a73b97",
   "metadata": {},
   "outputs": [],
   "source": [
    "def u_I3(x):\n",
    "    # initial temperature distribution\n",
    "    y = 5*np.sin(x)\n",
    "    return y"
   ]
  },
  {
   "cell_type": "code",
   "execution_count": null,
   "id": "58bd33a7",
   "metadata": {},
   "outputs": [],
   "source": [
    "def u_exact3(x,t):\n",
    "    # the exact solution\n",
    "    y = 0.5*(5*(1-np.cos(2))) - ((20*np.cos(2) + 20)/(-4 + pi**2))*np.exp(-(pi**2)*t/2**2)*np.cos(pi*x/2)\n",
    "    return y"
   ]
  },
  {
   "cell_type": "code",
   "execution_count": null,
   "id": "0051ba0f",
   "metadata": {},
   "outputs": [],
   "source": [
    "# Plot the final result and exact solution for forward euler\n",
    "#pl.plot(x,PDE_solve_euler(1000,10,[0,0],u_I,args=(lambda t:u_diff(0,t),lambda t:u_diff(L,t)),dirichlet=None,neumann=None,periodic=None, rhs=rhs_function),'ro',label='num')\n",
    "x = np.linspace(0, L, mx+1)\n",
    "pl.plot(x,PDE_solve_euler(u_I3, args=(lambda t:0, lambda t:0), boundary_condition = 'neumann'),'ro',label='num')\n",
    "xx = np.linspace(0,L,250)\n",
    "pl.plot(xx,u_exact3(xx,T),'b-',label='exact')\n",
    "pl.xlabel('x')\n",
    "pl.ylabel('u(x,0.5)')\n",
    "pl.legend(loc='upper right')\n",
    "pl.show\n",
    " "
   ]
  },
  {
   "cell_type": "code",
   "execution_count": null,
   "id": "4e6f35ad",
   "metadata": {},
   "outputs": [],
   "source": [
    "# Set problem parameters/functions\n",
    "kappa = 9.0  # diffusion constant\n",
    "L=2.0         # length of spatial domain\n",
    "T=0.5       # total time to solve for"
   ]
  },
  {
   "cell_type": "code",
   "execution_count": null,
   "id": "b5fe2178",
   "metadata": {},
   "outputs": [],
   "source": [
    "# Set up the numerical environment variables\n",
    "x = np.linspace(0, L, mx+1)     # mesh points in space\n",
    "t = np.linspace(0, T, mt+1)     # mesh points in time\n",
    "deltax = x[1] - x[0]            # gridspacing in x\n",
    "deltat = t[1] - t[0]            # gridspacing in t\n",
    "lmbda = kappa*deltat/(deltax**2)    # mesh fourier number"
   ]
  },
  {
   "cell_type": "code",
   "execution_count": 9,
   "id": "31647962",
   "metadata": {},
   "outputs": [],
   "source": [
    "def u_I4(x):\n",
    "    # initial temperature distribution\n",
    "    y = 2*x**2\n",
    "    return y"
   ]
  },
  {
   "cell_type": "code",
   "execution_count": 10,
   "id": "31cafb96",
   "metadata": {},
   "outputs": [],
   "source": [
    "def u_exact4(x,t):\n",
    "    # the exact solution\n",
    "    y = 4*x - ((64/pi**3)*np.exp(t*(-9/4)*pi**2)*np.sin(pi*x/2))\n",
    "    return y"
   ]
  },
  {
   "cell_type": "code",
   "execution_count": null,
   "id": "0d2c26aa",
   "metadata": {},
   "outputs": [],
   "source": [
    "# Plot the final result and exact solution for forward euler\n",
    "#pl.plot(x,PDE_solve_euler(1000,10,[0,0],u_I,args=(lambda t:u_diff(0,t),lambda t:u_diff(L,t)),dirichlet=None,neumann=None,periodic=None, rhs=rhs_function),'ro',label='num')\n",
    "x = np.linspace(0, L, mx+1)\n",
    "pl.plot(x,PDE_solve_euler(u_I4, args=(lambda t:0, lambda t:8), boundary_condition = 'dirichlet'),'ro',label='num')\n",
    "xx = np.linspace(0,L,250)\n",
    "pl.plot(xx,u_exact4(xx,T),'b-',label='exact')\n",
    "pl.xlabel('x')\n",
    "pl.ylabel('u(x,0.5)')\n",
    "pl.legend(loc='upper right')\n",
    "pl.show"
   ]
  },
  {
   "cell_type": "code",
   "execution_count": null,
   "id": "4f825900",
   "metadata": {},
   "outputs": [],
   "source": [
    "# Set problem parameters/functions\n",
    "kappa = 2.0  # diffusion constant\n",
    "L=2.0         # length of spatial domain\n",
    "T=0.5       # total time to solve for"
   ]
  },
  {
   "cell_type": "code",
   "execution_count": null,
   "id": "15b04996",
   "metadata": {},
   "outputs": [],
   "source": [
    "# Set up the numerical environment variables\n",
    "x = np.linspace(0, L, mx+1)     # mesh points in space\n",
    "t = np.linspace(0, T, mt+1)     # mesh points in time\n",
    "deltax = x[1] - x[0]            # gridspacing in x\n",
    "deltat = t[1] - t[0]            # gridspacing in t\n",
    "lmbda = kappa*deltat/(deltax**2)    # mesh fourier number"
   ]
  },
  {
   "cell_type": "code",
   "execution_count": null,
   "id": "5fe3faec",
   "metadata": {},
   "outputs": [],
   "source": [
    "def u_I5(x):\n",
    "    # initial temperature distribution\n",
    "    y = np.sin(pi*x/L)\n",
    "    return y"
   ]
  },
  {
   "cell_type": "code",
   "execution_count": null,
   "id": "0d72aa13",
   "metadata": {},
   "outputs": [],
   "source": [
    "def u_exact5(x,t):\n",
    "    # the exact solution\n",
    "    y = np.exp(-2*((pi**2)/4))*np.sin(pi*x/2) + np.sin(pi*x/2)*(2/(pi**2) - 2*np.exp((-t*pi**2)/2)/pi**2)\n",
    "    return y"
   ]
  },
  {
   "cell_type": "code",
   "execution_count": null,
   "id": "732df449",
   "metadata": {},
   "outputs": [],
   "source": [
    "# Plot the final result and exact solution for forward euler\n",
    "#pl.plot(x,PDE_solve_euler(1000,10,[0,0],u_I,args=(lambda t:u_diff(0,t),lambda t:u_diff(L,t)),dirichlet=None,neumann=None,periodic=None, rhs=rhs_function),'ro',label='num')\n",
    "x = np.linspace(0, L, mx+1)\n",
    "pl.plot(x,PDE_solve_euler(u_I5, args=(lambda x,t: np.cos(x) + t*x**2), boundary_condition = 'rhs'),'ro',label='num')\n",
    "xx = np.linspace(0,L,250)\n",
    "pl.plot(xx,u_exact5(xx,T),'b-',label='exact')\n",
    "pl.xlabel('x')\n",
    "pl.ylabel('u(x,0.5)')\n",
    "pl.legend(loc='upper right')\n",
    "pl.show"
   ]
  },
  {
   "cell_type": "code",
   "execution_count": null,
   "id": "68f0b0c9",
   "metadata": {},
   "outputs": [],
   "source": [
    "# Set problem parameters/functions\n",
    "k = 2.0  # diffusion constant\n",
    "L=1         # length of spatial domain\n",
    "T=0.5       # total time to solve for"
   ]
  },
  {
   "cell_type": "code",
   "execution_count": null,
   "id": "22707b4d",
   "metadata": {},
   "outputs": [],
   "source": [
    "# Set up the numerical environment variables\n",
    "x = np.linspace(0, L, mx+1)     # mesh points in space\n",
    "t = np.linspace(0, T, mt+1)     # mesh points in time\n",
    "deltax = x[1] - x[0]            # gridspacing in x\n",
    "deltat = t[1] - t[0]            # gridspacing in t\n",
    "lmbda = kappa*deltat/(deltax**2)    # mesh fourier number"
   ]
  },
  {
   "cell_type": "code",
   "execution_count": null,
   "id": "97dc6055",
   "metadata": {},
   "outputs": [],
   "source": [
    "def u_I6(x):\n",
    "    # initial temperature distribution\n",
    "    y = 4*np.sin(3*pi*x) + 9*np.sin(7*pi*x)\n",
    "    return y"
   ]
  },
  {
   "cell_type": "code",
   "execution_count": null,
   "id": "8f751b7b",
   "metadata": {},
   "outputs": [],
   "source": [
    "def u_exact6(x,t):\n",
    "    # the exact solution\n",
    "    y = 4*np.exp(-t*k*(3*pi)**2)*np.sin(3*pi*x) + (1/(25*k*pi**2))*np.exp(-t*k*(5*pi)**2)*np.sin(5*pi*x) + 9*np.exp(-t*(7*pi)**2)*np.sin(7*pi*x) + (1/(k*25*pi**2))*np.sin(5*pi*x)\n",
    "    return y"
   ]
  },
  {
   "cell_type": "code",
   "execution_count": null,
   "id": "e8168f6f",
   "metadata": {},
   "outputs": [],
   "source": [
    "# Plot the final result and exact solution for forward euler\n",
    "#pl.plot(x,PDE_solve_euler(1000,10,[0,0],u_I,args=(lambda t:u_diff(0,t),lambda t:u_diff(L,t)),dirichlet=None,neumann=None,periodic=None, rhs=rhs_function),'ro',label='num')\n",
    "x = np.linspace(0, L, mx+1)\n",
    "pl.plot(x,PDE_solve_euler(u_I6, args=(lambda x,t: np.sin(5*pi*x)), boundary_condition = 'rhs'),'ro',label='num')\n",
    "xx = np.linspace(0,L,250)\n",
    "pl.plot(xx,u_exact6(xx,T),'b-',label='exact')\n",
    "pl.xlabel('x')\n",
    "pl.ylabel('u(x,0.5)')\n",
    "pl.legend(loc='upper right')\n",
    "pl.show"
   ]
  },
  {
   "cell_type": "code",
   "execution_count": null,
   "id": "0c107817",
   "metadata": {},
   "outputs": [],
   "source": [
    "# Set problem parameters/functions\n",
    "k = 1.0  # diffusion constant\n",
    "L=1         # length of spatial domain\n",
    "T=0.5       # total time to solve for"
   ]
  },
  {
   "cell_type": "code",
   "execution_count": null,
   "id": "a685858a",
   "metadata": {},
   "outputs": [],
   "source": [
    "# Set up the numerical environment variables\n",
    "x = np.linspace(0, L, mx+1)     # mesh points in space\n",
    "t = np.linspace(0, T, mt+1)     # mesh points in time\n",
    "deltax = x[1] - x[0]            # gridspacing in x\n",
    "deltat = t[1] - t[0]            # gridspacing in t\n",
    "lmbda = kappa*deltat/(deltax**2)    # mesh fourier number"
   ]
  },
  {
   "cell_type": "code",
   "execution_count": null,
   "id": "198fbcec",
   "metadata": {},
   "outputs": [],
   "source": [
    "def u_I6(x):\n",
    "    # initial temperature distribution\n",
    "    y = np.cos(2*pi*x)\n",
    "    return y"
   ]
  },
  {
   "cell_type": "code",
   "execution_count": null,
   "id": "e4274c0a",
   "metadata": {},
   "outputs": [],
   "source": [
    "def u_exact6(x,t):\n",
    "    # the exact solution\n",
    "    y = np.exp(-4*t*pi**2)*np.cos(2*pi*x) + 0.05\n",
    "    return y\n"
   ]
  },
  {
   "cell_type": "code",
   "execution_count": null,
   "id": "7cfe9942",
   "metadata": {},
   "outputs": [],
   "source": [
    "# plotting for periodic\n",
    "x = np.linspace(0, L, mx)\n",
    "pl.plot(x,PDE_solve_euler(u_I6, args=(lambda x: x*2, ), boundary_condition = 'periodic'),'ro',label='num')\n",
    "xx = np.linspace(0,L,250)\n",
    "pl.plot(xx,u_exact6(xx,T),'b-',label='exact')\n",
    "pl.xlabel('x')\n",
    "pl.ylabel('u(x,0.5)')\n",
    "pl.legend(loc='upper right')\n",
    "pl.show"
   ]
  },
  {
   "cell_type": "code",
   "execution_count": null,
   "id": "47847c6a",
   "metadata": {},
   "outputs": [],
   "source": [
    "def rhs_function(A, u_j,F_j,u_jp1,j):\n",
    "    u_jp1 = np.matmul(A , u_j) + deltat*F_j(x,t[j])\n",
    "    u_j = u_jp1\n",
    "    return u_j\n",
    "    "
   ]
  },
  {
   "cell_type": "code",
   "execution_count": null,
   "id": "45b46922",
   "metadata": {},
   "outputs": [],
   "source": [
    "def rhs_function(A, u_j,F_j,u_jp1,j):\n",
    "    u_jp1[1:-1] = np.matmul(A , u_j[1:-1]).reshape(19,1) + deltat*F_j(x[1:-1],t[j]).reshape(19,1)\n",
    "    u_j = u_jp1\n",
    "    return u_j"
   ]
  },
  {
   "cell_type": "code",
   "execution_count": null,
   "id": "089f51da",
   "metadata": {},
   "outputs": [],
   "source": [
    "def periodic_boundary(A, u_j):\n",
    "    u_jp1 = np.matmul(A , u_j)\n",
    "    u_j = u_jp1\n",
    "    return u_j"
   ]
  },
  {
   "cell_type": "code",
   "execution_count": null,
   "id": "b08196c9",
   "metadata": {},
   "outputs": [],
   "source": [
    "#def dirichlet_boundary(A,s,u_j,u_jp1):\n",
    "def dirichlet_boundary(A, u_j,j,s,u_jp1,lmbda,t,mx,args):\n",
    "    p= args[0] \n",
    "    q = args[1]                   \n",
    "    u_jp1[1:-1] = np.matmul(A , u_j[1:-1]).reshape(19,1) + lmbda*s\n",
    "    u_jp1[0] = p(t[j+1]); u_jp1[mx] = q(t[j+1])\n",
    "    u_j = u_jp1\n",
    "    return  u_j\n",
    "    "
   ]
  },
  {
   "cell_type": "code",
   "execution_count": null,
   "id": "0d5665ea",
   "metadata": {},
   "outputs": [],
   "source": [
    "def Neumann_boundary(A,s,u_j,args):\n",
    "    P = args[0]\n",
    "    Q = args[1]\n",
    "    u_jp1 = np.matmul(A , u_j).reshape(21,1) + 2*lmbda*deltax*s\n",
    "    u_j = u_jp1\n",
    "    return u_j\n",
    "    "
   ]
  },
  {
   "cell_type": "code",
   "execution_count": null,
   "id": "1f4a8b98",
   "metadata": {},
   "outputs": [],
   "source": [
    "# function to solve PDE using backward euler method\n",
    "def PDE_solve_back_euler(mt,mx,boundary_condition, initial_condition):\n",
    "    u_j = np.zeros(x.size)        # u at current time step\n",
    "    u_jp1 = np.zeros(x.size)      # u at next time step\n",
    "    # u at next time step\n",
    "    # Set initial condition\n",
    "    for i in range(0, mx+1):\n",
    "        u_j[i] = initial_condition(x[i])\n",
    "    u_jp1 = np.zeros((mx+1,1))\n",
    "    k = [-lmbda*np.ones(mx-2),(1+2*lmbda)*np.ones(mx-1),-lmbda*np.ones(mx-2)]\n",
    "    offset = [-1,0,1]\n",
    "    A_BE = diags(k,offset).toarray()\n",
    "    \n",
    "    for j in range(0, mt):\n",
    "        u_jp1[1:-1] = np.linalg.solve(A_BE , u_j[1:-1]).reshape(9,1)\n",
    "        u_j = u_jp1\n",
    "    return u_j"
   ]
  },
  {
   "cell_type": "code",
   "execution_count": null,
   "id": "a9898dc6",
   "metadata": {},
   "outputs": [],
   "source": [
    "# function to solve PDE using euler method\n",
    "def PDE_solve_crank(mt,mx,boundary_condition, initial_condition):\n",
    "    u_j = np.zeros(x.size)        # u at current time step\n",
    "    u_jp1 = np.zeros(x.size)      # u at next time step\n",
    "    # u at next time step\n",
    "    # Set initial condition\n",
    "    for i in range(0, mx+1):\n",
    "        u_j[i] = initial_condition(x[i])\n",
    "    u_jp1 = np.zeros((mx+1,1))\n",
    "    k = [(-lmbda/2)*np.ones(mx-2),(1+lmbda)*np.ones(mx-1),(-lmbda/2)*np.ones(mx-2)]\n",
    "    f = [(lmbda/2)*np.ones(mx-2),(1-lmbda)*np.ones(mx-1),(lmbda/2)*np.ones(mx-2)]\n",
    "    offset = [-1,0,1]\n",
    "    A_CN = diags(k,offset).toarray()\n",
    "    B_CN = diags(f,offset).toarray()\n",
    "    for j in range(0, mt):\n",
    "        b = np.matmul(B_CN , u_j[1:-1]).reshape(9,1)\n",
    "        u_jp1[1:-1] = np.linalg.solve(A_CN,b)\n",
    "        u_j = u_jp1\n",
    "    return u_j"
   ]
  },
  {
   "cell_type": "code",
   "execution_count": null,
   "id": "deaed8a6",
   "metadata": {},
   "outputs": [],
   "source": [
    "# Plot the final result and exact solution for  back forward euler\n",
    "pl.plot(x,PDE_solve_crank(1000,10,[0,0],u_I),'ro',label='num')\n",
    "xx = np.linspace(0,L,250)\n",
    "pl.plot(xx,u_exact(xx,T),'b-',label='exact')\n",
    "pl.xlabel('x')\n",
    "pl.ylabel('u(x,0.5)')\n",
    "pl.legend(loc='upper right')\n",
    "pl.show"
   ]
  },
  {
   "cell_type": "code",
   "execution_count": null,
   "id": "086b67e2",
   "metadata": {},
   "outputs": [],
   "source": [
    "def finite_diff(kappa, L, T, method = 'Forward-Euler'):\n",
    "    \n",
    "    \n",
    "    # Set numerical parameters\n",
    "    mx = 10  # number of gridpoints in space\n",
    "    mt = 1000  # number of gridpoints in time\n",
    "    \n",
    "    # Set up the numerical environment variables\n",
    "    x = np.linspace(0, L, mx+1)     # mesh points in space\n",
    "    t = np.linspace(0, T, mt+1)     # mesh points in time\n",
    "    deltax = x[1] - x[0]            # gridspacing in x\n",
    "    deltat = t[1] - t[0]            # gridspacing in t\n",
    "    lmbda = kappa*deltat/(deltax**2)    # mesh fourier number\n",
    "\n",
    "    \n",
    "    # Set up the solution variables\n",
    "    u_j = np.zeros(x.size)        # u at current time step\n",
    "    u_jp1 = np.zeros(x.size)      # u at next time step\n",
    "    \n",
    "    # Set initial condition\n",
    "    for i in range(0, mx+1):\n",
    "        u_j[i] = u_I(x[i])\n",
    "    \n",
    "    if method == 'Forward-Euler':\n",
    "        u_jp1 = np.zeros((mx+1,1))\n",
    "        k = [lmbda*np.ones(mx-2),(1-2*lmbda)*np.ones(mx-1),lmbda*np.ones(mx-2)]\n",
    "        offset = [-1,0,1]\n",
    "        A = diags(k,offset).toarray()\n",
    "\n",
    "\n",
    "        for j in range(0, mt):\n",
    "            u_jp1[1:-1] = np.matmul(A , u_j[1:-1]).reshape(9,1)\n",
    "            u_j = u_jp1\n",
    "            \n",
    "    elif method == 'Backward-Euler':\n",
    "        u_jp1 = np.zeros((mx+1,1))\n",
    "        k = [-lmbda*np.ones(mx-2),(1+2*lmbda)*np.ones(mx-1),-lmbda*np.ones(mx-2)]\n",
    "        offset = [-1,0,1]\n",
    "        A_BE = diags(k,offset).toarray()\n",
    "\n",
    "\n",
    "        for j in range(0, mt):\n",
    "            u_jp1[1:-1] = np.linalg.solve(A_BE , u_j[1:-1]).reshape(9,1)\n",
    "            u_j = u_jp1\n",
    "    \n",
    "    elif method == 'Crank-Nicholson':\n",
    "        u_jp1 = np.zeros((mx+1,1))\n",
    "        k = [(-lmbda/2)*np.ones(mx-2),(1+lmbda)*np.ones(mx-1),(-lmbda/2)*np.ones(mx-2)]\n",
    "        f = [(lmbda/2)*np.ones(mx-2),(1-lmbda)*np.ones(mx-1),(lmbda/2)*np.ones(mx-2)]\n",
    "        offset = [-1,0,1]\n",
    "        A_CN = diags(k,offset).toarray()\n",
    "        B_CN = diags(f,offset).toarray()\n",
    "\n",
    "\n",
    "        for j in range(0, mt):\n",
    "            b = np.matmul(B_CN , u_j[1:-1]).reshape(9,1)\n",
    "            u_jp1[1:-1] = np.linalg.solve(A_CN,b)\n",
    "            u_j = u_jp1\n",
    "            \n",
    "    else:\n",
    "        raise ValueError(\"Invalid method, please input 'Forward-Euler', 'Backward-Euler' or 'Crank-Nicholson'.\")\n",
    "        \n",
    "        \n",
    "    pl.plot(x,u_j,'ro',label='num')\n",
    "    xx = np.linspace(0,L,250)\n",
    "    pl.plot(xx,u_exact(xx,T),'b-',label='exact')\n",
    "    pl.xlabel('x')\n",
    "    pl.ylabel('u(x,0.5)')\n",
    "    pl.legend(loc='upper right')\n",
    "    pl.show\n",
    "        \n",
    "    return x, u_j"
   ]
  },
  {
   "cell_type": "code",
   "execution_count": null,
   "id": "96495144",
   "metadata": {},
   "outputs": [],
   "source": [
    "finite_diff(1,1,0.5,method = 'Crank-Nicholson')"
   ]
  },
  {
   "cell_type": "code",
   "execution_count": null,
   "id": "69e77024",
   "metadata": {},
   "outputs": [],
   "source": [
    "# Adapt your numerical continuation code (from the ODEs part of the course) so that it can also\n",
    "#track, under variations of a parameter in the system, steady-states of second-order diffusive PDEs."
   ]
  },
  {
   "cell_type": "code",
   "execution_count": null,
   "id": "d8177103",
   "metadata": {},
   "outputs": [],
   "source": [
    "# change value of dirichlet on the right hand side\n",
    "# reinput the u_j as the initial temperature distribution\n",
    "# restricted scope"
   ]
  },
  {
   "cell_type": "code",
   "execution_count": null,
   "id": "b859dd33",
   "metadata": {},
   "outputs": [],
   "source": [
    "def Numerical_Continuation(L, T, initial_condition, start, end, h, args, boundary_condition=None, mx=20, mt=1000):\n",
    "    \n",
    "   \n",
    "    \n",
    "    n = []\n",
    "    #root = PDE_solve_euler(,L,T,initial_condition, args=args, boundary_condition=boundary_condition,mx=20,mt=1000)\n",
    "    #initial_condition = root\n",
    "    \n",
    "    \n",
    "    \n",
    "    for parameter in np.arange(start,end,h):\n",
    "         \n",
    "        #root = PDE_solve_euler(initial_condition, args=args, boundary_condition=boundary_condition)\n",
    "        root = PDE_solve_euler(parameter,L,T,initial_condition, args=args, boundary_condition=boundary_condition,mx=20,mt=1000)\n",
    "        initial_condition = root\n",
    "        n.append(root)\n",
    "    \n",
    "    i=0\n",
    "    for i in range(len(n)):\n",
    "    #print(n[0])\n",
    "        pl.plot(np.linspace(0, L, mx+1),n[i],'ro',label='num')\n",
    "    \n",
    "    #n[-1]\n",
    "    \n",
    "    \n",
    "    return n"
   ]
  },
  {
   "cell_type": "code",
   "execution_count": null,
   "id": "f7bac365",
   "metadata": {},
   "outputs": [],
   "source": [
    "Numerical_Continuation(1, 0.5, u_I, 0, 2, 0.1, args=(lambda t:1, lambda t:0), boundary_condition='dirichlet', mx=20, mt=1000)"
   ]
  },
  {
   "cell_type": "code",
   "execution_count": null,
   "id": "c9d17a5f",
   "metadata": {},
   "outputs": [],
   "source": [
    "PDE_solve_euler(3,2,0.5,u_I4,args=(lambda t:1, lambda t:0), boundary_condition='dirichlet',mx=20,mt=1000)\n"
   ]
  },
  {
   "cell_type": "code",
   "execution_count": null,
   "id": "9d7843c1",
   "metadata": {},
   "outputs": [],
   "source": [
    "pl.plot(np.linspace(0, L, 20+1),PDE_solve_euler(9,2,0.5,u_I4,args=(lambda t:0, lambda t:8), boundary_condition='dirichlet',mx=20,mt=1000),'ro',label='num')\n",
    "xx = np.linspace(0,L,250)\n",
    "pl.plot(xx,u_exact4(xx,T),'b-',label='exact')"
   ]
  },
  {
   "cell_type": "code",
   "execution_count": null,
   "id": "edcc8643",
   "metadata": {},
   "outputs": [],
   "source": []
  }
 ],
 "metadata": {
  "kernelspec": {
   "display_name": "Python 3",
   "language": "python",
   "name": "python3"
  },
  "language_info": {
   "codemirror_mode": {
    "name": "ipython",
    "version": 3
   },
   "file_extension": ".py",
   "mimetype": "text/x-python",
   "name": "python",
   "nbconvert_exporter": "python",
   "pygments_lexer": "ipython3",
   "version": "3.8.8"
  }
 },
 "nbformat": 4,
 "nbformat_minor": 5
}
