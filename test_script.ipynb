{
 "cells": [
  {
   "cell_type": "code",
   "execution_count": 1,
   "id": "97fee36b",
   "metadata": {},
   "outputs": [],
   "source": [
    "# importing relevant modules\n",
    "from scipy.integrate import odeint\n",
    "import numpy as np\n",
    "import matplotlib.pyplot as plt\n",
    "from scipy.optimize import fsolve\n",
    "from scipy.integrate import solve_ivp\n",
    "from scipy.optimize import fsolve"
   ]
  },
  {
   "cell_type": "code",
   "execution_count": 2,
   "id": "eb87bde4",
   "metadata": {},
   "outputs": [],
   "source": [
    "# define a test \n",
    "# checking that a function produces the correct output for a given input\n",
    "def testing(solver, initial_guess, args):\n",
    "    (h, (b,s)) = args\n",
    "    # adding tests to check that the code handles errors gracefully **need to generalise so its not 3\n",
    "    if np.size(initial_guess) != 3:\n",
    "        print('inncorrect number of input arguments')\n",
    "    else:\n",
    "    \n",
    "        root = fsolve(solver, initial_guess, args = args)\n",
    "        error =  root[:-1] - [np.sqrt(b)*np.cos(initial_guess[-1]+root[-1]), np.sqrt(b)*np.sin(initial_guess[-1]+root[-1])]\n",
    "\n",
    "\n",
    "        if np.allclose(error,[0,0]) == True:\n",
    "            result = print('Test passed')\n",
    "        else:\n",
    "            result = print('Test failed')\n",
    "        return result"
   ]
  },
  {
   "cell_type": "code",
   "execution_count": 3,
   "id": "2b060376",
   "metadata": {},
   "outputs": [],
   "source": [
    "# New test file for 3 dimensions...\n",
    "# define a test \n",
    "# checking that a function produces the correct output for a given input\n",
    "def testing2(solver, initial_guess, args):\n",
    "    (h, (b,s)) = args\n",
    "    # adding tests to check that the code handles errors gracefully **need to generalise so its not 3\n",
    "    if np.size(initial_guess) != 4:\n",
    "        print('inncorrect number of input arguments')\n",
    "    else:\n",
    "    \n",
    "        root = fsolve(solver, initial_guess, args = args)\n",
    "        error =  root[:-1] - [np.sqrt(b)*np.cos(initial_guess[-1]+root[-1]), np.sqrt(b)*np.sin(initial_guess[-1]+root[-1]), np.exp(-initial_guess[-1])]\n",
    "\n",
    "\n",
    "        if np.allclose(error,[0,0,0]) == True:\n",
    "            result = print('Test passed')\n",
    "        else:\n",
    "            result = print('Test failed')\n",
    "        return result"
   ]
  },
  {
   "cell_type": "code",
   "execution_count": null,
   "id": "516e1424",
   "metadata": {},
   "outputs": [],
   "source": []
  }
 ],
 "metadata": {
  "kernelspec": {
   "display_name": "Python 3",
   "language": "python",
   "name": "python3"
  },
  "language_info": {
   "codemirror_mode": {
    "name": "ipython",
    "version": 3
   },
   "file_extension": ".py",
   "mimetype": "text/x-python",
   "name": "python",
   "nbconvert_exporter": "python",
   "pygments_lexer": "ipython3",
   "version": "3.8.8"
  }
 },
 "nbformat": 4,
 "nbformat_minor": 5
}
