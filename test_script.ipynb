{
 "cells": [
  {
   "cell_type": "code",
   "execution_count": 3,
   "id": "97fee36b",
   "metadata": {},
   "outputs": [],
   "source": [
    "# importing relevant modules\n",
    "from scipy.integrate import odeint\n",
    "import numpy as np\n",
    "import matplotlib.pyplot as plt\n",
    "from scipy.optimize import fsolve\n",
    "from scipy.integrate import solve_ivp\n",
    "from scipy.optimize import fsolve"
   ]
  },
  {
   "cell_type": "code",
   "execution_count": 4,
   "id": "eb87bde4",
   "metadata": {},
   "outputs": [],
   "source": [
    "# define a test script that runs the shooting code and checks it against its true solution\n",
    "# works for 2 ODEs\n",
    "# checking that a function produces the correct output for a given input\n",
    "def testing_2ODE(solver, initial_guess, args):\n",
    "    (Hopf,phase_condition_func,(b,s)) = args\n",
    "    \n",
    "    # adding tests to check that the code handles errors gracefully\n",
    "    if np.size(initial_guess) != 3:\n",
    "        print(\"must specify 3 input arguments for a system of 2 ODE's\")\n",
    "    else:\n",
    "    \n",
    "        root = fsolve(solver, initial_guess, args = args)\n",
    "\n",
    "        \n",
    "        # defining the true solution\n",
    "        #true_sol = [np.sqrt(b)*np.cos(initial_guess[-1]+root[-1]), np.sqrt(b)*np.sin(initial_guess[-1]+root[-1])]\n",
    "        true_sol = [np.sqrt(b)*np.cos(root[-1]), np.sqrt(b)*np.sin(root[-1])]\n",
    "        \n",
    "        # calculating the error\n",
    "        error =  root[:-1] - true_sol\n",
    "\n",
    "        if np.allclose(error,[0,0],rtol=1e-04, atol=1e-04) == True:\n",
    "            result = print('Test passed')\n",
    "        else:\n",
    "            result = print('Test failed')\n",
    "        return result"
   ]
  },
  {
   "cell_type": "code",
   "execution_count": 6,
   "id": "2b060376",
   "metadata": {},
   "outputs": [],
   "source": [
    "# define a test script that runs the shooting code and checks it against its true solution\n",
    "# works for 3 ODEs\n",
    "# checking that a function produces the correct output for a given input\n",
    "def testing_3ODE(solver, initial_guess, args):\n",
    "    (k,phase_condition_func ,(b,s)) = args\n",
    "    \n",
    "    # adding tests to check that the code handles errors gracefully\n",
    "    if np.size(initial_guess) != 4:\n",
    "        print(\"must specify 4 input arguments for a system of 3 ODE's\")\n",
    "    else:\n",
    "    \n",
    "        root = fsolve(solver, initial_guess,args = args)\n",
    "        \n",
    "        # defining the true solution\n",
    "        true_sol = [np.sqrt(b)*np.cos(root[-1]), np.sqrt(b)*np.sin(root[-1]), np.exp(-root[-1])]\n",
    "        \n",
    "        \n",
    "        # calculating the error\n",
    "        error =  root[:-1] - true_sol\n",
    "\n",
    "        if np.allclose(error,[0,0,0],rtol=1e-03, atol=1e-03) == True:\n",
    "            result = print('Test passed')\n",
    "        else:\n",
    "            result = print('Test failed')\n",
    "        return result"
   ]
  },
  {
   "cell_type": "code",
   "execution_count": null,
   "id": "14f94a39",
   "metadata": {},
   "outputs": [],
   "source": []
  }
 ],
 "metadata": {
  "kernelspec": {
   "display_name": "Python 3",
   "language": "python",
   "name": "python3"
  },
  "language_info": {
   "codemirror_mode": {
    "name": "ipython",
    "version": 3
   },
   "file_extension": ".py",
   "mimetype": "text/x-python",
   "name": "python",
   "nbconvert_exporter": "python",
   "pygments_lexer": "ipython3",
   "version": "3.8.8"
  }
 },
 "nbformat": 4,
 "nbformat_minor": 5
}
