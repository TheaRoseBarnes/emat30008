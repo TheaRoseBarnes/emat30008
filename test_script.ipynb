{
 "cells": [
  {
   "cell_type": "code",
   "execution_count": 28,
   "id": "97fee36b",
   "metadata": {},
   "outputs": [],
   "source": [
    "# importing relevant modules\n",
    "from scipy.integrate import odeint\n",
    "import numpy as np\n",
    "import matplotlib.pyplot as plt\n",
    "from scipy.optimize import fsolve\n",
    "from scipy.integrate import solve_ivp\n",
    "from scipy.optimize import fsolve"
   ]
  },
  {
   "cell_type": "code",
   "execution_count": 29,
   "id": "eb87bde4",
   "metadata": {},
   "outputs": [],
   "source": [
    "# define a test \n",
    "# checking that a function produces the correct output for a given input\n",
    "def testing(solver, initial_guess, args):\n",
    "    root = fsolve(solver, initial_guess, args = args)\n",
    "    error =  root[:-1] - [np.sqrt(b)*np.cos(T+root[-1]), np.sqrt(b)*np.sin(T+root[-1])]\n",
    "\n",
    "\n",
    "    if abs(error) < [1e-6, 1e-6]:\n",
    "        result = print('Test passed')\n",
    "    else:\n",
    "        result = print('Test failed')\n",
    "    return result"
   ]
  },
  {
   "cell_type": "code",
   "execution_count": null,
   "id": "1e709354",
   "metadata": {},
   "outputs": [],
   "source": []
  }
 ],
 "metadata": {
  "kernelspec": {
   "display_name": "Python 3",
   "language": "python",
   "name": "python3"
  },
  "language_info": {
   "codemirror_mode": {
    "name": "ipython",
    "version": 3
   },
   "file_extension": ".py",
   "mimetype": "text/x-python",
   "name": "python",
   "nbconvert_exporter": "python",
   "pygments_lexer": "ipython3",
   "version": "3.8.8"
  }
 },
 "nbformat": 4,
 "nbformat_minor": 5
}
