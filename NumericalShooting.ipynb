{
 "cells": [
  {
   "cell_type": "code",
   "execution_count": 65,
   "id": "c8cf8b8c",
   "metadata": {},
   "outputs": [],
   "source": [
    "# importing relevant modules\n",
    "from scipy.integrate import odeint\n",
    "import numpy as np\n",
    "import matplotlib.pyplot as plt\n",
    "from scipy.optimize import fsolve\n",
    "from scipy.integrate import solve_ivp\n"
   ]
  },
  {
   "cell_type": "code",
   "execution_count": 66,
   "id": "56af3f08",
   "metadata": {},
   "outputs": [],
   "source": [
    "# setting pararmeters\n",
    "a = 1\n",
    "b = 0.2\n",
    "d= 0.1"
   ]
  },
  {
   "cell_type": "code",
   "execution_count": 67,
   "id": "201deb2f",
   "metadata": {},
   "outputs": [],
   "source": [
    "# defining a system of 2 ODEs (predator-prey equations)\n",
    "def f(t,z,a,b,d):\n",
    "    x, y = z[0], z[1]\n",
    "    return [x*(1-x) - (a*x*y)/(d+x), (b*y)*(1 - y/x)]"
   ]
  },
  {
   "cell_type": "code",
   "execution_count": 68,
   "id": "9d0fc85a",
   "metadata": {},
   "outputs": [],
   "source": [
    "# solving the equations\n",
    "sol = solve_ivp(f, (0,100),(1,1), args=(a,b,d), rtol=1e-6)"
   ]
  },
  {
   "cell_type": "code",
   "execution_count": 69,
   "id": "4b9db405",
   "metadata": {},
   "outputs": [
    {
     "data": {
      "text/plain": [
       "[<matplotlib.lines.Line2D at 0x7fad734ef2b0>]"
      ]
     },
     "execution_count": 69,
     "metadata": {},
     "output_type": "execute_result"
    },
    {
     "data": {
      "image/png": "[encoded data removed]",
      "text/plain": [
       "<Figure size 432x288 with 1 Axes>"
      ]
     },
     "metadata": {
      "needs_background": "light"
     },
     "output_type": "display_data"
    }
   ],
   "source": [
    "# plotting a graph of the solutions\n",
    "plt.plot(sol.t,sol.y[0])\n",
    "plt.plot(sol.t,sol.y[1])"
   ]
  },
  {
   "cell_type": "code",
   "execution_count": 70,
   "id": "8fea5a4b",
   "metadata": {},
   "outputs": [],
   "source": [
    "#When b>0.26 over a long-time limit there is convergence \n",
    "#When b<0.26 over a long-time limit the amplitude increasescv "
   ]
  },
  {
   "cell_type": "code",
   "execution_count": 71,
   "id": "943028ac",
   "metadata": {},
   "outputs": [],
   "source": [
    "#Determining an appropriate phase-condition for the limit cycle\n",
    "#x*(1-x) - (a*x*y)/(d+x) = 0"
   ]
  },
  {
   "cell_type": "code",
   "execution_count": 72,
   "id": "3fee0d4f",
   "metadata": {},
   "outputs": [],
   "source": [
    "#Construct the shooting root-finding problem\n",
    "def g(u0, fun, args):\n",
    "    u, T = u0[:-1], u0[-1]\n",
    "    sol = solve_ivp(fun, (0,T), u, args = args, rtol = 1e-6)\n",
    "    final_states = sol.y[:,-1]\n",
    "    phase_condition = np.array([fun(T, u, args[0], args[1], args[2])[0]])\n",
    "    return np.concatenate((u-final_states, phase_condition))"
   ]
  },
  {
   "cell_type": "code",
   "execution_count": 73,
   "id": "93b4b2d0",
   "metadata": {},
   "outputs": [
    {
     "data": {
      "text/plain": [
       "array([0.27015621, 0.27015621, 3.14288296])"
      ]
     },
     "execution_count": 73,
     "metadata": {},
     "output_type": "execute_result"
    }
   ],
   "source": [
    "  #find the roots of g with an initial guess\n",
    "from scipy.optimize import fsolve\n",
    "root = fsolve(g,[1.5,1.5,20],args = (f, (a,b,d)))\n",
    "root"
   ]
  },
  {
   "cell_type": "code",
   "execution_count": 74,
   "id": "ab4e0c7b",
   "metadata": {},
   "outputs": [
    {
     "data": {
      "text/plain": [
       "[<matplotlib.lines.Line2D at 0x7fad735fc460>]"
      ]
     },
     "execution_count": 74,
     "metadata": {},
     "output_type": "execute_result"
    },
    {
     "data": {
      "image/png": "[encoded data removed]",
      "text/plain": [
       "<Figure size 432x288 with 1 Axes>"
      ]
     },
     "metadata": {
      "needs_background": "light"
     },
     "output_type": "display_data"
    }
   ],
   "source": [
    "#plot the solution for one periodic orbit\n",
    "sol = solve_ivp(f, (0,root[2]), root[:2], args = (a,b,d), rtol = 1e-6)\n",
    "plt.plot(sol.t, sol.y[0])\n",
    "plt.plot(sol.t, sol.y[1])"
   ]
  },
  {
   "cell_type": "code",
   "execution_count": 28,
   "id": "e893037d",
   "metadata": {},
   "outputs": [],
   "source": [
    "# Attempting to generalise the code\n",
    "# Improvements:\n",
    "# adjust code such that user can pass the phase-condition\n",
    "# make adjustments so that it's more general for passing arguments"
   ]
  },
  {
   "cell_type": "code",
   "execution_count": 12,
   "id": "60b73606",
   "metadata": {},
   "outputs": [],
   "source": [
    "# define a system of 3 odes\n",
    "def h(t,z,a,b,d):\n",
    "    x, y, w = z[0], z[1], z[2]\n",
    "    return [x*w*(1-x) - (a*x*y)/(d+x), (b*y)*(1 - y/(x))+w, w*(1-x)]"
   ]
  },
  {
   "cell_type": "code",
   "execution_count": 13,
   "id": "1f91e9c6",
   "metadata": {},
   "outputs": [],
   "source": [
    "#Generalising the code so that you can use arbitrary differential equations of arbitrary dimension\n",
    "\n",
    "def s(u0, fun, args):\n",
    "    u, T = u0[:-1], u0[-1]\n",
    "    sol = solve_ivp(fun, (0,T), u, args = args, rtol = 1e-6)\n",
    "    final_states = sol.y[:,-1]\n",
    "    phase_condition = np.array([fun(T, u, args[0], args[1], args[2])[0]])\n",
    "    return np.concatenate((u-final_states, phase_condition))"
   ]
  },
  {
   "cell_type": "code",
   "execution_count": 16,
   "id": "faa129a0",
   "metadata": {},
   "outputs": [
    {
     "data": {
      "text/plain": [
       "array([ 1.66064855e+00, -4.35724627e-07,  3.75115949e-07,  2.26284639e+01])"
      ]
     },
     "execution_count": 16,
     "metadata": {},
     "output_type": "execute_result"
    }
   ],
   "source": [
    "#find the roots of h with an initial guess\n",
    "from scipy.optimize import fsolve\n",
    "root = fsolve(s,[1.2,1.2,1.2,20],args = (h, (a,b,d)))\n",
    "root"
   ]
  },
  {
   "cell_type": "code",
   "execution_count": 17,
   "id": "11564678",
   "metadata": {},
   "outputs": [
    {
     "data": {
      "text/plain": [
       "[<matplotlib.lines.Line2D at 0x7fad72d79520>]"
      ]
     },
     "execution_count": 17,
     "metadata": {},
     "output_type": "execute_result"
    },
    {
     "data": {
      "image/png": "[encoded data removed]",
      "text/plain": [
       "<Figure size 432x288 with 1 Axes>"
      ]
     },
     "metadata": {
      "needs_background": "light"
     },
     "output_type": "display_data"
    }
   ],
   "source": [
    "#plot the solution\n",
    "sol = solve_ivp(h, (0,root[-1]), root[:-1], args = (a,b,d), rtol = 1e-6)\n",
    "plt.plot(sol.t, sol.y[0])\n",
    "plt.plot(sol.t, sol.y[1])"
   ]
  }
 ],
 "metadata": {
  "kernelspec": {
   "display_name": "Python 3",
   "language": "python",
   "name": "python3"
  },
  "language_info": {
   "codemirror_mode": {
    "name": "ipython",
    "version": 3
   },
   "file_extension": ".py",
   "mimetype": "text/x-python",
   "name": "python",
   "nbconvert_exporter": "python",
   "pygments_lexer": "ipython3",
   "version": "3.8.8"
  }
 },
 "nbformat": 4,
 "nbformat_minor": 5
}
