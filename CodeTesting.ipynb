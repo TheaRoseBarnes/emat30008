{
 "cells": [
  {
   "cell_type": "code",
   "execution_count": 6,
   "id": "a162cf34",
   "metadata": {},
   "outputs": [],
   "source": [
    "# importing relevant modules\n",
    "from scipy.integrate import odeint\n",
    "import numpy as np\n",
    "import matplotlib.pyplot as plt\n",
    "from scipy.optimize import fsolve\n",
    "from scipy.integrate import solve_ivp\n",
    "from scipy.optimize import fsolve\n",
    "import import_ipynb"
   ]
  },
  {
   "cell_type": "code",
   "execution_count": 7,
   "id": "d8570eb3",
   "metadata": {},
   "outputs": [],
   "source": [
    "# The Hopf bifurcation equations \n",
    "def Hopf(t,z,b,s):\n",
    "    u1, u2 = z[0], z[1]\n",
    "    return np.array([b*u1 - u2 + s*u1*(u1**2 + u2**2), u1 + b*u2 + s*u2*(u1**2 +u2**2)])"
   ]
  },
  {
   "cell_type": "code",
   "execution_count": 8,
   "id": "2b481f73",
   "metadata": {},
   "outputs": [],
   "source": [
    "def Hopf_exact(t,z,b,s):\n",
    "    # the exact solution\n",
    "    u1 = np.sqrt(b)*np.cos(t+z[-1])\n",
    "    u2 = np.sqrt(b)*np.sin(t+z[-1])\n",
    "    return [u1,u2]"
   ]
  },
  {
   "cell_type": "code",
   "execution_count": 9,
   "id": "03bb4f4d",
   "metadata": {},
   "outputs": [],
   "source": [
    "# assign values\n",
    "b = 2\n",
    "s = -1"
   ]
  },
  {
   "cell_type": "code",
   "execution_count": 10,
   "id": "1d30ae1d",
   "metadata": {},
   "outputs": [],
   "source": [
    "def phase_condition_func(func, u, T, args):\n",
    "    return func(T,u,*args)[0]"
   ]
  },
  {
   "cell_type": "code",
   "execution_count": 11,
   "id": "102f145f",
   "metadata": {},
   "outputs": [],
   "source": [
    "#Construct the shooting root-finding problem\n",
    "def shooting(u0, function, phase_condition,args):\n",
    "    \"\"\"\n",
    "    A function that uses numerical shooting to find limit cycles of\n",
    "    a specified ODE.\n",
    "\n",
    "    Parameters\n",
    "    ----------\n",
    "     u0 : numpy.array\n",
    "        An initial guess at the initial values for the limit cycle.\n",
    "    \n",
    "    fun : function\n",
    "        The ODE to apply shooting to. The ode function should take\n",
    "        a single parameter (the state vector) and return the\n",
    "        right-hand side of the ODE as a numpy.array.\n",
    "    \n",
    "    phase_condition: function\n",
    "                    The phase condition for the limit cycle.\n",
    "        \n",
    "    args: tuple\n",
    "        arguments passed for the numerical shooting\n",
    "\n",
    "    Returns\n",
    "    -------\n",
    "    Returns a numpy.array containing the corrected initial values\n",
    "    for the limit cycle. If the numerical root finder failed, the\n",
    "    returned array is empty.\n",
    "    \"\"\"\n",
    "    u, T = u0[:-1], u0[-1]\n",
    "    sol = solve_ivp(function, (0,T), u, args = args, rtol = 1e-6)\n",
    "    final_states = sol.y[:,-1]\n",
    "    phase = np.array([phase_condition(function,u,T,args)])\n",
    "    #phase_condition1 = np.array([function(T,u,args[0],args[1],args[2])[0]])\n",
    "    return np.concatenate((u-final_states, phase))"
   ]
  },
  {
   "cell_type": "code",
   "execution_count": 13,
   "id": "aac8b91d",
   "metadata": {},
   "outputs": [
    {
     "data": {
      "text/plain": [
       "array([ 1.41421405e+00, -1.96665397e-06,  6.28319044e+00])"
      ]
     },
     "execution_count": 13,
     "metadata": {},
     "output_type": "execute_result"
    }
   ],
   "source": [
    "#find the roots of the system of 2 ODE's with an initial guess\n",
    "from scipy.optimize import fsolve\n",
    "root = fsolve(shooting,[1,1,6.2],args = (Hopf, phase_condition_func, (2,-1)))\n",
    "root"
   ]
  },
  {
   "cell_type": "code",
   "execution_count": 14,
   "id": "49e50bf8",
   "metadata": {},
   "outputs": [
    {
     "data": {
      "text/plain": [
       "array([-0.40932326,  0.11751392,  1.        ])"
      ]
     },
     "execution_count": 14,
     "metadata": {},
     "output_type": "execute_result"
    }
   ],
   "source": [
    "shooting([1,0,6.2], Hopf, phase_condition_func,args=(2,-1))"
   ]
  },
  {
   "cell_type": "code",
   "execution_count": null,
   "id": "c8676df2",
   "metadata": {},
   "outputs": [],
   "source": []
  },
  {
   "cell_type": "code",
   "execution_count": null,
   "id": "201b01c2",
   "metadata": {},
   "outputs": [],
   "source": [
    "# importing the testing_2ODE function from test_script\n",
    "from ipynb.fs.full.test_script import testing_2ODE"
   ]
  },
  {
   "cell_type": "code",
   "execution_count": null,
   "id": "fa441983",
   "metadata": {},
   "outputs": [],
   "source": [
    "from test_script import testing_2ODE"
   ]
  },
  {
   "cell_type": "code",
   "execution_count": 19,
   "id": "c7a523ab",
   "metadata": {},
   "outputs": [],
   "source": [
    "# define a test script that runs the shooting code and checks it against its true solution\n",
    "# works for 2 ODEs\n",
    "# checking that a function produces the correct output for a given input\n",
    "def testing_2ODE(solver, initial_guess, args):\n",
    "    (Hopf,phase_condition_func,(b,s)) = args\n",
    "    \n",
    "    # adding tests to check that the code handles errors gracefully\n",
    "    if np.size(initial_guess) != 3:\n",
    "        print(\"must specify 3 input arguments for a system of 2 ODE's\")\n",
    "    else:\n",
    "    \n",
    "        root = fsolve(solver, initial_guess, args = args)\n",
    "\n",
    "        \n",
    "        # defining the true solution\n",
    "        true_sol = [np.sqrt(b)*np.cos(initial_guess[-1]+root[-1]), np.sqrt(b)*np.sin(initial_guess[-1]+root[-1])]\n",
    "        \n",
    "        \n",
    "        # calculating the error\n",
    "        error =  root[:-1] - true_sol\n",
    "\n",
    "        if np.allclose(error,[0,0]) == True:\n",
    "            result = print('Test passed')\n",
    "        else:\n",
    "            result = print('Test failed')\n",
    "        return root, true_sol"
   ]
  },
  {
   "cell_type": "code",
   "execution_count": 21,
   "id": "2ed50ddf",
   "metadata": {},
   "outputs": [],
   "source": [
    "# define a test script that runs the shooting code and checks it against its true solution\n",
    "# works for 3 ODEs\n",
    "# checking that a function produces the correct output for a given input\n",
    "def testing_3ODE(solver, initial_guess, args):\n",
    "    (k,phase_condition_func ,(b,s)) = args\n",
    "    \n",
    "    # adding tests to check that the code handles errors gracefully\n",
    "    if np.size(initial_guess) != 4:\n",
    "        print(\"must specify 4 input arguments for a system of 3 ODE's\")\n",
    "    else:\n",
    "    \n",
    "        root = fsolve(solver, initial_guess,args = args)\n",
    "        \n",
    "        # defining the true solution\n",
    "        true_sol = [np.sqrt(b)*np.cos(initial_guess[-1]+root[-1]), np.sqrt(b)*np.sin(initial_guess[-1]+root[-1]), np.exp(-initial_guess[-1])]\n",
    "        \n",
    "        # calculating the error\n",
    "        error =  root[:-1] - true_sol\n",
    "\n",
    "        if np.allclose(error,[0,0,0]) == True:\n",
    "            result = print('Test passed')\n",
    "        else:\n",
    "            result = print('Test failed')\n",
    "        return result"
   ]
  },
  {
   "cell_type": "code",
   "execution_count": 20,
   "id": "49f13a3a",
   "metadata": {},
   "outputs": [
    {
     "name": "stdout",
     "output_type": "stream",
     "text": [
      "Test failed\n"
     ]
    },
    {
     "data": {
      "text/plain": [
       "(array([ 1.41421405e+00, -1.96663379e-06,  6.28319044e+00]),\n",
       " [1.4093239527550896, -0.11749891995576171])"
      ]
     },
     "execution_count": 20,
     "metadata": {},
     "output_type": "execute_result"
    }
   ],
   "source": [
    "# call the test function from the testing_2ODE file\n",
    "# if the test has passed then the roots found are close to the true solution\n",
    "# if the test has failed then the roots found are not within a tolerance of the true solution\n",
    "testing_2ODE(shooting,[1,0,6.2],(Hopf,phase_condition_func,(2,-1)))"
   ]
  },
  {
   "cell_type": "code",
   "execution_count": 22,
   "id": "b1b6e886",
   "metadata": {},
   "outputs": [],
   "source": [
    "# add another dimension for the Hopf bifurcation equations \n",
    "#so that we have a system of 3 ODE's\n",
    "def k(t,z,b,s):\n",
    "    u1, u2, u3 = z[0], z[1], z[2]\n",
    "    return [b*u1 - u2 + s*u1*(u1**2 + u2**2), u1 + b*u2 + s*u2*(u1**2 +u2**2), -u3]"
   ]
  },
  {
   "cell_type": "code",
   "execution_count": null,
   "id": "9eecea81",
   "metadata": {},
   "outputs": [],
   "source": [
    "# importing the testing_3ODE function from test_script\n",
    "from ipynb.fs.full.test_script import testing_3ODE"
   ]
  },
  {
   "cell_type": "code",
   "execution_count": null,
   "id": "92105810",
   "metadata": {},
   "outputs": [],
   "source": [
    "from test_script import testing_3ODE"
   ]
  },
  {
   "cell_type": "code",
   "execution_count": 23,
   "id": "1ae693d1",
   "metadata": {},
   "outputs": [
    {
     "name": "stdout",
     "output_type": "stream",
     "text": [
      "Test failed\n"
     ]
    }
   ],
   "source": [
    "# call the test function from the testing_3ODE file\n",
    "# if the test has passed then the roots found are close to the true solution\n",
    "# if the test has failed then the roots found are not within a tolerance of the true solution\n",
    "testing_3ODE(shooting,[1,0,0,6.2],(k,phase_condition_func,(b,s)))"
   ]
  },
  {
   "cell_type": "code",
   "execution_count": null,
   "id": "ffcee20f",
   "metadata": {},
   "outputs": [],
   "source": [
    "# Additions needed\n",
    "# check that your code handles errors gracefully\n",
    "# Consider errors such as\n",
    "# providing inputs such that the numerical root finder does not converge.\n"
   ]
  }
 ],
 "metadata": {
  "kernelspec": {
   "display_name": "Python 3",
   "language": "python",
   "name": "python3"
  },
  "language_info": {
   "codemirror_mode": {
    "name": "ipython",
    "version": 3
   },
   "file_extension": ".py",
   "mimetype": "text/x-python",
   "name": "python",
   "nbconvert_exporter": "python",
   "pygments_lexer": "ipython3",
   "version": "3.8.8"
  }
 },
 "nbformat": 4,
 "nbformat_minor": 5
}
