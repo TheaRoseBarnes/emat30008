{
 "cells": [
  {
   "cell_type": "code",
   "execution_count": 1,
   "id": "a162cf34",
   "metadata": {},
   "outputs": [],
   "source": [
    "# importing relevant modules\n",
    "from scipy.integrate import odeint\n",
    "import numpy as np\n",
    "import matplotlib.pyplot as plt\n",
    "from scipy.optimize import fsolve\n",
    "from scipy.integrate import solve_ivp\n",
    "from scipy.optimize import fsolve\n",
    "import import_ipynb"
   ]
  },
  {
   "cell_type": "code",
   "execution_count": 2,
   "id": "d8570eb3",
   "metadata": {},
   "outputs": [],
   "source": [
    "# The Hopf bifurcation equations \n",
    "def Hopf(t,z,b,s):\n",
    "    u1, u2 = z[0], z[1]\n",
    "    return np.array([b*u1 - u2 + s*u1*(u1**2 + u2**2), u1 + b*u2 + s*u2*(u1**2 +u2**2)])"
   ]
  },
  {
   "cell_type": "code",
   "execution_count": 3,
   "id": "03bb4f4d",
   "metadata": {},
   "outputs": [],
   "source": [
    "# assign values\n",
    "b = 1\n",
    "s = -1"
   ]
  },
  {
   "cell_type": "code",
   "execution_count": 4,
   "id": "93ab1b45",
   "metadata": {},
   "outputs": [],
   "source": [
    "def phase_condition_func(func, u, T, args):\n",
    "    return func(T,u,*args)[0]"
   ]
  },
  {
   "cell_type": "code",
   "execution_count": 5,
   "id": "102f145f",
   "metadata": {},
   "outputs": [],
   "source": [
    "#Construct the shooting root-finding problem\n",
    "def shooting(u0, function, phase_condition,args):\n",
    "    \"\"\"\n",
    "    A function that uses numerical shooting to find limit cycles of\n",
    "    a specified ODE.\n",
    "\n",
    "    Parameters\n",
    "    ----------\n",
    "     u0 : numpy.array\n",
    "        An initial guess at the initial values for the limit cycle.\n",
    "    \n",
    "    fun : function\n",
    "        The ODE to apply shooting to. The ode function should take\n",
    "        a single parameter (the state vector) and return the\n",
    "        right-hand side of the ODE as a numpy.array.\n",
    "    \n",
    "    phase_condition: function\n",
    "                    The phase condition for the limit cycle.\n",
    "        \n",
    "    args: tuple\n",
    "        arguments passed for the numerical shooting\n",
    "\n",
    "    Returns\n",
    "    -------\n",
    "    Returns a numpy.array containing the corrected initial values\n",
    "    for the limit cycle. If the numerical root finder failed, the\n",
    "    returned array is empty.\n",
    "    \"\"\"\n",
    "    u, T = u0[:-1], u0[-1]\n",
    "    sol = solve_ivp(function, (0,T), u, args = args, rtol = 1e-6)\n",
    "    final_states = sol.y[:,-1]\n",
    "    phase = np.array([phase_condition(function,u,T,args)])\n",
    "    #phase_condition1 = np.array([function(T,u,args[0],args[1],args[2])[0]])\n",
    "    return np.concatenate((u-final_states, phase))"
   ]
  },
  {
   "cell_type": "code",
   "execution_count": 6,
   "id": "aac8b91d",
   "metadata": {},
   "outputs": [
    {
     "data": {
      "text/plain": [
       "array([ 1.00001055e+00, -2.11038334e-05,  6.28323668e+00])"
      ]
     },
     "execution_count": 6,
     "metadata": {},
     "output_type": "execute_result"
    }
   ],
   "source": [
    "#find the roots of the system of 2 ODE's with an initial guess\n",
    "from scipy.optimize import fsolve\n",
    "root = fsolve(shooting,[1,1,6.2],args = (Hopf, phase_condition_func, (1,-1)))\n",
    "root"
   ]
  },
  {
   "cell_type": "code",
   "execution_count": 7,
   "id": "49e50bf8",
   "metadata": {},
   "outputs": [
    {
     "data": {
      "text/plain": [
       "array([0.00345289, 0.08314003, 0.        ])"
      ]
     },
     "execution_count": 7,
     "metadata": {},
     "output_type": "execute_result"
    }
   ],
   "source": [
    "shooting([1,0,6.2], Hopf, phase_condition_func,args=(1,-1))"
   ]
  },
  {
   "cell_type": "code",
   "execution_count": null,
   "id": "c8676df2",
   "metadata": {},
   "outputs": [],
   "source": []
  },
  {
   "cell_type": "code",
   "execution_count": 8,
   "id": "201b01c2",
   "metadata": {},
   "outputs": [],
   "source": [
    "# importing the testing_2ODE function from test_script\n",
    "from ipynb.fs.full.test_script import testing_2ODE"
   ]
  },
  {
   "cell_type": "code",
   "execution_count": 9,
   "id": "fa441983",
   "metadata": {},
   "outputs": [
    {
     "name": "stdout",
     "output_type": "stream",
     "text": [
      "importing Jupyter notebook from test_script.ipynb\n"
     ]
    }
   ],
   "source": [
    "from test_script import testing_2ODE"
   ]
  },
  {
   "cell_type": "code",
   "execution_count": 10,
   "id": "49f13a3a",
   "metadata": {},
   "outputs": [
    {
     "name": "stdout",
     "output_type": "stream",
     "text": [
      "Test passed\n"
     ]
    }
   ],
   "source": [
    "# call the test function from the testing_2ODE file\n",
    "# if the test has passed then the roots found are close to the true solution\n",
    "# if the test has failed then the roots found are not within a tolerance of the true solution\n",
    "testing_2ODE(shooting,[1,0,6.2],(Hopf,phase_condition_func,(1,-1)))"
   ]
  },
  {
   "cell_type": "code",
   "execution_count": 11,
   "id": "b1b6e886",
   "metadata": {},
   "outputs": [],
   "source": [
    "# add another dimension for the Hopf bifurcation equations \n",
    "#so that we have a system of 3 ODE's\n",
    "def k(t,z,b,s):\n",
    "    u1, u2, u3 = z[0], z[1], z[2]\n",
    "    return [b*u1 - u2 + s*u1*(u1**2 + u2**2), u1 + b*u2 + s*u2*(u1**2 +u2**2), -u3]"
   ]
  },
  {
   "cell_type": "code",
   "execution_count": 12,
   "id": "9eecea81",
   "metadata": {},
   "outputs": [],
   "source": [
    "# importing the testing_3ODE function from test_script\n",
    "from ipynb.fs.full.test_script import testing_3ODE"
   ]
  },
  {
   "cell_type": "code",
   "execution_count": 13,
   "id": "92105810",
   "metadata": {},
   "outputs": [],
   "source": [
    "from test_script import testing_3ODE"
   ]
  },
  {
   "cell_type": "code",
   "execution_count": 14,
   "id": "1ae693d1",
   "metadata": {},
   "outputs": [
    {
     "name": "stdout",
     "output_type": "stream",
     "text": [
      "Test passed\n"
     ]
    },
    {
     "data": {
      "text/plain": [
       "(array([ 1.00001331e+00, -2.66280062e-05, -1.00305059e-31,  5.02659949e+01]),\n",
       " [0.9999998686853143, 0.0005124737593983193, 1.478276843684483e-22],\n",
       " array([ 1.34446975e-05, -5.39101766e-04, -1.47827684e-22]))"
      ]
     },
     "execution_count": 14,
     "metadata": {},
     "output_type": "execute_result"
    }
   ],
   "source": [
    "# call the test function from the testing_3ODE file\n",
    "# if the test has passed then the roots found are close to the true solution\n",
    "# if the test has failed then the roots found are not within a tolerance of the true solution\n",
    "testing_3ODE(shooting,[3,2,3,6.2],(k,phase_condition_func,(1,-1)))"
   ]
  },
  {
   "cell_type": "code",
   "execution_count": null,
   "id": "ffcee20f",
   "metadata": {},
   "outputs": [],
   "source": [
    "# Additions needed\n",
    "# check that your code handles errors gracefully\n",
    "# Consider errors such as\n",
    "# providing inputs such that the numerical root finder does not converge.\n"
   ]
  }
 ],
 "metadata": {
  "kernelspec": {
   "display_name": "Python 3",
   "language": "python",
   "name": "python3"
  },
  "language_info": {
   "codemirror_mode": {
    "name": "ipython",
    "version": 3
   },
   "file_extension": ".py",
   "mimetype": "text/x-python",
   "name": "python",
   "nbconvert_exporter": "python",
   "pygments_lexer": "ipython3",
   "version": "3.8.8"
  }
 },
 "nbformat": 4,
 "nbformat_minor": 5
}
