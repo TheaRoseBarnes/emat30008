{
 "cells": [
  {
   "cell_type": "code",
   "execution_count": 84,
   "id": "a162cf34",
   "metadata": {},
   "outputs": [],
   "source": [
    "# importing relevant modules\n",
    "from scipy.integrate import odeint\n",
    "import numpy as np\n",
    "import matplotlib.pyplot as plt\n",
    "from scipy.optimize import fsolve\n",
    "from scipy.integrate import solve_ivp\n",
    "from scipy.optimize import fsolve\n",
    "import import_ipynb"
   ]
  },
  {
   "cell_type": "code",
   "execution_count": 85,
   "id": "d8570eb3",
   "metadata": {},
   "outputs": [],
   "source": [
    "# define a system of 2 odes\n",
    "def h(t,z,b,s):\n",
    "    u, w = z[0], z[1]\n",
    "    return [b*u - w + s*u*(u**2 + w**2), u + b*w + s*w*(u**2 +w**2)]"
   ]
  },
  {
   "cell_type": "code",
   "execution_count": 86,
   "id": "03bb4f4d",
   "metadata": {},
   "outputs": [],
   "source": [
    "# assign values\n",
    "b = 2\n",
    "s = -1"
   ]
  },
  {
   "cell_type": "code",
   "execution_count": 87,
   "id": "102f145f",
   "metadata": {},
   "outputs": [],
   "source": [
    "#generalise the shooting root-finding problem\n",
    "def shooting(u0, fun, args):\n",
    "    \"\"\"\n",
    "    A function that uses numerical shooting to find limit cycles of\n",
    "    a specified ODE.\n",
    "\n",
    "    Parameters\n",
    "    ----------\n",
    "    fun : function\n",
    "        The ODE to apply shooting to. The ode function should take\n",
    "        a single parameter (the state vector) and return the\n",
    "        right-hand side of the ODE as a numpy.array.\n",
    "    u0 : numpy.array\n",
    "        An initial guess at the initial values for the limit cycle.\n",
    "        \n",
    "    args: tuple\n",
    "        arguments passed for the numerical shooting\n",
    "\n",
    "    Returns\n",
    "    -------\n",
    "    Returns a numpy.array containing the corrected initial values\n",
    "    for the limit cycle. If the numerical root finder failed, the\n",
    "    returned array is empty.\n",
    "    \"\"\"\n",
    "    u, T = u0[:-1], u0[-1]\n",
    "    sol = solve_ivp(fun, (0,T), u, args = args, rtol = 1e-6)\n",
    "    final_states = sol.y[:,-1]\n",
    "    phase_condition = np.array([fun(T, u, args[0], args[1])[0]])\n",
    "    return np.concatenate((u-final_states, phase_condition))"
   ]
  },
  {
   "cell_type": "code",
   "execution_count": 88,
   "id": "aac8b91d",
   "metadata": {},
   "outputs": [
    {
     "data": {
      "text/plain": [
       "array([ 1.41421415e+00, -2.33927419e-06,  1.25663810e+01])"
      ]
     },
     "execution_count": 88,
     "metadata": {},
     "output_type": "execute_result"
    }
   ],
   "source": [
    "#find the roots of h with an initial guess\n",
    "from scipy.optimize import fsolve\n",
    "root = fsolve(shooting,[1.2,1.2,15],args = (h, (b,s)))\n",
    "root"
   ]
  },
  {
   "cell_type": "code",
   "execution_count": 89,
   "id": "6e2f4efb",
   "metadata": {},
   "outputs": [
    {
     "name": "stdout",
     "output_type": "stream",
     "text": [
      "-1.0744551943911713\n",
      "0.9195357715966412\n"
     ]
    }
   ],
   "source": [
    "u = np.sqrt(b)*np.cos(15+1.25664731e+01)\n",
    "w = np.sqrt(b)*np.sin(15+1.25664731e+01)\n",
    "print(u)\n",
    "print(w)"
   ]
  },
  {
   "cell_type": "code",
   "execution_count": 90,
   "id": "f565c21b",
   "metadata": {},
   "outputs": [],
   "source": [
    "# note **ideally test function should be in another file**\n",
    "# define a test \n",
    "# checking that a function produces the correct output for a given input\n",
    "def testing(solver, initial_guess, args):\n",
    "    \n",
    "    # adding tests to check that the code handles errors gracefully **need to generalise so its not 3\n",
    "    if np.size(initial_guess) != 3:\n",
    "        print('inncorrect number of input arguments')\n",
    "    else:\n",
    "    \n",
    "        root = fsolve(solver, initial_guess, args = args)\n",
    "        error =  root[:-1] - [np.sqrt(b)*np.cos(initial_guess[-1]+root[-1]), np.sqrt(b)*np.sin(initial_guess[-1]+root[-1])]\n",
    "\n",
    "\n",
    "        if np.allclose(error,[0,0]) == True:\n",
    "            result = print('Test passed')\n",
    "        else:\n",
    "            result = print('Test failed')\n",
    "        return result"
   ]
  },
  {
   "cell_type": "code",
   "execution_count": 91,
   "id": "b7a5da60",
   "metadata": {},
   "outputs": [],
   "source": [
    "#from ipynb.fs.full.test_script import testing\n"
   ]
  },
  {
   "cell_type": "code",
   "execution_count": 94,
   "id": "49f13a3a",
   "metadata": {},
   "outputs": [
    {
     "name": "stdout",
     "output_type": "stream",
     "text": [
      "Test failed\n"
     ]
    }
   ],
   "source": [
    "testing(shooting,[1.2,1.2,20],(h,(b,s)))"
   ]
  },
  {
   "cell_type": "code",
   "execution_count": 80,
   "id": "b1b6e886",
   "metadata": {},
   "outputs": [],
   "source": [
    "# vary the number of dimensions\n",
    "def h(t,z,b,s):\n",
    "    u1, u2, u3 = z[0], z[1], z[2]\n",
    "    return [b*u1 - u2 + s*u1*(u1**2 + u2**2), u1 + b*u2 + s*u2*(u1**2 +u2**2), -u3]"
   ]
  },
  {
   "cell_type": "code",
   "execution_count": null,
   "id": "c3e65308",
   "metadata": {},
   "outputs": [],
   "source": [
    "# adding tests to check that the code handles errors gracefully\n"
   ]
  }
 ],
 "metadata": {
  "kernelspec": {
   "display_name": "Python 3",
   "language": "python",
   "name": "python3"
  },
  "language_info": {
   "codemirror_mode": {
    "name": "ipython",
    "version": 3
   },
   "file_extension": ".py",
   "mimetype": "text/x-python",
   "name": "python",
   "nbconvert_exporter": "python",
   "pygments_lexer": "ipython3",
   "version": "3.8.8"
  }
 },
 "nbformat": 4,
 "nbformat_minor": 5
}
