{
 "cells": [
  {
   "cell_type": "code",
   "execution_count": 39,
   "id": "ee2218d9",
   "metadata": {},
   "outputs": [],
   "source": [
    "# importing relevant modules\n",
    "from scipy.integrate import odeint\n",
    "import numpy as np\n",
    "import matplotlib.pyplot as plt\n",
    "from scipy.optimize import fsolve\n",
    "from scipy.integrate import solve_ivp\n",
    "from scipy.optimize import fsolve"
   ]
  },
  {
   "cell_type": "code",
   "execution_count": 40,
   "id": "c748dedf",
   "metadata": {},
   "outputs": [
    {
     "name": "stdout",
     "output_type": "stream",
     "text": [
      "Test passed\n"
     ]
    }
   ],
   "source": [
    "# checking that a function produces the correct output for a given input\n",
    "def myfunc(x):\n",
    "    return np.sin(x)+2\n",
    "\n",
    "result = myfunc(0.5)\n",
    "if abs(result - 2.4794255) < 1e-6:  # value computed with a calculator\n",
    "    print(\"Test passed\")\n",
    "else:\n",
    "    print(\"Test failed\")"
   ]
  },
  {
   "cell_type": "code",
   "execution_count": 41,
   "id": "fa2a46e1",
   "metadata": {},
   "outputs": [],
   "source": [
    "# define a system of 2 odes\n",
    "def h(t,z,b,s):\n",
    "    u, w = z[0], z[1]\n",
    "    return [b*u - w + s*u*(u**2 + w**2), u + b*w + s*w*(u**2 +w**2)]"
   ]
  },
  {
   "cell_type": "code",
   "execution_count": 36,
   "id": "6a95d456",
   "metadata": {},
   "outputs": [],
   "source": [
    "# assign values\n",
    "b = 1\n",
    "s = -1"
   ]
  },
  {
   "cell_type": "code",
   "execution_count": 37,
   "id": "102f145f",
   "metadata": {},
   "outputs": [],
   "source": [
    "#generalise the shooting root-finding problem\n",
    "def shooting(u0, fun, args):\n",
    "    u, T = u0[:-1], u0[-1]\n",
    "    sol = solve_ivp(fun, (0,T), u, args = args, rtol = 1e-6)\n",
    "    final_states = sol.y[:,-1]\n",
    "    phase_condition = np.array([fun(T, u, args[0], args[1])[0]])\n",
    "    return np.concatenate((u-final_states, phase_condition))"
   ]
  },
  {
   "cell_type": "code",
   "execution_count": 38,
   "id": "c393c10a",
   "metadata": {},
   "outputs": [
    {
     "data": {
      "text/plain": [
       "array([ 1.00000930e+00, -1.86034265e-05,  1.25664731e+01])"
      ]
     },
     "execution_count": 38,
     "metadata": {},
     "output_type": "execute_result"
    }
   ],
   "source": [
    "#find the roots of h with an initial guess\n",
    "from scipy.optimize import fsolve\n",
    "root = fsolve(shooting,[1.2,1.2,15],args = (h, (b,s)))\n",
    "root"
   ]
  },
  {
   "cell_type": "code",
   "execution_count": null,
   "id": "3e139257",
   "metadata": {},
   "outputs": [],
   "source": []
  }
 ],
 "metadata": {
  "kernelspec": {
   "display_name": "Python 3",
   "language": "python",
   "name": "python3"
  },
  "language_info": {
   "codemirror_mode": {
    "name": "ipython",
    "version": 3
   },
   "file_extension": ".py",
   "mimetype": "text/x-python",
   "name": "python",
   "nbconvert_exporter": "python",
   "pygments_lexer": "ipython3",
   "version": "3.8.8"
  }
 },
 "nbformat": 4,
 "nbformat_minor": 5
}
