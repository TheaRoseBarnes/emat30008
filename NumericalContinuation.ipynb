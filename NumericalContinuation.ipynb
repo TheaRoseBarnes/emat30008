{
 "cells": [
  {
   "cell_type": "code",
   "execution_count": 1,
   "id": "d0e4618f",
   "metadata": {},
   "outputs": [],
   "source": [
    "# The algebraic cubic equation\n",
    "#x**3 - x + c = 0"
   ]
  },
  {
   "cell_type": "code",
   "execution_count": 2,
   "id": "015526c9",
   "metadata": {},
   "outputs": [],
   "source": [
    "# importing relevant modules\n",
    "from scipy.integrate import odeint\n",
    "import numpy as np\n",
    "import matplotlib.pyplot as plt\n",
    "from scipy.optimize import fsolve\n",
    "from scipy.integrate import solve_ivp\n",
    "from scipy.optimize import fsolve\n",
    "import import_ipynb"
   ]
  },
  {
   "cell_type": "code",
   "execution_count": 3,
   "id": "407ee1ad",
   "metadata": {},
   "outputs": [],
   "source": [
    "# The Hopf bifurcation equations \n",
    "def Hopf(t,z,b,s):\n",
    "    u1, u2 = z[0], z[1]\n",
    "    return [b*u1 - u2 + s*u1*(u1**2 + u2**2), u1 + b*u2 + s*u2*(u1**2 +u2**2)]"
   ]
  },
  {
   "cell_type": "code",
   "execution_count": 4,
   "id": "cbeda1d0",
   "metadata": {},
   "outputs": [],
   "source": [
    "# The modified Hopf bifurcation equations \n",
    "def mod_Hopf(t,z,b,s):\n",
    "    u1, u2 = z[0], z[1]\n",
    "    return [b*u1 - u2 + s*u1*(u1**2 + u2**2) - u1(u1**2 + u2**2)**2, u1 + b*u2 + s*u2*(u1**2 +u2**2) - u2(u1**2 + u2**2)**2]"
   ]
  },
  {
   "cell_type": "code",
   "execution_count": null,
   "id": "5d6eda2f",
   "metadata": {},
   "outputs": [],
   "source": [
    "#natural parameter continuation\n",
    "# b is the parameter we vary\n",
    "#b = 0.1\n",
    "#increment = 0.01\n",
    "\n",
    "#parameter = parameter + increment \n",
    "#initial_guess "
   ]
  },
  {
   "cell_type": "code",
   "execution_count": 5,
   "id": "1eb8ea88",
   "metadata": {},
   "outputs": [],
   "source": [
    "def shooting(u0, fun, args):\n",
    "    u, T = u0[:-1], u0[-1]\n",
    "    sol = solve_ivp(fun, (0,T), u, args = args, rtol = 1e-6)\n",
    "    final_states = sol.y[:,-1]\n",
    "    phase_condition = np.array([fun(T, u, args[0], args[1])[0]])\n",
    "    return np.concatenate((u-final_states, phase_condition))"
   ]
  },
  {
   "cell_type": "code",
   "execution_count": 11,
   "id": "2b916e21",
   "metadata": {},
   "outputs": [
    {
     "data": {
      "text/plain": [
       "array([ 1.37840556e+00, -2.59988344e-06,  6.28319125e+00])"
      ]
     },
     "execution_count": 11,
     "metadata": {},
     "output_type": "execute_result"
    }
   ],
   "source": [
    "#find the roots of the system of 2 ODE's with an initial guess\n",
    "from scipy.optimize import fsolve\n",
    "s=-1\n",
    "root = fsolve(shooting,[1,0,6.2],args = (Hopf, (b,s)))\n",
    "root"
   ]
  },
  {
   "cell_type": "code",
   "execution_count": 25,
   "id": "bfcdc869",
   "metadata": {},
   "outputs": [
    {
     "name": "stdout",
     "output_type": "stream",
     "text": [
      "[array([3.16227405e-01, 7.22127415e-08, 6.28318090e+00])]\n",
      "[array([3.16227405e-01, 7.22127415e-08, 6.28318090e+00]), array([ 4.47214168e-01, -2.29184063e-07,  6.28318593e+00])]\n",
      "[array([3.16227405e-01, 7.22127415e-08, 6.28318090e+00]), array([ 4.47214168e-01, -2.29184063e-07,  6.28318593e+00]), array([ 5.47723671e-01, -6.68259881e-07,  6.28318958e+00])]\n",
      "[array([3.16227405e-01, 7.22127415e-08, 6.28318090e+00]), array([ 4.47214168e-01, -2.29184063e-07,  6.28318593e+00]), array([ 5.47723671e-01, -6.68259881e-07,  6.28318958e+00]), array([ 6.32456978e-01, -1.15682336e-06,  6.28319224e+00])]\n",
      "[array([3.16227405e-01, 7.22127415e-08, 6.28318090e+00]), array([ 4.47214168e-01, -2.29184063e-07,  6.28318593e+00]), array([ 5.47723671e-01, -6.68259881e-07,  6.28318958e+00]), array([ 6.32456978e-01, -1.15682336e-06,  6.28319224e+00]), array([ 7.07108695e-01, -1.91370815e-06,  6.28319493e+00])]\n",
      "[array([3.16227405e-01, 7.22127415e-08, 6.28318090e+00]), array([ 4.47214168e-01, -2.29184063e-07,  6.28318593e+00]), array([ 5.47723671e-01, -6.68259881e-07,  6.28318958e+00]), array([ 6.32456978e-01, -1.15682336e-06,  6.28319224e+00]), array([ 7.07108695e-01, -1.91370815e-06,  6.28319493e+00]), array([ 7.74599092e-01, -2.90702841e-06,  6.28319808e+00])]\n",
      "[array([3.16227405e-01, 7.22127415e-08, 6.28318090e+00]), array([ 4.47214168e-01, -2.29184063e-07,  6.28318593e+00]), array([ 5.47723671e-01, -6.68259881e-07,  6.28318958e+00]), array([ 6.32456978e-01, -1.15682336e-06,  6.28319224e+00]), array([ 7.07108695e-01, -1.91370815e-06,  6.28319493e+00]), array([ 7.74599092e-01, -2.90702841e-06,  6.28319808e+00]), array([ 8.36663737e-01, -5.19519221e-06,  6.28320274e+00])]\n",
      "[array([3.16227405e-01, 7.22127415e-08, 6.28318090e+00]), array([ 4.47214168e-01, -2.29184063e-07,  6.28318593e+00]), array([ 5.47723671e-01, -6.68259881e-07,  6.28318958e+00]), array([ 6.32456978e-01, -1.15682336e-06,  6.28319224e+00]), array([ 7.07108695e-01, -1.91370815e-06,  6.28319493e+00]), array([ 7.74599092e-01, -2.90702841e-06,  6.28319808e+00]), array([ 8.36663737e-01, -5.19519221e-06,  6.28320274e+00]), array([ 8.94432243e-01, -8.08284037e-06,  6.28320942e+00])]\n",
      "[array([3.16227405e-01, 7.22127415e-08, 6.28318090e+00]), array([ 4.47214168e-01, -2.29184063e-07,  6.28318593e+00]), array([ 5.47723671e-01, -6.68259881e-07,  6.28318958e+00]), array([ 6.32456978e-01, -1.15682336e-06,  6.28319224e+00]), array([ 7.07108695e-01, -1.91370815e-06,  6.28319493e+00]), array([ 7.74599092e-01, -2.90702841e-06,  6.28319808e+00]), array([ 8.36663737e-01, -5.19519221e-06,  6.28320274e+00]), array([ 8.94432243e-01, -8.08284037e-06,  6.28320942e+00]), array([ 9.48689239e-01, -1.06948348e-05,  6.28321962e+00])]\n",
      "[array([3.16227405e-01, 7.22127415e-08, 6.28318090e+00]), array([ 4.47214168e-01, -2.29184063e-07,  6.28318593e+00]), array([ 5.47723671e-01, -6.68259881e-07,  6.28318958e+00]), array([ 6.32456978e-01, -1.15682336e-06,  6.28319224e+00]), array([ 7.07108695e-01, -1.91370815e-06,  6.28319493e+00]), array([ 7.74599092e-01, -2.90702841e-06,  6.28319808e+00]), array([ 8.36663737e-01, -5.19519221e-06,  6.28320274e+00]), array([ 8.94432243e-01, -8.08284037e-06,  6.28320942e+00]), array([ 9.48689239e-01, -1.06948348e-05,  6.28321962e+00]), array([ 1.00001055e+00, -2.11039601e-05,  6.28323668e+00])]\n",
      "[array([3.16227405e-01, 7.22127415e-08, 6.28318090e+00]), array([ 4.47214168e-01, -2.29184063e-07,  6.28318593e+00]), array([ 5.47723671e-01, -6.68259881e-07,  6.28318958e+00]), array([ 6.32456978e-01, -1.15682336e-06,  6.28319224e+00]), array([ 7.07108695e-01, -1.91370815e-06,  6.28319493e+00]), array([ 7.74599092e-01, -2.90702841e-06,  6.28319808e+00]), array([ 8.36663737e-01, -5.19519221e-06,  6.28320274e+00]), array([ 8.94432243e-01, -8.08284037e-06,  6.28320942e+00]), array([ 9.48689239e-01, -1.06948348e-05,  6.28321962e+00]), array([ 1.00001055e+00, -2.11039601e-05,  6.28323668e+00]), array([ 1.04882122e+00, -2.72271061e-05,  6.28324725e+00])]\n",
      "[array([3.16227405e-01, 7.22127415e-08, 6.28318090e+00]), array([ 4.47214168e-01, -2.29184063e-07,  6.28318593e+00]), array([ 5.47723671e-01, -6.68259881e-07,  6.28318958e+00]), array([ 6.32456978e-01, -1.15682336e-06,  6.28319224e+00]), array([ 7.07108695e-01, -1.91370815e-06,  6.28319493e+00]), array([ 7.74599092e-01, -2.90702841e-06,  6.28319808e+00]), array([ 8.36663737e-01, -5.19519221e-06,  6.28320274e+00]), array([ 8.94432243e-01, -8.08284037e-06,  6.28320942e+00]), array([ 9.48689239e-01, -1.06948348e-05,  6.28321962e+00]), array([ 1.00001055e+00, -2.11039601e-05,  6.28323668e+00]), array([ 1.04882122e+00, -2.72271061e-05,  6.28324725e+00]), array([ 1.09545563e+00, -2.52419919e-05,  6.28322858e+00])]\n",
      "[array([3.16227405e-01, 7.22127415e-08, 6.28318090e+00]), array([ 4.47214168e-01, -2.29184063e-07,  6.28318593e+00]), array([ 5.47723671e-01, -6.68259881e-07,  6.28318958e+00]), array([ 6.32456978e-01, -1.15682336e-06,  6.28319224e+00]), array([ 7.07108695e-01, -1.91370815e-06,  6.28319493e+00]), array([ 7.74599092e-01, -2.90702841e-06,  6.28319808e+00]), array([ 8.36663737e-01, -5.19519221e-06,  6.28320274e+00]), array([ 8.94432243e-01, -8.08284037e-06,  6.28320942e+00]), array([ 9.48689239e-01, -1.06948348e-05,  6.28321962e+00]), array([ 1.00001055e+00, -2.11039601e-05,  6.28323668e+00]), array([ 1.04882122e+00, -2.72271061e-05,  6.28324725e+00]), array([ 1.09545563e+00, -2.52419919e-05,  6.28322858e+00]), array([ 1.14018045e+00, -1.30728870e-05,  6.28321141e+00])]\n",
      "[array([3.16227405e-01, 7.22127415e-08, 6.28318090e+00]), array([ 4.47214168e-01, -2.29184063e-07,  6.28318593e+00]), array([ 5.47723671e-01, -6.68259881e-07,  6.28318958e+00]), array([ 6.32456978e-01, -1.15682336e-06,  6.28319224e+00]), array([ 7.07108695e-01, -1.91370815e-06,  6.28319493e+00]), array([ 7.74599092e-01, -2.90702841e-06,  6.28319808e+00]), array([ 8.36663737e-01, -5.19519221e-06,  6.28320274e+00]), array([ 8.94432243e-01, -8.08284037e-06,  6.28320942e+00]), array([ 9.48689239e-01, -1.06948348e-05,  6.28321962e+00]), array([ 1.00001055e+00, -2.11039601e-05,  6.28323668e+00]), array([ 1.04882122e+00, -2.72271061e-05,  6.28324725e+00]), array([ 1.09545563e+00, -2.52419919e-05,  6.28322858e+00]), array([ 1.14018045e+00, -1.30728870e-05,  6.28321141e+00]), array([ 1.18321911e+00, -8.84365633e-06,  6.28320306e+00])]\n",
      "[array([3.16227405e-01, 7.22127415e-08, 6.28318090e+00]), array([ 4.47214168e-01, -2.29184063e-07,  6.28318593e+00]), array([ 5.47723671e-01, -6.68259881e-07,  6.28318958e+00]), array([ 6.32456978e-01, -1.15682336e-06,  6.28319224e+00]), array([ 7.07108695e-01, -1.91370815e-06,  6.28319493e+00]), array([ 7.74599092e-01, -2.90702841e-06,  6.28319808e+00]), array([ 8.36663737e-01, -5.19519221e-06,  6.28320274e+00]), array([ 8.94432243e-01, -8.08284037e-06,  6.28320942e+00]), array([ 9.48689239e-01, -1.06948348e-05,  6.28321962e+00]), array([ 1.00001055e+00, -2.11039601e-05,  6.28323668e+00]), array([ 1.04882122e+00, -2.72271061e-05,  6.28324725e+00]), array([ 1.09545563e+00, -2.52419919e-05,  6.28322858e+00]), array([ 1.14018045e+00, -1.30728870e-05,  6.28321141e+00]), array([ 1.18321911e+00, -8.84365633e-06,  6.28320306e+00]), array([ 1.22474741e+00, -7.60091672e-06,  6.28319856e+00])]\n",
      "[array([3.16227405e-01, 7.22127415e-08, 6.28318090e+00]), array([ 4.47214168e-01, -2.29184063e-07,  6.28318593e+00]), array([ 5.47723671e-01, -6.68259881e-07,  6.28318958e+00]), array([ 6.32456978e-01, -1.15682336e-06,  6.28319224e+00]), array([ 7.07108695e-01, -1.91370815e-06,  6.28319493e+00]), array([ 7.74599092e-01, -2.90702841e-06,  6.28319808e+00]), array([ 8.36663737e-01, -5.19519221e-06,  6.28320274e+00]), array([ 8.94432243e-01, -8.08284037e-06,  6.28320942e+00]), array([ 9.48689239e-01, -1.06948348e-05,  6.28321962e+00]), array([ 1.00001055e+00, -2.11039601e-05,  6.28323668e+00]), array([ 1.04882122e+00, -2.72271061e-05,  6.28324725e+00]), array([ 1.09545563e+00, -2.52419919e-05,  6.28322858e+00]), array([ 1.14018045e+00, -1.30728870e-05,  6.28321141e+00]), array([ 1.18321911e+00, -8.84365633e-06,  6.28320306e+00]), array([ 1.22474741e+00, -7.60091672e-06,  6.28319856e+00]), array([ 1.26491251e+00, -4.61251017e-06,  6.28319553e+00])]\n",
      "[array([3.16227405e-01, 7.22127415e-08, 6.28318090e+00]), array([ 4.47214168e-01, -2.29184063e-07,  6.28318593e+00]), array([ 5.47723671e-01, -6.68259881e-07,  6.28318958e+00]), array([ 6.32456978e-01, -1.15682336e-06,  6.28319224e+00]), array([ 7.07108695e-01, -1.91370815e-06,  6.28319493e+00]), array([ 7.74599092e-01, -2.90702841e-06,  6.28319808e+00]), array([ 8.36663737e-01, -5.19519221e-06,  6.28320274e+00]), array([ 8.94432243e-01, -8.08284037e-06,  6.28320942e+00]), array([ 9.48689239e-01, -1.06948348e-05,  6.28321962e+00]), array([ 1.00001055e+00, -2.11039601e-05,  6.28323668e+00]), array([ 1.04882122e+00, -2.72271061e-05,  6.28324725e+00]), array([ 1.09545563e+00, -2.52419919e-05,  6.28322858e+00]), array([ 1.14018045e+00, -1.30728870e-05,  6.28321141e+00]), array([ 1.18321911e+00, -8.84365633e-06,  6.28320306e+00]), array([ 1.22474741e+00, -7.60091672e-06,  6.28319856e+00]), array([ 1.26491251e+00, -4.61251017e-06,  6.28319553e+00]), array([ 1.30384196e+00, -5.01378211e-06,  6.28319374e+00])]\n"
     ]
    },
    {
     "name": "stdout",
     "output_type": "stream",
     "text": [
      "[array([3.16227405e-01, 7.22127415e-08, 6.28318090e+00]), array([ 4.47214168e-01, -2.29184063e-07,  6.28318593e+00]), array([ 5.47723671e-01, -6.68259881e-07,  6.28318958e+00]), array([ 6.32456978e-01, -1.15682336e-06,  6.28319224e+00]), array([ 7.07108695e-01, -1.91370815e-06,  6.28319493e+00]), array([ 7.74599092e-01, -2.90702841e-06,  6.28319808e+00]), array([ 8.36663737e-01, -5.19519221e-06,  6.28320274e+00]), array([ 8.94432243e-01, -8.08284037e-06,  6.28320942e+00]), array([ 9.48689239e-01, -1.06948348e-05,  6.28321962e+00]), array([ 1.00001055e+00, -2.11039601e-05,  6.28323668e+00]), array([ 1.04882122e+00, -2.72271061e-05,  6.28324725e+00]), array([ 1.09545563e+00, -2.52419919e-05,  6.28322858e+00]), array([ 1.14018045e+00, -1.30728870e-05,  6.28321141e+00]), array([ 1.18321911e+00, -8.84365633e-06,  6.28320306e+00]), array([ 1.22474741e+00, -7.60091672e-06,  6.28319856e+00]), array([ 1.26491251e+00, -4.61251017e-06,  6.28319553e+00]), array([ 1.30384196e+00, -5.01378211e-06,  6.28319374e+00]), array([ 1.34164177e+00, -3.52559491e-06,  6.28319230e+00])]\n",
      "[array([3.16227405e-01, 7.22127415e-08, 6.28318090e+00]), array([ 4.47214168e-01, -2.29184063e-07,  6.28318593e+00]), array([ 5.47723671e-01, -6.68259881e-07,  6.28318958e+00]), array([ 6.32456978e-01, -1.15682336e-06,  6.28319224e+00]), array([ 7.07108695e-01, -1.91370815e-06,  6.28319493e+00]), array([ 7.74599092e-01, -2.90702841e-06,  6.28319808e+00]), array([ 8.36663737e-01, -5.19519221e-06,  6.28320274e+00]), array([ 8.94432243e-01, -8.08284037e-06,  6.28320942e+00]), array([ 9.48689239e-01, -1.06948348e-05,  6.28321962e+00]), array([ 1.00001055e+00, -2.11039601e-05,  6.28323668e+00]), array([ 1.04882122e+00, -2.72271061e-05,  6.28324725e+00]), array([ 1.09545563e+00, -2.52419919e-05,  6.28322858e+00]), array([ 1.14018045e+00, -1.30728870e-05,  6.28321141e+00]), array([ 1.18321911e+00, -8.84365633e-06,  6.28320306e+00]), array([ 1.22474741e+00, -7.60091672e-06,  6.28319856e+00]), array([ 1.26491251e+00, -4.61251017e-06,  6.28319553e+00]), array([ 1.30384196e+00, -5.01378211e-06,  6.28319374e+00]), array([ 1.34164177e+00, -3.52559491e-06,  6.28319230e+00]), array([ 1.37840556e+00, -2.60029810e-06,  6.28319125e+00])]\n"
     ]
    }
   ],
   "source": [
    "#Numerical continuation for Hopf bifurcation equations \n",
    "#increments the a parameter by a set amount and attempts to find the solution\n",
    "#for the new parameter value using the last found solution as an initial guess\n",
    "phase_condition = 20\n",
    "initial_guess=[1,0,6.2]\n",
    "roots = []\n",
    "for b in np.arange(0.1,2,0.1):\n",
    "    \n",
    "    root = fsolve(shooting,initial_guess,args = (Hopf, (b,s)))\n",
    "    initial_guess = root\n",
    "    roots.append(root)\n",
    "    \n",
    "    "
   ]
  },
  {
   "cell_type": "code",
   "execution_count": 24,
   "id": "76f95b1a",
   "metadata": {},
   "outputs": [],
   "source": [
    "# Numerical continuation for modified Hopf bifurcation equations \n",
    "#increments the a parameter by a set amount and attempts to find the solution\n",
    "#for the new parameter value using the last found solution as an initial guess\n",
    "phase_condition = 20\n",
    "s = -1\n",
    "roots = []\n",
    "initial_guess=[2,2,2,phase_condition]\n",
    "for b in np.arange(2,-1,0.1):\n",
    "    root = fsolve(shooting,initial_guess,args = (mod_Hopf, (b,s)))\n",
    "    roots.append(root)\n",
    "    print(roots)\n",
    "    "
   ]
  },
  {
   "cell_type": "code",
   "execution_count": 18,
   "id": "dc739d24",
   "metadata": {},
   "outputs": [
    {
     "data": {
      "text/plain": [
       "[<matplotlib.lines.Line2D at 0x7fcecd6b0250>,\n",
       " <matplotlib.lines.Line2D at 0x7fcecd6b0340>,\n",
       " <matplotlib.lines.Line2D at 0x7fcecd6b0400>]"
      ]
     },
     "execution_count": 18,
     "metadata": {},
     "output_type": "execute_result"
    },
    {
     "data": {
      "image/png": "[encoded data removed]",
      "text/plain": [
       "<Figure size 432x288 with 1 Axes>"
      ]
     },
     "metadata": {
      "needs_background": "light"
     },
     "output_type": "display_data"
    }
   ],
   "source": [
    "# This should be correct\n",
    "# plotting numerical continuation for Hopf bifurcation\n",
    "# blue line is x variable\n",
    "# orange line is y varaible \n",
    "# green line is period \n",
    "\n",
    "plt.plot(np.arange(0.1,2,0.1), roots)"
   ]
  },
  {
   "cell_type": "code",
   "execution_count": 22,
   "id": "2e98b469",
   "metadata": {},
   "outputs": [
    {
     "ename": "TypeError",
     "evalue": "list indices must be integers or slices, not tuple",
     "output_type": "error",
     "traceback": [
      "\u001b[0;31m---------------------------------------------------------------------------\u001b[0m",
      "\u001b[0;31mTypeError\u001b[0m                                 Traceback (most recent call last)",
      "\u001b[0;32m<ipython-input-22-f0520f7c03e7>\u001b[0m in \u001b[0;36m<module>\u001b[0;34m\u001b[0m\n\u001b[0;32m----> 1\u001b[0;31m \u001b[0mplt\u001b[0m\u001b[0;34m.\u001b[0m\u001b[0mplot\u001b[0m\u001b[0;34m(\u001b[0m\u001b[0mnp\u001b[0m\u001b[0;34m.\u001b[0m\u001b[0marange\u001b[0m\u001b[0;34m(\u001b[0m\u001b[0;36m0.1\u001b[0m\u001b[0;34m,\u001b[0m\u001b[0;36m2\u001b[0m\u001b[0;34m,\u001b[0m\u001b[0;36m0.1\u001b[0m\u001b[0;34m)\u001b[0m\u001b[0;34m,\u001b[0m \u001b[0mroots\u001b[0m\u001b[0;34m[\u001b[0m\u001b[0;34m:\u001b[0m\u001b[0;34m,\u001b[0m\u001b[0;36m1\u001b[0m\u001b[0;34m]\u001b[0m\u001b[0;34m)\u001b[0m\u001b[0;34m\u001b[0m\u001b[0;34m\u001b[0m\u001b[0m\n\u001b[0m",
      "\u001b[0;31mTypeError\u001b[0m: list indices must be integers or slices, not tuple"
     ]
    }
   ],
   "source": [
    "plt.plot(np.arange(0.1,2,0.1), roots)"
   ]
  },
  {
   "cell_type": "code",
   "execution_count": null,
   "id": "98f67eaf",
   "metadata": {},
   "outputs": [],
   "source": [
    "# plotting numerical continuation for modified Hopf bifurcation\n",
    "plt.plot(np.arange(2,-1,0.1), roots)"
   ]
  },
  {
   "cell_type": "code",
   "execution_count": null,
   "id": "de040a34",
   "metadata": {},
   "outputs": [],
   "source": []
  }
 ],
 "metadata": {
  "kernelspec": {
   "display_name": "Python 3",
   "language": "python",
   "name": "python3"
  },
  "language_info": {
   "codemirror_mode": {
    "name": "ipython",
    "version": 3
   },
   "file_extension": ".py",
   "mimetype": "text/x-python",
   "name": "python",
   "nbconvert_exporter": "python",
   "pygments_lexer": "ipython3",
   "version": "3.8.8"
  }
 },
 "nbformat": 4,
 "nbformat_minor": 5
}
