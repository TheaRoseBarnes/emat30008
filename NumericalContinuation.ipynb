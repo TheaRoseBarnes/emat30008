{
 "cells": [
  {
   "cell_type": "code",
   "execution_count": 132,
   "id": "d0e4618f",
   "metadata": {},
   "outputs": [],
   "source": [
    "# The algebraic cubic equation\n",
    "def cubic(x,c):\n",
    "    return x**3 - x + c "
   ]
  },
  {
   "cell_type": "code",
   "execution_count": 17,
   "id": "015526c9",
   "metadata": {},
   "outputs": [],
   "source": [
    "# importing relevant modules\n",
    "from scipy.integrate import odeint\n",
    "import numpy as np\n",
    "import matplotlib.pyplot as plt\n",
    "from scipy.optimize import fsolve\n",
    "from scipy.integrate import solve_ivp\n",
    "from scipy.optimize import fsolve\n",
    "import import_ipynb"
   ]
  },
  {
   "cell_type": "code",
   "execution_count": 84,
   "id": "407ee1ad",
   "metadata": {},
   "outputs": [],
   "source": [
    "# The Hopf bifurcation equations \n",
    "def Hopf(t,z,b,s):\n",
    "    u1, u2 = z[0], z[1]\n",
    "    return np.array([b*u1 - u2 + s*u1*(u1**2 + u2**2), u1 + b*u2 + s*u2*(u1**2 +u2**2)])"
   ]
  },
  {
   "cell_type": "code",
   "execution_count": 33,
   "id": "cbeda1d0",
   "metadata": {},
   "outputs": [],
   "source": [
    "# The modified Hopf bifurcation equations \n",
    "def mod_Hopf(t,z,b,s):\n",
    "    u1, u2 = z[0], z[1]\n",
    "    return [b*u1 - u2 + s*u1*(u1**2 + u2**2) - u1*(u1**2 + u2**2)**2, u1 + b*u2 + s*u2*(u1**2 +u2**2) - u2*(u1**2 + u2**2)**2]"
   ]
  },
  {
   "cell_type": "code",
   "execution_count": 85,
   "id": "1eb8ea88",
   "metadata": {},
   "outputs": [],
   "source": [
    "def shooting(u0, fun, args):\n",
    "    u, T = u0[:-1], u0[-1]\n",
    "    sol = solve_ivp(fun, (0,T), u, args = args, rtol = 1e-6)\n",
    "    final_states = sol.y[:,-1]\n",
    "    phase_condition = np.array([fun(T, u, args[0], args[1])[0]])\n",
    "    end = u-final_states\n",
    "    return np.concatenate((u-final_states, phase_condition))\n",
    "    #return np.concatenate((end,phase_condition))"
   ]
  },
  {
   "cell_type": "code",
   "execution_count": 38,
   "id": "2b916e21",
   "metadata": {},
   "outputs": [
    {
     "data": {
      "text/plain": [
       "array([ 1.41421405e+00, -1.96663379e-06,  6.28319044e+00])"
      ]
     },
     "execution_count": 38,
     "metadata": {},
     "output_type": "execute_result"
    }
   ],
   "source": [
    "#find the roots of the system of 2 ODE's with an initial guess\n",
    "from scipy.optimize import fsolve\n",
    "s=-1\n",
    "root = fsolve(shooting,[1,0,6.2],args = (Hopf, (2,s)))\n",
    "root"
   ]
  },
  {
   "cell_type": "code",
   "execution_count": 128,
   "id": "19a6e5dc",
   "metadata": {},
   "outputs": [],
   "source": [
    "c=1"
   ]
  },
  {
   "cell_type": "code",
   "execution_count": 133,
   "id": "06ce159b",
   "metadata": {},
   "outputs": [
    {
     "name": "stderr",
     "output_type": "stream",
     "text": [
      "/Users/theabarnes/opt/anaconda3/lib/python3.8/site-packages/scipy/optimize/minpack.py:175: RuntimeWarning: The iteration is not making good progress, as measured by the \n",
      "  improvement from the last ten iterations.\n",
      "  warnings.warn(msg, RuntimeWarning)\n"
     ]
    },
    {
     "data": {
      "text/plain": [
       "array([0.57739259])"
      ]
     },
     "execution_count": 133,
     "metadata": {},
     "output_type": "execute_result"
    }
   ],
   "source": [
    "fsolve(cubic, 1, args=(c))"
   ]
  },
  {
   "cell_type": "code",
   "execution_count": 137,
   "id": "f29b4965",
   "metadata": {},
   "outputs": [],
   "source": [
    "def Numerical_Continuation_x(initial_guess, equations, start, end, stepsize):\n",
    "    x = []\n",
    "    y = []\n",
    "    period = []\n",
    "    for c in np.arange(start,end,stepsize):\n",
    "        #root = fsolve(shooting,initial_guess,args = (equations, (b,s)))\n",
    "        root = fsolve(equations,initial_guess,args=(c))\n",
    "        initial_guess = root\n",
    "        x.append(root[0])\n",
    "        #y.append(root[1])\n",
    "        #period.append(root[2])\n",
    "    plt.xlabel('c')\n",
    "    plt.ylabel('solution')\n",
    "    plt.title('Natural parameter continuation of ...')\n",
    "    plot = plt.plot(np.arange(start,end,stepsize), x)\n",
    "    #plot = plt.plot(np.arange(start,end,stepsize), y)\n",
    "    #plot = plt.plot(np.arange(start,end,stepsize), period)\n",
    "    plt.legend(['x','y','period'], loc = \"upper right\")\n",
    "    return \n",
    "    "
   ]
  },
  {
   "cell_type": "code",
   "execution_count": 138,
   "id": "8a1b2265",
   "metadata": {},
   "outputs": [
    {
     "name": "stderr",
     "output_type": "stream",
     "text": [
      "/Users/theabarnes/opt/anaconda3/lib/python3.8/site-packages/scipy/optimize/minpack.py:175: RuntimeWarning: The iteration is not making good progress, as measured by the \n",
      "  improvement from the last ten iterations.\n",
      "  warnings.warn(msg, RuntimeWarning)\n"
     ]
    },
    {
     "data": {
      "image/png": "[encoded data removed]",
      "text/plain": [
       "<Figure size 432x288 with 1 Axes>"
      ]
     },
     "metadata": {
      "needs_background": "light"
     },
     "output_type": "display_data"
    }
   ],
   "source": [
    "Numerical_Continuation_x(1, cubic, -2, 2, 0.1)"
   ]
  },
  {
   "cell_type": "code",
   "execution_count": 122,
   "id": "251f725b",
   "metadata": {},
   "outputs": [],
   "source": [
    "# This should be correct\n",
    "# numerical continuation function\n",
    "# blue line is x variable\n",
    "# orange line is y varaible \n",
    "# green line is  the period \n",
    "# stepsize should be negative if going from positive to negative\n",
    "# initial guess = [,,period]\n",
    "# equations 'input Hopf or mod_Hopf'\n",
    "\n",
    "\n",
    "def Numerical_Continuation(initial_guess, equations, start, end, stepsize):\n",
    "    x = []\n",
    "    y = []\n",
    "    period = []\n",
    "    for b in np.arange(start,end,stepsize):\n",
    "        root = fsolve(shooting,initial_guess,args = (equations, (b,s)))\n",
    "        initial_guess = root\n",
    "        x.append(root[0])\n",
    "        y.append(root[1])\n",
    "        period.append(root[2])\n",
    "    plt.xlabel('beta')\n",
    "    plt.ylabel('solution')\n",
    "    plt.title('Natural parameter continuation of ...')\n",
    "    plot = plt.plot(np.arange(start,end,stepsize), x)\n",
    "    plot = plt.plot(np.arange(start,end,stepsize), y)\n",
    "    plot = plt.plot(np.arange(start,end,stepsize), period)\n",
    "    plt.legend(['x','y','period'], loc = \"upper right\")\n",
    "    return \n",
    "    \n",
    "    "
   ]
  },
  {
   "cell_type": "code",
   "execution_count": 123,
   "id": "b06221a9",
   "metadata": {},
   "outputs": [
    {
     "data": {
      "image/png": "[encoded data removed]",
      "text/plain": [
       "<Figure size 432x288 with 1 Axes>"
      ]
     },
     "metadata": {
      "needs_background": "light"
     },
     "output_type": "display_data"
    }
   ],
   "source": [
    "Numerical_Continuation([1,0,6.2],Hopf,0.1,2,0.1)"
   ]
  },
  {
   "cell_type": "code",
   "execution_count": 10,
   "id": "9b863621",
   "metadata": {
    "scrolled": true
   },
   "outputs": [
    {
     "name": "stderr",
     "output_type": "stream",
     "text": [
      "/Users/theabarnes/opt/anaconda3/lib/python3.8/site-packages/scipy/optimize/minpack.py:175: RuntimeWarning: The iteration is not making good progress, as measured by the \n",
      "  improvement from the last five Jacobian evaluations.\n",
      "  warnings.warn(msg, RuntimeWarning)\n"
     ]
    },
    {
     "data": {
      "text/plain": [
       "[<matplotlib.lines.Line2D at 0x7fdff6e16e20>]"
      ]
     },
     "execution_count": 10,
     "metadata": {},
     "output_type": "execute_result"
    },
    {
     "data": {
      "image/png": "[encoded data removed]",
      "text/plain": [
       "<Figure size 432x288 with 1 Axes>"
      ]
     },
     "metadata": {
      "needs_background": "light"
     },
     "output_type": "display_data"
    }
   ],
   "source": [
    "Numerical_Continuation([1,0,6.2],mod_Hopf,2,-1,-0.1)"
   ]
  },
  {
   "cell_type": "code",
   "execution_count": null,
   "id": "bfcdc869",
   "metadata": {},
   "outputs": [],
   "source": [
    "#Numerical continuation for Hopf bifurcation equations \n",
    "#increments the a parameter by a set amount and attempts to find the solution\n",
    "#for the new parameter value using the last found solution as an initial guess\n",
    "#phase_condition = 6.2\n",
    "#initial_guess=[1,0,phase_condition]\n",
    "#roots = []\n",
    "#for b in np.arange(0.1,2,0.1):\n",
    "    #root = fsolve(shooting,initial_guess,args = (Hopf, (b,s)))\n",
    "    #initial_guess = root\n",
    "    #roots.append(root)     "
   ]
  },
  {
   "cell_type": "code",
   "execution_count": null,
   "id": "76f95b1a",
   "metadata": {
    "scrolled": true
   },
   "outputs": [],
   "source": [
    "# Numerical continuation for modified Hopf bifurcation equations \n",
    "#increments the a parameter by a set amount and attempts to find the solution\n",
    "#for the new parameter value using the last found solution as an initial guess\n",
    "#phase_condition_1 = 6.2\n",
    "#initial_guess_1=[1,0,phase_condition_1]\n",
    "#roots_1 = []\n",
    "#for b in np.arange(2,-1,-0.1):\n",
    "    #root_1 = fsolve(shooting,initial_guess_1,args = (mod_Hopf, (b,s)))\n",
    "    #initial_guess_1 = root_1\n",
    "    #roots_1.append(root_1)  "
   ]
  },
  {
   "cell_type": "code",
   "execution_count": null,
   "id": "dc739d24",
   "metadata": {},
   "outputs": [],
   "source": [
    "#plt.plot(np.arange(0.1,2,0.1), roots)"
   ]
  },
  {
   "cell_type": "code",
   "execution_count": null,
   "id": "de040a34",
   "metadata": {},
   "outputs": [],
   "source": [
    "# perform pseudo-arclength continuation\n"
   ]
  }
 ],
 "metadata": {
  "kernelspec": {
   "display_name": "Python 3",
   "language": "python",
   "name": "python3"
  },
  "language_info": {
   "codemirror_mode": {
    "name": "ipython",
    "version": 3
   },
   "file_extension": ".py",
   "mimetype": "text/x-python",
   "name": "python",
   "nbconvert_exporter": "python",
   "pygments_lexer": "ipython3",
   "version": "3.8.8"
  }
 },
 "nbformat": 4,
 "nbformat_minor": 5
}
