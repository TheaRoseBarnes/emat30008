{
 "cells": [
  {
   "cell_type": "code",
   "execution_count": 2,
   "id": "d0e4618f",
   "metadata": {},
   "outputs": [],
   "source": [
    "# The algebraic cubic equation\n",
    "#x**3 - x + c = 0"
   ]
  },
  {
   "cell_type": "code",
   "execution_count": 3,
   "id": "407ee1ad",
   "metadata": {},
   "outputs": [],
   "source": [
    "# The Hopf bifurcation equations \n",
    "def k(t,z,b,s):\n",
    "    u1, u2 = z[0], z[1]\n",
    "    return [b*u1 - u2 + s*u1*(u1**2 + u2**2), u1 + b*u2 + s*u2*(u1**2 +u2**2)]"
   ]
  },
  {
   "cell_type": "code",
   "execution_count": 4,
   "id": "cbeda1d0",
   "metadata": {},
   "outputs": [],
   "source": [
    "# The modified Hopf bifurcation equations \n",
    "def H(t,z,b,s):\n",
    "    u1, u2 = z[0], z[1]\n",
    "    return [b*u1 - u2 + s*u1*(u1**2 + u2**2) - u1(u1**2 + u2**2)**2, u1 + b*u2 + s*u2*(u1**2 +u2**2) - u2(u1**2 + u2**2)**2]"
   ]
  },
  {
   "cell_type": "code",
   "execution_count": 5,
   "id": "5d6eda2f",
   "metadata": {},
   "outputs": [],
   "source": [
    "#natural parameter continuation\n",
    "parameter = 0.1\n",
    "increment = 0.01\n",
    "parameter = parameter += increment \n",
    "initial_guess "
   ]
  },
  {
   "cell_type": "code",
   "execution_count": null,
   "id": "1eb8ea88",
   "metadata": {},
   "outputs": [],
   "source": [
    "def s(u0, fun, args):\n",
    "    u, T = u0[:-1], u0[-1]\n",
    "    sol = solve_ivp(fun, (0,T), u, args = args, rtol = 1e-6)\n",
    "    final_states = sol.y[:,-1]\n",
    "    phase_condition = np.array([fun(T, u, args[0], args[1], args[2])[0]])\n",
    "    return np.concatenate((u-final_states, phase_condition))"
   ]
  },
  {
   "cell_type": "code",
   "execution_count": null,
   "id": "cb601763",
   "metadata": {},
   "outputs": [],
   "source": [
    "#increments a parameter by a set amount and attempts to find the solution\n",
    "#for the new parameter value using the last found solution as an initial guess\n",
    "from scipy.optimize import fsolve\n",
    "\n",
    "root = fsolve(s,[1.2,1.2,1.2,20],args = (h, (a,b,d)))\n",
    "root"
   ]
  }
 ],
 "metadata": {
  "kernelspec": {
   "display_name": "Python 3",
   "language": "python",
   "name": "python3"
  },
  "language_info": {
   "codemirror_mode": {
    "name": "ipython",
    "version": 3
   },
   "file_extension": ".py",
   "mimetype": "text/x-python",
   "name": "python",
   "nbconvert_exporter": "python",
   "pygments_lexer": "ipython3",
   "version": "3.8.8"
  }
 },
 "nbformat": 4,
 "nbformat_minor": 5
}
