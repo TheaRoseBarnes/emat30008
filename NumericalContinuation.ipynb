{
 "cells": [
  {
   "cell_type": "code",
   "execution_count": 1,
   "id": "d0e4618f",
   "metadata": {},
   "outputs": [],
   "source": [
    "# The algebraic cubic equation\n",
    "#x**3 - x + c = 0"
   ]
  },
  {
   "cell_type": "code",
   "execution_count": 2,
   "id": "015526c9",
   "metadata": {},
   "outputs": [],
   "source": [
    "# importing relevant modules\n",
    "from scipy.integrate import odeint\n",
    "import numpy as np\n",
    "import matplotlib.pyplot as plt\n",
    "from scipy.optimize import fsolve\n",
    "from scipy.integrate import solve_ivp\n",
    "from scipy.optimize import fsolve\n",
    "import import_ipynb"
   ]
  },
  {
   "cell_type": "code",
   "execution_count": 3,
   "id": "407ee1ad",
   "metadata": {},
   "outputs": [],
   "source": [
    "# The Hopf bifurcation equations \n",
    "def Hopf(t,z,b,s):\n",
    "    u1, u2 = z[0], z[1]\n",
    "    return [b*u1 - u2 + s*u1*(u1**2 + u2**2), u1 + b*u2 + s*u2*(u1**2 +u2**2)]"
   ]
  },
  {
   "cell_type": "code",
   "execution_count": 4,
   "id": "cbeda1d0",
   "metadata": {},
   "outputs": [],
   "source": [
    "# The modified Hopf bifurcation equations \n",
    "def mod_Hopf(t,z,b,s):\n",
    "    u1, u2 = z[0], z[1]\n",
    "    return [b*u1 - u2 + s*u1*(u1**2 + u2**2) - u1*(u1**2 + u2**2)**2, u1 + b*u2 + s*u2*(u1**2 +u2**2) - u2*(u1**2 + u2**2)**2]"
   ]
  },
  {
   "cell_type": "code",
   "execution_count": 5,
   "id": "5d6eda2f",
   "metadata": {},
   "outputs": [],
   "source": [
    "#natural parameter continuation\n",
    "# b is the parameter we vary\n",
    "#b = 0.1\n",
    "#increment = 0.01\n",
    "\n",
    "#parameter = parameter + increment \n",
    "#initial_guess "
   ]
  },
  {
   "cell_type": "code",
   "execution_count": 6,
   "id": "1eb8ea88",
   "metadata": {},
   "outputs": [],
   "source": [
    "def shooting(u0, fun, args):\n",
    "    u, T = u0[:-1], u0[-1]\n",
    "    sol = solve_ivp(fun, (0,T), u, args = args, rtol = 1e-6)\n",
    "    final_states = sol.y[:,-1]\n",
    "    phase_condition = np.array([fun(T, u, args[0], args[1])[0]])\n",
    "    return np.concatenate((u-final_states, phase_condition))"
   ]
  },
  {
   "cell_type": "code",
   "execution_count": 7,
   "id": "2b916e21",
   "metadata": {},
   "outputs": [
    {
     "data": {
      "text/plain": [
       "array([ 1.41421405e+00, -1.96663379e-06,  6.28319044e+00])"
      ]
     },
     "execution_count": 7,
     "metadata": {},
     "output_type": "execute_result"
    }
   ],
   "source": [
    "#find the roots of the system of 2 ODE's with an initial guess\n",
    "from scipy.optimize import fsolve\n",
    "s=-1\n",
    "root = fsolve(shooting,[1,0,6.2],args = (Hopf, (2,s)))\n",
    "root"
   ]
  },
  {
   "cell_type": "code",
   "execution_count": 8,
   "id": "171fbf26",
   "metadata": {},
   "outputs": [
    {
     "data": {
      "text/plain": [
       "array([9.99999967e-01, 1.97101201e-07, 6.28318802e+00])"
      ]
     },
     "execution_count": 8,
     "metadata": {},
     "output_type": "execute_result"
    }
   ],
   "source": [
    "root = fsolve(shooting,[1,0,6.2],args = (mod_Hopf, (2,s)))\n",
    "root"
   ]
  },
  {
   "cell_type": "code",
   "execution_count": 13,
   "id": "bfcdc869",
   "metadata": {},
   "outputs": [
    {
     "name": "stdout",
     "output_type": "stream",
     "text": [
      "[3.16227405e-01 7.22127415e-08 6.28318090e+00]\n",
      "[ 4.47214168e-01 -2.29184063e-07  6.28318593e+00]\n",
      "[ 5.47723671e-01 -6.68259881e-07  6.28318958e+00]\n",
      "[ 6.32456978e-01 -1.15682336e-06  6.28319224e+00]\n",
      "[ 7.07108695e-01 -1.91370815e-06  6.28319493e+00]\n",
      "[ 7.74599092e-01 -2.90702841e-06  6.28319808e+00]\n",
      "[ 8.36663737e-01 -5.19519221e-06  6.28320274e+00]\n",
      "[ 8.94432243e-01 -8.08284037e-06  6.28320942e+00]\n",
      "[ 9.48689239e-01 -1.06948348e-05  6.28321962e+00]\n",
      "[ 1.00001055e+00 -2.11039601e-05  6.28323668e+00]\n",
      "[ 1.04882122e+00 -2.72271061e-05  6.28324725e+00]\n",
      "[ 1.09545563e+00 -2.52419919e-05  6.28322858e+00]\n",
      "[ 1.14018045e+00 -1.30728870e-05  6.28321141e+00]\n",
      "[ 1.18321911e+00 -8.84365633e-06  6.28320306e+00]\n",
      "[ 1.22474741e+00 -7.60091672e-06  6.28319856e+00]\n",
      "[ 1.26491251e+00 -4.61251017e-06  6.28319553e+00]\n",
      "[ 1.30384196e+00 -5.01378211e-06  6.28319374e+00]\n",
      "[ 1.34164177e+00 -3.52559491e-06  6.28319230e+00]\n",
      "[ 1.37840556e+00 -2.60029810e-06  6.28319125e+00]\n"
     ]
    }
   ],
   "source": [
    "#Numerical continuation for Hopf bifurcation equations \n",
    "#increments the a parameter by a set amount and attempts to find the solution\n",
    "#for the new parameter value using the last found solution as an initial guess\n",
    "phase_condition = 6.2\n",
    "initial_guess=[1,0,phase_condition]\n",
    "roots = []\n",
    "for b in np.arange(0.1,2,0.1):\n",
    "    root = fsolve(shooting,initial_guess,args = (Hopf, (b,s)))\n",
    "    initial_guess = root\n",
    "    roots.append(root)\n",
    "    print(root)\n",
    "    "
   ]
  },
  {
   "cell_type": "code",
   "execution_count": 17,
   "id": "76f95b1a",
   "metadata": {},
   "outputs": [
    {
     "name": "stdout",
     "output_type": "stream",
     "text": [
      "[9.99999967e-01 1.97101201e-07 6.28318802e+00]\n",
      "[ 9.82999473e-01 -3.88004345e-07  6.28318838e+00]\n",
      "[ 9.65288742e-01 -6.88675309e-07  6.28318879e+00]\n",
      "[ 9.46797054e-01 -1.73688320e-06  6.28318938e+00]\n",
      "[ 9.27441591e-01 -2.15376063e-06  6.28319006e+00]\n",
      "[ 9.07125552e-01 -2.66631717e-06  6.28319096e+00]\n",
      "[ 8.85734031e-01 -3.44911784e-06  6.28319221e+00]\n",
      "[ 8.63129313e-01 -4.83703041e-06  6.28319405e+00]\n",
      "[ 8.39143745e-01 -5.59165882e-06  6.28319678e+00]\n",
      "[ 8.13572115e-01 -8.66604401e-06  6.28320171e+00]\n",
      "[ 7.86156480e-01 -1.41039601e-05  6.28321178e+00]\n",
      "[ 7.56568637e-01 -2.52699792e-05  6.28323906e+00]\n",
      "[ 7.24374311e-01 -3.42445975e-05  6.28326852e+00]\n",
      "[ 6.88977001e-01 -1.32620237e-05  6.28323258e+00]\n",
      "[ 6.49585111e-01 -7.63023463e-06  6.28321275e+00]\n",
      "[ 6.05003405e-01 -3.89462180e-06  6.28320256e+00]\n",
      "[ 5.53378900e-01 -2.17068622e-06  6.28319677e+00]\n",
      "[ 4.91549764e-01 -9.63824435e-07  6.28319211e+00]\n",
      "[ 4.13304972e-01 -3.36634745e-07  6.28318725e+00]\n",
      "[3.0266789e-01 4.5351246e-08 6.2831810e+00]\n",
      "[ 1.01204212e-03 -1.03656422e-09  6.28103396e+00]\n",
      "[-5.74978291e-06  5.74978291e-07  6.14871553e+00]\n",
      "[-1.14967935e-06  2.32779974e-07  6.05520453e+00]\n",
      "[-8.82803231e-07  2.64840969e-07  5.57051492e+00]\n",
      "[-7.66714563e-07  3.06685825e-07  4.94019600e+00]\n",
      "[-7.56734242e-07  3.78367121e-07  4.20733124e+00]\n",
      "[ 7.69745818e-07 -4.61847491e-07  3.41679333e+00]\n",
      "[-5.20557880e-15  3.64390515e-15  3.57484727e+00]\n",
      "[ 4.23440908e-34 -3.39085534e-34  3.57484747e+00]\n",
      "[ 6.60181703e-50 -5.70304779e-50  3.57484750e+00]\n"
     ]
    },
    {
     "name": "stderr",
     "output_type": "stream",
     "text": [
      "/Users/theabarnes/opt/anaconda3/lib/python3.8/site-packages/scipy/optimize/minpack.py:175: RuntimeWarning: The iteration is not making good progress, as measured by the \n",
      "  improvement from the last five Jacobian evaluations.\n",
      "  warnings.warn(msg, RuntimeWarning)\n"
     ]
    }
   ],
   "source": [
    "# Numerical continuation for modified Hopf bifurcation equations \n",
    "#increments the a parameter by a set amount and attempts to find the solution\n",
    "#for the new parameter value using the last found solution as an initial guess\n",
    "phase_condition_1 = 6.2\n",
    "initial_guess_1=[1,0,phase_condition_1]\n",
    "roots_1 = []\n",
    "for b in np.arange(2,-1,-0.1):\n",
    "    root_1 = fsolve(shooting,initial_guess_1,args = (mod_Hopf, (b,s)))\n",
    "    initial_guess_1 = root_1\n",
    "    roots_1.append(root_1)\n",
    "    print(root_1)\n",
    "    "
   ]
  },
  {
   "cell_type": "code",
   "execution_count": 11,
   "id": "dc739d24",
   "metadata": {},
   "outputs": [
    {
     "data": {
      "text/plain": [
       "[<matplotlib.lines.Line2D at 0x7f8b7da60610>,\n",
       " <matplotlib.lines.Line2D at 0x7f8b7dc64a60>,\n",
       " <matplotlib.lines.Line2D at 0x7f8b7dc649a0>]"
      ]
     },
     "execution_count": 11,
     "metadata": {},
     "output_type": "execute_result"
    },
    {
     "data": {
      "image/png": "[encoded data removed]",
      "text/plain": [
       "<Figure size 432x288 with 1 Axes>"
      ]
     },
     "metadata": {
      "needs_background": "light"
     },
     "output_type": "display_data"
    }
   ],
   "source": [
    "# This should be correct\n",
    "# plotting numerical continuation for Hopf bifurcation\n",
    "# blue line is x variable\n",
    "# orange line is y varaible \n",
    "# green line is period \n",
    "\n",
    "plt.plot(np.arange(0.1,2,0.1), roots)"
   ]
  },
  {
   "cell_type": "code",
   "execution_count": 18,
   "id": "98f67eaf",
   "metadata": {},
   "outputs": [
    {
     "data": {
      "text/plain": [
       "[<matplotlib.lines.Line2D at 0x7f8b7da60400>,\n",
       " <matplotlib.lines.Line2D at 0x7f8b6c4ff6a0>,\n",
       " <matplotlib.lines.Line2D at 0x7f8b6c4ff760>]"
      ]
     },
     "execution_count": 18,
     "metadata": {},
     "output_type": "execute_result"
    },
    {
     "data": {
      "image/png": "[encoded data removed]",
      "text/plain": [
       "<Figure size 432x288 with 1 Axes>"
      ]
     },
     "metadata": {
      "needs_background": "light"
     },
     "output_type": "display_data"
    }
   ],
   "source": [
    "# plotting numerical continuation for modified Hopf bifurcation\n",
    "plt.plot(np.arange(2,-1,-0.1), roots_1)"
   ]
  },
  {
   "cell_type": "code",
   "execution_count": null,
   "id": "de040a34",
   "metadata": {},
   "outputs": [],
   "source": []
  }
 ],
 "metadata": {
  "kernelspec": {
   "display_name": "Python 3",
   "language": "python",
   "name": "python3"
  },
  "language_info": {
   "codemirror_mode": {
    "name": "ipython",
    "version": 3
   },
   "file_extension": ".py",
   "mimetype": "text/x-python",
   "name": "python",
   "nbconvert_exporter": "python",
   "pygments_lexer": "ipython3",
   "version": "3.8.8"
  }
 },
 "nbformat": 4,
 "nbformat_minor": 5
}
