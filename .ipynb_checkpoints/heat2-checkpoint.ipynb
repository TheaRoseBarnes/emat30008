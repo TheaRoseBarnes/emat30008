{
 "cells": [
  {
   "cell_type": "code",
   "execution_count": 12,
   "id": "e5faa91e",
   "metadata": {},
   "outputs": [
    {
     "name": "stdout",
     "output_type": "stream",
     "text": [
      "2D heat equation solver\n"
     ]
    },
    {
     "name": "stderr",
     "output_type": "stream",
     "text": [
      "MovieWriter ffmpeg unavailable; using Pillow instead.\n"
     ]
    },
    {
     "name": "stdout",
     "output_type": "stream",
     "text": [
      "Done!\n"
     ]
    },
    {
     "data": {
      "image/png": "[encoded data removed]",
      "text/plain": [
       "<Figure size 432x288 with 2 Axes>"
      ]
     },
     "metadata": {
      "needs_background": "light"
     },
     "output_type": "display_data"
    }
   ],
   "source": [
    "import numpy as np\n",
    "import matplotlib.pyplot as plt\n",
    "import matplotlib.animation as animation\n",
    "from matplotlib.animation import FuncAnimation\n",
    "\n",
    "print(\"2D heat equation solver\")\n",
    "\n",
    "plate_length = 50\n",
    "max_iter_time = 1500\n",
    "\n",
    "alpha = 2\n",
    "delta_x = 1\n",
    "\n",
    "delta_t = (delta_x ** 2)/(4 * alpha)\n",
    "gamma = (alpha * delta_t) / (delta_x ** 2)\n",
    "\n",
    "# Initialize solution: the grid of u(k, i, j)\n",
    "u = np.empty((max_iter_time, plate_length, plate_length))\n",
    "\n",
    "# Initial condition everywhere inside the grid\n",
    "u_initial = 0\n",
    "\n",
    "# Boundary conditions\n",
    "u_top = 100.0\n",
    "u_left = 100.0\n",
    "u_bottom = 100.0\n",
    "u_right = 100.0\n",
    "\n",
    "#u_initial = np.random.uniform(low=60.5, high=90.5, size=(plate_length,plate_length))\n",
    "# Set the initial condition\n",
    "u.fill(u_initial)\n",
    "u[0,:,:] = u_initial\n",
    "\n",
    "# Set the boundary conditions\n",
    "u[:, (plate_length-1):, :] = u_top\n",
    "u[:, :, :1] = u_left\n",
    "u[:, :1, 1:] = u_bottom\n",
    "u[:, :, (plate_length-1):] = u_right\n",
    "\n",
    "\n",
    "Ztop = Z[0:-2,1:-1]\n",
    "Zleft = Z[1:-1,0:-2]\n",
    "Zbottom = Z[2:,1:-1]\n",
    "    Zright = Z[1:-1,2:]\n",
    "    Zcenter = Z[1:-1,1:-1]\n",
    "\n",
    "   \n",
    "    return D*(((u_top+u_bottom-2*u_center)/dr**2) + (1/(r**2))*((u_right+u_left-2*u_center)/(dtheta**2)) + (1/(2*r))*((u_top-u_bottom)/dr)) + v*((np.cos(theta)+np.sin(theta))*((u_top-u_bottom)/dr) + ((np.cos(theta)-np.sin(theta))/r)*((u_right-u_left)/dtheta\n",
    "\n",
    "\n",
    "\n",
    "\n",
    "\n",
    "def calculate(u):\n",
    "    for k in range(0, max_iter_time-1, 1):\n",
    "        for i in range(1, plate_length-1, delta_x):\n",
    "            for j in range(1, plate_length-1, delta_x):\n",
    "                u[k + 1, i, j] = gamma * (u[k][i+1][j] + u[k][i-1][j] + u[k][i][j+1] + u[k][i][j-1] - 4*u[k][i][j]) + u[k][i][j]\n",
    "\n",
    "    return u\n",
    "\n",
    "def plotheatmap(u_k, k):\n",
    "    # Clear the current plot figure\n",
    "    plt.clf()\n",
    "\n",
    "    plt.title(f\"Temperature at t = {k*delta_t:.3f} unit time\")\n",
    "    plt.xlabel(\"x\")\n",
    "    plt.ylabel(\"y\")\n",
    "\n",
    "    # This is to plot u_k (u at time-step k)\n",
    "    plt.pcolormesh(u_k, cmap=plt.cm.jet, vmin=0, vmax=100)\n",
    "    plt.colorbar()\n",
    "\n",
    "    return plt\n",
    "\n",
    "# Do the calculation here\n",
    "u = calculate(u)\n",
    "\n",
    "def animate(k):\n",
    "    plotheatmap(u[k], k)\n",
    "\n",
    "anim = animation.FuncAnimation(plt.figure(), animate, interval=1, frames=max_iter_time, repeat=False)\n",
    "anim.save(\"heat_equation_solution.gif\")\n",
    "\n",
    "print(\"Done!\")"
   ]
  },
  {
   "cell_type": "code",
   "execution_count": null,
   "id": "48333552",
   "metadata": {},
   "outputs": [],
   "source": []
  }
 ],
 "metadata": {
  "kernelspec": {
   "display_name": "Python 3",
   "language": "python",
   "name": "python3"
  },
  "language_info": {
   "codemirror_mode": {
    "name": "ipython",
    "version": 3
   },
   "file_extension": ".py",
   "mimetype": "text/x-python",
   "name": "python",
   "nbconvert_exporter": "python",
   "pygments_lexer": "ipython3",
   "version": "3.8.8"
  }
 },
 "nbformat": 4,
 "nbformat_minor": 5
}
