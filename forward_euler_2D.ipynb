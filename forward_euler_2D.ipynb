{
 "cells": [
  {
   "cell_type": "code",
   "execution_count": 15,
   "id": "1451d288",
   "metadata": {},
   "outputs": [],
   "source": [
    "import numpy as np\n",
    "import pylab as pl\n",
    "from math import pi\n",
    "from scipy.sparse import diags"
   ]
  },
  {
   "cell_type": "code",
   "execution_count": 16,
   "id": "5371f4ca",
   "metadata": {},
   "outputs": [],
   "source": [
    "# Set problem parameters/functions\n",
    "kappa = 1.0  # diffusion constant\n",
    "L=1.0         # length of spatial domain\n",
    "T=0.5  \n",
    "c= 1            # total time to solve for"
   ]
  },
  {
   "cell_type": "code",
   "execution_count": 17,
   "id": "bdec2d3b",
   "metadata": {},
   "outputs": [],
   "source": [
    "def u_I(x):\n",
    "    # initial temperature distribution\n",
    "    y = np.sin(pi*x/L)\n",
    "    return y"
   ]
  },
  {
   "cell_type": "code",
   "execution_count": 18,
   "id": "03444ee0",
   "metadata": {},
   "outputs": [],
   "source": [
    "# Set numerical parameters\n",
    "mx = 10 \n",
    "my = 10            # number of gridpoints in space\n",
    "mt = 1000  # number of gridpoints in time"
   ]
  },
  {
   "cell_type": "code",
   "execution_count": 19,
   "id": "7430aee7",
   "metadata": {},
   "outputs": [
    {
     "name": "stdout",
     "output_type": "stream",
     "text": [
      "deltax= 0.1\n",
      "deltat= 0.0005\n",
      "lambda= 0.04999999999999999\n"
     ]
    }
   ],
   "source": [
    "# Set up the numerical environment variables\n",
    "x = np.linspace(0, L, mx+1) \n",
    "y = np.linspace(0, L, my+1)                            # mesh points in space\n",
    "t = np.linspace(0, T, mt+1)     # mesh points in time\n",
    "deltax = x[1] - x[0]  \n",
    "deltay = y[1] - y[0]\n",
    "# gridspacing in x\n",
    "deltat = t[1] - t[0]            # gridspacing in t\n",
    "lmbda_x = kappa*deltat/(deltax**2) \n",
    "lmbda_y = kappa*deltat/(deltay**2)# mesh fourier number\n",
    "print(\"deltax=\",deltax)\n",
    "print(\"deltat=\",deltat)\n",
    "print(\"lambda=\",lmbda)"
   ]
  },
  {
   "cell_type": "code",
   "execution_count": 6,
   "id": "87e19451",
   "metadata": {},
   "outputs": [],
   "source": [
    "#Wave equation solution\n",
    "def u(x,t):\n",
    "    return 0.5*(np.sin(x+c*t) + np.sin(x-c*t))"
   ]
  },
  {
   "cell_type": "code",
   "execution_count": 20,
   "id": "7722e89e",
   "metadata": {},
   "outputs": [],
   "source": [
    "# Set up the solution variables\n",
    "u_k = np.zeros(x.size)        # u at current time step\n",
    "u_kp1 = np.zeros(x.size)      # u at next time step"
   ]
  },
  {
   "cell_type": "code",
   "execution_count": 21,
   "id": "f0daf12c",
   "metadata": {},
   "outputs": [],
   "source": [
    "def rhs_function(A, u_j,F_j,j):\n",
    "    u_jp1 = np.matmul(A , u_j) + deltat*F_j(x,t[j])\n",
    "    u_j = u_jp1\n",
    "    return u_j\n",
    "    "
   ]
  },
  {
   "cell_type": "code",
   "execution_count": 22,
   "id": "8c6d7949",
   "metadata": {},
   "outputs": [],
   "source": [
    "def periodic_boundary(A, u_j):\n",
    "    u_jp1 = np.matmul(A , u_j)\n",
    "    u_j = u_jp1\n",
    "    return u_j"
   ]
  },
  {
   "cell_type": "code",
   "execution_count": 23,
   "id": "5922b8c0",
   "metadata": {},
   "outputs": [],
   "source": [
    "#def dirichlet_boundary(A,s,u_j,u_jp1):\n",
    "def dirichlet_boundary(A, u_j,s,u_jp1,args):\n",
    "    p= args[0] \n",
    "    q = args[1]                   \n",
    "    u_jp1[1:-1] = np.matmul(A , u_j[1:-1]).reshape(9,1) + lmbda*s\n",
    "    u_jp1[0] = p(t[j+1]); u_jp1[mx] = q(t[j+1])\n",
    "    u_j = u_jp1\n",
    "    return  u_j"
   ]
  },
  {
   "cell_type": "code",
   "execution_count": 24,
   "id": "14e57372",
   "metadata": {},
   "outputs": [],
   "source": [
    "def Neumann_boundary(A,s,u_j,args):\n",
    "    P = args[0]\n",
    "    Q = args[1]\n",
    "    u_jp1 = np.matmul(A , u_j).reshape(11,1) + 2*lmbda*deltax*s\n",
    "    u_j = u_jp1\n",
    "    return u_j"
   ]
  },
  {
   "cell_type": "code",
   "execution_count": 63,
   "id": "37abf062",
   "metadata": {},
   "outputs": [],
   "source": [
    "u_kp1 = np.zeros((mx+1,1))\n",
    "m = [lmbda_y*np.ones(my-2),(1-2*(lmbda_x+lmbda_y))*np.ones(my-1),lmbda_y*np.ones(my-2)]\n",
    "offset = [-1,0,1]\n",
    "A = diags(m,offset).toarray()\n",
    "h = [np.zeros(my-2),lmbda_x*np.ones(my-1),np.zeros(my-2)]\n",
    "B = diags(h,offset).toarray()\n",
    "    \n",
    "import numpy as np\n",
    "from scipy.linalg import block_diag\n",
    "\n",
    "def tridiag(c, u, d, N): \n",
    "    # c, u, d are center, upper and lower blocks, repeat N times\n",
    "    cc = block_diag(*([c]*N)) \n",
    "    shift = c.shape[1]\n",
    "    uu = block_diag(*([u]*N)) \n",
    "    uu = np.hstack((np.zeros((uu.shape[0], shift)), uu[:,:-shift]))\n",
    "    dd = block_diag(*([d]*N)) \n",
    "    dd = np.hstack((dd[:,shift:],np.zeros((uu.shape[0], shift))))\n",
    "    return cc+uu+dd\n",
    "\n",
    "\n",
    "N =my-1\n",
    "AFE2= tridiag(A,B,B,N)"
   ]
  },
  {
   "cell_type": "code",
   "execution_count": 71,
   "id": "3e28493f",
   "metadata": {},
   "outputs": [],
   "source": [
    "# function to solve PDE using euler method\n",
    "def PDE_solve_euler(mt,mx,boundary_condition, initial_condition, AFE2):\n",
    "    u_kx = np.zeros(x.size) \n",
    "    u_ky = np.zeros(y.size)\n",
    "    u_k = np.zeros((x.size, y.size))                        # u at current time step\n",
    "    u_kp1 = np.zeros(x.size)      # u at next time step\n",
    "    # u at next time step\n",
    "    # Set initial condition\n",
    "    for i in range(0, mx+1):\n",
    "        u_k[i] = initial_condition(x[i])\n",
    "    \n",
    "    for k in range(0, mt):\n",
    "        u_kp1[1:-1] = np.matmul(AFE2 , u_k[1:-1])\n",
    "        u_k = u_kp1\n",
    "    \n",
    "    return u_j"
   ]
  },
  {
   "cell_type": "code",
   "execution_count": 72,
   "id": "c572f35a",
   "metadata": {},
   "outputs": [
    {
     "ename": "ValueError",
     "evalue": "matmul: Input operand 1 has a mismatch in its core dimension 0, with gufunc signature (n?,k),(k,m?)->(n?,m?) (size 9 is different from 81)",
     "output_type": "error",
     "traceback": [
      "\u001b[0;31m---------------------------------------------------------------------------\u001b[0m",
      "\u001b[0;31mValueError\u001b[0m                                Traceback (most recent call last)",
      "\u001b[0;32m<ipython-input-72-c30dd7497bd4>\u001b[0m in \u001b[0;36m<module>\u001b[0;34m\u001b[0m\n\u001b[0;32m----> 1\u001b[0;31m \u001b[0mPDE_solve_euler\u001b[0m\u001b[0;34m(\u001b[0m\u001b[0;36m1000\u001b[0m\u001b[0;34m,\u001b[0m\u001b[0;36m10\u001b[0m\u001b[0;34m,\u001b[0m\u001b[0;34m[\u001b[0m\u001b[0;36m0\u001b[0m\u001b[0;34m,\u001b[0m\u001b[0;36m0\u001b[0m\u001b[0;34m]\u001b[0m\u001b[0;34m,\u001b[0m\u001b[0mu_I\u001b[0m\u001b[0;34m,\u001b[0m\u001b[0mAFE2\u001b[0m\u001b[0;34m)\u001b[0m\u001b[0;34m\u001b[0m\u001b[0;34m\u001b[0m\u001b[0m\n\u001b[0m",
      "\u001b[0;32m<ipython-input-71-dde693f6690b>\u001b[0m in \u001b[0;36mPDE_solve_euler\u001b[0;34m(mt, mx, boundary_condition, initial_condition, AFE2)\u001b[0m\n\u001b[1;32m     11\u001b[0m \u001b[0;34m\u001b[0m\u001b[0m\n\u001b[1;32m     12\u001b[0m     \u001b[0;32mfor\u001b[0m \u001b[0mk\u001b[0m \u001b[0;32min\u001b[0m \u001b[0mrange\u001b[0m\u001b[0;34m(\u001b[0m\u001b[0;36m0\u001b[0m\u001b[0;34m,\u001b[0m \u001b[0mmt\u001b[0m\u001b[0;34m)\u001b[0m\u001b[0;34m:\u001b[0m\u001b[0;34m\u001b[0m\u001b[0;34m\u001b[0m\u001b[0m\n\u001b[0;32m---> 13\u001b[0;31m         \u001b[0mu_kp1\u001b[0m\u001b[0;34m[\u001b[0m\u001b[0;36m1\u001b[0m\u001b[0;34m:\u001b[0m\u001b[0;34m-\u001b[0m\u001b[0;36m1\u001b[0m\u001b[0;34m]\u001b[0m \u001b[0;34m=\u001b[0m \u001b[0mnp\u001b[0m\u001b[0;34m.\u001b[0m\u001b[0mmatmul\u001b[0m\u001b[0;34m(\u001b[0m\u001b[0mAFE2\u001b[0m \u001b[0;34m,\u001b[0m \u001b[0mu_k\u001b[0m\u001b[0;34m[\u001b[0m\u001b[0;36m1\u001b[0m\u001b[0;34m:\u001b[0m\u001b[0;34m-\u001b[0m\u001b[0;36m1\u001b[0m\u001b[0;34m]\u001b[0m\u001b[0;34m)\u001b[0m\u001b[0;34m\u001b[0m\u001b[0;34m\u001b[0m\u001b[0m\n\u001b[0m\u001b[1;32m     14\u001b[0m         \u001b[0mu_k\u001b[0m \u001b[0;34m=\u001b[0m \u001b[0mu_kp1\u001b[0m\u001b[0;34m\u001b[0m\u001b[0;34m\u001b[0m\u001b[0m\n\u001b[1;32m     15\u001b[0m \u001b[0;34m\u001b[0m\u001b[0m\n",
      "\u001b[0;31mValueError\u001b[0m: matmul: Input operand 1 has a mismatch in its core dimension 0, with gufunc signature (n?,k),(k,m?)->(n?,m?) (size 9 is different from 81)"
     ]
    }
   ],
   "source": [
    "PDE_solve_euler(1000,10,[0,0],u_I,AFE2)"
   ]
  },
  {
   "cell_type": "code",
   "execution_count": 65,
   "id": "b98c9a15",
   "metadata": {},
   "outputs": [
    {
     "ename": "ValueError",
     "evalue": "matmul: Input operand 1 has a mismatch in its core dimension 0, with gufunc signature (n?,k),(k,m?)->(n?,m?) (size 9 is different from 81)",
     "output_type": "error",
     "traceback": [
      "\u001b[0;31m---------------------------------------------------------------------------\u001b[0m",
      "\u001b[0;31mValueError\u001b[0m                                Traceback (most recent call last)",
      "\u001b[0;32m<ipython-input-65-48a3ef297a47>\u001b[0m in \u001b[0;36m<module>\u001b[0;34m\u001b[0m\n\u001b[1;32m      1\u001b[0m \u001b[0;31m# Plot the final result and exact solution for forward euler\u001b[0m\u001b[0;34m\u001b[0m\u001b[0;34m\u001b[0m\u001b[0;34m\u001b[0m\u001b[0m\n\u001b[0;32m----> 2\u001b[0;31m \u001b[0mpl\u001b[0m\u001b[0;34m.\u001b[0m\u001b[0mplot\u001b[0m\u001b[0;34m(\u001b[0m\u001b[0mx\u001b[0m\u001b[0;34m,\u001b[0m\u001b[0mPDE_solve_euler\u001b[0m\u001b[0;34m(\u001b[0m\u001b[0;36m1000\u001b[0m\u001b[0;34m,\u001b[0m\u001b[0;36m10\u001b[0m\u001b[0;34m,\u001b[0m\u001b[0;34m[\u001b[0m\u001b[0;36m0\u001b[0m\u001b[0;34m,\u001b[0m\u001b[0;36m0\u001b[0m\u001b[0;34m]\u001b[0m\u001b[0;34m,\u001b[0m\u001b[0mu_I\u001b[0m\u001b[0;34m,\u001b[0m\u001b[0mAFE2\u001b[0m\u001b[0;34m)\u001b[0m\u001b[0;34m,\u001b[0m\u001b[0;34m'ro'\u001b[0m\u001b[0;34m,\u001b[0m\u001b[0mlabel\u001b[0m\u001b[0;34m=\u001b[0m\u001b[0;34m'num'\u001b[0m\u001b[0;34m)\u001b[0m\u001b[0;34m\u001b[0m\u001b[0;34m\u001b[0m\u001b[0m\n\u001b[0m\u001b[1;32m      3\u001b[0m \u001b[0;31m#xx = np.linspace(0,L,250)\u001b[0m\u001b[0;34m\u001b[0m\u001b[0;34m\u001b[0m\u001b[0;34m\u001b[0m\u001b[0m\n\u001b[1;32m      4\u001b[0m \u001b[0;31m#pl.plot(xx,u_exact(xx,T),'b-',label='exact')\u001b[0m\u001b[0;34m\u001b[0m\u001b[0;34m\u001b[0m\u001b[0;34m\u001b[0m\u001b[0m\n\u001b[1;32m      5\u001b[0m \u001b[0mpl\u001b[0m\u001b[0;34m.\u001b[0m\u001b[0mxlabel\u001b[0m\u001b[0;34m(\u001b[0m\u001b[0;34m'x'\u001b[0m\u001b[0;34m)\u001b[0m\u001b[0;34m\u001b[0m\u001b[0;34m\u001b[0m\u001b[0m\n",
      "\u001b[0;32m<ipython-input-64-cd956072395a>\u001b[0m in \u001b[0;36mPDE_solve_euler\u001b[0;34m(mt, mx, boundary_condition, initial_condition, AFE2)\u001b[0m\n\u001b[1;32m      9\u001b[0m \u001b[0;34m\u001b[0m\u001b[0m\n\u001b[1;32m     10\u001b[0m     \u001b[0;32mfor\u001b[0m \u001b[0mk\u001b[0m \u001b[0;32min\u001b[0m \u001b[0mrange\u001b[0m\u001b[0;34m(\u001b[0m\u001b[0;36m0\u001b[0m\u001b[0;34m,\u001b[0m \u001b[0mmt\u001b[0m\u001b[0;34m)\u001b[0m\u001b[0;34m:\u001b[0m\u001b[0;34m\u001b[0m\u001b[0;34m\u001b[0m\u001b[0m\n\u001b[0;32m---> 11\u001b[0;31m         \u001b[0mu_kp1\u001b[0m\u001b[0;34m[\u001b[0m\u001b[0;36m1\u001b[0m\u001b[0;34m:\u001b[0m\u001b[0;34m-\u001b[0m\u001b[0;36m1\u001b[0m\u001b[0;34m]\u001b[0m \u001b[0;34m=\u001b[0m \u001b[0mnp\u001b[0m\u001b[0;34m.\u001b[0m\u001b[0mmatmul\u001b[0m\u001b[0;34m(\u001b[0m\u001b[0mAFE2\u001b[0m \u001b[0;34m,\u001b[0m \u001b[0mu_k\u001b[0m\u001b[0;34m[\u001b[0m\u001b[0;36m1\u001b[0m\u001b[0;34m:\u001b[0m\u001b[0;34m-\u001b[0m\u001b[0;36m1\u001b[0m\u001b[0;34m]\u001b[0m\u001b[0;34m)\u001b[0m\u001b[0;34m.\u001b[0m\u001b[0mreshape\u001b[0m\u001b[0;34m(\u001b[0m\u001b[0;36m9\u001b[0m\u001b[0;34m,\u001b[0m\u001b[0;36m1\u001b[0m\u001b[0;34m)\u001b[0m\u001b[0;34m\u001b[0m\u001b[0;34m\u001b[0m\u001b[0m\n\u001b[0m\u001b[1;32m     12\u001b[0m         \u001b[0mu_k\u001b[0m \u001b[0;34m=\u001b[0m \u001b[0mu_kp1\u001b[0m\u001b[0;34m\u001b[0m\u001b[0;34m\u001b[0m\u001b[0m\n\u001b[1;32m     13\u001b[0m \u001b[0;34m\u001b[0m\u001b[0m\n",
      "\u001b[0;31mValueError\u001b[0m: matmul: Input operand 1 has a mismatch in its core dimension 0, with gufunc signature (n?,k),(k,m?)->(n?,m?) (size 9 is different from 81)"
     ]
    }
   ],
   "source": [
    "# Plot the final result and exact solution for forward euler\n",
    "pl.plot(x,PDE_solve_euler(1000,10,[0,0],u_I,AFE2),'ro',label='num')\n",
    "#xx = np.linspace(0,L,250)\n",
    "#pl.plot(xx,u_exact(xx,T),'b-',label='exact')\n",
    "pl.xlabel('x')\n",
    "pl.ylabel('u(x,0.5)')\n",
    "pl.legend(loc='upper right')\n",
    "pl.show"
   ]
  },
  {
   "cell_type": "code",
   "execution_count": null,
   "id": "da537d9d",
   "metadata": {},
   "outputs": [],
   "source": []
  }
 ],
 "metadata": {
  "kernelspec": {
   "display_name": "Python 3",
   "language": "python",
   "name": "python3"
  },
  "language_info": {
   "codemirror_mode": {
    "name": "ipython",
    "version": 3
   },
   "file_extension": ".py",
   "mimetype": "text/x-python",
   "name": "python",
   "nbconvert_exporter": "python",
   "pygments_lexer": "ipython3",
   "version": "3.8.8"
  }
 },
 "nbformat": 4,
 "nbformat_minor": 5
}
